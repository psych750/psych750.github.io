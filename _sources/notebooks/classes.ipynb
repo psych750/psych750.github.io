{
 "cells": [
  {
   "cell_type": "markdown",
   "metadata": {},
   "source": [
    "Classes\n",
    "===\n",
    "So far, you've learned about Python's core data types: strings, numbers, lists, tuples, and dictionaries. In this section, you will delve into the last major data structure: classes.\n",
    "\n",
    "Unlike the data types you've encountered so far, classes are more flexible. They enable you to define both the information and the behavior that characterize any entity you want to model in your program. This notebook serves as a brief introduction to classes. The first part presents some generic examples, while the second part illustrates how classes can be applied in the context of a psychological experiment.\n",
    "\n",
    "There's a lot of new terminology associated with learning about classes. If you're already familiar with object-oriented programming (OOP) from another language, this will be a concise overview of Python's approach to OOP. If you're new to programming, you'll encounter many novel concepts. Start by reading through, experimenting with the examples on your own machine, and trust that the ideas will become clearer as you progress."
   ]
  },
  {
   "cell_type": "markdown",
   "metadata": {},
   "source": [
    "Why classes?\n",
    "===\n",
    "You might be wondering if learning about classes is worth the effort. To understand their value, let’s imagine you're approaching a coding problem and thinking about what solutions to use. For example, creating a rocket ship in a video game. \n",
    "\n",
    "How might you approach this problem? One way you could create a rocketship is to create a list of variables, each representing its x or y coordingates and it's possible behavior like moving up or down. However, managing these all of these variables separately can become inefficient and complex. Especially if you have multiple rockets!\n",
    "\n",
    "Now suppose you used a more sophisticated data type like dictionaries. Now you can store each rocket's x and y coordinates, acceleration, and remaining fuel. But here you'd still end up juggling several dictionaries for each rocket, and it would quickly become confusing. How would you track which dictionary corresponds to which rocket? What if you want to access all the data for a specific rocket? This approach can also lead to a tangled web of variables and a lot of headaches.\n",
    "\n",
    "A more streamlined way to accomplish the same thing is to make a rocket ship class. This class will not only store information about the rocket's current position but also include behaviors that change its position, such as move_up() or move_right(). By encapsulating both the rocket's data (like its coordinates) and its actions (like moving), we get a clear demonstration of how classes function in Python. They serve as blueprints for creating objects that possess both characteristics and capabilities. This not only makes your code cleaner and more organized but also makes it easier to manage and scale as your program grows.\n",
    "\n",
    "Here is what a simple rocket ship class looks like in code:"
   ]
  },
  {
   "cell_type": "code",
   "execution_count": 1,
   "metadata": {},
   "outputs": [],
   "source": [
    "class Rocket():   \n",
    "     \n",
    "    def __init__(self):\n",
    "        # Each rocket has an (x,y) position.\n",
    "        self.x = 0\n",
    "        self.y = 0"
   ]
  },
  {
   "cell_type": "markdown",
   "metadata": {},
   "source": [
    "Now, we have defined a class named 'Rocket' and equipped it with two pieces of information (known as attributes) which are the x and y coordinates. Before we continue, let's cover some basic terminology:\n",
    "\n",
    "General terminology\n",
    "---\n",
    "A **class** is a body of code that defines the **attributes** and **behaviors** required to accurately model something you need for your program. You can model something from the real world, such as a rocket ship, or you can model something from a virtual world such as a rocket in a game, or a set of physical laws for a game engine.\n",
    "\n",
    "An **object** is a particular *instance* (a specific realization) of a class. An object has a certain set of values for all of the attributes (variables) in the class. You can have as many objects as you want for any one class. For example, Rect() is a class in PsychoPy. When you create a new rectangle by assigning Rect() to a variable, you are creating a new instance of the class -- the specific Rectangle object that is assigned to your variable.  \n",
    "\n",
    "An **attribute** is a piece of information. In code, an attribute is just a variable that is part of a class. In our rocket example, the x and y coordinates are attributes.\n",
    "\n",
    "A **behavior** is an action that is defined within a class. These are made up of **methods**. A method is just a function that is defined within a particular class. Initializing the rocket class, was a method. We are also going to add more methods to our rocket like the ability to move. \n",
    "\n",
    "There is more to know, but this terminology is enough to get you started. It will make more sense as you see more examples, and start to use classes on your own. For now, let's focus on the methods we can see in this example:\n",
    "\n",
    "\n",
    "The `__init__()` method\n",
    "---\n",
    "\n",
    "The first line of a class definition in Python starts with the keyword **class**. This signals to Python that you're defining a class. The naming convention for classes follows the same basic rules as for naming variables, but with an important convention: classes should use **CamelCase**. CamelCase means starting each word with a capital letter without using underscores. For example, MyClass or RocketShip. The class name is followed by parentheses, which are empty for now but can later include a base class from which your new class inherits.\n",
    "\n",
    "It's a good practice to document your classes. Initially, a simple comment at the beginning of your class, summarizing its purpose, is sufficient. Though Python provides a more formal syntax for documentation, you can start with basic comments and evolve to more formal documentation as you become more comfortable.\n",
    "\n",
    "The first step in creating a class is defining the **__init__()** method, where __ is a double underscore. This method (known as the constructor) initializes the state of an object when it is first created. The term \"self\" in the method signature is essential; it's a reference to the instance of the class itself, allowing you to access and modify the object's attributes and call its methods from within the class. In our Rocket example, this method sets the initial x and y coordinates of the rocket to 0.\n",
    "\n",
    "The next important concept to understand is **self**. It refers to the instance on which a method is being called. This is how you access attributes and other methods from within the class. In essence, self allows you to work with individual instances of a class. Therefore, all methods in a class should include self as their first parameter, enabling them to modify or interact with the class's attributes.\n",
    "\n",
    "As of now, our Rocket class is pretty boring, it has attributes but it doesn't do anything. Let’s imbue it with a fundamental capability of a rocket: moving upwards. This action is defined as a method within the class. Here's how we can implement this behavior in code:"
   ]
  },
  {
   "cell_type": "code",
   "execution_count": 2,
   "metadata": {},
   "outputs": [],
   "source": [
    "class Rocket():\n",
    "\n",
    "    def __init__(self):\n",
    "        # Each rocket has an (x,y) position.\n",
    "        self.x = 0\n",
    "        self.y = 0\n",
    "        \n",
    "    def move_up(self):\n",
    "        # Increment the y-position of the rocket.\n",
    "        self.y += 1"
   ]
  },
  {
   "cell_type": "markdown",
   "metadata": {},
   "source": [
    "The Rocket class now has attributes (x and y coordinates) and methods (moving up). However, up to this point, we haven't actually created a rocket. What we have is the blueprint for a rocket. \n",
    "\n",
    "To bring our rocket to life, to have an actual rocket that we can interact with in our program, we need to create an instance of the Rocket class. Here's how you can create a rocket in your code:"
   ]
  },
  {
   "cell_type": "markdown",
   "metadata": {},
   "source": [
    "\n",
    "\n",
    "```python\n",
    "my_rocket = Rocket()\n",
    "```\n",
    "To actually use a class, you have to create an **instance** of it. You do this by assigning a variable to the class. Here we made an instance of the class Rocket by assigning the variable my_rocket. Now my_rocket becomes equipped with its own set of variables and the ability to perform the class's defined actions.\n",
    "\n",
    "When we create my_rocket, it's more than just a variable; it's a complete Rocket object, part of the __main__ program scope, each residing in its unique location in the computer's memory. Each instance of a class is independent. This means if decide to create multiple rockets, changes made to one rocket, such as altering its coordinates or moving it, won't impact the others. \n",
    "\n"
   ]
  },
  {
   "cell_type": "code",
   "execution_count": 22,
   "metadata": {},
   "outputs": [
    {
     "name": "stdout",
     "output_type": "stream",
     "text": [
      "<class '__main__.Rocket'>\n",
      "Rocket altitude: 0\n",
      "Rocket altitude: 2\n",
      "Rocket altitude: 5\n"
     ]
    }
   ],
   "source": [
    "class Rocket():\n",
    "    # Rocket simulates a rocket ship for a game (or a physics simulation!).\n",
    "    \n",
    "    def __init__(self):\n",
    "        # Each rocket has an (x,y) position.\n",
    "        self.x = 0\n",
    "        self.y = 0\n",
    "        \n",
    "    def move_up(self,increment):\n",
    "        # Increment the y-position of the rocket.\n",
    "        self.y += 1\n",
    "\n",
    "# Create a Rocket object, and have it start to move up.\n",
    "my_rocket = Rocket()\n",
    "\n",
    "print(type(my_rocket))\n",
    "\n",
    "print(\"Rocket altitude:\", my_rocket.y)\n",
    "\n",
    "my_rocket.move_up()\n",
    "print(\"Rocket altitude:\", my_rocket.y)\n",
    "\n",
    "my_rocket.move_up()\n",
    "print(\"Rocket altitude:\", my_rocket.y)"
   ]
  },
  {
   "cell_type": "markdown",
   "metadata": {},
   "source": [
    "To interact with an object's attributes or invoke its methods, we use dot notation. For example, to access the y-coordinate of `my_rocket`, you would use `my_rocket.y`. To move the rocket up, you call the method with `my_rocket.move_up()`.\n",
    "\n",
    "\n",
    "```{note}\n",
    "You'll recognize this dot notation from things like random.shuffle() (shuffle is one of the methods possessed by objects instantiated by the Random class inside the random module contained in random.py). Whew..\n",
    "```\n",
    "\n",
    "Remember: each instance of a class is a separate entity with its own unique set of variables. Though all rockets share the same methods, like moving up, the actions of one rocket do not impact the others. \n",
    "\n",
    "Now, let's see how we can create a simple fleet of rockets:"
   ]
  },
  {
   "cell_type": "code",
   "execution_count": 14,
   "metadata": {},
   "outputs": [
    {
     "name": "stdout",
     "output_type": "stream",
     "text": [
      "<__main__.Rocket object at 0x7fa95e0d1d00>\n",
      "<__main__.Rocket object at 0x7fa95e0d1ac0>\n",
      "<__main__.Rocket object at 0x7fa95e213cd0>\n",
      "<__main__.Rocket object at 0x7fa95e213550>\n",
      "<__main__.Rocket object at 0x7fa95e213640>\n"
     ]
    }
   ],
   "source": [
    "class Rocket():\n",
    "    # Rocket simulates a rocket ship for a game,\n",
    "    #  or a physics simulation.\n",
    "    \n",
    "    def __init__(self):\n",
    "        # Each rocket has an (x,y) position.\n",
    "        self.x = 0\n",
    "        self.y = 0\n",
    "        \n",
    "    def move_up(self):\n",
    "        # Increment the y-position of the rocket.\n",
    "        self.y += 1\n",
    "        \n",
    "# Create a fleet of 5 rockets, and store them in a list.\n",
    "\n",
    "my_rockets = []\n",
    "for _ in range(5):\n",
    "    new_rocket = Rocket()\n",
    "    my_rockets.append(new_rocket)\n",
    "\n",
    "# Show that each rocket is a separate object.\n",
    "for rocket in my_rockets:\n",
    "    print(rocket)\n",
    "\n",
    "\n"
   ]
  },
  {
   "cell_type": "markdown",
   "metadata": {},
   "source": [
    "When we print out each Rocket object, you'll notice that it displays a unique place in memory. These distinct memory locations demonstrate that each rocket is a separate object in our program. \n",
    "\n",
    "But what would happen if we assign one rocket object to another, like with `my_rockets[0] = my_rockets[1]`? \n",
    "\n",
    "Try it! After making this assignment, print out the rocket objects again. Pay close attention to the memory addresses and observe any changes. This exercise will help you understand how Python handles object references and the implications of assigning one object to another. Reflect on what you see – why do you think the memory addresses change or stay the same? Why does this happen? "
   ]
  },
  {
   "cell_type": "markdown",
   "metadata": {},
   "source": [
    ":::{tip}\n",
    "You can use [list comprehension](https://psych750.github.io/notebooks/list_comprehension.html) to create your rocket fleet in one line:\n",
    "```python\n",
    "my_rockets = [Rocket() for _ in range(5)]\n",
    "```\n",
    ":::\n"
   ]
  },
  {
   "cell_type": "markdown",
   "metadata": {},
   "source": [
    "Verify that each rocket has its own x and y values by moving just one of the rockets:"
   ]
  },
  {
   "cell_type": "code",
   "execution_count": 3,
   "metadata": {},
   "outputs": [
    {
     "name": "stdout",
     "output_type": "stream",
     "text": [
      "Rocket altitude: 1\n",
      "Rocket altitude: 0\n",
      "Rocket altitude: 0\n",
      "Rocket altitude: 0\n",
      "Rocket altitude: 0\n"
     ]
    }
   ],
   "source": [
    "class Rocket():\n",
    "    # Rocket simulates a rocket ship for a game,\n",
    "    #  or a physics simulation.\n",
    "    \n",
    "    def __init__(self):\n",
    "        # Each rocket has an (x,y) position.\n",
    "        self.x = 0\n",
    "        self.y = 0\n",
    "        \n",
    "    def move_up(self):\n",
    "        # Increment the y-position of the rocket.\n",
    "        self.y += 1\n",
    "        \n",
    "# Create a fleet of 5 rockets, and store them in a list.\n",
    "my_rockets = [Rocket() for x in range(0,5)]\n",
    "\n",
    "# Move the first rocket up.\n",
    "my_rockets[0].move_up()\n",
    "\n",
    "# Show that only the first rocket has moved.\n",
    "for rocket in my_rockets:\n",
    "    print(\"Rocket altitude:\", rocket.y)"
   ]
  },
  {
   "cell_type": "markdown",
   "metadata": {},
   "source": [
    "Review: Object-Oriented terminology\n",
    "===\n",
    "Classes are a fundamental part of a programming paradigm known as **object-oriented programming** (OOP). OOP emphasizes creating reusable blocks of code, known as classes, which form the basis for building applications. \n",
    "\n",
    "In OOP, when you want to use the functionality defined in a class, you create an **object** from that class – this is the essence of the 'object-oriented' approach. While Python is a versatile language that supports multiple programming paradigms, object-oriented programming plays a significant role in Python development. \n",
    "\n",
    "You'll likely use objects in most, if not all, of your Python projects. To fully grasp how classes work in Python, it's important to understand the language and concepts specific to OOP, such as encapsulation, inheritance, and polymorphism. These concepts form the backbone of object-oriented programming and will be crucial as we delve deeper into Python classes."
   ]
  },
  {
   "cell_type": "markdown",
   "metadata": {},
   "source": [
    "A closer look at the Rocket class\n",
    "---\n",
    "Now that you have seen a simple example of a class, and have learned some basic OOP terminology, it will be helpful to take a closer look at the Rocket class that we started with."
   ]
  },
  {
   "cell_type": "markdown",
   "metadata": {},
   "source": [
    "A simple method\n",
    "---\n",
    "Here is the method that was defined for the Rocket class:"
   ]
  },
  {
   "cell_type": "code",
   "execution_count": 10,
   "metadata": {},
   "outputs": [],
   "source": [
    "class Rocket():\n",
    "    # Rocket simulates a rocket ship for a game,\n",
    "    #  or a physics simulation.\n",
    "    \n",
    "    def __init__(self):\n",
    "        # Each rocket has an (x,y) position.\n",
    "        self.x = 0\n",
    "        self.y = 0\n",
    "        \n",
    "    def move_up(self):\n",
    "        # Increment the y-position of the rocket.\n",
    "        self.y += 1"
   ]
  },
  {
   "cell_type": "markdown",
   "metadata": {},
   "source": [
    "In our initial code, we have two methods: initalization and moving upwards.\n",
    "\n",
    "To cement the concept, let's look at what happens when a method is called:"
   ]
  },
  {
   "cell_type": "code",
   "execution_count": 11,
   "metadata": {},
   "outputs": [
    {
     "name": "stdout",
     "output_type": "stream",
     "text": [
      "Rocket altitude: 0\n",
      "Rocket altitude: 1\n",
      "Rocket altitude: 2\n"
     ]
    }
   ],
   "source": [
    "class Rocket():\n",
    "    \n",
    "    def __init__(self):\n",
    "        # Each rocket has an (x,y) position.\n",
    "        self.x = 0\n",
    "        self.y = 0\n",
    "        \n",
    "    def move_up(self):\n",
    "        # Increment the y-position of the rocket.\n",
    "        self.y += 1\n",
    "\n",
    "# Create a Rocket object, and have it start to move up.\n",
    "my_rocket = Rocket()\n",
    "print(\"Rocket altitude:\", my_rocket.y)\n",
    "\n",
    "my_rocket.move_up()\n",
    "print(\"Rocket altitude:\", my_rocket.y)\n",
    "\n",
    "my_rocket.move_up()\n",
    "print(\"Rocket altitude:\", my_rocket.y)"
   ]
  },
  {
   "cell_type": "markdown",
   "metadata": {},
   "source": [
    "To review the concepts: in our example, a Rocket object is created and stored in the variable my_rocket. After this object is created, its y value is printed. The value of the attribute *y* is accessed using dot notation. The phrase *my\\_rocket.y* asks Python to return \"the value of the variable y attached to the object my_rocket\".\n",
    "\n",
    "After the object my_rocket is created and its initial y-value is printed, the method move_up() is called. This tells Python to apply the method move_up() to the object my_rocket. Python finds the y-value associated with my_rocket and adds 1 to that value. This process is repeated several times, and you can see from the output that the y-value is in fact increasing."
   ]
  },
  {
   "cell_type": "markdown",
   "metadata": {},
   "source": [
    "```{tip}\n",
    "Want to remind yourself what methods are defined/available for use with an object? Use `help(your_object)`\n",
    "```"
   ]
  },
  {
   "cell_type": "markdown",
   "metadata": {},
   "source": [
    "Making multiple objects from a class\n",
    "---\n",
    "One of the main purposes and strengths of object oriented programming (OOP) is the ability to foster reusable code. Once you've crafted a class, like our Rocket class, you can create numerous objects from it as needed. \n",
    "\n",
    "This brings us to an important practice in programming: often, classes are defined in separate files and then imported into the main program. This approach enables you to build a library of classes that can be used repeatedly across various programs. When you have a well-tested class, you can rely on it to function consistently in new projects, ensuring that the objects you create will behave as expected.\n",
    "\n",
    "Think back to our section \"Why Classes\" and consider how complicated a video game would be if every action, enemy, location and object were created and stored seperately \n",
    "\n",
    "This principle of 'code reusability' is evident with our Rocket class. We can use this single class definition to create a whole fleet of Rocket objects. Let's give it a try:"
   ]
  },
  {
   "cell_type": "code",
   "execution_count": 12,
   "metadata": {},
   "outputs": [
    {
     "name": "stdout",
     "output_type": "stream",
     "text": [
      "<__main__.Rocket object at 0x7fedd45e8610>\n",
      "<__main__.Rocket object at 0x7fedd3b03b20>\n",
      "<__main__.Rocket object at 0x7fedd45e8eb0>\n",
      "<__main__.Rocket object at 0x7fedd45e8d60>\n",
      "<__main__.Rocket object at 0x7fedd45e8820>\n"
     ]
    }
   ],
   "source": [
    "class Rocket():\n",
    "    # Rocket simulates a rocket ship for a game,\n",
    "    #  or a physics simulation.\n",
    "    \n",
    "    def __init__(self):\n",
    "        # Each rocket has an (x,y) position.\n",
    "        self.x = 0\n",
    "        self.y = 0\n",
    "        \n",
    "    def move_up(self):\n",
    "        # Increment the y-position of the rocket.\n",
    "        self.y += 1\n",
    "        \n",
    "# Create a fleet of 5 rockets, and store them in a list.\n",
    "my_rockets = []\n",
    "for x in range(0,5):\n",
    "    new_rocket = Rocket()\n",
    "    my_rockets.append(new_rocket)\n",
    "\n",
    "# Show that each rocket is a separate object.\n",
    "for rocket in my_rockets:\n",
    "    print(rocket)"
   ]
  },
  {
   "cell_type": "markdown",
   "metadata": {},
   "source": [
    "As you can see, with just one class definition, we're able to instantiate multiple Rocket objects, each with their individual attributes and behaviors. This is a great example of how classes in Python enable efficient and modular code. \n",
    "\n",
    "In fact, we could potentially make this code even more concise with lists. If you're already familiar with list comprehensions in Python, feel free to use them to create multiple instances of a class efficiently. However, I understand that not everyone may be comfortable with comprehensions yet. So, let’s explore a more straightforward method that's easier for beginners to grasp.\n",
    "\n",
    "Instead of using list comprehensions, we'll start by creating an empty list. Then, we'll populate this list with instances of our class using a for loop. This method is slightly more verbose than a list comprehension but is often more accessible for those new to Python. It also allows us to skip using a temporary variable like **new_rocket**, making the code more concise"
   ]
  },
  {
   "cell_type": "code",
   "execution_count": 13,
   "metadata": {},
   "outputs": [
    {
     "name": "stdout",
     "output_type": "stream",
     "text": [
      "<__main__.Rocket object at 0x7fedd45e8e50>\n",
      "<__main__.Rocket object at 0x7fedd45e8eb0>\n",
      "<__main__.Rocket object at 0x7fedd45e8d60>\n",
      "<__main__.Rocket object at 0x7fedd45e8bb0>\n",
      "<__main__.Rocket object at 0x7fedd45e8f10>\n"
     ]
    }
   ],
   "source": [
    "class Rocket():\n",
    "    \n",
    "    def __init__(self):\n",
    "        # Each rocket has an (x,y) position.\n",
    "        self.x = 0\n",
    "        self.y = 0\n",
    "        \n",
    "    def move_up(self):\n",
    "        # Increment the y-position of the rocket.\n",
    "        self.y += 1\n",
    "        \n",
    "# Create a fleet of 5 rockets, and store them in a list.\n",
    "my_rockets = []\n",
    "for x in range(0,5):\n",
    "    my_rockets.append(Rocket())\n",
    "\n",
    "# Show that each rocket is a separate object.\n",
    "for rocket in my_rockets:\n",
    "    print(rocket)"
   ]
  },
  {
   "cell_type": "markdown",
   "metadata": {},
   "source": [
    "What exactly happens in this for loop? The line *`my_rockets.append(Rocket())`* is executed 5 times. Each time, a new Rocket object is created and then added to the list `my_rockets`. The `__init__()` method is executed once for each of these objects, so each object gets its own x and y value. When a method is called on one of these objects, the *self* variable allows access to just that object's attributes, and ensures that modifying one object does not affect any of the other objecs that have been created from the class.\n",
    "\n",
    "Each of these objects can be worked with individually. At this point we are ready to move on and see how to add more functionality to the Rocket class. We will work slowly, and give you the chance to start writing your own simple classes."
   ]
  },
  {
   "cell_type": "markdown",
   "metadata": {},
   "source": [
    "A quick check-in\n",
    "---\n",
    "Congratulations on reaching this point! Understanding classes is a significant milestone in your programming journey. As you progress, you'll learn how classes can be used in flexible and powerful ways to improve your code. If everything so far makes sense, you're well on your way. If not, don't worry—this is a complex topic, and it's normal for it to take some time to fully grasp. Here are a few strategies that might help:\n",
    "\n",
    "- Revisit Previous Sections: Sometimes, concepts become clearer upon a second or third reading. Go back through the previous sections and see if things start to click.\n",
    "\n",
    "- Hands-On Practice: There's no substitute for practice. Type out the examples in your own editor and experiment with them. See what happens if you change parts of the code. This kind of exploration can be incredibly enlightening.\n",
    "\n",
    "- Attempt the Next Exercise: The upcoming exercise is designed to reinforce the concepts you've just learned. Even if you're not feeling entirely confident, give it a try—it might help solidify your understanding.\n",
    "\n",
    "- Keep Reading: The next sections will add more functionality to the Rocket class and revisit some of the covered concepts in a new context. This repetition might help reinforce your understanding.\n",
    "\n",
    "Classes are a foundational aspect of programming, and mastering them now as a beginner will serve you well throughout your career. If you're new to this, it's perfectly okay to take your time. Be patient with yourself and trust that with practice and persistence, these tools can be mastered. "
   ]
  },
  {
   "cell_type": "markdown",
   "metadata": {},
   "source": [
    "Refining the Rocket class\n",
    "===\n",
    "The Rocket class so far does what a rocket is supposed to do. But, it is arguably still very boring is very simple. Let's explore some of the capabilities of classes by making our rockets a little more interesting. We can do this by making some refinements to the \\_\\_init\\_\\_() method, and by the addition of some new methods."
   ]
  },
  {
   "cell_type": "markdown",
   "metadata": {},
   "source": [
    "Accepting parameters for the \\_\\_init\\_\\_() method\n",
    "---\n",
    "The \\_\\_init\\_\\_() method is run automatically one time when you create a new object from a class. The \\_\\_init\\_\\_() method for the Rocket class so far is pretty simple:"
   ]
  },
  {
   "cell_type": "code",
   "execution_count": 14,
   "metadata": {},
   "outputs": [],
   "source": [
    "class Rocket():\n",
    "    # Rocket simulates a rocket ship for a game,\n",
    "    #  or a physics simulation.\n",
    "    \n",
    "    def __init__(self):\n",
    "        # Each rocket has an (x,y) position.\n",
    "        self.x = 0\n",
    "        self.y = 0\n",
    "        \n",
    "    def move_up(self):\n",
    "        # Increment the y-position of the rocket.\n",
    "        self.y += 1"
   ]
  },
  {
   "cell_type": "markdown",
   "metadata": {},
   "source": [
    "All the \\_\\_init\\_\\_() method does so far is set the x and y values for the rocket to 0. We can easily add a couple keyword arguments so that new rockets can be initialized at any position:"
   ]
  },
  {
   "cell_type": "code",
   "execution_count": 15,
   "metadata": {},
   "outputs": [],
   "source": [
    "class Rocket():\n",
    "    \n",
    "    def __init__(self, x=0, y=0):\n",
    "        # Each rocket has an (x,y) position.\n",
    "        self.x = x\n",
    "        self.y = y\n",
    "        \n",
    "    def move_up(self):\n",
    "        # Increment the y-position of the rocket.\n",
    "        self.y += 1"
   ]
  },
  {
   "cell_type": "markdown",
   "metadata": {},
   "source": [
    "Now when you create a new Rocket object you have the choice of passing in arbitrary initial values for x and y:"
   ]
  },
  {
   "cell_type": "code",
   "execution_count": 7,
   "metadata": {},
   "outputs": [
    {
     "name": "stdout",
     "output_type": "stream",
     "text": [
      "Rocket 0 is at 0, 0\n",
      "Rocket 1 is at 0, 10\n",
      "Rocket 2 is at 100, 0\n"
     ]
    }
   ],
   "source": [
    "class Rocket():\n",
    "    # Rocket simulates a rocket ship for a game,\n",
    "    #  or a physics simulation.\n",
    "    \n",
    "    def __init__(self, x=0, y=0):\n",
    "        # Each rocket has an (x,y) position.\n",
    "        self.x = x\n",
    "        self.y = y\n",
    "        \n",
    "    def move_up(self):\n",
    "        # Increment the y-position of the rocket.\n",
    "        self.y += 1\n",
    "        \n",
    "# Make a series of rockets at different starting places.\n",
    "rockets = []\n",
    "rockets.append(Rocket())\n",
    "rockets.append(Rocket(0,10))\n",
    "rockets.append(Rocket(100,0))\n",
    "\n",
    "# Show where each rocket is.\n",
    "for index, rocket in enumerate(rockets):\n",
    "    print(f\"Rocket {index} is at {rocket.x}, {rocket.y}\")"
   ]
  },
  {
   "cell_type": "markdown",
   "metadata": {},
   "source": [
    "Accepting parameters in a method\n",
    "---\n",
    "Remember, the **__init__** method in a class has a special role: it's specifically designed to initialize new objects created from the class. However, it's important to remember that this is just one of many methods a class can have, and like any method, it can accept many different parameters.\n",
    "\n",
    "Let's consider enhancing the functionality of our Rocket class. Up to this point, we've had a **move_up()** method. However, methods in a class are not limited to fixed behaviors like moving in one specific direction. By accepting parameters, methods can be made much more versatile. For instance, we can transform the **move_up()** method for our rocket into a more general **move_rocket()** method. This improved method accepts parameters that specify not just how much to move, but also in which direction. Our **move_rocket** method would allow us to move the rocket in any direction by any desired amount. \n",
    "\n",
    "Here's a look at how the move_rocket() method can be implemented to provide this enhanced flexibility:"
   ]
  },
  {
   "cell_type": "code",
   "execution_count": 17,
   "metadata": {},
   "outputs": [],
   "source": [
    "class Rocket():\n",
    "    \n",
    "    def __init__(self, x=0, y=0):\n",
    "        # Each rocket has an (x,y) position.\n",
    "        self.x = x\n",
    "        self.y = y\n",
    "        \n",
    "    def move_rocket(self, x_increment=0, y_increment=1):\n",
    "        # Move the rocket according to the paremeters given.\n",
    "        #  Default behavior is to move the rocket up one unit.\n",
    "        self.x += x_increment\n",
    "        self.y += y_increment"
   ]
  },
  {
   "cell_type": "markdown",
   "metadata": {},
   "source": [
    "With this revised method we have greatly enhanced the capabilities of our Rocket class! To make its functionality clear, the parameters are named x_increment and y_increment, emphasizing that they represent changes to the rocket's current position, rather than setting new absolute coordinates. We want to move the rocket, not teleport it to a new location.\n",
    "\n",
    "Choosing the right default values for these parameters is critical. When we establish correct default values we can also establish meaningful default behaviors for the move_rocket() method. For instance, if someone calls move_rocket() without any parameters, we can set it up so the rocket moves up one unit in the y-direction by default. This makes the method intuitive and easier for the user.\n",
    "\n",
    "Additionally, this method's design allows for a lot of flexibility in our code and by extension, to our rocket class. By passing negative values to x_increment or y_increment, the rocket can be moved left, right, or downward. This flexibility showcases the power of parameterized methods in classes, enabling complex and dynamic behavior with simple method calls."
   ]
  },
  {
   "cell_type": "markdown",
   "metadata": {},
   "source": [
    "Adding a new method\n",
    "---\n",
    "One of the strenghts of object-oriented programming (OOP) is its ability to closely mimic real-world situations by adding attributes and behaviors to classes. \n",
    "\n",
    "Consider a team piloting a fleet of rockets: one of their most important jobs would be to maintain safe distances between each rocket so they don't crash into each other. If we want to model this scenario in our Rocket class, we can introduce a new method that calculates and reports the distance from one rocket to another.\n",
    "\n",
    "For those who might be new to the concept of distance calculation in a two-dimensional space, there's a straightforward formula used to determine the distance between two points, given their x and y coordinates. Our new method will incorporate this formula to calculate the distance. This not only adds a practical functionality to our Rocket class but also demonstrates how mathematical concepts can be integrated into programming to solve real-world problems.\n",
    "\n",
    "The method will take the x and y coordinates of another rocket as inputs and will return the calculated distance. This is how we can continue to expand the capabilities of our class, making it more versatile and reflective of real-life situations."
   ]
  },
  {
   "cell_type": "code",
   "execution_count": 17,
   "metadata": {},
   "outputs": [
    {
     "name": "stdout",
     "output_type": "stream",
     "text": [
      "The rockets are 11.18 units apart.\n"
     ]
    }
   ],
   "source": [
    "from math import sqrt\n",
    "\n",
    "class Rocket():\n",
    "    # Rocket simulates a rocket ship for a game,\n",
    "    #  or a physics simulation.\n",
    "    \n",
    "    def __init__(self, x=0, y=0):\n",
    "        # Each rocket has an (x,y) position.\n",
    "        self.x = x\n",
    "        self.y = y\n",
    "        \n",
    "    def move_rocket(self, x_increment=0, y_increment=1):\n",
    "        # Move the rocket according to the paremeters given.\n",
    "        #  Default behavior is to move the rocket up one unit.\n",
    "        self.x += x_increment\n",
    "        self.y += y_increment\n",
    "        \n",
    "    def get_distance(self, other_rocket):\n",
    "        # Calculates the distance from this rocket to another rocket,\n",
    "        #  and returns that value.\n",
    "        distance = sqrt((self.x-other_rocket.x)**2+(self.y-other_rocket.y)**2)\n",
    "        return distance\n",
    "    \n",
    "# Make two rockets, at different places.\n",
    "rocket_0 = Rocket()\n",
    "rocket_1 = Rocket(10,5)\n",
    "\n",
    "# Show the distance between them.\n",
    "distance = rocket_0.get_distance(rocket_1)\n",
    "print(f\"The rockets are {round(distance,2)} units apart.\")"
   ]
  },
  {
   "cell_type": "markdown",
   "metadata": {},
   "source": [
    "These enhancements to our Rocket class illustrate an advantage of object-oriented programming: the ability to tailor a class's attributes and behaviors to precisely model the phenomena you're interested in. \n",
    "\n",
    "Imagine the possibilities with our Rocket class! Our rockets could have attributes like a name, crew capacity, payload capacity, a specific amount of fuel, and much more. The behaviors you define are limited only by your imagination. You could program the rocket to interact with other rockets, launch facilities, and even simulate the effects of gravitational fields—anything that your project requires.\n",
    "\n",
    "While the idea of adding such complexity might seem daunting, what you've learned so far lays the groundwork for these advancements. You've already grasped the core concepts of object-oriented programming: defining classes, creating objects, and customizing methods and attributes.\n",
    "\n",
    "Now, it's a great time to put this knowledge into practice to cement these concepts. Try writing some classes on your own and model some behaviors of your own. Start simple, maybe a class for a car, a book, or even a plant. See how you can represent different real-world objects as Python classes. After you've had some practice, we'll delve into object inheritance, a powerful feature that will further expand your capabilities in object-oriented programming. This is just the beginning, and you're well on your way to mastering these concepts!"
   ]
  },
  {
   "cell_type": "markdown",
   "metadata": {},
   "source": [
    "Inheritance\n",
    "===\n",
    "One of the fundamental objectives in object-oriented programming (OOP) is to foster the creation of stable, reliable, and reusable code. In Python, as in other OOP-supportive languages, this is often done through the concept of inheritance, where one class (known as the child or subclass) can inherit from another class (referred to as the parent or superclass).\n",
    "\n",
    "Inheritance allows a new class to adopt all the attributes and behaviors of an existing class. This means when you create a subclass, it automatically possesses the properties and methods of its superclass. However, the beauty of inheritance lies in its flexibility: a subclass can modify or override any aspects of the superclass that don't fit its purpose. It can also introduce new attributes and behaviors that are specific to itself. While the subclass inherits everything from the parent class, it's important to note that the reverse isn't true: attributes and methods defined in the child class are exclusive to it and not accessible to the parent.\n",
    "\n",
    "To illustrate this concept, let's use the example of a Vehicle class. This class can have general attributes like a position in space, a weight, a color etc, and a method like move(). \n",
    "\n",
    "Our example of the Rocket class might easily fit into the parent class of Vehicle. But we might also have other subclasses like Car. The Car class will have all the attributes and methods of the superclass \"Vehicle\" like position and ability to move, but it can also have additional features like airbags and a unique method like park() or horn() that we wouldnt expect our rocket to have. Here, the Car class and our rocket class are the child or subclasses, while Vehicle is the parent or superclass. Notice that Car and Rocket share some properties that make them both vehicles. But they do not share all the same properties."
   ]
  },
  {
   "cell_type": "markdown",
   "metadata": {},
   "source": [
    "The SpaceShuttle class\n",
    "---\n",
    "Let's expand our space fleet with another Vehicle. We have a Rocket class, now let's add a SpaceShuttle class. \n",
    "\n",
    "When modeling a space shuttle in our program, we might be tempted to start from scratch and create an entirely new class. However, a space shuttle shares many characteristics with a generic rocket; it's essentially a specialized type of rocket. This is a perfect scenario to leverage the power of inheritance in object-oriented programming.\n",
    "\n",
    "Instead of writing a new class from scratch, we can inherit all the attributes and behaviors of the existing Rocket class and then extend it with specific features unique to a space shuttle. This approach not only saves time but also helps in maintaining consistency and reducing code redundancy.\n",
    "\n",
    "One distinct characteristic of a space shuttle, as opposed to other rockets, is its reusability. While a rocket is typically used only once and can't be relaunched, a space shuttle can be used over and over again. To represent this, we can add an attribute that tracks the number of flights completed by the shuttle. Other essential features of the shuttle, like its basic structure and movement capabilities, are already encapsulated in the Rocket class. Here’s how the SpaceShuttle class might look"
   ]
  },
  {
   "cell_type": "code",
   "execution_count": 14,
   "metadata": {},
   "outputs": [
    {
     "name": "stdout",
     "output_type": "stream",
     "text": [
      "3\n"
     ]
    }
   ],
   "source": [
    "from math import sqrt\n",
    "\n",
    "class Rocket():\n",
    "    \n",
    "    def __init__(self, x=0, y=0):\n",
    "        # Each rocket has an (x,y) position.\n",
    "        self.x = x\n",
    "        self.y = y\n",
    "        \n",
    "    def move_rocket(self, x_increment=0, y_increment=1):\n",
    "        # Move the rocket according to the paremeters given.\n",
    "        #  Default behavior is to move the rocket up one unit.\n",
    "        self.x += x_increment\n",
    "        self.y += y_increment\n",
    "        \n",
    "    def get_distance(self, other_rocket):\n",
    "        # Calculates the distance from this rocket to another rocket,\n",
    "        #  and returns that value.\n",
    "        distance = sqrt((self.x-other_rocket.x)**2+(self.y-other_rocket.y)**2)\n",
    "        return distance\n",
    "    \n",
    "class Shuttle(Rocket):\n",
    "    # Shuttle simulates a space shuttle, which is really\n",
    "    #  just a reusable rocket.\n",
    "    \n",
    "    def __init__(self, x=0, y=0, flights_completed=0):\n",
    "        super().__init__(x, y)\n",
    "        self.flights_completed = flights_completed\n",
    "        \n",
    "shuttle = Shuttle(10,0,3)\n",
    "print(shuttle.flights_completed)"
   ]
  },
  {
   "cell_type": "markdown",
   "metadata": {},
   "source": [
    "When a new class is based on an existing class, you write the name of the parent class in parentheses when you define the new class:\n",
    "\n",
    "    "
   ]
  },
  {
   "cell_type": "markdown",
   "metadata": {},
   "source": [
    "```python\n",
    "class NewClass(ParentClass):\n",
    "    pass\n",
    "```"
   ]
  },
  {
   "cell_type": "markdown",
   "metadata": {},
   "source": [
    "When creating a new class through inheritance, it's essential to properly initialize the inherited attributes from the parent class. This is where the **\\_\\_init\\_\\_()** method of the subclass (the newly created class) comes into play. In this method, we need to ensure that the initialization process of the parent class is also executed for the subclass. This step is crucial to maintain the integrity of the new object, ensuring that all attributes defined in the parent class are appropriately initialized in the subclass.\n",
    "\n",
    "To achieve this, the **\\_\\_init\\_\\_()** method of the subclass should call the **\\_\\_init\\_\\_()** method of the parent class. This is done using the super() function. The **super().\\_\\_init\\_\\_()** call in the subclass's **\\_\\_init\\_\\_()** method allows us to pass the necessary parameters to the parent class's **\\_\\_init\\_\\_()** method. Here's how it works:\n",
    "\n",
    "- The subclass's **\\_\\_init\\_\\_()** method accepts all the parameters required by the parent class, possibly along with additional parameters specific to the subclass.\n",
    "- Inside the **\\_\\_init\\_\\_()** method of the subclass, we use **super().\\_\\_init\\_\\_()** to call the corresponding method of the parent class.\n",
    "- We pass the required parameters to **super().\\_\\_init\\_\\_()** so that the parent class can properly initialize its attributes.\n",
    "\n",
    "For example, in the SpaceShuttle class inheriting from the Rocket class:"
   ]
  },
  {
   "cell_type": "code",
   "execution_count": null,
   "metadata": {},
   "outputs": [],
   "source": [
    "class NewClass(ParentClass):\n",
    "    \n",
    "    def __init__(self, arguments_new_class, arguments_parent_class):\n",
    "        super().__init__(arguments_parent_class)\n",
    "        # Code for initializing an object of the new class."
   ]
  },
  {
   "cell_type": "markdown",
   "metadata": {},
   "source": [
    "The *super()* function passes the *self* argument to the parent class automatically. You could also do this by explicitly naming the parent class when you call the \\_\\_init\\_\\_() function, but you then have to include the *self* argument manually:"
   ]
  },
  {
   "cell_type": "code",
   "execution_count": null,
   "metadata": {},
   "outputs": [],
   "source": [
    "class Shuttle(Rocket):\n",
    "    # Shuttle simulates a space shuttle, which is really\n",
    "    #  just a reusable rocket.\n",
    "    \n",
    "    def __init__(self, x=0, y=0, flights_completed=0):\n",
    "        Rocket.__init__(self, x, y)\n",
    "        self.flights_completed = flights_completed"
   ]
  },
  {
   "cell_type": "markdown",
   "metadata": {},
   "source": [
    "The output above shows that a new Shuttle object was created. This new Shuttle object can store the number of flights completed, but it also has all of the functionality of the Rocket class: it has a position that can be changed, and it can calculate the distance between itself and other rockets or shuttles. This can be demonstrated by creating several rockets and shuttles, and then finding the distance between one shuttle and all the other shuttles and rockets. This example uses a simple function called [randint](http://docs.python.org/2/library/random.html#random.randint), which generates a random integer between a lower and upper bound, to determine the position of each rocket and shuttle:"
   ]
  },
  {
   "cell_type": "markdown",
   "metadata": {},
   "source": [
    "A quick note on syntax: while it might initially seem simpler to directly call the parent class's **__init__()** method, using the **super()** syntax is almost always going to make things easier for you in the long run. \n",
    "\n",
    "The advantage of **super()** is that it doesn't require you to explicitly name the parent class, making your code more adaptable to modifications. As you delve deeper into Python classes, you might encounter scenarios where a child class inherits from multiple parent classes. In such cases, super() becomes particularly useful as it can seamlessly handle calling the **__init__()** methods of all parent classes in the correct order, all within a single line."
   ]
  },
  {
   "cell_type": "code",
   "execution_count": 16,
   "metadata": {},
   "outputs": [
    {
     "name": "stdout",
     "output_type": "stream",
     "text": [
      "Shuttle 0 has completed 4 flights.\n",
      "Shuttle 1 has completed 7 flights.\n",
      "Shuttle 2 has completed 5 flights.\n",
      "\n",
      "\n",
      "The first shuttle is 0.0 units away from shuttle 0.\n",
      "The first shuttle is 45.89 units away from shuttle 1.\n",
      "The first shuttle is 52.8 units away from shuttle 2.\n",
      "\n",
      "\n",
      "The first shuttle is 54.452 units away from rocket 0.\n",
      "The first shuttle is 93.92 units away from rocket 1.\n",
      "The first shuttle is 62.008 units away from rocket 2.\n"
     ]
    }
   ],
   "source": [
    "from math import sqrt\n",
    "from random import randint\n",
    "\n",
    "class Rocket():\n",
    "    # Rocket simulates a rocket ship for a game,\n",
    "    #  or a physics simulation.\n",
    "    \n",
    "    def __init__(self, x=0, y=0):\n",
    "        # Each rocket has an (x,y) position.\n",
    "        self.x = x\n",
    "        self.y = y\n",
    "        \n",
    "    def move_rocket(self, x_increment=0, y_increment=1):\n",
    "        # Move the rocket according to the paremeters given.\n",
    "        #  Default behavior is to move the rocket up one unit.\n",
    "        self.x += x_increment\n",
    "        self.y += y_increment\n",
    "        \n",
    "    def get_distance(self, other_rocket):\n",
    "        # Calculates the distance from this rocket to another rocket,\n",
    "        #  and returns that value.\n",
    "        distance = sqrt((self.x-other_rocket.x)**2+(self.y-other_rocket.y)**2)\n",
    "        return distance\n",
    "    \n",
    "class Shuttle(Rocket):\n",
    "    # Shuttle simulates a space shuttle, which is really\n",
    "    #  just a reusable rocket.\n",
    "    \n",
    "    def __init__(self, x=0, y=0, flights_completed=0):\n",
    "        super().__init__(x, y)\n",
    "        self.flights_completed = flights_completed\n",
    "        \n",
    "        \n",
    "# Create several shuttles and rockets, with random positions.\n",
    "#  Shuttles have a random number of flights completed.\n",
    "shuttles = []\n",
    "for x in range(0,3):\n",
    "    x = randint(0,100)\n",
    "    y = randint(1,100)\n",
    "    flights_completed = randint(0,10)\n",
    "    shuttles.append(Shuttle(x, y, flights_completed))\n",
    "\n",
    "rockets = []\n",
    "for x in range(0,3):\n",
    "    x = randint(0,100)\n",
    "    y = randint(1,100)\n",
    "    rockets.append(Rocket(x, y))\n",
    "    \n",
    "# Show the number of flights completed for each shuttle.\n",
    "for index, shuttle in enumerate(shuttles):\n",
    "    print(f\"Shuttle {index} has completed {shuttle.flights_completed} flights.\")\n",
    "    \n",
    "print(\"\\n\")    \n",
    "# Show the distance from the first shuttle to all other shuttles.\n",
    "first_shuttle = shuttles[0]\n",
    "for index, shuttle in enumerate(shuttles):\n",
    "    distance = first_shuttle.get_distance(shuttle)\n",
    "    print(f\"The first shuttle is {round(distance,2)} units away from shuttle {index}.\")\n",
    "\n",
    "print(\"\\n\")\n",
    "# Show the distance from the first shuttle to all other rockets.\n",
    "for index, rocket in enumerate(rockets):\n",
    "    distance = first_shuttle.get_distance(rocket)\n",
    "    print(f\"The first shuttle is {round(distance,3)} units away from rocket {index}.\")\n"
   ]
  },
  {
   "cell_type": "markdown",
   "metadata": {},
   "source": [
    "Inheritance is not just a feature but a cornerstone of object-oriented programming. It empowers you to model a wide array of real-world and virtual phenomena with remarkable precision and efficiency. The classes you create, with the principles of inheritance, can become stable and reusable components across various applications, enhancing the versatility of your code.\n",
    "\n",
    "Imagine the possibilities - with the foundational understanding you now have, you’re equipped to tackle exciting projects. Why not try your hand at building a hierarchy of classes? Here are some ideas to get you started:\n",
    "\n",
    "- Animal Kingdom: Create a basic Animal class and then derive specific animal classes like Bird, Fish, or Mammal. Each subclass can have unique attributes and behaviors, like fly() for Bird or swim() for Fish.\n",
    "\n",
    "- Transport System: Start with a general Vehicle class and extend it to specific types like Car, Bicycle, and Boat. Each subclass could have specialized methods like drive() for Car or sail() for Boat.\n",
    "\n",
    "- Soccer Team: Start with a Player class and extend it to specify different roles like Goalie, Stiker or Wingback. Each subclass has different abilities and responsibilities in the game. \n",
    "\n",
    "Remember, these examples are just starting points. The real joy and excitement of programming comes from creating solutions that are unique to your own personal vision and needs. Before we move on to models, don't be afraid to experiment and build upon what you've learned in new ways. "
   ]
  },
  {
   "cell_type": "markdown",
   "metadata": {},
   "source": [
    "Modules and classes\n",
    "===\n",
    "As you continue working with classes, you'll notice that your program files are becoming longer. Not surprising given that you are now able to add so much more! On the one hand, this is a positive sign, indicating that your programs are becoming more robust and capable of handling complex tasks. On the other hand, larger files can be difficult to keep organized\n",
    "\n",
    "In Python, a common strategy to manage growing codebases is to modularize your code. This involves organizing related functions and classes into separate modules. Just like we previously modularized the Stroop experiment code by separating commonly used functions into a different file, the same principle applies to classes in object-oriented programming (OOP).\n",
    "\n",
    "By placing a class and its various methods into a separate file, you create a module that can be easily reused across different programs. This modular approach has several advantages:\n",
    "\n",
    "- Reusability: Isolated classes in modules can be imported and used in numerous programs, reducing the need to duplicate code.\n",
    "- Maintainability: Smaller, focused files are easier to maintain and update compared to larger, monolithic files.\n",
    "- Collaboration: Modular code is easier for teams to work on, as different parts of the program can be developed and debugged independently.\n",
    "- Reliability: As you reuse and refine your classes across different projects, they become more robust and reliable.\n",
    "\n",
    "However, effective and organizaed modulatization requires some planning. You'll need to stop and consider how to logically group classes and functions into modules, ensuring that each module has a clear and distinct responsibility. \n",
    "\n",
    "To put this into practice, let's start by moving some of our existing classes into their own files. This will not only help in organizing our code but also give us a firsthand experience of working with modules in Python."
   ]
  },
  {
   "cell_type": "markdown",
   "metadata": {},
   "source": [
    "Storing a single class in a module\n",
    "---\n",
    "\n",
    "When you save a class into a separate file, that file is called a **module**. You can have any number of classes in a single module. There are a number of ways you can then import the class you are interested in.\n",
    "\n",
    "Start out by saving just the Rocket class into a file called *rocket.py*. Notice the naming convention being used here: the module is saved with a lowercase name, and the class starts with an uppercase letter. This convention is pretty important for a number of reasons, and it is a really good idea to follow the convention."
   ]
  },
  {
   "cell_type": "code",
   "execution_count": null,
   "metadata": {},
   "outputs": [],
   "source": [
    "from math import sqrt\n",
    "\n",
    "class Rocket():\n",
    "    \n",
    "    def __init__(self, x=0, y=0):\n",
    "        # Each rocket has an (x,y) position.\n",
    "        self.x = x\n",
    "        self.y = y\n",
    "        \n",
    "    def move_rocket(self, x_increment=0, y_increment=1):\n",
    "        # Move the rocket according to the paremeters given.\n",
    "        #  Default behavior is to move the rocket up one unit.\n",
    "        self.x += x_increment\n",
    "        self.y += y_increment\n",
    "        \n",
    "    def get_distance(self, other_rocket):\n",
    "        # Calculates the distance from this rocket to another rocket,\n",
    "        #  and returns that value.\n",
    "        distance = sqrt((self.x-other_rocket.x)**2+(self.y-other_rocket.y)**2)\n",
    "        return distance"
   ]
  },
  {
   "cell_type": "markdown",
   "metadata": {},
   "source": [
    "Make a separate file called *rocket_game.py*. Or, if you want it to sound more scienc-ey, call it *rocket_simulation.py*. The exact name doesn't matter, but the convention does. Follow the convention by using a lowercase_underscore name for this file. This file will *use* the rocket class to do something."
   ]
  },
  {
   "cell_type": "code",
   "execution_count": 10,
   "metadata": {
    "tags": [
     "hide-output"
    ]
   },
   "outputs": [
    {
     "name": "stdout",
     "output_type": "stream",
     "text": [
      "The rocket is at 0, 0\n"
     ]
    }
   ],
   "source": [
    "# Save as rocket_game.py\n",
    "from rocket import Rocket\n",
    "\n",
    "rocket = Rocket()\n",
    "print(f\"The rocket is at {rocket.x}, {rocket.y}\")"
   ]
  },
  {
   "cell_type": "markdown",
   "metadata": {},
   "source": [
    "By moving our Rocket class into its own file, we've created a cleaner and more focused main program file. This approach offers several advantages:\n",
    "\n",
    "- **Clarity and Focus:** The main file now becomes less cluttered, as it no longer contains the detailed implementation of the Rocket class. This separation allows your main program to be more focused on its specific logic and functionalities.\n",
    "\n",
    "- **Reusability:** With the Rocket class in a separate file, you can easily use it across multiple programs without needing to duplicate the class code. This means that all the attributes and behaviors of a rocket are defined in one place (rocket.py), and this definition can be accessed and utilized in any other file within your project.\n",
    "\n",
    "- **Simplified Code Management:** Having a dedicated file for the Rocket class makes it easier to manage and update. Changes to the class can be made in one place, and these changes will automatically reflect in every part of your program that uses this class.\n",
    "\n",
    "The first line of your main program almost always contains an import statement like \"import rocket\". This tells Python to look for a file named rocket.py in the same directory as your main program file. If the class files are located in different directories, you can still access them, but you might need to modify the PYTHONPATH or use relative imports depending on your project structure.\n",
    "\n",
    "When Python locates and reads rocket.py, it imports the Rocket class into your main file. This process is done behind the scenes; you won't see the code from rocket.py in your main file, but you can use the Rocket class as if it were defined there. This is the essence of Python's import system - it keeps your codebase organized and modular, allowing you to focus on building your application with well-structured and reusable components."
   ]
  },
  {
   "cell_type": "markdown",
   "metadata": {},
   "source": [
    "Storing multiple classes in a module\n",
    "---\n",
    "\n",
    "A module is simply a file that contains one or more classes or functions, so the Shuttle class actually belongs in the rocket module as well:"
   ]
  },
  {
   "cell_type": "code",
   "execution_count": null,
   "metadata": {},
   "outputs": [],
   "source": [
    "# Save as rocket.py\n",
    "from math import sqrt\n",
    "\n",
    "class Rocket():\n",
    "    # Rocket simulates a rocket ship for a game,\n",
    "    #  or a physics simulation.\n",
    "    \n",
    "    def __init__(self, x=0, y=0):\n",
    "        # Each rocket has an (x,y) position.\n",
    "        self.x = x\n",
    "        self.y = y\n",
    "        \n",
    "    def move_rocket(self, x_increment=0, y_increment=1):\n",
    "        # Move the rocket according to the paremeters given.\n",
    "        #  Default behavior is to move the rocket up one unit.\n",
    "        self.x += x_increment\n",
    "        self.y += y_increment\n",
    "        \n",
    "    def get_distance(self, other_rocket):\n",
    "        # Calculates the distance from this rocket to another rocket,\n",
    "        #  and returns that value.\n",
    "        distance = sqrt((self.x-other_rocket.x)**2+(self.y-other_rocket.y)**2)\n",
    "        return distance\n",
    "    \n",
    "\n",
    "class Shuttle(Rocket):\n",
    "    # Shuttle simulates a space shuttle, which is really\n",
    "    #  just a reusable rocket.\n",
    "    \n",
    "    def __init__(self, x=0, y=0, flights_completed=0):\n",
    "        super().__init__(x, y)\n",
    "        self.flights_completed = flights_completed"
   ]
  },
  {
   "cell_type": "markdown",
   "metadata": {},
   "source": [
    "Now you can import the Rocket and the Shuttle class, and use them both in a clean uncluttered program file:"
   ]
  },
  {
   "cell_type": "code",
   "execution_count": 11,
   "metadata": {
    "tags": [
     "hide_output"
    ]
   },
   "outputs": [
    {
     "ename": "ImportError",
     "evalue": "cannot import name 'Shuttle' from 'rocket' (/Users/glupyan/gitRepos/psych750.github.io/notebooks/rocket.py)",
     "output_type": "error",
     "traceback": [
      "\u001b[0;31m---------------------------------------------------------------------------\u001b[0m",
      "\u001b[0;31mImportError\u001b[0m                               Traceback (most recent call last)",
      "\u001b[1;32m/Users/glupyan/gitRepos/psych750.github.io/notebooks/classes.ipynb Cell 77\u001b[0m in \u001b[0;36m<cell line: 2>\u001b[0;34m()\u001b[0m\n\u001b[1;32m      <a href='vscode-notebook-cell:/Users/glupyan/gitRepos/psych750.github.io/notebooks/classes.ipynb#Y410sZmlsZQ%3D%3D?line=0'>1</a>\u001b[0m \u001b[39m# Save as rocket_game.py\u001b[39;00m\n\u001b[0;32m----> <a href='vscode-notebook-cell:/Users/glupyan/gitRepos/psych750.github.io/notebooks/classes.ipynb#Y410sZmlsZQ%3D%3D?line=1'>2</a>\u001b[0m \u001b[39mfrom\u001b[39;00m \u001b[39mrocket\u001b[39;00m \u001b[39mimport\u001b[39;00m Rocket, Shuttle\n\u001b[1;32m      <a href='vscode-notebook-cell:/Users/glupyan/gitRepos/psych750.github.io/notebooks/classes.ipynb#Y410sZmlsZQ%3D%3D?line=3'>4</a>\u001b[0m rocket \u001b[39m=\u001b[39m Rocket()\n\u001b[1;32m      <a href='vscode-notebook-cell:/Users/glupyan/gitRepos/psych750.github.io/notebooks/classes.ipynb#Y410sZmlsZQ%3D%3D?line=4'>5</a>\u001b[0m \u001b[39mprint\u001b[39m(\u001b[39mf\u001b[39m\u001b[39m\"\u001b[39m\u001b[39mThe rocket is at \u001b[39m\u001b[39m{\u001b[39;00mrocket\u001b[39m.\u001b[39mx\u001b[39m}\u001b[39;00m\u001b[39m, \u001b[39m\u001b[39m{\u001b[39;00mrocket\u001b[39m.\u001b[39my\u001b[39m}\u001b[39;00m\u001b[39m\"\u001b[39m)\n",
      "\u001b[0;31mImportError\u001b[0m: cannot import name 'Shuttle' from 'rocket' (/Users/glupyan/gitRepos/psych750.github.io/notebooks/rocket.py)"
     ]
    }
   ],
   "source": [
    "# Save as rocket_game.py\n",
    "from rocket import Rocket, Shuttle\n",
    "\n",
    "rocket = Rocket()\n",
    "print(f\"The rocket is at {rocket.x}, {rocket.y}\")\n",
    "\n",
    "shuttle = Shuttle()\n",
    "print(f\"\\nThe shuttle is at {shuttle.x}, {shuttle.y}\")\n",
    "\n",
    "print(f\"\\nThe shuttle has completed {shuttle.flights_completed} flights.\")"
   ]
  },
  {
   "cell_type": "markdown",
   "metadata": {},
   "source": [
    "The first line tells Python to import both the *Rocket* and the *Shuttle* classes from the *rocket* module. You don't have to import every class in a module; you can pick and choose the classes you care to use, and Python will only spend time processing those particular classes."
   ]
  },
  {
   "cell_type": "markdown",
   "metadata": {},
   "source": [
    "# Conclusion: The Power of Classes in Python\n",
    "\n",
    "Classes are a fundamental tool for programming. In addition to lists, variables and dictonaries, classes are a datatype that when used correctly, will save you time and effort in programming complex objects. To conclude our exploration of classes in Python, let’s review some the key concepts and terminology for understanding classes\n",
    "\n",
    "Understanding Classes and Objects:\n",
    "\n",
    "- **Classes are blueprints for creating objects**, each with their own attributes (data) and methods (behaviors). Through classes, you learned how to encapsulate data and functionality, making your code more organized and efficient. This tells us what differentiates classes and why they are such useful tools.\n",
    "\n",
    "- **Advantages of Using Classes:** Classes allow for code reuse and reduction of redundancy. By defining attributes and methods once in a class, you can create multiple instances (objects) without repeating code, leading to cleaner and more manageable programs.\n",
    "\n",
    "- **Inheritance - Extending Classes:** Inheritance is a powerful feature in object-oriented programming. It allows a new class (subclass) to inherit attributes and methods from an existing class (superclass). This concept was exemplified in the transition from a generic Rocket class to a more specialized SpaceShuttle class, demonstrating how you can build upon existing code to create new functionalities.\n",
    "\n",
    "- **Modularization - Organizing Code:** Modularization involves separating code into distinct sections (modules), each with a specific responsibility. By placing your Rocket class in a separate file (rocket.py), you learned how to create reusable modules. This practice not only makes your code more readable and maintainable but also simplifies collaboration and debugging.\n",
    "\n",
    "- **Importance of Practice and Exploration:** Throughout these lessons, we emphasized hands-on practice and experimentation. Writing your own classes, experimenting with inheritance, and modularizing your code are crucial steps in internalizing these concepts.\n",
    "\n",
    "**Final Thoughts:**\n",
    "\n",
    "Understanding and eventually mastering this datastype will greatly improve your coding and serve as a valuable tool throughout your career. Classes, inheritance, and modularization are not just features of Python; they are tools that empower you to write effective, efficient, and scalable code. They are stepping stones towards becoming a proficient programmer, capable of modeling complex real-world problems and crafting elegant solutions.\n",
    "\n",
    "To extend the use of classes, the next section shows an example of using classes in Psychopy. "
   ]
  },
  {
   "cell_type": "markdown",
   "metadata": {},
   "source": [
    "# Example of using a class in a Psychopy experiment\n",
    "\n",
    "This section goes through a more practical example of using a class in an experiment. Let's say we want to make a moving circle that wiggles its way across a window. Here's some basic code to make this happen."
   ]
  },
  {
   "cell_type": "markdown",
   "metadata": {},
   "source": [
    "## A single moving circle"
   ]
  },
  {
   "cell_type": "code",
   "execution_count": null,
   "metadata": {
    "tags": [
     "remove_output"
    ]
   },
   "outputs": [
    {
     "name": "stdout",
     "output_type": "stream",
     "text": [
      "pygame 2.1.2 (SDL 2.0.18, Python 3.8.13)\n",
      "Hello from the pygame community. https://www.pygame.org/contribute.html\n"
     ]
    },
    {
     "name": "stderr",
     "output_type": "stream",
     "text": [
      "Fontconfig warning: ignoring UTF-8: not a valid region tag\n",
      "2022-11-01 09:52:01.525 python[34424:3526118] Warning: Expected min height of view: (<NSPopoverTouchBarItemButton: 0x7fb7a8c1c420>) to be less than or equal to 30 but got a height of 32.000000. This error will be logged once per view in violation.\n",
      "2022-11-01 09:52:01.526 python[34424:3526118] Warning: Expected min height of view: (<NSButton: 0x7fb7ab8e70e0>) to be less than or equal to 30 but got a height of 32.000000. This error will be logged once per view in violation.\n",
      "2022-11-01 09:52:01.530 python[34424:3526118] Warning: Expected min height of view: (<NSPopoverTouchBarItemButton: 0x7fb7acd6ffe0>) to be less than or equal to 30 but got a height of 32.000000. This error will be logged once per view in violation.\n",
      "2022-11-01 09:52:01.532 python[34424:3526118] Warning: Expected min height of view: (<NSPopoverTouchBarItemButton: 0x7fb7ad06b130>) to be less than or equal to 30 but got a height of 32.000000. This error will be logged once per view in violation.\n",
      "Exception ignored on calling ctypes callback function: <function DeallocationObserver_Implementation.initWithObject_ at 0x7fb7a8da5790>\n",
      "Traceback (most recent call last):\n",
      "  File \"/Users/glupyan/anaconda3/envs/psych750/lib/python3.8/site-packages/pyglet/libs/darwin/cocoapy/runtime.py\", line 1197, in initWithObject_\n",
      "    self = self.value\n",
      "KeyboardInterrupt: \n"
     ]
    },
    {
     "ename": "",
     "evalue": "",
     "output_type": "error",
     "traceback": [
      "\u001b[1;31mCanceled future for execute_request message before replies were done"
     ]
    },
    {
     "ename": "",
     "evalue": "",
     "output_type": "error",
     "traceback": [
      "\u001b[1;31mThe Kernel crashed while executing code in the the current cell or a previous cell. Please review the code in the cell(s) to identify a possible cause of the failure. Click <a href='https://aka.ms/vscodeJupyterKernelCrash'>here</a> for more info. View Jupyter <a href='command:jupyter.viewOutput'>log</a> for further details."
     ]
    }
   ],
   "source": [
    "import time\n",
    "import random\n",
    "import sys\n",
    "import os\n",
    "from math import *\n",
    "from psychopy import visual, core, event\n",
    "\n",
    "win = visual.Window([300,300],color=\"black\", units='pix',allowGUI=True)\n",
    "my_mouse = event.Mouse(win=win)\n",
    "\n",
    "target = visual.Circle(win,size=20,lineColor=\"black\",fillColor=[1,1,1])\n",
    "min_angle=-30\n",
    "max_angle=30\n",
    "prev_angle_to_deviate=0\n",
    "new_cur_angle=0.0\n",
    "inter_step_interval = 3.0\n",
    "\n",
    "while True:\n",
    "\tcore.wait(.02)\n",
    "\ttarget.draw()\n",
    "\twin.flip()\n",
    "\n",
    "\tcur_angle_to_deviate = prev_angle_to_deviate + random.randint(min_angle,max_angle); #calculate new angle\n",
    "\tcur_angle = cur_angle_to_deviate*pi/180.0; #convert to radians\n",
    "\t\n",
    "\tnew_x_pos = inter_step_interval*cos(cur_angle)\t\n",
    "\tnew_y_pos = inter_step_interval*sin(cur_angle)\n",
    "\t\n",
    "\ttarget.setPos((new_x_pos,new_y_pos),'+')\n",
    "\thit_boundary=False\n",
    "\tif (abs(target.pos[0]) > 150 or abs(target.pos[1]) > 150):\n",
    "\t\thit_boundary=True\n",
    "\t\tnew_x_pos =  inter_step_interval*cos(cur_angle-pi)\n",
    "\t\tnew_y_pos =  inter_step_interval*sin(cur_angle-pi)\n",
    "\n",
    "\tprev_angle_to_deviate = cur_angle_to_deviate\n",
    "\tif hit_boundary:\n",
    "\t\tprev_angle_to_deviate -= 180\n",
    "\t\tprev_angle_to_deviate %= 360\n",
    "\n",
    "\tif event.getKeys(['space']):\n",
    "\t\tsys.exit()"
   ]
  },
  {
   "cell_type": "markdown",
   "metadata": {},
   "source": [
    "Let's extend this code so that when we click on the circle, it gets dimmer and moves slower."
   ]
  },
  {
   "cell_type": "code",
   "execution_count": null,
   "metadata": {
    "tags": [
     "remove_output"
    ]
   },
   "outputs": [
    {
     "name": "stderr",
     "output_type": "stream",
     "text": [
      "2022-11-10 11:12:50.651 python[46595:170072] Warning: Expected min height of view: (<NSPopoverTouchBarItemButton: 0x7fd3c8cfd200>) to be less than or equal to 30 but got a height of 32.000000. This error will be logged once per view in violation.\n",
      "2022-11-10 11:12:50.652 python[46595:170072] Warning: Expected min height of view: (<NSButton: 0x7fd3d394ad60>) to be less than or equal to 30 but got a height of 32.000000. This error will be logged once per view in violation.\n",
      "2022-11-10 11:12:50.654 python[46595:170072] Warning: Expected min height of view: (<NSPopoverTouchBarItemButton: 0x7fd3d394ccf0>) to be less than or equal to 30 but got a height of 32.000000. This error will be logged once per view in violation.\n",
      "2022-11-10 11:12:50.656 python[46595:170072] Warning: Expected min height of view: (<NSPopoverTouchBarItemButton: 0x7fd3d3951f50>) to be less than or equal to 30 but got a height of 32.000000. This error will be logged once per view in violation.\n"
     ]
    },
    {
     "ename": "SystemExit",
     "evalue": "",
     "output_type": "error",
     "traceback": [
      "An exception has occurred, use %tb to see the full traceback.\n",
      "\n",
      "\u001b[0;31mSystemExit\u001b[0m\n"
     ]
    },
    {
     "ename": "",
     "evalue": "",
     "output_type": "error",
     "traceback": [
      "\u001b[1;31mThe Kernel crashed while executing code in the the current cell or a previous cell. Please review the code in the cell(s) to identify a possible cause of the failure. Click <a href='https://aka.ms/vscodeJupyterKernelCrash'>here</a> for more info. View Jupyter <a href='command:jupyter.viewOutput'>log</a> for further details."
     ]
    }
   ],
   "source": [
    "import time\n",
    "import random\n",
    "import sys\n",
    "import os\n",
    "from math import *\n",
    "from psychopy import visual, core, event\n",
    "\n",
    "win = visual.Window([350,350],color=\"black\", units='pix',allowGUI=True)\n",
    "my_mouse = event.Mouse(win=win)\n",
    "\n",
    "target = visual.Circle(win,size=20,lineColor=\"black\",fillColor=[1,1,1])\n",
    "min_angle=-30\n",
    "max_angle=30\n",
    "prev_angle_to_deviate=0\n",
    "new_cur_angle=0.0\n",
    "inter_step_interval = 2.0\n",
    "\n",
    "while True:\n",
    "\tcore.wait(.02)\n",
    "\ttarget.draw()\n",
    "\twin.flip()\n",
    "\n",
    "\tcur_angle_to_deviate = prev_angle_to_deviate + random.randint(min_angle,max_angle); #calculate new angle\n",
    "\tcur_angle = cur_angle_to_deviate*pi/180.0; #convert to radians\n",
    "\t\n",
    "\tnew_x_pos = inter_step_interval*cos(cur_angle)\t\n",
    "\tnew_y_pos = inter_step_interval*sin(cur_angle)\n",
    "\n",
    "\tif my_mouse.isPressedIn(target):\n",
    "\t\tinter_step_interval *= .8\n",
    "\t\ttarget.opacity *= .9\n",
    "\t\n",
    "\ttarget.setPos((new_x_pos,new_y_pos),'+')\n",
    "\thit_boundary=False\n",
    "\tif (abs(target.pos[0]) > 150 or abs(target.pos[1]) > 150):\n",
    "\t\thit_boundary=True\n",
    "\t\tnew_x_pos =  inter_step_interval*cos(cur_angle-pi)\n",
    "\t\tnew_y_pos =  inter_step_interval*sin(cur_angle-pi)\n",
    "\n",
    "\tprev_angle_to_deviate = cur_angle_to_deviate\n",
    "\tif hit_boundary:\n",
    "\t\tprev_angle_to_deviate -= 180\n",
    "\t\tprev_angle_to_deviate %= 360\n",
    "\n",
    "\tif event.getKeys(['space']):\n",
    "\t\tsys.exit()"
   ]
  },
  {
   "cell_type": "markdown",
   "metadata": {},
   "source": [
    "## More circles!\n",
    "But now suppose we want to have lots of moving circles that move independently of one another such that we can set some to move faster, have them be different colors, allow people to click on them independently, etc. This is the kind of situation where classes shine. \n",
    "\n",
    "The code below implements a `movingCircle` class. We then use it to make a bunch of individual circles and allow the user to click on them individually. Notice that it's not much longer than the code above. And if we want 10 circles, we just need to change `numCircles = 4` to `numCircles = 5`. Wizardry!"
   ]
  },
  {
   "cell_type": "code",
   "execution_count": null,
   "metadata": {
    "tags": [
     "remove_output"
    ]
   },
   "outputs": [
    {
     "name": "stdout",
     "output_type": "stream",
     "text": [
      "pygame 2.1.2 (SDL 2.0.18, Python 3.8.13)\n",
      "Hello from the pygame community. https://www.pygame.org/contribute.html\n",
      "clicked on a circle!\n",
      "clicked on a circle!\n",
      "clicked on a circle!\n",
      "clicked on a circle!\n",
      "clicked on a circle!\n",
      "clicked on a circle!\n",
      "clicked on a circle!\n",
      "clicked on a circle!\n",
      "clicked on a circle!\n",
      "clicked on a circle!\n",
      "clicked on a circle!\n",
      "clicked on a circle!\n",
      "clicked on a circle!\n",
      "clicked on a circle!\n",
      "clicked on a circle!\n",
      "clicked on a circle!\n",
      "clicked on a circle!\n",
      "clicked on a circle!\n",
      "clicked on a circle!\n",
      "clicked on a circle!\n",
      "clicked on a circle!\n",
      "clicked on a circle!\n",
      "clicked on a circle!\n",
      "clicked on a circle!\n",
      "clicked on a circle!\n",
      "clicked on a circle!\n",
      "clicked on a circle!\n",
      "clicked on a circle!\n",
      "clicked on a circle!\n",
      "clicked on a circle!\n",
      "clicked on a circle!\n",
      "clicked on a circle!\n",
      "clicked on a circle!\n",
      "clicked on a circle!\n",
      "clicked on a circle!\n",
      "clicked on a circle!\n",
      "clicked on a circle!\n",
      "clicked on a circle!\n",
      "clicked on a circle!\n",
      "clicked on a circle!\n",
      "clicked on a circle!\n",
      "clicked on a circle!\n",
      "clicked on a circle!\n",
      "clicked on a circle!\n",
      "clicked on a circle!\n",
      "clicked on a circle!\n",
      "clicked on a circle!\n",
      "clicked on a circle!\n",
      "clicked on a circle!\n",
      "clicked on a circle!\n",
      "clicked on a circle!\n",
      "clicked on a circle!\n",
      "clicked on a circle!\n",
      "clicked on a circle!\n",
      "clicked on a circle!\n",
      "clicked on a circle!\n",
      "clicked on a circle!\n",
      "clicked on a circle!\n",
      "clicked on a circle!\n",
      "clicked on a circle!\n",
      "clicked on a circle!\n",
      "clicked on a circle!\n",
      "clicked on a circle!\n",
      "clicked on a circle!\n",
      "clicked on a circle!\n",
      "clicked on a circle!\n",
      "clicked on a circle!\n",
      "clicked on a circle!\n",
      "clicked on a circle!\n",
      "clicked on a circle!\n",
      "clicked on a circle!\n",
      "clicked on a circle!\n",
      "clicked on a circle!\n",
      "clicked on a circle!\n",
      "clicked on a circle!\n",
      "clicked on a circle!\n",
      "clicked on a circle!\n",
      "clicked on a circle!\n",
      "clicked on a circle!\n"
     ]
    },
    {
     "ename": "",
     "evalue": "",
     "output_type": "error",
     "traceback": [
      "\u001b[1;31mThe Kernel crashed while executing code in the the current cell or a previous cell. Please review the code in the cell(s) to identify a possible cause of the failure. Click <a href='https://aka.ms/vscodeJupyterKernelCrash'>here</a> for more info. View Jupyter <a href='command:jupyter.viewOutput'>log</a> for further details."
     ]
    }
   ],
   "source": [
    "import time\n",
    "import random\n",
    "import sys\n",
    "import os\n",
    "from math import sin, cos, pi\n",
    "from psychopy import visual, core, event\n",
    "\n",
    "win = visual.Window([300,300],color=\"black\", units='pix',allowGUI=True)\n",
    "my_mouse = event.Mouse(win=win)\n",
    "num_cirlces = 4\n",
    "\n",
    "class MovingCircle():\n",
    "\t\n",
    "\tdef __init__(self,win):\n",
    "\n",
    "\t\tself.min_angle=-30\n",
    "\t\tself.max_angle=30\n",
    "\t\tself.prev_angle_to_deviate=0\n",
    "\t\tself.angle_moving_degrees=0.0\n",
    "\t\tself.inter_step_interval = 2.0\n",
    "\t\tself.target = visual.Circle(win,size=20,lineColor=\"black\",fillColor=[1,1,1])\n",
    "\n",
    "\tdef change_speed(self,delta_speed):\n",
    "\t\tself.inter_step_interval *= delta_speed\n",
    "\n",
    "\tdef make_dimmer(self,percent):\n",
    "\t\tself.target.opacity *= percent\n",
    "\n",
    "\tdef get_pos(self):\n",
    "\t\treturn self.target.pos\n",
    "\n",
    "\tdef target(self):\n",
    "\t\treturn self.target\n",
    "\n",
    "\tdef move_it(self):\n",
    "\t\t\"gets new position and sets target to that position\"\n",
    "\t\tcur_angle_to_deviate = self.prev_angle_to_deviate + random.randint(self.min_angle,self.max_angle); #calculate new angle\n",
    "\t\tcur_angle = cur_angle_to_deviate*pi/180.0; #convert to radians\n",
    "\t\t\n",
    "\t\tnew_x_pos = self.inter_step_interval*cos(cur_angle)\t\n",
    "\t\tnew_y_pos = self.inter_step_interval*sin(cur_angle)\n",
    "\t\t\n",
    "\t\tself.target.setPos((new_x_pos,new_y_pos),'+')\n",
    "\t\thit_boundary=False\n",
    "\t\tif (abs(self.target.pos[0]) > 150 or abs(self.target.pos[1]) > 150):\n",
    "\t\t\thit_boundary=True\n",
    "\t\t\tnew_x_pos =  self.inter_step_interval*cos(cur_angle-pi)\n",
    "\t\t\tnew_y_pos =  self.inter_step_interval*sin(cur_angle-pi)\n",
    "\n",
    "\t\tself.prev_angle_to_deviate = cur_angle_to_deviate\n",
    "\t\tif hit_boundary:\n",
    "\t\t\tself.prev_angle_to_deviate -= 180\n",
    "\t\t\tself.prev_angle_to_deviate %= 360\n",
    "\n",
    "\n",
    "circles = [MovingCircle(win) for _ in range(num_cirlces)]\n",
    "while True:\n",
    "\tfor cur_circle in circles:\n",
    "\t\tcur_circle.target.draw()\n",
    "\t\tif my_mouse.isPressedIn(cur_circle.target):\n",
    "\t\t\tprint('clicked on a circle!' )\n",
    "\t\t\tcur_circle.change_speed(.8)\n",
    "\t\t\tcur_circle.make_dimmer(.9)\n",
    "\n",
    "\t\tcur_circle.move_it()\n",
    "\tcore.wait(.05)\n",
    "\twin.flip()\n",
    "\n",
    "\tif event.getKeys(['space']):\n",
    "\t\tsys.exit()\n"
   ]
  },
  {
   "cell_type": "markdown",
   "metadata": {},
   "source": [
    "Make sure you understand what's happening here. Play around with the code. If you're confused, message on Slack."
   ]
  },
  {
   "cell_type": "markdown",
   "metadata": {},
   "source": [
    "A number of ways to import modules and classes\n",
    "---\n",
    "We've covered imports already, but just as a review: Recall that there are several ways to import modules and classes, and each has its own merits."
   ]
  },
  {
   "cell_type": "markdown",
   "metadata": {},
   "source": [
    "### import *module_name*\n",
    "\n",
    "The syntax for importing classes that was just shown:\n",
    "\n",
    "```python\n",
    "from module_name import ClassName\n",
    "```\n",
    "\n",
    "is straightforward, and is commonly used. It allows you to use the class names directly in your program, so you have very clean and readable code. This can be a problem, however, if the names of the classes you are importing conflict with names that have already been used in your program This is unlikely to happen in short programs like those in the examples, but becomes increasingly likely as your codebase grows. It's also an issue if you are sharing your code. Maybe you take pains to ensure that a class name doesn't conflict with names used in *your* code, but can you guarantee that it won't happen when others use your code? So, you can also import the module itself:"
   ]
  },
  {
   "cell_type": "code",
   "execution_count": null,
   "metadata": {},
   "outputs": [
    {
     "name": "stdout",
     "output_type": "stream",
     "text": [
      "The rocket is at (0, 0).\n",
      "\n",
      "The shuttle is at (0, 0).\n",
      "The shuttle has completed 0 flights.\n"
     ]
    }
   ],
   "source": [
    "# Save as rocket_game.py\n",
    "import rocket\n",
    "\n",
    "rocket_0 = rocket.Rocket()\n",
    "print(f\"The rocket is at {rocket_0.x}, {rocket_0.y}\")\n",
    "print(f\"Shuttle {index} has completed {shuttle.flights_completed} flights.\")\n",
    "\n",
    "shuttle_0 = rocket.Shuttle()\n",
    "print(f\"The shuttle is at {shuttle_0.x}, {shuttle_0.y}\")\n",
    "print(f\"Shuttle has completed {shuttle_0.flights_completed} flights.\")"
   ]
  },
  {
   "cell_type": "markdown",
   "metadata": {},
   "source": [
    "The general syntax for import is:\n",
    "\n",
    "```python\n",
    "import module_name\n",
    "```\n",
    "\n",
    "After this, classes are accessed using the dot notation:\n",
    "\n",
    "```python\n",
    "module_name.ClassName\n",
    "```\n",
    "    \n",
    "This prevents some name conflicts. If you were reading carefully however, you might have noticed that the variable name *rocket* in the previous example had to be changed because it has the same name as the module itself. This is not good, because in a longer program that could mean a lot of renaming."
   ]
  },
  {
   "cell_type": "markdown",
   "metadata": {},
   "source": [
    "### import *module_name* as *local_module_name*\n",
    "\n",
    "There is another syntax for imports that is quite useful:\n",
    "\n",
    "```python\n",
    "import module_name as local_module_name\n",
    "```\n",
    "\n",
    "When you are importing a module into one of your projects, you are free to choose any name you want for the module in your project. So the last example could be rewritten in a way that the variable name *rocket* would not need to be changed:"
   ]
  },
  {
   "cell_type": "code",
   "execution_count": 12,
   "metadata": {
    "tags": [
     "hide-output"
    ]
   },
   "outputs": [
    {
     "name": "stdout",
     "output_type": "stream",
     "text": [
      "The rocket is at 0, 0\n",
      "Shuttle 2 has completed 7 flights.\n"
     ]
    },
    {
     "ename": "AttributeError",
     "evalue": "module 'rocket' has no attribute 'Shuttle'",
     "output_type": "error",
     "traceback": [
      "\u001b[0;31m---------------------------------------------------------------------------\u001b[0m",
      "\u001b[0;31mAttributeError\u001b[0m                            Traceback (most recent call last)",
      "\u001b[1;32m/Users/glupyan/gitRepos/psych750.github.io/notebooks/classes.ipynb Cell 84\u001b[0m in \u001b[0;36m<cell line: 8>\u001b[0;34m()\u001b[0m\n\u001b[1;32m      <a href='vscode-notebook-cell:/Users/glupyan/gitRepos/psych750.github.io/notebooks/classes.ipynb#Y212sZmlsZQ%3D%3D?line=4'>5</a>\u001b[0m \u001b[39mprint\u001b[39m(\u001b[39mf\u001b[39m\u001b[39m\"\u001b[39m\u001b[39mThe rocket is at \u001b[39m\u001b[39m{\u001b[39;00mrocket_0\u001b[39m.\u001b[39mx\u001b[39m}\u001b[39;00m\u001b[39m, \u001b[39m\u001b[39m{\u001b[39;00mrocket_0\u001b[39m.\u001b[39my\u001b[39m}\u001b[39;00m\u001b[39m\"\u001b[39m)\n\u001b[1;32m      <a href='vscode-notebook-cell:/Users/glupyan/gitRepos/psych750.github.io/notebooks/classes.ipynb#Y212sZmlsZQ%3D%3D?line=5'>6</a>\u001b[0m \u001b[39mprint\u001b[39m(\u001b[39mf\u001b[39m\u001b[39m\"\u001b[39m\u001b[39mShuttle \u001b[39m\u001b[39m{\u001b[39;00mindex\u001b[39m}\u001b[39;00m\u001b[39m has completed \u001b[39m\u001b[39m{\u001b[39;00mshuttle\u001b[39m.\u001b[39mflights_completed\u001b[39m}\u001b[39;00m\u001b[39m flights.\u001b[39m\u001b[39m\"\u001b[39m)\n\u001b[0;32m----> <a href='vscode-notebook-cell:/Users/glupyan/gitRepos/psych750.github.io/notebooks/classes.ipynb#Y212sZmlsZQ%3D%3D?line=7'>8</a>\u001b[0m shuttle_0 \u001b[39m=\u001b[39m rocket_module\u001b[39m.\u001b[39;49mShuttle()\n\u001b[1;32m      <a href='vscode-notebook-cell:/Users/glupyan/gitRepos/psych750.github.io/notebooks/classes.ipynb#Y212sZmlsZQ%3D%3D?line=8'>9</a>\u001b[0m \u001b[39mprint\u001b[39m(\u001b[39mf\u001b[39m\u001b[39m\"\u001b[39m\u001b[39mThe shuttle is at \u001b[39m\u001b[39m{\u001b[39;00mshuttle_0\u001b[39m.\u001b[39mx\u001b[39m}\u001b[39;00m\u001b[39m, \u001b[39m\u001b[39m{\u001b[39;00mshuttle_0\u001b[39m.\u001b[39my\u001b[39m}\u001b[39;00m\u001b[39m\"\u001b[39m)\n\u001b[1;32m     <a href='vscode-notebook-cell:/Users/glupyan/gitRepos/psych750.github.io/notebooks/classes.ipynb#Y212sZmlsZQ%3D%3D?line=9'>10</a>\u001b[0m \u001b[39mprint\u001b[39m(\u001b[39mf\u001b[39m\u001b[39m\"\u001b[39m\u001b[39mShuttle has completed \u001b[39m\u001b[39m{\u001b[39;00mshuttle_0\u001b[39m.\u001b[39mflights_completed\u001b[39m}\u001b[39;00m\u001b[39m flights.\u001b[39m\u001b[39m\"\u001b[39m)\n",
      "\u001b[0;31mAttributeError\u001b[0m: module 'rocket' has no attribute 'Shuttle'"
     ]
    }
   ],
   "source": [
    "# Save as rocket_game.py\n",
    "import rocket as rocket_module\n",
    "\n",
    "rocket_0 = rocket_module.Rocket()\n",
    "print(f\"The rocket is at {rocket_0.x}, {rocket_0.y}\")\n",
    "print(f\"Shuttle {index} has completed {shuttle.flights_completed} flights.\")\n",
    "\n",
    "shuttle_0 = rocket_module.Shuttle()\n",
    "print(f\"The shuttle is at {shuttle_0.x}, {shuttle_0.y}\")\n",
    "print(f\"Shuttle has completed {shuttle_0.flights_completed} flights.\")\n"
   ]
  },
  {
   "cell_type": "markdown",
   "metadata": {},
   "source": [
    "This approach is often used to shorten the name of the module, so you don't have to type a long module name before each class name that you want to use. But it is easy to shorten a name so much that you force people reading your code to scroll to the top of your file and see what the shortened name stands for. In this example,\n",
    "\n",
    "```python\n",
    "import rocket as rocket_module\n",
    "```\n",
    "\n",
    "leads to much more readable code than something like:\n",
    "\n",
    "```python\n",
    "import rocket as r\n",
    "```\n"
   ]
  },
  {
   "cell_type": "markdown",
   "metadata": {},
   "source": [
    "### from *module_name* import *\n",
    "There is one more import syntax that you should be aware of, but Python gurus advise against using. This syntax imports all of the available classes and functions in a module:\n",
    "\n",
    "```python\n",
    "from module_name import *\n",
    "```\n",
    "\n",
    "This isn't recommended for a couple reasons. First, you don't know what all the names of the classes and functions in a module are. If you accidentally give one of your variables the same name as a name from the module, you will have naming conflicts. Second, you may be importing way more code into your program than you need.\n",
    "\n",
    "If you really need all the functions and classes from a module, just import the module and use the `module_name.ClassName` syntax in your program.\n",
    "\n",
    "You will get a better sense of how to write imports as you read more Python code and as you write and share some of your own code."
   ]
  },
  {
   "cell_type": "markdown",
   "metadata": {},
   "source": [
    "A module of functions\n",
    "---\n",
    "You can use modules to store a set of functions you want available in different programs as well, even if those functions are not attached to any one class. To do this, you save the functions into a file, and then import that file just as you saw in the last section. Here is a really simple example; save this is *multiplying.py*:"
   ]
  },
  {
   "cell_type": "code",
   "execution_count": null,
   "metadata": {},
   "outputs": [],
   "source": [
    "# Save as multiplying.py\n",
    "def double(x):\n",
    "    return 2*x\n",
    "\n",
    "def triple(x):\n",
    "    return 3*x\n",
    "\n",
    "def quadruple(x):\n",
    "    return 4*x"
   ]
  },
  {
   "cell_type": "markdown",
   "metadata": {},
   "source": [
    "Now you can import the file *multiplying.py*, and use these functions. Using the `from module_name import function_name` syntax:"
   ]
  },
  {
   "cell_type": "code",
   "execution_count": null,
   "metadata": {},
   "outputs": [
    {
     "name": "stdout",
     "output_type": "stream",
     "text": [
      "10\n",
      "15\n",
      "20\n"
     ]
    }
   ],
   "source": [
    "from multiplying import double, triple, quadruple\n",
    "\n",
    "print(double(5))\n",
    "print(triple(5))\n",
    "print(quadruple(5))"
   ]
  },
  {
   "cell_type": "markdown",
   "metadata": {},
   "source": [
    "Using the `import module_name` syntax:"
   ]
  },
  {
   "cell_type": "code",
   "execution_count": null,
   "metadata": {},
   "outputs": [
    {
     "name": "stdout",
     "output_type": "stream",
     "text": [
      "10\n",
      "15\n",
      "20\n"
     ]
    }
   ],
   "source": [
    "import multiplying\n",
    "\n",
    "print(multiplying.double(5))\n",
    "print(multiplying.triple(5))\n",
    "print(multiplying.quadruple(5))"
   ]
  },
  {
   "cell_type": "markdown",
   "metadata": {},
   "source": [
    "Using the `import module_name as local_module_name` syntax:"
   ]
  },
  {
   "cell_type": "code",
   "execution_count": null,
   "metadata": {},
   "outputs": [
    {
     "name": "stdout",
     "output_type": "stream",
     "text": [
      "10\n",
      "15\n",
      "20\n"
     ]
    }
   ],
   "source": [
    "import multiplying as m\n",
    "\n",
    "print(m.double(5))\n",
    "print(m.triple(5))\n",
    "print(m.quadruple(5))"
   ]
  },
  {
   "cell_type": "markdown",
   "metadata": {},
   "source": [
    "Using the `from module_name import *` syntax:"
   ]
  },
  {
   "cell_type": "code",
   "execution_count": null,
   "metadata": {},
   "outputs": [
    {
     "name": "stdout",
     "output_type": "stream",
     "text": [
      "10\n",
      "15\n",
      "20\n"
     ]
    }
   ],
   "source": [
    "from multiplying import *\n",
    "\n",
    "print(double(5))\n",
    "print(triple(5))\n",
    "print(quadruple(5))"
   ]
  }
 ],
 "metadata": {
  "kernelspec": {
   "display_name": "Python 3 (ipykernel)",
   "language": "python",
   "name": "python3"
  },
  "language_info": {
   "codemirror_mode": {
    "name": "ipython",
    "version": 3
   },
   "file_extension": ".py",
   "mimetype": "text/x-python",
   "name": "python",
   "nbconvert_exporter": "python",
   "pygments_lexer": "ipython3",
   "version": "3.8.17"
  },
  "toc": {
   "nav_menu": {},
   "number_sections": true,
   "sideBar": true,
   "skip_h1_title": false,
   "toc_cell": true,
   "toc_position": {
    "height": "509px",
    "left": "0px",
    "right": "837.827px",
    "top": "110px",
    "width": "325px"
   },
   "toc_section_display": "block",
   "toc_window_display": true
  },
  "vscode": {
   "interpreter": {
    "hash": "57beecaf6908bae4f97de5e2dc8e8d0311fae5bc989593c172c307d13e31f6e4"
   }
  }
 },
 "nbformat": 4,
 "nbformat_minor": 1
}
