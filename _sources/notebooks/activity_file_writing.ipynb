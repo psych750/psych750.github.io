{
 "cells": [
  {
   "cell_type": "markdown",
   "metadata": {},
   "source": [
    "# Primer on writing files\n",
    "\n",
    "Your programs become a whole lot more useful when you are able to access external data (typically from external files) and when you can save your outputs (participant responses, outputs of your computations, etc.) to files.\n",
    "\n",
    "We'll do lots of reading from files in the coming weeks. This primer is for providing you with the minimum information necessary to write to files that you'll need to complete Exercise 2.\n",
    "\n",
    "\n",
    "## How to open a file for writing?\n",
    "\n",
    "```python\n",
    "output_file = open('results.csv','w')\n",
    "```\n",
    "\n",
    "Here, we've opened a file called results.csv. The 'w' flag tells Python to open the file in writing mode. The open() function outputs a \"file handle\" that we assign to a variable, here called `output_file`. This variable then allows you to write new data to the file.\n",
    "\n",
    "```{warning}\n",
    "If you open() results.txt and it already exists, it will be overwritten (i.e., all existing data in results.txt will be lost)\n",
    "```\n",
    "\n",
    "## How to write to a file?\n",
    "\n",
    "Once a file is open for writing, you can write to it like so:\n",
    "\n",
    "```python\n",
    "output_file.write('Hello, world!')\n",
    "```\n",
    "\n",
    "When you are completely done writing and want to close the file (so that it's not corrupted by other processes that may write to it), close it like so:\n",
    "\n",
    "```python\n",
    "output_file.close()\n",
    "```\n",
    "\n",
    "Remember, don't close it until you are totally done. If you reopen it in 'w' mode, it will be rewritten (we'll talk later about **appending** to files, but this is not necessary for Exercise 2).\n",
    "\n",
    "```{note}\n",
    "When you write to a file you have to be mindful of newlines. If you want to write separate lines, you need to explicitly add a \"\\n\" character to your string.\n",
    "```\n",
    "\n"
   ]
  },
  {
   "cell_type": "markdown",
   "metadata": {},
   "source": [
    "## Practice writing to files\n",
    "\n",
    "1. Open a file called 'counter.txt' and write the following list to it, one word (element) at a time\n",
    "    ```python\n",
    "    list_to_write = ['one','two','three','four','five']\n",
    "    ```\n",
    "2. Open a file called 'results.csv' and write code so that at the end the file looks like this. Make sure you code can accommodate a list of arbitrary length. If I asked you to write 50 lines, your code should be no longer than for printing these 4.\n",
    "    ```csv\n",
    "    1,dog\n",
    "    2,cat\n",
    "    3,wolf\n",
    "    4,penguin\n",
    "    ```"
   ]
  }
 ],
 "metadata": {
  "kernelspec": {
   "display_name": "Python 3.8.13 ('psych750')",
   "language": "python",
   "name": "python3"
  },
  "language_info": {
   "codemirror_mode": {
    "name": "ipython",
    "version": 2
   },
   "file_extension": ".py",
   "mimetype": "text/x-python",
   "name": "python",
   "nbconvert_exporter": "python",
   "pygments_lexer": "ipython2",
   "version": "3.8.13"
  },
  "toc": {
   "nav_menu": {},
   "number_sections": true,
   "sideBar": false,
   "skip_h1_title": false,
   "toc_cell": false,
   "toc_position": {},
   "toc_section_display": "block",
   "toc_window_display": false
  },
  "vscode": {
   "interpreter": {
    "hash": "57beecaf6908bae4f97de5e2dc8e8d0311fae5bc989593c172c307d13e31f6e4"
   }
  }
 },
 "nbformat": 4,
 "nbformat_minor": 2
}
