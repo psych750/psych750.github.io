{
 "cells": [
  {
   "cell_type": "markdown",
   "metadata": {},
   "source": [
    "# Review of fundamentals B\n",
    "In this notebook, you will review the additional python syntax we've covered since the first review of fundamentals. You should be able to correctly predict what happens in all of these cases. If you get something wrong, figure out why!"
   ]
  },
  {
   "cell_type": "markdown",
   "metadata": {},
   "source": [
    "## Lists, list comprehension, and randomization"
   ]
  },
  {
   "cell_type": "code",
   "execution_count": 2,
   "metadata": {},
   "outputs": [
    {
     "name": "stdout",
     "output_type": "stream",
     "text": [
      "1\n",
      "4\n"
     ]
    }
   ],
   "source": [
    "my_list = ['spam']\n",
    "print(len(my_list))\n",
    "print(len(my_list[0]))"
   ]
  },
  {
   "cell_type": "code",
   "execution_count": 4,
   "metadata": {},
   "outputs": [
    {
     "name": "stdout",
     "output_type": "stream",
     "text": [
      "[5, 6, 7, 8, 9]\n"
     ]
    }
   ],
   "source": [
    "print(list(range(10)[-5:]))"
   ]
  },
  {
   "cell_type": "code",
   "execution_count": 5,
   "metadata": {
    "tags": [
     "hide-output"
    ]
   },
   "outputs": [
    {
     "data": {
      "text/plain": [
       "['b', 'b', 'c', 'c', 'd']"
      ]
     },
     "execution_count": 5,
     "metadata": {},
     "output_type": "execute_result"
    }
   ],
   "source": [
    "import random\n",
    "my_list = ['a','b','c']*3 + ['c','d','e']*3\n",
    "random.shuffle(my_list)\n",
    "my_list[0:5]"
   ]
  },
  {
   "cell_type": "code",
   "execution_count": 2,
   "metadata": {
    "tags": [
     "hide-output"
    ]
   },
   "outputs": [
    {
     "data": {
      "text/plain": [
       "['d', 'e', 'c', 'a', 'c']"
      ]
     },
     "execution_count": 2,
     "metadata": {},
     "output_type": "execute_result"
    }
   ],
   "source": [
    "import random\n",
    "my_list = ['a','b','c'] + ['c','d','e']\n",
    "random.sample(my_list,7)"
   ]
  },
  {
   "cell_type": "code",
   "execution_count": 7,
   "metadata": {
    "tags": [
     "hide-output"
    ]
   },
   "outputs": [
    {
     "data": {
      "text/plain": [
       "[0.8, 0.5, 0.4, 0.1, 0.4, 0.5, 0.7, 0.2, 0.4, 0.8, 0.0, 0.3, 0.4, 0.0, 0.9]"
      ]
     },
     "execution_count": 7,
     "metadata": {},
     "output_type": "execute_result"
    }
   ],
   "source": [
    "import random\n",
    "[round(random.random(),1) for i in range(15)]"
   ]
  },
  {
   "cell_type": "code",
   "execution_count": 9,
   "metadata": {
    "tags": [
     "hide-output"
    ]
   },
   "outputs": [
    {
     "name": "stdout",
     "output_type": "stream",
     "text": [
      "['', 'e', 'ii', 'ooo', 'uuuu']\n"
     ]
    }
   ],
   "source": [
    "vowels = ['a', 'e', 'i','o','u']\n",
    "print ([element*i for i,element in enumerate(vowels)])"
   ]
  },
  {
   "cell_type": "code",
   "execution_count": 10,
   "metadata": {
    "tags": [
     "hide-output"
    ]
   },
   "outputs": [
    {
     "name": "stdout",
     "output_type": "stream",
     "text": [
      "one and a two and a three and a four and a\n"
     ]
    }
   ],
   "source": [
    "print (' '.join([' '.join((i, 'and a')) for i in ('one', 'two', 'three', 'four')]))"
   ]
  },
  {
   "cell_type": "code",
   "execution_count": 11,
   "metadata": {
    "tags": [
     "hide-output"
    ]
   },
   "outputs": [
    {
     "data": {
      "text/plain": [
       "[0, 1, 2, 4, 7, 12, 13, 14, 17, 19, 20, 21, 22, 24, 26, 28, 29, 30]"
      ]
     },
     "execution_count": 11,
     "metadata": {},
     "output_type": "execute_result"
    }
   ],
   "source": [
    "responses = 'ccctcctttttcc'\n",
    "[i for i,curResp in enumerate(responses) if curResp=='c']\n"
   ]
  },
  {
   "cell_type": "code",
   "execution_count": 12,
   "metadata": {
    "tags": [
     "hide-output"
    ]
   },
   "outputs": [
    {
     "name": "stdout",
     "output_type": "stream",
     "text": [
      "['middle', 'right', 'bottom', 'left'] ['middle', 'right', 'bottom', 'left']\n",
      "4 4\n",
      "True\n"
     ]
    }
   ],
   "source": [
    "import random\n",
    "\n",
    "positions = ['left', 'middle', 'right']\n",
    "positions2 = positions\n",
    "\n",
    "positions.append('bottom')\n",
    "random.shuffle(positions2)\n",
    "\n",
    "print (positions, positions2)\n",
    "print (len(positions), len(positions2))\n",
    "print (positions==positions2)"
   ]
  },
  {
   "cell_type": "markdown",
   "metadata": {},
   "source": [
    "## Dictionaries"
   ]
  },
  {
   "cell_type": "code",
   "execution_count": 22,
   "metadata": {
    "tags": [
     "hide-output"
    ]
   },
   "outputs": [
    {
     "data": {
      "text/plain": [
       "['left',\n",
       " 'left',\n",
       " 'left',\n",
       " 'left',\n",
       " 'middle',\n",
       " 'middle',\n",
       " 'left',\n",
       " 'middle',\n",
       " 'middle',\n",
       " 'middle']"
      ]
     },
     "execution_count": 22,
     "metadata": {},
     "output_type": "execute_result"
    }
   ],
   "source": [
    "positions = {'left':(-100,0), 'middle':(0,0), 'right':(100,0)}\n",
    "[random.choice(list(positions.keys())) for i in range(10)]"
   ]
  },
  {
   "cell_type": "markdown",
   "metadata": {},
   "source": [
    "```{note}\n",
    "In Python 2, dict.keys() returned a list. In Python 3 it returns a 'view' object which is fine if you want to see what the keys are, but won't work for subsetting or doing things like getting choosing a random element as we do here. To make it work, we must force it to be a list with `list()`\n",
    "```"
   ]
  },
  {
   "cell_type": "markdown",
   "metadata": {},
   "source": [
    "```{note}\n"
   ]
  },
  {
   "cell_type": "code",
   "execution_count": 23,
   "metadata": {
    "tags": [
     "hide-output"
    ]
   },
   "outputs": [
    {
     "data": {
      "text/plain": [
       "[(0, 0),\n",
       " (100, 0),\n",
       " (100, 0),\n",
       " (0, 0),\n",
       " (100, 0),\n",
       " (0, 0),\n",
       " (100, 0),\n",
       " (-100, 0),\n",
       " (-100, 0),\n",
       " (0, 0)]"
      ]
     },
     "execution_count": 23,
     "metadata": {},
     "output_type": "execute_result"
    }
   ],
   "source": [
    "positions = {'left':(-100,0), 'middle':(0,0), 'right':(100,0)}\n",
    "[positions[random.choice(list(positions.keys()))] for i in range(10)]"
   ]
  },
  {
   "cell_type": "code",
   "execution_count": 24,
   "metadata": {
    "tags": [
     "hide-output"
    ]
   },
   "outputs": [
    {
     "data": {
      "text/plain": [
       "['chair',\n",
       " 'chair',\n",
       " 'chair',\n",
       " 'table',\n",
       " 'chair',\n",
       " 'chair',\n",
       " 'table',\n",
       " 'table',\n",
       " 'table',\n",
       " 'table',\n",
       " 'table',\n",
       " 'chair',\n",
       " 'chair']"
      ]
     },
     "execution_count": 24,
     "metadata": {},
     "output_type": "execute_result"
    }
   ],
   "source": [
    "responses = 'ccctcctttttcc'\n",
    "responsesMapping = {'c':'chair','t':'table'}\n",
    "[responsesMapping[curResp] for curResp in responses]\n",
    "\n"
   ]
  }
 ],
 "metadata": {
  "kernelspec": {
   "display_name": "Python 3.8.13 ('psych750')",
   "language": "python",
   "name": "python3"
  },
  "language_info": {
   "codemirror_mode": {
    "name": "ipython",
    "version": 3
   },
   "file_extension": ".py",
   "mimetype": "text/x-python",
   "name": "python",
   "nbconvert_exporter": "python",
   "pygments_lexer": "ipython3",
   "version": "3.8.13"
  },
  "toc": {
   "nav_menu": {},
   "number_sections": true,
   "sideBar": true,
   "skip_h1_title": false,
   "toc_cell": true,
   "toc_position": {
    "height": "526px",
    "left": "0px",
    "right": "1095px",
    "top": "111px",
    "width": "185px"
   },
   "toc_section_display": "block",
   "toc_window_display": true
  },
  "vscode": {
   "interpreter": {
    "hash": "57beecaf6908bae4f97de5e2dc8e8d0311fae5bc989593c172c307d13e31f6e4"
   }
  }
 },
 "nbformat": 4,
 "nbformat_minor": 1
}
