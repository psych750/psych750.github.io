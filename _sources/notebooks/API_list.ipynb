{
 "cells": [
  {
   "cell_type": "markdown",
   "metadata": {},
   "source": [
    "# A list of handy APIs\n",
    "\n",
    "- NASA API: Accesses NASA's studies and imagery - https://api.nasa.gov\n",
    "- OpenWeather API: Weather data. openweathermap.org/api\n",
    "- COVID-19 API: Data from the pandemic. https://covid19api.com\n",
    "- Cloudmersive Image Recognition API: Advanced machine learning for image recognition https://www.cloudmersive.com/image-recognition-and-processing-api\n",
    "- aviationstack API: Real-time data on planes, flights, and airports. https://aviationstack.com\n",
    "- OMDb API: Movie information, content, and images. https://www.omdbapi.com\n",
    "- Unsplash API: Access to high-quality, royalty-free images. https://unsplash.com/developers\n",
    "- YouTube API: Access YouTube’s data and functionality. https://developers.google.com/youtube\n",
    "- Spotify API: Metadata about music and podcasts on Spotify. https://developer.spotify.com\n",
    "- AI/ML APIs: Integrate advanced AI/ML features into applications https://rapidapi.com/hub\n",
    "- IBM Watson Discovery API: Online search content analysis and cognitive skills application. https://www.ibm.com/cloud/watson-discovery\n",
    "- Instagram API - https://developers.facebook.com/docs/instagram-api\n",
    "- Weather.gov API - https://www.weather.gov/documentation/services-web-api\n",
    "- Imgflip API - https://imgflip.com/api\n",
    "- The SportsDB API - https://www.thesportsdb.com/api.php\n",
    "- Crunchbase API - https://data.crunchbase.com/docs\n",
    "- SkyWatch API - https://www.skywatch.com\n",
    "- USGS Earthquakes API - https://earthquake.usgs.gov/fdsnws/event/1\n",
    "- Facebook Graph API - https://developers.facebook.com/docs/graph-api\n"
   ]
  }
 ],
 "metadata": {
  "language_info": {
   "name": "python"
  }
 },
 "nbformat": 4,
 "nbformat_minor": 2
}
