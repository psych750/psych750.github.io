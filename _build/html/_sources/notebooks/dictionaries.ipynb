{
 "cells": [
  {
   "cell_type": "markdown",
   "metadata": {},
   "source": [
    "Dictionaries\n",
    "===\n",
    "Lists allow us to store lists of values in a particular order and are always traversed in some order. **Dictionaries** (also known as hashes) allow us to store bits of information in *no* particular order. For example, you might store a subject id associated with their data, or response codes and their meaning in the context of your experiment."
   ]
  },
  {
   "cell_type": "markdown",
   "metadata": {},
   "source": [
    "What are dictionaries?\n",
    "===\n",
    "Dictionaries are a way to store information that is connected in some way. Dictionaries store information in *key-value* pairs (in analogy to a conventional dictionary where the key would be a word and the value its meaning). In a Python dictionary, `keys` are usually strings, integers, or floats. You cannot use a list or dictionary as a key. Values can be pretty much anything. So you can have a dictionary where keys are strings and values are strings, lists, other dictionaries, or even functions.\n",
    "\n",
    "```{note}\n",
    "**Python dictionaries do not store their information in any particular order, so never assume that you can access it in the order you put it in. Python does make available to you a data-structure called an [Ordered Dictionary](https://www.geeksforgeeks.org/ordereddict-in-python/), so if you want one, use it; don't reinvent the wheel. \n",
    "```"
   ]
  },
  {
   "cell_type": "markdown",
   "metadata": {},
   "source": [
    "General Syntax\n",
    "---\n",
    "A general dictionary in Python looks something like this:"
   ]
  },
  {
   "cell_type": "markdown",
   "metadata": {},
   "source": [
    "```Python\n",
    "dictionary_name = {key_1: value_1, key_2: value_2, key_3: value_3}\n",
    "```"
   ]
  },
  {
   "cell_type": "markdown",
   "metadata": {},
   "source": [
    "Since the keys and values in dictionaries can be long, we often write just one key-value pair on a line. You might see key-value pairs in dictionaries specified like this (although most of the time you will be defining these dynamically in your program rather than hardcoding the assignments):"
   ]
  },
  {
   "cell_type": "code",
   "execution_count": null,
   "metadata": {},
   "outputs": [],
   "source": [
    "dictionary_name = {key_1: value_1,\n",
    "                   key_2: value_2,\n",
    "                   key_3: value_3,\n",
    "                   }"
   ]
  },
  {
   "cell_type": "markdown",
   "metadata": {},
   "source": [
    "This is a bit easier to read, especially if the values are long."
   ]
  },
  {
   "cell_type": "markdown",
   "metadata": {},
   "source": [
    "Example\n",
    "---\n",
    "As our first example, let's use a dictionary that implements a glossary of a few Python terms."
   ]
  },
  {
   "cell_type": "code",
   "execution_count": 2,
   "metadata": {},
   "outputs": [],
   "source": [
    "python_words = {'list': 'a collection of values that are not connected, but have an order.',\n",
    "                'dictionary': 'a collection of key-value pairs.',\n",
    "                'key': 'a named index in a dictionary',\n",
    "                }"
   ]
  },
  {
   "cell_type": "markdown",
   "metadata": {},
   "source": [
    "We can get individual items out of the dictionary, by giving the dictionary's name, and the key in square brackets, much like accessing an element from a list:"
   ]
  },
  {
   "cell_type": "code",
   "execution_count": null,
   "metadata": {},
   "outputs": [],
   "source": []
  },
  {
   "cell_type": "code",
   "execution_count": 6,
   "metadata": {},
   "outputs": [
    {
     "name": "stdout",
     "output_type": "stream",
     "text": [
      "A list is a collection of values that are not connected, but have an order.\n",
      "A dictionary is a collection of key-value pairs.\n"
     ]
    }
   ],
   "source": [
    "python_words = {'list': 'a collection of values that are not connected, but have an order.',\n",
    "                'dictionary': 'a collection of key-value pairs.',\n",
    "                'key': 'a named index in a dictionary',\n",
    "                }\n",
    "\n",
    "print(f\"A list is {python_words['list']}\")\n",
    "print(f\"A dictionary is {python_words['dictionary']}\")"
   ]
  },
  {
   "cell_type": "markdown",
   "metadata": {},
   "source": [
    "This code looks pretty repetitive, and it is. As with lists, we can iterate through dictionaries, but since there are two kinds of information in dictionaries, the structure is a bit more complicated than it is for lists. Here is how to use a `for` loop with a dictionary:"
   ]
  },
  {
   "cell_type": "code",
   "execution_count": 8,
   "metadata": {},
   "outputs": [
    {
     "name": "stdout",
     "output_type": "stream",
     "text": [
      "A list is a collection of values that are not connected, but have an order.\n",
      "A dictionary is a collection of key-value pairs.\n",
      "A key is a named index in a dictionary\n"
     ]
    }
   ],
   "source": [
    "python_words = {'list': 'a collection of values that are not connected, but have an order.',\n",
    "                'dictionary': 'a collection of key-value pairs.',\n",
    "                'key': 'a named index in a dictionary',\n",
    "                }\n",
    "\n",
    "# Print out the items in the dictionary.\n",
    "for word, meaning in python_words.items():\n",
    "    print(f\"A {word} is {meaning}\")\n"
   ]
  },
  {
   "cell_type": "markdown",
   "metadata": {},
   "source": [
    "If we had 100 terms in our dictionary, we would still be able to print them out with just these two lines of code.\n",
    "\n",
    "The only tricky part about using `for` loops with dictionaries is figuring out what to call those first two variables. The general syntax for this `for` loop is:"
   ]
  },
  {
   "cell_type": "markdown",
   "metadata": {},
   "source": [
    "```Python\n",
    "for key, value in dictionary_name.items():\n",
    "    print(key) # The key is stored in whatever you called the first variable.\n",
    "    print(value) # The value associated with that key is stored in your second variable.\n",
    "```"
   ]
  },
  {
   "cell_type": "markdown",
   "metadata": {},
   "source": [
    "Common operations with dictionaries\n",
    "===\n",
    "There are a few common things you will want to do with dictionaries. These include *adding* new key-value pairs, *modifying* information in the dictionary, and (comparatively rarely), *removing* items from dictionaries."
   ]
  },
  {
   "cell_type": "markdown",
   "metadata": {},
   "source": [
    "Adding new key-value pairs\n",
    "---\n",
    "To add a new key-value pair, you give the dictionary name followed by the new key in square brackets, and set that equal to the new value. We will show this by starting with an empty dictionary, and re-creating the dictionary from the example above."
   ]
  },
  {
   "cell_type": "code",
   "execution_count": 9,
   "metadata": {},
   "outputs": [
    {
     "name": "stdout",
     "output_type": "stream",
     "text": [
      "Word is list\n",
      "Meaning a collection of values that are not connected, but have an order.\n",
      "\n",
      "\n",
      "Word is dictionary\n",
      "Meaning a collection of key-value pairs.\n",
      "\n",
      "\n",
      "Word is key\n",
      "Meaning a named index in a dictionary\n",
      "\n",
      "\n"
     ]
    }
   ],
   "source": [
    "# Create an empty dictionary.\n",
    "python_words = {} #note that we define a new dictionary using curly braces, not square brackets.\n",
    "\n",
    "# Fill the dictionary, pair by pair.\n",
    "python_words = {'list': 'a collection of values that are not connected, but have an order.',\n",
    "                'dictionary': 'a collection of key-value pairs.',\n",
    "                'key': 'a named index in a dictionary',\n",
    "                }\n",
    "\n",
    "# Print out the items in the dictionary.\n",
    "for word, meaning in python_words.items():\n",
    "    print(f\"Word is {word}\")\n",
    "    print(f\"Meaning {meaning}\")\n",
    "    print(\"\\n\")\n"
   ]
  },
  {
   "cell_type": "markdown",
   "metadata": {},
   "source": [
    "Modifying values in a dictionary\n",
    "---\n",
    "At some point you may want to modify one of the values in your dictionary. Modifying a value in a dictionary is pretty similar to modifying an element in a list. You give the name of the dictionary and then the key in square brackets, and set that equal to the new value."
   ]
  },
  {
   "cell_type": "code",
   "execution_count": 16,
   "metadata": {},
   "outputs": [
    {
     "name": "stdout",
     "output_type": "stream",
     "text": [
      "a collection of key-value pairs.\n",
      "A collection of key-value pairs. Each key can be used to access its corresponding value.\n"
     ]
    }
   ],
   "source": [
    "python_words = {'list': 'a collection of values that are not connected, but have an order.',\n",
    "                'dictionary': 'a collection of key-value pairs.',\n",
    "                'key': 'a named index in a dictionary',\n",
    "                }\n",
    "\n",
    "print(python_words['dictionary']) #the original definition\n",
    "    \n",
    "# Clarify one of the meanings.\n",
    "python_words['dictionary'] = 'a collection of key-value pairs. Each key can be used to access its corresponding value.'\n",
    "\n",
    "print(python_words['dictionary']) #the clarified definition"
   ]
  },
  {
   "cell_type": "markdown",
   "metadata": {},
   "source": [
    "Removing key-value pairs\n",
    "---\n",
    "You may want to remove some key-value pairs from one of your dictionaries at some point. You can do this using the same `del` command you learned to use with lists. To remove a key-value pair, you give the `del` command, followed by the name of the dictionary, with the key that you want to delete. This removes the key and the value as a pair."
   ]
  },
  {
   "cell_type": "code",
   "execution_count": 29,
   "metadata": {},
   "outputs": [
    {
     "name": "stdout",
     "output_type": "stream",
     "text": [
      "\n",
      "\n",
      "These are some Python words I know:\n",
      "Word: list\n",
      "Meaning: a collection of values that are not connected, but have an order.\n",
      "Word: dictionary\n",
      "Meaning: a collection of key-value pairs.\n",
      "Word: key\n",
      "Meaning: a named index in a dictionary\n",
      "\n",
      "\n",
      "These are the Python words I know:\n",
      "Word: dictionary\n",
      "Meaning: a collection of key-value pairs.\n",
      "Word: key\n",
      "Meaning: a named index in a dictionary\n"
     ]
    }
   ],
   "source": [
    "python_words = {'list': 'a collection of values that are not connected, but have an order.',\n",
    "                'dictionary': 'a collection of key-value pairs.',\n",
    "                'key': 'a named index in a dictionary',\n",
    "                }\n",
    "\n",
    "# Show the current set of words and meanings.\n",
    "print(\"\\n\\nThese are some Python words I know:\")\n",
    "for word, meaning in python_words.items():\n",
    "    print(f\"Word: {word}\")\n",
    "    print(f\"Meaning: {meaning}\")\n",
    "    \n",
    "# Remove the word 'list' and its meaning.\n",
    "del python_words['list']\n",
    "\n",
    "# Show the current set of words and meanings.\n",
    "print(\"\\n\\nThese are the Python words I know:\")\n",
    "for word, meaning in python_words.items():\n",
    "    print(f\"Word: {word}\")\n",
    "    print(f\"Meaning: {meaning}\")\n"
   ]
  },
  {
   "cell_type": "markdown",
   "metadata": {},
   "source": [
    "If you were going to work with this code, you would want to put the code for displaying the dictionary into a function. Let's see what this looks like:"
   ]
  },
  {
   "cell_type": "code",
   "execution_count": 30,
   "metadata": {},
   "outputs": [
    {
     "name": "stdout",
     "output_type": "stream",
     "text": [
      "These are the Python words I know:\n",
      "Word list a collection of values that are not connected, but have an order. \n",
      "\n",
      "Word dictionary a collection of key-value pairs. \n",
      "\n",
      "Word key a named index in a dictionary \n",
      "\n",
      "These are the Python words I know:\n",
      "Word dictionary a collection of key-value pairs. \n",
      "\n",
      "Word key a named index in a dictionary \n",
      "\n"
     ]
    }
   ],
   "source": [
    "def show_words_meanings(python_words):\n",
    "    # This function takes in a dictionary of python words and meanings,\n",
    "    #  and prints out each word with its meaning.\n",
    "    print(\"These are the Python words I know:\")\n",
    "    for word, meaning in python_words.items():\n",
    "        print(f\"Word {word} {meaning} \\n\")\n",
    "        \n",
    "\n",
    "python_words = {'list': 'a collection of values that are not connected, but have an order.',\n",
    "                'dictionary': 'a collection of key-value pairs.',\n",
    "                'key': 'a named index in a dictionary',\n",
    "                }\n",
    "\n",
    "show_words_meanings(python_words)\n",
    "    \n",
    "# Remove the word 'list' and its meaning.\n",
    "del python_words['list']\n",
    "\n",
    "show_words_meanings(python_words)"
   ]
  },
  {
   "cell_type": "markdown",
   "metadata": {},
   "source": [
    "Modifying keys in a dictionary\n",
    "---\n",
    "Modifying a value in a dictionary was straightforward, because nothing else depends on the value. Modifying a key is a little harder, because each key is used to unlock a value. We can change a key in two steps:\n",
    "\n",
    "- Make a new key, and copy the value to the new key.\n",
    "- Delete the old key, which also deletes the old value.\n",
    "\n",
    "Here's what this looks like. We will use a dictionary with just one key-value pair, to keep things simple."
   ]
  },
  {
   "cell_type": "code",
   "execution_count": 21,
   "metadata": {},
   "outputs": [
    {
     "name": "stdout",
     "output_type": "stream",
     "text": [
      "{'list': 'A collection of values that are not connected, but have an order.'}\n"
     ]
    }
   ],
   "source": [
    "# We have a spelling mistake!\n",
    "python_words = {'lisst': 'A collection of values that are not connected, but have an order.'}\n",
    "\n",
    "# Create a new, correct key, and connect it to the old value.\n",
    "#  Then delete the old key.\n",
    "python_words['list'] = python_words['lisst']\n",
    "del python_words['lisst']\n",
    "\n",
    "# Print the dictionary, to show that the key has changed.\n",
    "print(python_words)"
   ]
  },
  {
   "cell_type": "markdown",
   "metadata": {},
   "source": [
    "Looping through a dictionary\n",
    "===\n",
    "Since dictionaries are really about connecting bits of information, you will often use them in the ways described above, where you add key-value pairs whenever you receive some new information, and then you retrieve the key-value pairs that you care about. Sometimes, however, you will want to loop through the entire dictionary. There are several ways to do this:\n",
    "\n",
    "- You can loop through all key-value pairs;\n",
    "- You can loop through the keys, and pull out the values for any keys that you care about;\n",
    "- You can loop through the values."
   ]
  },
  {
   "cell_type": "markdown",
   "metadata": {},
   "source": [
    "Looping through all key-value pairs\n",
    "---\n",
    "This is the kind of loop that was shown in the first example. Here's what this loop looks like, in a general format:"
   ]
  },
  {
   "cell_type": "code",
   "execution_count": 36,
   "metadata": {},
   "outputs": [
    {
     "name": "stdout",
     "output_type": "stream",
     "text": [
      "Key: key_1\n",
      "Value: value_1\n",
      "Key: key_2\n",
      "Value: value_2\n",
      "Key: key_3\n",
      "Value: value_3\n"
     ]
    }
   ],
   "source": [
    "my_dict = {'key_1': 'value_1',\n",
    "    'key_2': 'value_2',\n",
    "    'key_3': 'value_3',\n",
    "    }\n",
    "\n",
    "for key, value in my_dict.items():\n",
    "    print(f\"Key: {key}\")\n",
    "    print(f\"Value: {value}\")"
   ]
  },
  {
   "cell_type": "markdown",
   "metadata": {},
   "source": [
    "This works because the method `.items()` pulls all key-value pairs from a dictionary into a list of tuples:"
   ]
  },
  {
   "cell_type": "code",
   "execution_count": 37,
   "metadata": {},
   "outputs": [
    {
     "name": "stdout",
     "output_type": "stream",
     "text": [
      "dict_items([('key_1', 'value_1'), ('key_2', 'value_2'), ('key_3', 'value_3')])\n"
     ]
    }
   ],
   "source": [
    "my_dict = {'key_1': 'value_1',\n",
    "    'key_2': 'value_2',\n",
    "    'key_3': 'value_3',\n",
    "    }\n",
    "\n",
    "print(my_dict.items())"
   ]
  },
  {
   "cell_type": "markdown",
   "metadata": {},
   "source": [
    "The syntax `for key, value in my_dict.items():` does the work of looping through this list of tuples, and pulling the first and second item from each tuple for us.\n",
    "\n",
    "There is nothing special about any of these variable names, so Python code that uses this syntax becomes really readable. Rather than create a new example of this loop, let's just look at the original example again to see this in a meaningful context:"
   ]
  },
  {
   "cell_type": "code",
   "execution_count": 38,
   "metadata": {},
   "outputs": [
    {
     "name": "stdout",
     "output_type": "stream",
     "text": [
      "Word: list\n",
      "Meaning: A collection of values that are not connected, but have an order. \n",
      "\n",
      "Word: dictionary\n",
      "Meaning: A collection of key-value pairs. \n",
      "\n",
      "Word: function\n",
      "Meaning: A named set of instructions that defines a set of actions in Python. \n",
      "\n"
     ]
    }
   ],
   "source": [
    "python_words = {'list': 'A collection of values that are not connected, but have an order.',\n",
    "                'dictionary': 'A collection of key-value pairs.',\n",
    "                'function': 'A named set of instructions that defines a set of actions in Python.',\n",
    "                }\n",
    "\n",
    "for word, meaning in python_words.items():\n",
    "    print(f\"Word: {word}\")\n",
    "    print(f\"Meaning: {meaning} \\n\")"
   ]
  },
  {
   "cell_type": "markdown",
   "metadata": {},
   "source": [
    "Looping through all keys in a dictionary\n",
    "---\n",
    "Python provides a clear syntax for looping through just the keys in a dictionary:"
   ]
  },
  {
   "cell_type": "code",
   "execution_count": 39,
   "metadata": {},
   "outputs": [
    {
     "name": "stdout",
     "output_type": "stream",
     "text": [
      "Key: key_1\n",
      "Key: key_2\n",
      "Key: key_3\n"
     ]
    }
   ],
   "source": [
    "my_dict = {'key_1': 'value_1',\n",
    "    'key_2': 'value_2',\n",
    "    'key_3': 'value_3',\n",
    "    }\n",
    "\n",
    "for key in my_dict.keys():\n",
    "    print(f\"Key: {key}\")"
   ]
  },
  {
   "cell_type": "markdown",
   "metadata": {},
   "source": [
    "This is actually the default behavior of looping through the dictionary itself. So you can leave out the `.keys()` part, and get the exact same behavior:"
   ]
  },
  {
   "cell_type": "code",
   "execution_count": 40,
   "metadata": {},
   "outputs": [
    {
     "name": "stdout",
     "output_type": "stream",
     "text": [
      "Key: key_1\n",
      "Key: key_2\n",
      "Key: key_3\n"
     ]
    }
   ],
   "source": [
    "my_dict = {'key_1': 'value_1',\n",
    "    'key_2': 'value_2',\n",
    "    'key_3': 'value_3',\n",
    "    }\n",
    "\n",
    "for key in my_dict:\n",
    "    print(f\"Key: {key}\")"
   ]
  },
  {
   "cell_type": "markdown",
   "metadata": {},
   "source": [
    "The only advantage of using the `.keys()` in the code is a little bit of clarity. But anyone who knows Python reasonably well is going to recognize what the second version does. In the rest of our code, we will leave out the `.keys()` when we want this behavior.\n",
    "\n",
    "You can pull out the value of any key that you are interested in within your loop, using the standard notation for accessing a dictionary value from a key:"
   ]
  },
  {
   "cell_type": "code",
   "execution_count": 51,
   "metadata": {},
   "outputs": [
    {
     "name": "stdout",
     "output_type": "stream",
     "text": [
      "Current key is: key_1\n",
      "Current key is: key_2\n",
      "  Got it! The value for key_2 is spam\n",
      "Current key is: key_3\n"
     ]
    }
   ],
   "source": [
    "my_dict = {'key_1': 'ham',\n",
    "    'key_2': 'spam',\n",
    "    'key_3': 'pam',\n",
    "    }\n",
    "\n",
    "for key in my_dict:\n",
    "    print(f\"Current key is: {key}\") \n",
    "    if my_dict[key] == 'spam':\n",
    "        print(f\"  Got it! The value for {key} is {my_dict[key]}\")"
   ]
  },
  {
   "cell_type": "markdown",
   "metadata": {},
   "source": [
    "Let's show how we might use this in our Python words program. This kind of loop provides a straightforward way to show only the words in the dictionary:"
   ]
  },
  {
   "cell_type": "code",
   "execution_count": 49,
   "metadata": {},
   "outputs": [
    {
     "name": "stdout",
     "output_type": "stream",
     "text": [
      "The following Python words have been defined:\n",
      " -  list\n",
      " -  dictionary\n",
      " -  function\n"
     ]
    }
   ],
   "source": [
    "python_words = {'list': 'A collection of values that are not connected, but have an order.',\n",
    "                'dictionary': 'A collection of key-value pairs.',\n",
    "                'function': 'A named set of instructions that defines a set of actions in Python.',\n",
    "                }\n",
    "\n",
    "# Show the words that are currently in the dictionary.\n",
    "print(\"The following Python words have been defined:\")\n",
    "for word in python_words: # remember, the default behavios is to iterate through the keys.\n",
    "    print(f\" -  {word}\")"
   ]
  },
  {
   "cell_type": "markdown",
   "metadata": {},
   "source": [
    "Looping through all values in a dictionary\n",
    "---\n",
    "Python provides a straightforward syntax for looping through all the values in a dictionary, as well:"
   ]
  },
  {
   "cell_type": "code",
   "execution_count": 52,
   "metadata": {},
   "outputs": [
    {
     "name": "stdout",
     "output_type": "stream",
     "text": [
      "Value value_1\n",
      "Value value_2\n",
      "Value value_3\n"
     ]
    }
   ],
   "source": [
    "my_dict = {'key_1': 'value_1',\n",
    "    'key_2': 'value_2',\n",
    "    'key_3': 'value_3',\n",
    "    }\n",
    "\n",
    "for value in my_dict.values():\n",
    "    print(f\"Current value is {value}\")"
   ]
  },
  {
   "cell_type": "markdown",
   "metadata": {},
   "source": [
    "```{note}\n",
    "All keys in a dictionary must be unique. If you try to create an entry in a dictionary with a key that already exists, you will just overwrite the previous key. Values need not be unique. What this means it that when you iterate through keys, you are assured that each element is unique. If you iterate over the values, as in the example above, there are no assurance about uniqueness. \n",
    "```"
   ]
  },
  {
   "cell_type": "markdown",
   "metadata": {},
   "source": [
    "Looping through a dictionary in order by keys\n",
    "---\n",
    "Dictionaries are useful because they allow bits of information to be connected. When you print a dictionary, it may look like the keys are stored in a particular order. They are not and this order will vary from one run of the program to the next. Dictionaries are an *unordered* data-type. Sometimes you may want to sort the keys so that they do print (or are otherwise accessed) in a particular order. For alpha-numeric orders, there is a quick and easy way to do this.\n"
   ]
  },
  {
   "cell_type": "code",
   "execution_count": 30,
   "metadata": {},
   "outputs": [
    {
     "name": "stdout",
     "output_type": "stream",
     "text": [
      "list\n",
      "key\n",
      "dictionary\n"
     ]
    }
   ],
   "source": [
    "python_words = {'list': 'a collection of values that are not connected, but have an order.',\n",
    "                'dictionary': 'a collection of key-value pairs.',\n",
    "                'key': 'a named index in a dictionary',\n",
    "                }\n",
    "\n",
    "for word in python_words.keys():\n",
    "    print word "
   ]
  },
  {
   "cell_type": "markdown",
   "metadata": {},
   "source": [
    "The resulting list is not in any particular order. The list of keys can be put in alpha-numeric order by passing the list into the *sorted()* function, in the line that initiates the for loop:"
   ]
  },
  {
   "cell_type": "code",
   "execution_count": 29,
   "metadata": {},
   "outputs": [
    {
     "name": "stdout",
     "output_type": "stream",
     "text": [
      "dictionary\n",
      "key\n",
      "list\n"
     ]
    }
   ],
   "source": [
    "python_words = {'list': 'a collection of values that are not connected, but have an order.',\n",
    "                'dictionary': 'a collection of key-value pairs.',\n",
    "                'key': 'a named index in a dictionary',\n",
    "                }\n",
    "\n",
    "for word in sorted(python_words.keys()):\n",
    "    print word "
   ]
  },
  {
   "cell_type": "markdown",
   "metadata": {},
   "source": [
    "In this example, the keys have been put into alphabetical order in the `for` loop only; Python has not changed the way the dictionary is stored at all. So the next time the dictionary is accessed, the keys could be returned in any order. There is no way to permanently specify an order for the items in an ordinary dictionary, but if you want to do this you can use the [OrderedDict](http://docs.python.org/3.3/library/collections.html#ordereddict-objects) structure."
   ]
  },
  {
   "cell_type": "markdown",
   "metadata": {},
   "source": [
    "```{tip}\n",
    "To sort in reverse order, give sorted() `reverse=True` as an argument \n",
    "```"
   ]
  },
  {
   "cell_type": "markdown",
   "metadata": {},
   "source": [
    "Looping through a dictionary in order by values\n",
    "---\n",
    "Dictionaries are generally accessed by their keys. Sometimes, however, we need to do something like find the largest value or sort its values in a particular order. \n",
    "\n",
    "Finding the largest value is as simple as:"
   ]
  },
  {
   "cell_type": "code",
   "execution_count": 53,
   "metadata": {},
   "outputs": [
    {
     "data": {
      "text/plain": [
       "8"
      ]
     },
     "execution_count": 53,
     "metadata": {},
     "output_type": "execute_result"
    }
   ],
   "source": [
    "my_dictionary = {'item1':3, 'item4':-4, 'item2':2, 'item3':8}\n",
    "max(my_dictionary.values())"
   ]
  },
  {
   "cell_type": "markdown",
   "metadata": {},
   "source": [
    "Sorting by *values* has [various solutions](https://stackoverflow.com/questions/613183/how-do-i-sort-a-dictionary-by-value). Here are two. One that uses only what you've already learned. Another is a more compact and preferred solution that uses the [`operator` Python module](https://docs.python.org/3/library/operator.html). The operator module allows you to use various operators as functions. "
   ]
  },
  {
   "cell_type": "markdown",
   "metadata": {},
   "source": [
    "### Sorting by values: the verbose and inefficient solution"
   ]
  },
  {
   "cell_type": "code",
   "execution_count": 54,
   "metadata": {},
   "outputs": [
    {
     "name": "stdout",
     "output_type": "stream",
     "text": [
      "[('a', 1), ('To', 2), ('and', 3), ('air.', 4), ('body', 4), ('corks', 5), ('Figure', 6), ('Skiing', 6), ('Winter', 6), ('Olympics', 8), ('Skating.', 8), ('Freestyle', 9), ('Pyeongchang,', 12), ('Snowboarding', 12)]\n"
     ]
    }
   ],
   "source": [
    "#this dictionary contains some words and the number of letters they have.\n",
    "dict_for_sorting = {\n",
    " 'Figure': 6,\n",
    " 'Freestyle': 9,\n",
    " 'Olympics': 8,\n",
    " 'Pyeongchang,': 12,\n",
    " 'Skating.': 8,\n",
    " 'Skiing': 6,\n",
    " 'Snowboarding': 12,\n",
    " 'To': 2,\n",
    " 'Winter': 6,\n",
    " 'a': 1,\n",
    " 'air.': 4,\n",
    " 'and': 3,\n",
    " 'body': 4,\n",
    " 'corks': 5}\n",
    "\n",
    "sorted_representation = []\n",
    "temp = []\n",
    "#iterate through dictionary and create a new list (of tuples) that reverses keys and values\n",
    "for key,value in dict_for_sorting.items():\n",
    "    sorted_representation.append((value,key))\n",
    "\n",
    "#sort it\n",
    "sorted_representation = sorted(sorted_representation)\n",
    "\n",
    "#now get the key/value pairs to be as before: key-value instead of value-key\n",
    "for key,value in sorted_representation:\n",
    "    temp.append((value,key))\n",
    "sorted_representation = temp\n",
    "print(sorted_representation)\n"
   ]
  },
  {
   "cell_type": "markdown",
   "metadata": {},
   "source": [
    "### Sorting by values: the compact and efficient solution"
   ]
  },
  {
   "cell_type": "code",
   "execution_count": 18,
   "metadata": {},
   "outputs": [
    {
     "name": "stdout",
     "output_type": "stream",
     "text": [
      "Increasing order: [('a', 1), ('To', 2), ('and', 3), ('air.', 4), ('body', 4), ('corks', 5), ('Figure', 6), ('Skiing', 6), ('Winter', 6), ('Olympics', 8), ('Skating.', 8), ('Freestyle', 9), ('Pyeongchang,', 12), ('Snowboarding', 12)]\n",
      "\n",
      "\n",
      "Decreasing order: [('Pyeongchang,', 12), ('Snowboarding', 12), ('Freestyle', 9), ('Olympics', 8), ('Skating.', 8), ('Figure', 6), ('Skiing', 6), ('Winter', 6), ('corks', 5), ('air.', 4), ('body', 4), ('and', 3), ('To', 2), ('a', 1)]\n"
     ]
    }
   ],
   "source": [
    "import operator\n",
    "\n",
    "dict_for_sorting = {\n",
    " 'Figure': 6,\n",
    " 'Freestyle': 9,\n",
    " 'Olympics': 8,\n",
    " 'Pyeongchang,': 12,\n",
    " 'Skating.': 8,\n",
    " 'Skiing': 6,\n",
    " 'Snowboarding': 12,\n",
    " 'To': 2,\n",
    " 'Winter': 6,\n",
    " 'a': 1,\n",
    " 'air.': 4,\n",
    " 'and': 3,\n",
    " 'body': 4,\n",
    " 'corks': 5}\n",
    "\n",
    "print(f\"Increasing order: {sorted(dict_for_sorting.items(), key=operator.itemgetter(1))}\")\n",
    "print('\\n')\n",
    "print(f\"Decreasing order: {sorted(dict_for_sorting.items(), key=operator.itemgetter(1), reverse=True)}\")"
   ]
  },
  {
   "cell_type": "markdown",
   "metadata": {},
   "source": [
    "```{tip}\n",
    "Try setting key `operator.itemgetter(0)`. What does this do?\n",
    "```"
   ]
  },
  {
   "cell_type": "markdown",
   "metadata": {},
   "source": [
    "Nesting data structures\n",
    "===\n",
    "Nesting is one of the most powerful concepts we have come to so far. Nesting involves putting a list or dictionary inside another list or dictionary. We will look at two examples here, lists inside of a dictionary and dictionaries inside of a dictionary. With nesting, the kind of information we can model in our programs is expanded greatly."
   ]
  },
  {
   "cell_type": "markdown",
   "metadata": {},
   "source": [
    "Lists in a dictionary\n",
    "---\n",
    "A dictionary connects two pieces of information. Those two pieces of information can be any kind of data structure in Python. Let's keep using strings for our keys, but let's try giving a list as a value.\n",
    "\n",
    "The first example will involve storing a number of people's favorite numbers. The keys consist of people's names, and the values are lists of each person's favorite numbers. In this first example, we will access each person's list one at a time."
   ]
  },
  {
   "cell_type": "code",
   "execution_count": 19,
   "metadata": {},
   "outputs": [
    {
     "name": "stdout",
     "output_type": "stream",
     "text": [
      "Eric's favorite numbers are:\n",
      "[3, 11, 19, 23, 42]\n",
      "\n",
      "Ever's favorite numbers are:\n",
      "[2, 4, 5]\n",
      "\n",
      "Willie's favorite numbers are:\n",
      "[5, 35, 120]\n"
     ]
    }
   ],
   "source": [
    "# This program stores people's favorite numbers, and displays them.\n",
    "favorite_numbers = {'eric': [3, 11, 19, 23, 42],\n",
    "                    'ever': [2, 4, 5],\n",
    "                    'willie': [5, 35, 120],\n",
    "                    }\n",
    "\n",
    "# Display each person's favorite numbers.\n",
    "print(\"Eric's favorite numbers are:\")\n",
    "print(favorite_numbers['eric'])\n",
    "\n",
    "print(\"\\nEver's favorite numbers are:\")\n",
    "print(favorite_numbers['ever'])\n",
    "\n",
    "print(\"\\nWillie's favorite numbers are:\")\n",
    "print(favorite_numbers['willie'])"
   ]
  },
  {
   "cell_type": "markdown",
   "metadata": {},
   "source": [
    "We are really just working our way through each key in the dictionary, so let's use a for loop to go through the keys in the dictionary:"
   ]
  },
  {
   "cell_type": "code",
   "execution_count": 20,
   "metadata": {},
   "outputs": [
    {
     "name": "stdout",
     "output_type": "stream",
     "text": [
      "Eric's favorite numbers are:\n",
      "[3, 11, 19, 23, 42]\n",
      "Ever's favorite numbers are:\n",
      "[2, 4, 5]\n",
      "Willie's favorite numbers are:\n",
      "[5, 35, 120]\n"
     ]
    }
   ],
   "source": [
    "# This program stores people's favorite numbers, and displays them.\n",
    "favorite_numbers = {'eric': [3, 11, 19, 23, 42],\n",
    "                    'ever': [2, 4, 5],\n",
    "                    'willie': [5, 35, 120],\n",
    "                    }\n",
    "\n",
    "# Display each person's favorite numbers.\n",
    "for name in favorite_numbers:\n",
    "    print(f\"{name.title()}'s favorite numbers are:\")\n",
    "    print(favorite_numbers[name])"
   ]
  },
  {
   "cell_type": "markdown",
   "metadata": {},
   "source": [
    "This structure is fairly complex, so don't worry if it takes a while for things to sink in. The dictionary itself probably makes sense; each person is connected to a list of their favorite numbers.\n",
    "\n",
    "This works, but we'd rather not print raw Python in our output. Let's use a for loop to print the favorite numbers individually, rather than in a Python list."
   ]
  },
  {
   "cell_type": "code",
   "execution_count": 22,
   "metadata": {},
   "outputs": [
    {
     "name": "stdout",
     "output_type": "stream",
     "text": [
      "Eric's favorite numbers are:\n",
      "3\n",
      "11\n",
      "19\n",
      "23\n",
      "42\n",
      "Ever's favorite numbers are:\n",
      "2\n",
      "4\n",
      "5\n",
      "Willie's favorite numbers are:\n",
      "5\n",
      "35\n",
      "120\n"
     ]
    }
   ],
   "source": [
    "# This program stores people's favorite numbers, and displays them.\n",
    "favorite_numbers = {'eric': [3, 11, 19, 23, 42],\n",
    "                    'ever': [2, 4, 5],\n",
    "                    'willie': [5, 35, 120],\n",
    "                    }\n",
    "\n",
    "# Display each person's favorite numbers.\n",
    "for name in favorite_numbers:\n",
    "    print(f\"{name.title()}'s favorite numbers are:\")\n",
    "    # Each value is itself a list, so we need another for loop to unroll each list\n",
    "    for favorite_number in favorite_numbers[name]:\n",
    "        print(favorite_number)"
   ]
  },
  {
   "cell_type": "markdown",
   "metadata": {},
   "source": [
    "Things get a little more complicated inside the `for` loop. The value is a list of favorite numbers, so the `for` loop pulls each *favorite\\_number* out of the list one at a time. If it makes more sense to you, you are free to store the list in a new variable, and use that to define your `for` loop:\n"
   ]
  },
  {
   "cell_type": "code",
   "execution_count": 56,
   "metadata": {},
   "outputs": [
    {
     "name": "stdout",
     "output_type": "stream",
     "text": [
      "Eric's favorite numbers are:\n",
      "3\n",
      "11\n",
      "19\n",
      "23\n",
      "42\n",
      "Ever's favorite numbers are:\n",
      "2\n",
      "4\n",
      "5\n",
      "Willie's favorite numbers are:\n",
      "5\n",
      "35\n",
      "120\n"
     ]
    }
   ],
   "source": [
    "# This program stores people's favorite numbers, and displays them.\n",
    "favorite_numbers = {'eric': [3, 11, 19, 23, 42],\n",
    "                    'ever': [2, 4, 5],\n",
    "                    'willie': [5, 35, 120],\n",
    "                    }\n",
    "\n",
    "# Display each person's favorite numbers.\n",
    "for name in favorite_numbers:\n",
    "    print(f\"{name.title()}'s favorite numbers are:\")\n",
    "    for favorite_number in favorite_numbers[name]:\n",
    "        print(favorite_number)"
   ]
  },
  {
   "cell_type": "markdown",
   "metadata": {},
   "source": [
    "Dictionaries in a dictionary\n",
    "---\n",
    "The most powerful nesting concept we will cover right now is nesting a dictionary inside of a dictionary.\n",
    "\n",
    "To demonstrate this, let's make a dictionary of pets, with some information about each pet. The keys for this dictionary will consist of the pet's name. The values will include information such as the kind of animal, the owner, and whether the pet has been vaccinated."
   ]
  },
  {
   "cell_type": "code",
   "execution_count": 64,
   "metadata": {},
   "outputs": [
    {
     "name": "stdout",
     "output_type": "stream",
     "text": [
      "Here is what I know about Willie:\n",
      "kind: dog\n",
      "owner: dog\n",
      "vaccinated: True\n",
      "\n",
      "\n",
      "Here is what I know about Walter:\n",
      "kind: cockroach\n",
      "owner: cockroach\n",
      "vaccinated: False\n",
      "\n",
      "\n",
      "Here is what I know about Peso:\n",
      "kind: dog\n",
      "owner: dog\n",
      "vaccinated: True\n",
      "\n",
      "\n"
     ]
    }
   ],
   "source": [
    "# This program stores information about pets. For each pet,\n",
    "#   we store the kind of animal, the owner's name, and\n",
    "#   the breed.\n",
    "pets = {'willie': {'kind': 'dog', 'owner': 'eric', 'vaccinated': True},\n",
    "        'walter': {'kind': 'cockroach', 'owner': 'eric', 'vaccinated': False},\n",
    "        'peso': {'kind': 'dog', 'owner': 'chloe', 'vaccinated': True},\n",
    "        }\n",
    "\n",
    "# Let's show all the information for each pet.\n",
    "print(\"Here is what I know about Willie:\")\n",
    "print(f\"kind: {pets['willie']['kind']}\")\n",
    "print(f\"owner: {pets['willie']['kind']}\")\n",
    "print(f\"vaccinated: {pets['willie']['vaccinated']}\")\n",
    "print('\\n')\n",
    "\n",
    "print(\"Here is what I know about Walter:\")\n",
    "print(f\"kind: {pets['walter']['kind']}\")\n",
    "print(f\"owner: {pets['walter']['kind']}\")\n",
    "print(f\"vaccinated: {pets['walter']['vaccinated']}\")\n",
    "print('\\n')\n",
    "\n",
    "print(\"Here is what I know about Peso:\")\n",
    "print(f\"kind: {pets['peso']['kind']}\")\n",
    "print(f\"owner: {pets['peso']['kind']}\")\n",
    "print(f\"vaccinated: {pets['peso']['vaccinated']}\")\n",
    "print('\\n')\n"
   ]
  },
  {
   "cell_type": "markdown",
   "metadata": {},
   "source": [
    "Clearly this is *really* repetitive code, but it shows exactly how we access information in a nested dictionary. In the first set of `print` statements, we use the name 'willie' to unlock the 'kind' of animal he is, the 'owner' he has, and whether or not he is 'vaccinated'. We have to wrap the vaccination value in the `str` function so that Python knows we want the words 'True' and 'False', not the values `True` and `False`. We then do the same thing for each animal.\n",
    "\n",
    "Let's rewrite this program, using a `for` loop to go through the dictionary's keys:"
   ]
  },
  {
   "cell_type": "code",
   "execution_count": 67,
   "metadata": {},
   "outputs": [
    {
     "name": "stdout",
     "output_type": "stream",
     "text": [
      "Here is what I know about Willie\n",
      "kind: dog\n",
      "owner: eric\n",
      "vaccinated: True\n",
      "\n",
      "\n",
      "Here is what I know about Walter\n",
      "kind: cockroach\n",
      "owner: eric\n",
      "vaccinated: False\n",
      "\n",
      "\n",
      "Here is what I know about Peso\n",
      "kind: dog\n",
      "owner: chloe\n",
      "vaccinated: True\n",
      "\n",
      "\n"
     ]
    }
   ],
   "source": [
    "# This program stores information about pets. For each pet,\n",
    "#   we store the kind of animal, the owner's name, and\n",
    "#   the breed.\n",
    "pets = {'willie': {'kind': 'dog', 'owner': 'eric', 'vaccinated': True},\n",
    "        'walter': {'kind': 'cockroach', 'owner': 'eric', 'vaccinated': False},\n",
    "        'peso': {'kind': 'dog', 'owner': 'chloe', 'vaccinated': True},\n",
    "        }\n",
    "\n",
    "# Let's show all the information for each pet.\n",
    "for pet_name, pet_information in pets.items():\n",
    "    print(f\"Here is what I know about {pet_name.title()}\")\n",
    "    print(f\"kind: {pet_information['kind']}\")\n",
    "    print(f\"owner: {pet_information['owner']}\")\n",
    "    print(f\"vaccinated: {pet_information['vaccinated']}\")\n",
    "    print('\\n')"
   ]
  },
  {
   "cell_type": "markdown",
   "metadata": {},
   "source": [
    "This code is much shorter and easier to maintain. But even this code will not keep up with our dictionary. If we add more kinds of information to the dictionary (i.e., additional keys), we will have to update our print statements. Let's put a second `for` loop inside the first loop in order to run through all the information about each pet:"
   ]
  },
  {
   "cell_type": "code",
   "execution_count": 71,
   "metadata": {},
   "outputs": [
    {
     "name": "stdout",
     "output_type": "stream",
     "text": [
      "\n",
      "Here is what I know about Willie\n",
      "kind : dog\n",
      "owner : eric\n",
      "vaccinated : True\n",
      "\n",
      "Here is what I know about Walter\n",
      "kind : cockroach\n",
      "owner : eric\n",
      "vaccinated : False\n",
      "\n",
      "Here is what I know about Peso\n",
      "kind : dog\n",
      "owner : chloe\n",
      "vaccinated : True\n"
     ]
    }
   ],
   "source": [
    "# This program stores information about pets. For each pet,\n",
    "#   we store the kind of animal, the owner's name, and\n",
    "#   the breed.\n",
    "pets = {'willie': {'kind': 'dog', 'owner': 'eric', 'vaccinated': True},\n",
    "        'walter': {'kind': 'cockroach', 'owner': 'eric', 'vaccinated': False},\n",
    "        'peso': {'kind': 'dog', 'owner': 'chloe', 'vaccinated': True},\n",
    "        }\n",
    "\n",
    "# Let's show all the information for each pet.\n",
    "for pet_name, pet_information in pets.items():\n",
    "    print(f\"\\nHere is what I know about {pet_name.title()}\")\n",
    "    # Each animal's dictionary is in 'information'\n",
    "    for key in pet_information:\n",
    "        print(f\"{key} : {pet_information[key]}\")"
   ]
  },
  {
   "cell_type": "markdown",
   "metadata": {},
   "source": [
    "This nested loop can look pretty complicated, so again, don't worry if it doesn't make sense at first. Let's go through it one bit at a time.\n",
    "\n",
    "- The first loop gives us all the keys in the main dictionary, which consist of the name of each pet.\n",
    "- Each of these names can be used to 'unlock' the dictionary of each pet.\n",
    "- The inner loop goes through the dictionary for that individual pet, and pulls out all of the keys in that individual pet's dictionary.\n",
    "- We print the key, which tells us the kind of information we are about to see, and the value for that key.\n",
    "- You can see that we could improve the formatting in the output.\n",
    "    - We could capitalize the owner's name.\n",
    "    - We could print some special message about the vaccination status\n",
    "    \n",
    "Let's show one last version that uses some if statements to clean up our data for printing:"
   ]
  },
  {
   "cell_type": "code",
   "execution_count": 68,
   "metadata": {},
   "outputs": [
    {
     "name": "stdout",
     "output_type": "stream",
     "text": [
      "\n",
      "Here is what I know about Willie\n",
      "kind: dog\n",
      "owner: Eric\n",
      "is vaccinated!\n",
      "\n",
      "Here is what I know about Walter\n",
      "kind: cockroach\n",
      "owner: Eric\n",
      "is not vaccinated!\n",
      "\n",
      "Here is what I know about Peso\n",
      "kind: dog\n",
      "owner: Chloe\n",
      "is vaccinated!\n"
     ]
    }
   ],
   "source": [
    "# This program stores information about pets. For each pet,\n",
    "#   we store the kind of animal, the owner's name, and\n",
    "#   the breed.\n",
    "pets = {'willie': {'kind': 'dog', 'owner': 'eric', 'vaccinated': True},\n",
    "        'walter': {'kind': 'cockroach', 'owner': 'eric', 'vaccinated': False},\n",
    "        'peso': {'kind': 'dog', 'owner': 'chloe', 'vaccinated': True},\n",
    "        }\n",
    "\n",
    "# Let's show all the information for each pet.\n",
    "for pet_name, pet_information in pets.items():\n",
    "    print(f\"\\nHere is what I know about {pet_name.title()}\")\n",
    "    # Each animal's dictionary is in pet_information\n",
    "    for key in pet_information:\n",
    "        if key == 'owner':\n",
    "            # Capitalize the owner's name.\n",
    "            print(f\"{key}: {pet_information[key].title()}\")\n",
    "        elif key == 'vaccinated':\n",
    "            # Print 'yes' for True, and 'no' for False.\n",
    "            if pet_information['vaccinated']:\n",
    "                print(\"is vaccinated!\")\n",
    "            else:\n",
    "                print(\"is not vaccinated!\")\n",
    "        else:\n",
    "            # No special formatting needed for this key.\n",
    "            print(f\"{key}: {pet_information[key]}\")"
   ]
  },
  {
   "cell_type": "markdown",
   "metadata": {},
   "source": [
    "This code is a lot longer, and now we have nested if statements as well as nested for loops. But keep in mind, this structure would work if there were 1000 pets in our dictionary, and it would work if we were storing 1000 pieces of information about each pet. One level of nesting lets us model an incredible variety of information."
   ]
  },
  {
   "cell_type": "markdown",
   "metadata": {},
   "source": [
    "An important note about nesting\n",
    "---\n",
    "While one level of nesting is really useful, nesting much deeper than that gets quickly complicated. There are other structures such as classes which can be even more useful for modeling information. In addition to this, we can use Python to store information in a database, which is the proper tool for storing deeply nested information.\n",
    "\n",
    "Oftentimes when you are storing information in a database you will pull a small set of that information out and put it into a dictionary, or a slightly nested structure, and then work with it. But you will rarely, if ever, work with Python data structures nested more than one level deep."
   ]
  },
  {
   "cell_type": "markdown",
   "metadata": {},
   "source": [
    "Using dictionaries in experiment design: some examples\n",
    "===\n",
    "\n",
    "What are some real-world examples of using dictionaries in your experiment?\n",
    "\n",
    "Recall part 7-8 of [Exercise 2](http://sapir.psych.wisc.edu/programming_for_psychologists/notebooks/Exercise2-names.html). The information entered into the pop-up boxes is stored in... a dictionary! When you execute the statements \n",
    "\n",
    "```Python\n",
    "userVar = {'Name':'Enter your name'}\n",
    "dlg = gui.DlgFromDict(userVar)\n",
    "```\n",
    "\n",
    "You are creating a dictionary named `userVar` and then setting the Name key in the dictionary with the value the user enters into the box. The userVar can have multiple keys, e.g.\n",
    "\n",
    "```Python\n",
    "userVar = {'Name':'Enter your name', 'Age':'Enter your age'}\n",
    "dlg = gui.DlgFromDict(userVar)\n",
    "```\n",
    "\n",
    "See [here](http://sapir.psych.wisc.edu/programming_for_psychologists/notebooks/Psychopy_reference.html#Easy-way-to-get-runtime-variables) for how to extend this general approach to a more real-world situation.\n"
   ]
  },
  {
   "cell_type": "markdown",
   "metadata": {},
   "source": [
    "Here is another example in which we check whether the received response is equal to the correctResponse. Assume that correct_response is set to 'match' or 'mismatch'"
   ]
  },
  {
   "cell_type": "code",
   "execution_count": null,
   "metadata": {},
   "outputs": [],
   "source": [
    "response_mapping = {'z':'match', 'slash':'mismatch'}\n",
    "\n",
    "if response_mapping[response_received] == correct_response:\n",
    "    isRight=1\n",
    "else:\n",
    "    isRight=0"
   ]
  },
  {
   "cell_type": "markdown",
   "metadata": {},
   "source": [
    "Suppose we want to have a counterbalancing variable such that people assigned to the *matchLeft* condition response with 'z' as match and 'slash' as mismatch while people assigned to the *matchRight* condition have the response keys reversed. We could do if/else statements, but dictionaries provide a more elegant and more extendible solution:"
   ]
  },
  {
   "cell_type": "code",
   "execution_count": null,
   "metadata": {},
   "outputs": [],
   "source": [
    "response_mapping = {\n",
    "                    'matchLeft': {'z':'match', 'slash':'mismatch'},\n",
    "                    'matchRight': {'z':'mismatch', 'slash':'match'}}\n",
    "\n",
    "whichMatch = 'matchLeft' #this would be ordinarily set at experiment runtime\n",
    "response_received = event.waitKeys(keyList = response_mapping[whichMatch].keys())\n",
    "\n",
    "if response_mapping[whichMatch][response_received] == correct_response:\n",
    "    isRight=1\n",
    "else:\n",
    "    isRight=0Given the following dictionary, find the mean value of the keys that begin with a vowel.\n",
    "\n",
    "```Python\n",
    "a_dict = \n",
    "{'--': 2,\n",
    " 'Air': 3,\n",
    " 'At': 2,\n",
    " 'Big': 3,\n",
    " 'But': 3,\n",
    " 'Figure': 6,\n",
    " 'Freestyle': 9,\n",
    " 'Olympics': 8,\n",
    " 'Pyeongchang,': 12,\n",
    " 'Skating.': 8,\n",
    " 'Skiing': 6,\n",
    " 'Snowboarding': 12,\n",
    " 'To': 2,\n",
    " 'Winter': 6,\n",
    " 'a': 1,\n",
    " 'air.': 4,\n",
    " 'and': 3,\n",
    " 'body': 4,\n",
    " 'corks': 5,\n",
    " 'do': 2,\n",
    " 'four': 4,\n",
    " 'got': 3,\n",
    " 'have': 4,\n",
    " 'in': 2,\n",
    " 'jumps': 5,\n",
    " 'less': 4,\n",
    " 'limit': 5,\n",
    " 'may': 3,\n",
    " 'of': 2,\n",
    " 'or': 2,\n",
    " 'possible?': 9,\n",
    " 'quad': 4,\n",
    " 'quad,': 5,\n",
    " 'reached': 7,\n",
    " 'second': 6,\n",
    " 'see': 3,\n",
    " \"skater's\": 8,\n",
    " 'than': 4,\n",
    " 'the': 3,\n",
    " 'their': 5,\n",
    " 'this': 4,\n",
    " 'times': 5,\n",
    " 'to': 2,\n",
    " 'turn': 4,\n",
    " 'twists': 6,\n",
    " 'we': 2,\n",
    " \"we'll\": 5,\n",
    " \"what's\": 6,\n",
    " \"year's\": 6}\n",
    "```\n",
    "\n",
    " Here's some code to help get you started:"
   ]
  },
  {
   "cell_type": "markdown",
   "metadata": {},
   "source": [
    "# Dictionary Exercises"
   ]
  },
  {
   "cell_type": "markdown",
   "metadata": {},
   "source": [
    "## Selective dictionary access"
   ]
  },
  {
   "cell_type": "markdown",
   "metadata": {},
   "source": [
    "Given the following dictionary, find the mean value of the keys that begin with a vowel.\n",
    "\n",
    "```Python\n",
    "a_dict = \n",
    "{'--': 2,\n",
    " 'Air': 3,\n",
    " 'At': 2,\n",
    " 'Big': 3,\n",
    " 'But': 3,\n",
    " 'Figure': 6,\n",
    " 'Freestyle': 9,\n",
    " 'Olympics': 8,\n",
    " 'Pyeongchang,': 12,\n",
    " 'Skating.': 8,\n",
    " 'Skiing': 6,\n",
    " 'Snowboarding': 12,\n",
    " 'To': 2,\n",
    " 'Winter': 6,\n",
    " 'a': 1,\n",
    " 'air.': 4,\n",
    " 'and': 3,\n",
    " 'body': 4,\n",
    " 'corks': 5,\n",
    " 'do': 2,\n",
    " 'four': 4,\n",
    " 'got': 3,\n",
    " 'have': 4,\n",
    " 'in': 2,\n",
    " 'jumps': 5,\n",
    " 'less': 4,\n",
    " 'limit': 5,\n",
    " 'may': 3,\n",
    " 'of': 2,\n",
    " 'or': 2,\n",
    " 'possible?': 9,\n",
    " 'quad': 4,\n",
    " 'quad,': 5,\n",
    " 'reached': 7,\n",
    " 'second': 6,\n",
    " 'see': 3,\n",
    " \"skater's\": 8,\n",
    " 'than': 4,\n",
    " 'the': 3,\n",
    " 'their': 5,\n",
    " 'this': 4,\n",
    " 'times': 5,\n",
    " 'to': 2,\n",
    " 'turn': 4,\n",
    " 'twists': 6,\n",
    " 'we': 2,\n",
    " \"we'll\": 5,\n",
    " \"what's\": 6,\n",
    " \"year's\": 6}\n",
    "```\n",
    "\n",
    " Here's some code to help get you started:"
   ]
  },
  {
   "cell_type": "code",
   "execution_count": 2,
   "metadata": {},
   "outputs": [
    {
     "name": "stdout",
     "output_type": "stream",
     "text": [
      "4.5\n"
     ]
    }
   ],
   "source": [
    "import numpy as np\n",
    "\n",
    "def isVowel(letter):\n",
    "    return letter in ['a','e','i','o','u']\n",
    "\n",
    "def isVowelOnset(string):\n",
    "    return isVowel(string[0])\n",
    "\n",
    "#to find a mean of a list, use the mean() function from the numpy library\n",
    "print np.mean(range(10))\n",
    "#it is commonly imported as np so that you can type np.mean() instead of numpy.mean()"
   ]
  },
  {
   "cell_type": "markdown",
   "metadata": {},
   "source": [
    "<div class=\"alert alert-block alert-info\">\n",
    "Note that by taking advantage of statements that already return True/False values, the code above avoids having to write constructions like: if X return True, else return Y.\n",
    "</div>"
   ]
  },
  {
   "cell_type": "markdown",
   "metadata": {},
   "source": [
    "### Selective access continued\n",
    "\n",
    "Now do the same for consonants\n",
    "\n",
    "<div class=\"alert alert-block alert-info\">\n",
    "Hint: You don't need to write separate isConsonant/isConsonantOnset functions!</div>\n"
   ]
  },
  {
   "cell_type": "markdown",
   "metadata": {},
   "source": [
    "## Letter counts\n",
    "\n",
    "Complete the implementation of the function `letter_counts()` which receives a string as input and returns a dictionary with (lowercase) letters as keys and their respective counts as values."
   ]
  },
  {
   "cell_type": "code",
   "execution_count": 3,
   "metadata": {},
   "outputs": [],
   "source": [
    "def letter_counts(string):\n",
    "    letter_sums = {}\n",
    "    letters = [letter for letter in string.lower() if c.isalpha()]\n",
    "    for curLetter in letters:\n",
    "        pass\n",
    "    \n",
    "    return letter_sums\n",
    "\n",
    "#Replace pass with appropriate code to make the function work. You only need a couple lines of code."
   ]
  },
  {
   "cell_type": "markdown",
   "metadata": {},
   "source": [
    "### Test your letter_counts function"
   ]
  },
  {
   "cell_type": "code",
   "execution_count": 4,
   "metadata": {},
   "outputs": [
    {
     "ename": "SyntaxError",
     "evalue": "invalid syntax (<ipython-input-4-76dfd1babd1c>, line 2)",
     "output_type": "error",
     "traceback": [
      "\u001b[0;36m  File \u001b[0;32m\"<ipython-input-4-76dfd1babd1c>\"\u001b[0;36m, line \u001b[0;32m2\u001b[0m\n\u001b[0;31m    ```\u001b[0m\n\u001b[0m       ^\u001b[0m\n\u001b[0;31mSyntaxError\u001b[0m\u001b[0;31m:\u001b[0m invalid syntax\n"
     ]
    }
   ],
   "source": [
    "letter_counts(\"Complete the implementation of the function. `letter_counts()` receives a string as input and returns a dictionary with (lowercase) letters and their respective counts. The keys are the letters and the counts are how many times a given letter occurred.\")\n",
    "```\n",
    "{'a': 12, 'c': 10, 'e': 32, 'd': 4, 'g': 1, 'f': 1, 'i': 12, 'h': 7, 'k': 0, 'm': 4, 'l': 6, 'o': 10, 'n': 15, 'p': 3, 's': 12, 'r': 15, 'u': 6, 't': 27, 'w': 2, 'v': 2, 'y': 2}\n",
    "```"
   ]
  },
  {
   "cell_type": "markdown",
   "metadata": {},
   "source": [
    "## Given a string, find the n most/least frequent letters in it"
   ]
  },
  {
   "cell_type": "code",
   "execution_count": null,
   "metadata": {},
   "outputs": [],
   "source": [
    "\n",
    "def most_frequent(string,n):\n",
    "    pass\n",
    "\n",
    "def least_frequent(string,n):\n",
    "    pass"
   ]
  },
  {
   "cell_type": "markdown",
   "metadata": {},
   "source": [
    "### Test most_frequent() and least_frequent() "
   ]
  },
  {
   "cell_type": "code",
   "execution_count": null,
   "metadata": {},
   "outputs": [],
   "source": [
    "a_string = \"At this year's Winter Olympics in Pyeongchang, we may see quad corks in Big Air Snowboarding or in Freestyle Skiing -- and we'll see quad twists and quad jumps in Figure Skating. But have we reached the limit of what's possible? To do a quad, a skater's got less than a second to turn their body four times in the air.\"\n",
    "\n",
    ">most_frequent(a_string,3)\n",
    "#should return [('e', 24), ('a', 21), ('i', 21)]\n",
    "\n",
    ">least_frequent(a_string,4)\n",
    "# should return [('j', 0), ('v', 0), ('f', 3)]"
   ]
  },
  {
   "cell_type": "markdown",
   "metadata": {},
   "source": [
    "## Bonus: Calculate most/least frequent letters in words beginning with consonants or vowels"
   ]
  },
  {
   "cell_type": "markdown",
   "metadata": {},
   "source": [
    "Implement `most_frequent2()` which makes the following function-called produce the desired results:\n",
    "\n",
    "```Python\n",
    "def most_frequent2(string,n):\n",
    "''' Given a string, return the n most frequent letters occurring in words beginning with vowels.\n",
    "'''\n",
    "    pass\n",
    "\n",
    "def least_frequent2(string,n):\n",
    "''' Given a string, return the n least frequent letters occurring in words beginning with vowels\n",
    "'''\n",
    "    pass\n",
    "```\n"
   ]
  },
  {
   "cell_type": "markdown",
   "metadata": {},
   "source": [
    "### Test most_frequent2() and least_frequent2()"
   ]
  },
  {
   "cell_type": "code",
   "execution_count": null,
   "metadata": {},
   "outputs": [],
   "source": [
    "a_string = \"At this year's Winter Olympics in Pyeongchang, we may see quad corks in Big Air Snowboarding or in Freestyle Skiing -- and we'll see quad twists and quad jumps in Figure Skating. But have we reached the limit of what's possible? To do a quad, a skater's got less than a second to turn their body four times in the air.\"\n",
    "\n",
    "most_frequent2(a_string,3)\n",
    "#should return [('n', 6), ('a', 5), ('i', 5)]\n",
    "\n",
    "least_frequent2(a_string,3)\n",
    "#should return [('f', 0), ('d', 1), ('o', 1)]"
   ]
  }
 ],
 "metadata": {
  "kernelspec": {
   "display_name": "Python 3",
   "language": "python",
   "name": "python3"
  },
  "language_info": {
   "codemirror_mode": {
    "name": "ipython",
    "version": 3
   },
   "file_extension": ".py",
   "mimetype": "text/x-python",
   "name": "python",
   "nbconvert_exporter": "python",
   "pygments_lexer": "ipython3",
   "version": "3.9.4"
  },
  "name": "_merged",
  "toc": {
   "nav_menu": {},
   "number_sections": true,
   "sideBar": true,
   "skip_h1_title": false,
   "toc_cell": true,
   "toc_position": {
    "height": "570px",
    "left": "0px",
    "right": "967px",
    "top": "111px",
    "width": "313px"
   },
   "toc_section_display": "block",
   "toc_window_display": true
  }
 },
 "nbformat": 4,
 "nbformat_minor": 1
}
