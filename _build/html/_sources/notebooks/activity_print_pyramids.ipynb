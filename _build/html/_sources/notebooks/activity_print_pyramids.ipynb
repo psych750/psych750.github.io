{
 "cells": [
  {
   "cell_type": "markdown",
   "metadata": {},
   "source": [
    "# Let's warm up them neurons\n"
   ]
  },
  {
   "cell_type": "markdown",
   "metadata": {},
   "source": [
    "Now that we've gotten your environment all set up, let's switch gears and do some actual coding."
   ]
  },
  {
   "cell_type": "markdown",
   "metadata": {},
   "source": [
    "1. Write a `for` loop to print out the numbers 0 through 5\n",
    "2. Write a `for` loop to print out the numbers 2 through 8. Now do another one to print 9 through 0 (i.e., backwards)\n",
    "     :::{tip}\n",
    "     Use help(range) to see some other things you can do with the range function\n",
    "     :::\n",
    "3. Given the list ['one', 'two','three','four'], write code that will print: 'one and a two and a three and a four'\n",
    "4. Write a bit of code using `for` loop(s) that prints out the following sequence:\n",
    "     :::\n",
    "     1\n",
    "     12\n",
    "     123\n",
    "     1234\n",
    "     12345\n",
    "     :::\n",
    "\n",
    "     :::{note}\n",
    "     This one's may be challenging to people who have not programmed before. Give it a try on your own. If you're having trouble, turn to your neighbor and talk about how to solve it.\n",
    "     :::\n",
    "     :::{tip}\n",
    "     Python will automatically start every separate `print()` statement on a new line. If you want to have several separate print statements print all to the same line, include an `end=\"\"` argument in your print statement, e.g.: \n",
    "     ```python\n",
    "     print(\"I'm gonna print on line 1\",end=\"\")\n",
    "     print(\"And so will I\")\n",
    "     >>> I'm gonna print on line 1And so will I\n",
    "     ```\n",
    "     You can print a single newline, do this:\n",
    "     ```python\n",
    "     print('\\n',end=\"\")\n",
    "     ``` \n",
    "     :::\n",
    "5. If you've done any coding before, the last one was probably quite easy. Here's one that's slightly more challenging: Write some code that uses a variable `rows` to print the following: \n",
    "If `row==1`, then the following pattern should be printed:\n",
    ":::\n",
    "o\n",
    ":::\n",
    "\n",
    "If `rows==5`, then the following pattern should be printed.\n",
    "\n",
    ":::\n",
    "     o\n",
    "    ooo\n",
    "   ooooo\n",
    "  ooooooo\n",
    " ooooooooo\n",
    ":::\n",
    "\n",
    "You should be able to give any value to row (though at some point you will run out screen space for printing). Before you start coding, **think** what set of instructions (algorithm) your code needs to carry out for a certain value of `rows`. \n",
    "\n",
    "\n",
    "If it doesn't look like a pyramid, you're not doing it right ;)\n"
   ]
  }
 ],
 "metadata": {
  "celltoolbar": "Edit Metadata",
  "kernelspec": {
   "display_name": "Python 3.8.13 ('psych750')",
   "language": "python",
   "name": "python3"
  },
  "language_info": {
   "codemirror_mode": {
    "name": "ipython",
    "version": 3
   },
   "file_extension": ".py",
   "mimetype": "text/x-python",
   "name": "python",
   "nbconvert_exporter": "python",
   "pygments_lexer": "ipython3",
   "version": "3.8.13"
  },
  "vscode": {
   "interpreter": {
    "hash": "57beecaf6908bae4f97de5e2dc8e8d0311fae5bc989593c172c307d13e31f6e4"
   }
  }
 },
 "nbformat": 4,
 "nbformat_minor": 2
}
