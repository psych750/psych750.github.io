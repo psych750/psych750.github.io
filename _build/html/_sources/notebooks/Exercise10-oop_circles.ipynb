{
 "cells": [
  {
   "cell_type": "markdown",
   "metadata": {},
   "source": [
    "# Exercise 9 - Object oriented programming practice\n",
    "\n",
    "Accept the exercise (link coming soon)\n",
    "\n"
   ]
  },
  {
   "cell_type": "markdown",
   "metadata": {},
   "source": [
    "\n",
    "## Part 1: Make it red!\n",
    "\n",
    "Add a method `turn_it_red()` such that when you click on a moving circle, it turns red. All the circles should continue moving. There should not be any pauses.\n"
   ]
  },
  {
   "cell_type": "markdown",
   "metadata": {},
   "source": [
    "## Part 2: Make them stop\n",
    "\n",
    "Add a method `make_them_stop()` such that when you click on a moving circle, it keeps moving, but all the other circles stop moving."
   ]
  },
  {
   "cell_type": "markdown",
   "metadata": {},
   "source": [
    "## Part 3 Make it drop!\n",
    "\n",
    "Add a method `make_it_drop()` such that when you click on a moving circle, it drops to the bottom and remains there. The drop should be gradual -- the circle should smoothly descend down. The other circles should keep moving while the one you clicked on is dropping to the ground.\n",
    "\n",
    "```{tip}\n",
    "Decrease the y position gradually until the bottom of the screen.\n",
    "```\n"
   ]
  },
  {
   "cell_type": "markdown",
   "metadata": {},
   "source": [
    "## Part 4: Make it drop.... more naturally\n",
    "\n",
    "When things drop here on Earth, they don't fall at a constant velocity. They accelerate because, you know... gravity! Extend your `make_it_drop()` method to accept a parameter `accelerate`. Its default value is False. When set to True, the circle should drop as in part 3, but it should accelerate downward according to:\n",
    "\n",
    "```python\n",
    "h = .5*g*t**2\n",
    "```\n",
    ":::{note}\n",
    "In Python, as in many other programming languages `**` is exponentiation, i.e, `3**3=27`\n",
    ":::\n",
    "\n",
    "If you remember your high school physics,`g` is the gravitational constant which is 9.8 m/s/s. In our case, the units can be pixels, so 9.8 pixels per second per second.\n",
    "\n",
    "`h` is the distance travelled (in our case, the distance from the circle's starting position, and `t`, is, of course, time. Use seconds for time. Remember that if your laptop is refreshing at 60Hz, each frame lasts ~17 msecs, i.e., .017 seconds. Refresh the position of the circle on each frame so that it's nice and smooth. The other circles should keep moving as normal when the circle you clicked on drops down. \n",
    "\n"
   ]
  },
  {
   "cell_type": "markdown",
   "metadata": {},
   "source": [
    "## Bonus \n",
    "\n",
    "Coming soon."
   ]
  }
 ],
 "metadata": {
  "kernelspec": {
   "display_name": "Python 3.8.13 ('psych750')",
   "language": "python",
   "name": "python3"
  },
  "language_info": {
   "codemirror_mode": {
    "name": "ipython",
    "version": 3
   },
   "file_extension": ".py",
   "mimetype": "text/x-python",
   "name": "python",
   "nbconvert_exporter": "python",
   "pygments_lexer": "ipython3",
   "version": "3.8.13"
  },
  "toc": {
   "nav_menu": {},
   "number_sections": true,
   "sideBar": true,
   "skip_h1_title": false,
   "toc_cell": true,
   "toc_position": {
    "height": "765px",
    "left": "0px",
    "right": "1560.45px",
    "top": "110px",
    "width": "185px"
   },
   "toc_section_display": "block",
   "toc_window_display": true
  },
  "vscode": {
   "interpreter": {
    "hash": "57beecaf6908bae4f97de5e2dc8e8d0311fae5bc989593c172c307d13e31f6e4"
   }
  }
 },
 "nbformat": 4,
 "nbformat_minor": 2
}
