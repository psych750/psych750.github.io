{
 "cells": [
  {
   "cell_type": "markdown",
   "metadata": {},
   "source": [
    "# Exercise 5: A perceptual grouping task\n",
    "\n",
    "In this task we will be building on the skills you've acquired so far with lists, dictionaries, and trial generation to build a fuller experiment that tests the strengt of perceptual grouping by color and by shape."
   ]
  },
  {
   "cell_type": "markdown",
   "metadata": {},
   "source": [
    "Here is some \"bad\" code that shows a small blue circle and a blue square. We will be improving and expanding this code to build a full-blown experiment."
   ]
  },
  {
   "cell_type": "code",
   "execution_count": null,
   "metadata": {},
   "outputs": [],
   "source": [
    "from psychopy import visual, core, event\n",
    "import random\n",
    " \n",
    "win = visual.Window([800,600],color=\"black\", units='pix')\n",
    " \n",
    "circle = visual.Circle(win,size = 20)\n",
    "square = visual.Rect(win,size = 40)\n",
    "locations = [[-15,0], [15,0]]\n",
    "colors = ['blue', 'blue']\n",
    " \n",
    "circle.setPos(locations[0])\n",
    "circle.setFillColor(colors[0])\n",
    "circle.setLineColor(colors[0])\n",
    "circle.draw()\n",
    "\n",
    "square.setPos(locations[1])\n",
    "square.setFillColor(colors[1])\n",
    "square.setLineColor(colors[1])\n",
    "square.draw()\n",
    "\n",
    "win.flip()\n",
    "\n",
    "event.waitKeys('q')\n",
    "win.close()\n",
    "core.quit()"
   ]
  },
  {
   "cell_type": "markdown",
   "metadata": {},
   "source": [
    "-   For the next 15 minutes, see if you can figure out how adapt the code above to\n",
    "    display an arbitrary number of alternating circles and squares that look like\n",
    "    the image below (shown on a black background). We'll be doing a lot\n",
    "    with this code. Make it as extendable as possible. For example, the\n",
    "    spacing and the number of items should be easily changeable. Your\n",
    "    code to generate the series of alternating images needs to be\n",
    "    *shorter* than the base code above.\n",
    "\n",
    "![Alternating shapes](images/alternatingShapes.png)\n",
    "\n",
    "1.  Now, for each trial, pick a random shape and \"flip\" it such that\n",
    "    you have two squares or two circles in a row. The colors should\n",
    "    always alternate. So, you might have a red-square, blue-circle,\n",
    "    red-circle, blue-square , etc.(a repetition of two circles in a\n",
    "    row). Note, you will need to do more than just flip the one shape to\n",
    "    make this work (flipping a single shape in an alternating sequence\n",
    "    will create a sequence of three repeated items, which is not what\n",
    "    you want).\n",
    "    \n",
    "    <div class=\"alert alert-block alert-info\">\n",
    "    **Hint:** random.choice([0,1]) will output 0 or 1. The items in the list supplied as the argument to the random.choice function can be anything, e.g., random.choice(['within','between']) will output the words 'within' or 'between' randomly.\n",
    "</div>\n",
    "\n",
    "2.  Make it so that 50% of the trials have a shape repeat and 50% don't. Here's an example of a repeated-shape trial\n",
    "    ![Repeated shape](images/repeatedShape.png)    \n",
    "\n",
    "3.The subject's task is to detect the repetition. If there's a\n",
    "    repetition, they should press the 'up' arrow. If not, the 'down'\n",
    "    arrow.\n",
    "    \n",
    "4.Let's extend the task to also have repeated colors instead of just repeated shapes. We should now have 50% no-repeats, 25% repeated colors, and 25% repeated shapes. Here is an example of a repeat color trial:\n",
    "    ![Repeated color](images/repeatedColor.png)    \n",
    "\n",
    "    \n",
    "5.Now let's add some feedback. If there's an error, and only if there's\n",
    "    an error, display the word 'ERROR' in red after the response.\n",
    "\n",
    "6.Now let's make the subject report what shape was repeating. Make it so\n",
    "    that if they press the 'up' arrow, they then see a prompt\n",
    "    \"Repeated square or circle?\" which should stay up until they\n",
    "    respond with the 's' key for square and the 'c' key for circle.\n",
    "    If they press the 'down' arrow, just go on to the next trial.\n",
    "\n",
    "7.Now, let's actually keep track of how people are responding! For\n",
    "    each trial, output the variables listed below to a file called\n",
    "    results.txt. You can use the following code to create a line in which each variable is separated by a tab, and then write that line to your output file. Your final experiment should have 100 trials.\n",
    "\n",
    "```Python\n",
    "'\\t'.join([string1, string2, string3, stringN])\n",
    "```\n",
    "<div class=\"alert alert-block alert-info\">\n",
    "Remember that each item in the list passed to join must be a string, so any items that are not (hint: the Reaction Time) must be first converted to a string using str(RT).\n",
    "</div>\n",
    "\n",
    "<div class=\"alert alert-block alert-info\">\n",
    "Is there a better way to convert a bunch of possibly non-string variables to a string? Sure! Try map(str, (var1,var2,var3)) or [str(var) for var in (var1,var2,var3)]</div>\n",
    "\n",
    "\n",
    "See [how to write to a file safely](http://sapir.psych.wisc.edu/programming_for_psychologists/notebooks/Python_reference.html#Writing-to-a-file,-safely)\n",
    "for instructions on writing to a file one line at a time, making sure that there is no data loss if your program crashes. The output for each trial should contain:\n",
    "    -   The number of the trial (1, 2, 3 etc.)\n",
    "    -   The correct response (repeat, noRepeat)\n",
    "    -   Position of the repeated stimulus, e.g., if the 4th and 5th elements\n",
    "        are the shame shape, output 4. If there's no repeat, output 'NA'\n",
    "    -   Whether the repeating shape is a circle or a square (i.e., output\n",
    "        the words 'circle' or 'square' or NA if this is a noRepeat\n",
    "        trial)\n",
    "    -   The subject's responses (note that there are two: the first is\n",
    "        whether there's a repeat. The second is what the repeat is)\n",
    "    -   Correctness of the first response, correctness of the second\n",
    "        response (1 for correct, 0 for incorrect)\n",
    "    -   The response times for both responses in milliseconds\n",
    "8.This file will contain their responses and trial parameters, but we don't know who the subject is! Remember when I had you pop up a box to enter in a person's name? Do the same thing here, but pop up a box to ask for the subject code. Now that you have subject code stored in a variable, what should you do with it? Two things. First, use it to name your file. Instead of a generic \"data.txt\", you'll want to have separate data files for each subject. So let's use the subject code as the filename! Second, let's include it in the output file. Because we'll be concatenating the files for later analysis, let's include the subject code as the first column of your output file. \n",
    "\n",
    "<div class=\"alert alert-block alert-info\">\n",
    "What should the subject codes be? I strongly suggest using a unique experiment identifier followed by a sequential number, e.g., repetition_101, repetition_102, etc. (there's a good reason to start with 100 instead of 1. Can you figure out what it is?)</div>\n",
    "\n",
    "***As part of your submission for this exercise, I would like you to run through at least 50 trials of the experiment as though you were a subject. If everyone follows the specifications above, I should be able to concatenate your output files and immediately graph the results and run analyses.***\n",
    "\n"
   ]
  },
  {
   "cell_type": "markdown",
   "metadata": {},
   "source": [
    "**Bonus**: instead of having people respond with circle/square, let's\n",
    "make them tell us exactly where the repetition was. After they make a\n",
    "repeat/no-Repeat response, have the shapes change to X's and have the\n",
    "subject indicate with the mouse (ooo!) where the repeat was. Mark it as\n",
    "correct or not. If you want to try a 'bonus-lite' version, change the\n",
    "shapes to letters: a,b,c,d,e,f,g,h,i,j,k,l,m,n,o and have the subject\n",
    "press the letter corresponding to where the repeat was."
   ]
  },
  {
   "cell_type": "code",
   "execution_count": null,
   "metadata": {},
   "outputs": [],
   "source": []
  }
 ],
 "metadata": {
  "kernelspec": {
   "display_name": "Python 2",
   "language": "python",
   "name": "python2"
  },
  "language_info": {
   "codemirror_mode": {
    "name": "ipython",
    "version": 2
   },
   "file_extension": ".py",
   "mimetype": "text/x-python",
   "name": "python",
   "nbconvert_exporter": "python",
   "pygments_lexer": "ipython2",
   "version": "2.7.13"
  },
  "toc": {
   "nav_menu": {},
   "number_sections": false,
   "sideBar": true,
   "skip_h1_title": false,
   "toc_cell": false,
   "toc_position": {
    "height": "526px",
    "left": "0px",
    "right": "1106px",
    "top": "111px",
    "width": "174px"
   },
   "toc_section_display": "none",
   "toc_window_display": true
  }
 },
 "nbformat": 4,
 "nbformat_minor": 2
}
