{
 "cells": [
  {
   "cell_type": "markdown",
   "metadata": {},
   "source": [
    "# Exercise 3: Trial generation 1\n",
    "\n",
    "\n",
    "In this exercise we will begin to develop the skills needed to generate trial lists which, when generated properly, can be read in by your main experiment script and will provide it with instructions of what to show on each experimental trial, what the expected responses are, etc. "
   ]
  },
  {
   "cell_type": "markdown",
   "metadata": {},
   "source": [
    "## Repetition\n",
    "1.  Write a function called *repetition* which takes three arguments: *letters* (a list), *numberBeforeSwitch* (an integer), and *numRepetitions* (also an integer). The function should produce a sequences of letters, one per line, such that calls to *repetition* with various parameters, generate the following outputs. (Note: There are built in functions that can do this. Please do not use them for the exercise)."
   ]
  },
  {
   "cell_type": "markdown",
   "metadata": {},
   "source": [
    "```Python\n",
    ">>> repetition(['A','B'],1,1)\n",
    "A\n",
    "B\n",
    "\n",
    ">>> repetition(['A','B'],2,1)\n",
    "A\n",
    "A\n",
    "B\n",
    "B\n",
    "\n",
    ">>> repetition(['A','B'],2,2)\n",
    "A\n",
    "A\n",
    "B\n",
    "B\n",
    "A\n",
    "A\n",
    "B\n",
    "B\n",
    "\n",
    ">>> repetition(['A','B','C'],3,1)\n",
    "A\n",
    "A\n",
    "A\n",
    "B\n",
    "B\n",
    "B\n",
    "C\n",
    "C\n",
    "C\n",
    "```\n",
    "\n",
    "Inside your repo you will find repetition.py which contains the following starting code:"
   ]
  },
  {
   "cell_type": "code",
   "execution_count": 3,
   "metadata": {},
   "outputs": [],
   "source": [
    "def repetition(letters,numberBeforeSwitch,numRepetitions):\n",
    "    pass"
   ]
  },
  {
   "cell_type": "markdown",
   "metadata": {},
   "source": [
    "Remember, your function should print one letter per line."
   ]
  },
  {
   "cell_type": "markdown",
   "metadata": {},
   "source": [
    "## Generating a simple trial list. \n",
    "\n",
    "\n",
    "Ok, now for something more useful. \n",
    "\n",
    "Suppose we are interested in finding out the efficacy of a particular kind of masking technique and want to examine if it's more effective in the left vs. right visual field. Let's code a basic trial list for an experiment in which we display an image on either the left or the right side of the screen. Both sides of the screen are then masked, and we are interested in measuring people's ability (e.g., accuracy, reaction time) in responding whether the image was on the right or left side of the screen, while comparing responses on masked vs. nonmasked trials. \n",
    "\n",
    "To do this, we need to generate a list of trials in which some proportion is masked and some is not masked. Within each condition, we want the image on the left side displayed with some proportion of the time, and on the right the remaining times. \n",
    "\n",
    "Let's begin by having 2/3 masked trials and 1/3 non-masked trials. Within each level of the masking factor, half of the targets should be on the left and half on the right. Let's have 5 blocks with each block having all the possible trial types. \n",
    "\n",
    "The code you write should output to the terminal output that looks just like this (that first number is the block number).\n",
    "\n",
    "```Text\n",
    "$ python generateTrials.py\n",
    "1,masked,right\n",
    "1,masked,left\n",
    "1,masked,right\n",
    "1,masked,left\n",
    "1,nonmasked,right\n",
    "1,nonmasked,left\n",
    "2,masked,right\n",
    "2,masked,left\n",
    "2,masked,right\n",
    "2,masked,left\n",
    "2,nonmasked,right\n",
    "2,nonmasked,left\n",
    "3,masked,right\n",
    "3,masked,left\n",
    "3,masked,right\n",
    "3,masked,left\n",
    "3,nonmasked,right\n",
    "3,nonmasked,left\n",
    "4,masked,right\n",
    "4,masked,left\n",
    "4,masked,right\n",
    "4,masked,left\n",
    "4,nonmasked,right\n",
    "4,nonmasked,left\n",
    "5,masked,right\n",
    "5,masked,left\n",
    "5,masked,right\n",
    "5,masked,left\n",
    "5,nonmasked,right\n",
    "5,nonmasked,left\n",
    "```"
   ]
  },
  {
   "cell_type": "markdown",
   "metadata": {},
   "source": [
    "<div class=\"alert alert-block alert-info\">\n",
    "Try redirecting the output from the screen, to a file using `>`. At the terminal, type `python generateTrials.py > trialList.txt`. Now open up the trialList.txt file and your trial list should be right there.\n",
    "</div>"
   ]
  },
  {
   "cell_type": "markdown",
   "metadata": {},
   "source": [
    "## Randomizing\n",
    "3 - The trial list above has the trial structure you want, but obviously you wouldn't want to show someone trials in this order because it's completely predictable. It's a good idea to have your `generate trials` routine do all the randomization ahead of time such that your trials file (here, trialList.txt) contains the exact trial order that will be seen by a participant. There are two reasons. First, this lets you modularize all the trial handling outside of your main experiment script. Second, it allows you to save individual trial files that show the trial order seen by a given participant. It comes in handy for making sure your trial list is set up as you want it. So: let's go ahead and *randomize the trial list before printing.* "
   ]
  },
  {
   "cell_type": "markdown",
   "metadata": {},
   "source": [
    "## Randomizing within blocks\n",
    "4 - Simply randomizing the enture list messes up the block structure creating the possibility that participants will see the same trial multiple times in a row. For this part, randomize the trials *within* each block before printing the list."
   ]
  },
  {
   "cell_type": "markdown",
   "metadata": {},
   "source": [
    "## Extending each block\n",
    "5 - Double the number of trials in each block (so that the repetitions are not quite so predictable), and then randomize within each block as in part 4."
   ]
  }
 ],
 "metadata": {
  "kernelspec": {
   "display_name": "Python 2",
   "language": "python",
   "name": "python2"
  },
  "language_info": {
   "codemirror_mode": {
    "name": "ipython",
    "version": 2
   },
   "file_extension": ".py",
   "mimetype": "text/x-python",
   "name": "python",
   "nbconvert_exporter": "python",
   "pygments_lexer": "ipython2",
   "version": "2.7.13"
  },
  "toc": {
   "nav_menu": {},
   "number_sections": true,
   "sideBar": true,
   "skip_h1_title": false,
   "toc_cell": false,
   "toc_position": {
    "height": "526px",
    "left": "0px",
    "right": "1041px",
    "top": "111px",
    "width": "239px"
   },
   "toc_section_display": "block",
   "toc_window_display": true
  }
 },
 "nbformat": 4,
 "nbformat_minor": 2
}
