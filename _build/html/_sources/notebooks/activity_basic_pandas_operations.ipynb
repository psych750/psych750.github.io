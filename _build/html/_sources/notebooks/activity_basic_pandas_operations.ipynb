{
 "cells": [
  {
   "cell_type": "markdown",
   "metadata": {},
   "source": [
    "# Basic Pandas Operations\n",
    "\n",
    "## Why do we use Pandas?\n",
    "\n",
    "Pandas is a powerful Python library that supports creation, storage, and manipulation of data frames. As a psychologist or data scientist, you will inevitably deal with some kind of datasets. Pandas stores and represents data in a streamlined fashion that makes things simple for you - either you are planning on directly analyzing the data in Python or exporting the data to CSV files and analyze them in other statistical softwares such as R.\n",
    "\n",
    "It also has other advantages such as simplifying coding writing, handling large data more efficiently, and making data more flexible and customizable. More importantly, Pandas has features such as handling missing data, cleaning up the data, and it also supports multiple file formats including CSV, Excel, SQL, etc.\n",
    "\n",
    "In this activity, we will learn some of the basic oprations to get you started with Pandas.\n",
    "\n",
    "## Storing data frames in a CSV file\n",
    "\n",
    "First we will create a dictionary containing the data. Then we can convert the dictionary to a pandas data frame and store it as a csv file."
   ]
  },
  {
   "cell_type": "code",
   "execution_count": 2,
   "metadata": {},
   "outputs": [],
   "source": [
    "import numpy as np\n",
    "import pandas as pd\n",
    "\n",
    "name_dict = {\n",
    "    'Name':['Adam','Becky','Charlie','Daniel','Emily','Frank','Greta','Helen','Ian','Jack','Klaus','Lucy'],\n",
    "    'Class ID':list(range(1,13)),\n",
    "    'Age':[int(i) for i in (np.round(np.random.uniform(18,30,12),0))],\n",
    "    'Score':[int(i) for i in (np.round(np.random.uniform(60,100,12),0))]\n",
    "}\n",
    "\n",
    "df = pd.DataFrame(name_dict)\n",
    "\n",
    "df.to_csv('ClassList.csv',index=False)"
   ]
  },
  {
   "cell_type": "markdown",
   "metadata": {},
   "source": [
    "## Loading in data from a CSV file\n",
    "\n",
    "After loading in the data, we can do some quick checks using `head()` and `tail()`"
   ]
  },
  {
   "cell_type": "code",
   "execution_count": 3,
   "metadata": {},
   "outputs": [
    {
     "data": {
      "text/html": [
       "<div>\n",
       "<style scoped>\n",
       "    .dataframe tbody tr th:only-of-type {\n",
       "        vertical-align: middle;\n",
       "    }\n",
       "\n",
       "    .dataframe tbody tr th {\n",
       "        vertical-align: top;\n",
       "    }\n",
       "\n",
       "    .dataframe thead th {\n",
       "        text-align: right;\n",
       "    }\n",
       "</style>\n",
       "<table border=\"1\" class=\"dataframe\">\n",
       "  <thead>\n",
       "    <tr style=\"text-align: right;\">\n",
       "      <th></th>\n",
       "      <th>Name</th>\n",
       "      <th>Class ID</th>\n",
       "      <th>Age</th>\n",
       "      <th>Score</th>\n",
       "    </tr>\n",
       "  </thead>\n",
       "  <tbody>\n",
       "    <tr>\n",
       "      <th>0</th>\n",
       "      <td>Adam</td>\n",
       "      <td>1</td>\n",
       "      <td>28</td>\n",
       "      <td>63</td>\n",
       "    </tr>\n",
       "    <tr>\n",
       "      <th>1</th>\n",
       "      <td>Becky</td>\n",
       "      <td>2</td>\n",
       "      <td>27</td>\n",
       "      <td>72</td>\n",
       "    </tr>\n",
       "    <tr>\n",
       "      <th>2</th>\n",
       "      <td>Charlie</td>\n",
       "      <td>3</td>\n",
       "      <td>28</td>\n",
       "      <td>82</td>\n",
       "    </tr>\n",
       "    <tr>\n",
       "      <th>3</th>\n",
       "      <td>Daniel</td>\n",
       "      <td>4</td>\n",
       "      <td>22</td>\n",
       "      <td>82</td>\n",
       "    </tr>\n",
       "    <tr>\n",
       "      <th>4</th>\n",
       "      <td>Emily</td>\n",
       "      <td>5</td>\n",
       "      <td>24</td>\n",
       "      <td>71</td>\n",
       "    </tr>\n",
       "  </tbody>\n",
       "</table>\n",
       "</div>"
      ],
      "text/plain": [
       "      Name  Class ID  Age  Score\n",
       "0     Adam         1   28     63\n",
       "1    Becky         2   27     72\n",
       "2  Charlie         3   28     82\n",
       "3   Daniel         4   22     82\n",
       "4    Emily         5   24     71"
      ]
     },
     "execution_count": 3,
     "metadata": {},
     "output_type": "execute_result"
    }
   ],
   "source": [
    "df = pd.read_csv('ClassList.csv')\n",
    "df.head() # This will give you the first 5 rows of data"
   ]
  },
  {
   "cell_type": "code",
   "execution_count": 4,
   "metadata": {},
   "outputs": [
    {
     "data": {
      "text/html": [
       "<div>\n",
       "<style scoped>\n",
       "    .dataframe tbody tr th:only-of-type {\n",
       "        vertical-align: middle;\n",
       "    }\n",
       "\n",
       "    .dataframe tbody tr th {\n",
       "        vertical-align: top;\n",
       "    }\n",
       "\n",
       "    .dataframe thead th {\n",
       "        text-align: right;\n",
       "    }\n",
       "</style>\n",
       "<table border=\"1\" class=\"dataframe\">\n",
       "  <thead>\n",
       "    <tr style=\"text-align: right;\">\n",
       "      <th></th>\n",
       "      <th>Name</th>\n",
       "      <th>Class ID</th>\n",
       "      <th>Age</th>\n",
       "      <th>Score</th>\n",
       "    </tr>\n",
       "  </thead>\n",
       "  <tbody>\n",
       "    <tr>\n",
       "      <th>7</th>\n",
       "      <td>Helen</td>\n",
       "      <td>8</td>\n",
       "      <td>27</td>\n",
       "      <td>97</td>\n",
       "    </tr>\n",
       "    <tr>\n",
       "      <th>8</th>\n",
       "      <td>Ian</td>\n",
       "      <td>9</td>\n",
       "      <td>23</td>\n",
       "      <td>63</td>\n",
       "    </tr>\n",
       "    <tr>\n",
       "      <th>9</th>\n",
       "      <td>Jack</td>\n",
       "      <td>10</td>\n",
       "      <td>26</td>\n",
       "      <td>98</td>\n",
       "    </tr>\n",
       "    <tr>\n",
       "      <th>10</th>\n",
       "      <td>Klaus</td>\n",
       "      <td>11</td>\n",
       "      <td>29</td>\n",
       "      <td>94</td>\n",
       "    </tr>\n",
       "    <tr>\n",
       "      <th>11</th>\n",
       "      <td>Lucy</td>\n",
       "      <td>12</td>\n",
       "      <td>27</td>\n",
       "      <td>99</td>\n",
       "    </tr>\n",
       "  </tbody>\n",
       "</table>\n",
       "</div>"
      ],
      "text/plain": [
       "     Name  Class ID  Age  Score\n",
       "7   Helen         8   27     97\n",
       "8     Ian         9   23     63\n",
       "9    Jack        10   26     98\n",
       "10  Klaus        11   29     94\n",
       "11   Lucy        12   27     99"
      ]
     },
     "execution_count": 4,
     "metadata": {},
     "output_type": "execute_result"
    }
   ],
   "source": [
    "df.tail() # This will give you the last 5 rows of data"
   ]
  },
  {
   "cell_type": "markdown",
   "metadata": {},
   "source": [
    "## Accessing a particular row, column, or cell\n",
    "\n",
    "In some cases, we want to access a particular row of the data."
   ]
  },
  {
   "cell_type": "code",
   "execution_count": 5,
   "metadata": {},
   "outputs": [
    {
     "data": {
      "text/plain": [
       "Name        Adam\n",
       "Class ID       1\n",
       "Age           28\n",
       "Score         63\n",
       "Name: 0, dtype: object"
      ]
     },
     "execution_count": 5,
     "metadata": {},
     "output_type": "execute_result"
    }
   ],
   "source": [
    "df.loc[0,:] # Accessing the first row of data, the first value points to the row(s) and the second value points to the column(s)"
   ]
  },
  {
   "cell_type": "markdown",
   "metadata": {},
   "source": [
    "We can select a particular column by its name"
   ]
  },
  {
   "cell_type": "code",
   "execution_count": 6,
   "metadata": {},
   "outputs": [
    {
     "data": {
      "text/plain": [
       "0     63\n",
       "1     72\n",
       "2     82\n",
       "3     82\n",
       "4     71\n",
       "5     82\n",
       "6     84\n",
       "7     97\n",
       "8     63\n",
       "9     98\n",
       "10    94\n",
       "11    99\n",
       "Name: Score, dtype: int64"
      ]
     },
     "execution_count": 6,
     "metadata": {},
     "output_type": "execute_result"
    }
   ],
   "source": [
    "df.Score # Accessing the Score column"
   ]
  },
  {
   "cell_type": "markdown",
   "metadata": {},
   "source": [
    "Or you can select a column by its index"
   ]
  },
  {
   "cell_type": "code",
   "execution_count": 8,
   "metadata": {},
   "outputs": [
    {
     "data": {
      "text/plain": [
       "0     28\n",
       "1     27\n",
       "2     28\n",
       "3     22\n",
       "4     24\n",
       "5     21\n",
       "6     26\n",
       "7     27\n",
       "8     23\n",
       "9     26\n",
       "10    29\n",
       "11    27\n",
       "Name: Age, dtype: int64"
      ]
     },
     "execution_count": 8,
     "metadata": {},
     "output_type": "execute_result"
    }
   ],
   "source": [
    "df.iloc[:,2] # This will also access the Score column"
   ]
  },
  {
   "cell_type": "markdown",
   "metadata": {},
   "source": [
    "It's also possible to select a particular cell"
   ]
  },
  {
   "cell_type": "code",
   "execution_count": 9,
   "metadata": {},
   "outputs": [
    {
     "data": {
      "text/plain": [
       "63"
      ]
     },
     "execution_count": 9,
     "metadata": {},
     "output_type": "execute_result"
    }
   ],
   "source": [
    "df.iloc[0]['Score'] # This will access the first row ([0]) of the Score column"
   ]
  },
  {
   "cell_type": "markdown",
   "metadata": {},
   "source": [
    "## Iterate through rows and accessing a particular column of that row\n",
    "\n",
    "In some cases, we need to iterate through all the rows and do some computation with a particular column of that row"
   ]
  },
  {
   "cell_type": "code",
   "execution_count": 10,
   "metadata": {},
   "outputs": [
    {
     "name": "stdout",
     "output_type": "stream",
     "text": [
      "(0, Name        Adam\n",
      "Class ID       1\n",
      "Age           28\n",
      "Score         63\n",
      "Name: 0, dtype: object)\n",
      "(1, Name        Becky\n",
      "Class ID        2\n",
      "Age            27\n",
      "Score          72\n",
      "Name: 1, dtype: object)\n",
      "(2, Name        Charlie\n",
      "Class ID          3\n",
      "Age              28\n",
      "Score            82\n",
      "Name: 2, dtype: object)\n",
      "(3, Name        Daniel\n",
      "Class ID         4\n",
      "Age             22\n",
      "Score           82\n",
      "Name: 3, dtype: object)\n",
      "(4, Name        Emily\n",
      "Class ID        5\n",
      "Age            24\n",
      "Score          71\n",
      "Name: 4, dtype: object)\n",
      "(5, Name        Frank\n",
      "Class ID        6\n",
      "Age            21\n",
      "Score          82\n",
      "Name: 5, dtype: object)\n",
      "(6, Name        Greta\n",
      "Class ID        7\n",
      "Age            26\n",
      "Score          84\n",
      "Name: 6, dtype: object)\n",
      "(7, Name        Helen\n",
      "Class ID        8\n",
      "Age            27\n",
      "Score          97\n",
      "Name: 7, dtype: object)\n",
      "(8, Name        Ian\n",
      "Class ID      9\n",
      "Age          23\n",
      "Score        63\n",
      "Name: 8, dtype: object)\n",
      "(9, Name        Jack\n",
      "Class ID      10\n",
      "Age           26\n",
      "Score         98\n",
      "Name: 9, dtype: object)\n",
      "(10, Name        Klaus\n",
      "Class ID       11\n",
      "Age            29\n",
      "Score          94\n",
      "Name: 10, dtype: object)\n",
      "(11, Name        Lucy\n",
      "Class ID      12\n",
      "Age           27\n",
      "Score         99\n",
      "Name: 11, dtype: object)\n"
     ]
    }
   ],
   "source": [
    "# Printing everything of each row\n",
    "for row in df.iterrows():\n",
    "    print(row)"
   ]
  },
  {
   "cell_type": "code",
   "execution_count": 11,
   "metadata": {},
   "outputs": [
    {
     "name": "stdout",
     "output_type": "stream",
     "text": [
      "63\n",
      "72\n",
      "82\n",
      "82\n",
      "71\n",
      "82\n",
      "84\n",
      "97\n",
      "63\n",
      "98\n",
      "94\n",
      "99\n"
     ]
    }
   ],
   "source": [
    "# Iterate through all rows and select only the Score column\n",
    "for index,row in df.iterrows():\n",
    "    print(row['Score'])"
   ]
  }
 ],
 "metadata": {
  "kernelspec": {
   "display_name": "Python 3.8.13 ('psych750')",
   "language": "python",
   "name": "python3"
  },
  "language_info": {
   "codemirror_mode": {
    "name": "ipython",
    "version": 3
   },
   "file_extension": ".py",
   "mimetype": "text/x-python",
   "name": "python",
   "nbconvert_exporter": "python",
   "pygments_lexer": "ipython3",
   "version": "3.8.13"
  },
  "orig_nbformat": 4,
  "vscode": {
   "interpreter": {
    "hash": "fd0397b87f454630a8e29a5bd5ad2bb52517df87f687500a14b5dda89d554fa9"
   }
  }
 },
 "nbformat": 4,
 "nbformat_minor": 2
}
