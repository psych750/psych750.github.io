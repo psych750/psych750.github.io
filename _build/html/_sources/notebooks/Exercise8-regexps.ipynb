{
 "cells": [
  {
   "cell_type": "markdown",
   "metadata": {},
   "source": [
    "# Exercise 8 - Practice with regular expressions\n",
    "\n",
    "[Accept the exercise](coming soon)\n",
    "\n",
    "**Due date is Wednesday at 11 for this one again. You can work in groups of 2 or individually. If you're looking for a partner, start a group whose name ends with `_team`.**  *If you'd like some extra time to submit extra credit, let me know.*\n",
    "\n",
    "\n",
    "You can complete this assignment using python's `re` library or using R's regular expressions. My suggestion is to use Python, but as they say: your mileage may vary. I will publish solutions in Python."
   ]
  },
  {
   "cell_type": "markdown",
   "metadata": {},
   "source": [
    "\n",
    "## Part 1: Word matching\n",
    "\n",
    "Write a regexp to match (and return) all words in `words` that begin and end with a vowel. To read in the word list, use the code below.\n",
    "\n",
    "```python\n",
    "import pandas as pd\n",
    "data = pd.read_csv('https://psych750.github.io/data/ANC-written-count_over9.txt',encoding = \"ISO-8859-1\",sep=\"\\t\")\n",
    "words = list(set(data['word']))\n",
    "```\n",
    "\n",
    "**Bonus** (2 pts):\n",
    "\n",
    "The regexp notebook includes an example of finding words that contain the vowels aeiou, in that order. A more difficult version is to find words that contain all the letters in *any* order. Write a regexp to find words that contain all the vowels, but in *any* order.\n",
    "\n"
   ]
  },
  {
   "cell_type": "markdown",
   "metadata": {},
   "source": [
    "\n",
    "## Part 2: Match `lmno` words\n",
    "\n",
    "Write a regexp to match (and return) all words in `words` that contain the letters l, m, n, and o -- in that order, but not necessarily consecutively.  `flamingo` should match, but so should `self-monitoring` because even though the order is disrupted, it still passes the test: se`L`f-`M`o`N`it`O`ring\n"
   ]
  },
  {
   "cell_type": "markdown",
   "metadata": {},
   "source": [
    "\n",
    "## Part 3: Hyphenated Words\n",
    "\n",
    "Write a function that takes a string as an argument and returns a list of all hyphenated words it contains. If the string contains no hyphenated words, the function should return `False`. A hyphenated word is of the form `someword-otherword`. Your function should work regardless of whether the words are in uppercase or lowercase.\n"
   ]
  },
  {
   "cell_type": "markdown",
   "metadata": {},
   "source": [
    "## Part 4: Email validation\n",
    "\n",
    "Write a function that takes a string as an argument and returns a list of all valid emails addresses contained in the string. If the string contains no valid emails, the function should return `False`. \n",
    "\n",
    "A valid email address has the form: some_alphanumeric_string@something.something (there can be multiple dots at the end e.g., `uk_education@edinburgh.ac.uk` is a valid address.\n"
   ]
  },
  {
   "cell_type": "markdown",
   "metadata": {},
   "source": [
    "## Part 5 - **Bonus** - Fix weird spacing\n",
    "\n",
    "+3 pts\n",
    "\n",
    "Write a function `fix_spaces()` that takes a string (of arbitrary length) as an argument and returns the string with weird spacing issues all fixed up. Some examples:\n",
    "\n",
    "\n",
    "`fix_spaces(\"The  quick    brown fox\") --> \"The quick brown fox\"` <-- multiple spaces to single spaces\n",
    "\n",
    "`fix_spaces(\"Once\\t\\tupon a time\\n\\n\") --> \"Once upon a time\\n\"` <-- tabs should be changed to (single) spaces. Multiple newlines to a signle newline\n",
    "\n",
    "`fix_spaces(\"This sentence has a misplaced space before the period . Beginning of next sentence.\") --> \"This sentence has a misplaced space before the period. Beginning of next sentence\"`\n",
    "\n",
    "`fix_spaces(\"Version    3.2\") --> \"Version 3.2\"` <-- don't get tripped up by non alphanumeric characters like the dot in 3.2\n",
    "\n",
    "(it's not necessary to accommoate all cases in a single regexp, but if you can, that's preferable)."
   ]
  }
 ],
 "metadata": {
  "kernelspec": {
   "display_name": "Python 3.8.13 ('psych750')",
   "language": "python",
   "name": "python3"
  },
  "language_info": {
   "codemirror_mode": {
    "name": "ipython",
    "version": 3
   },
   "file_extension": ".py",
   "mimetype": "text/x-python",
   "name": "python",
   "nbconvert_exporter": "python",
   "pygments_lexer": "ipython3",
   "version": "3.8.13"
  },
  "toc": {
   "nav_menu": {},
   "number_sections": true,
   "sideBar": true,
   "skip_h1_title": false,
   "toc_cell": true,
   "toc_position": {
    "height": "765px",
    "left": "0px",
    "right": "1560.45px",
    "top": "110px",
    "width": "185px"
   },
   "toc_section_display": "block",
   "toc_window_display": true
  },
  "vscode": {
   "interpreter": {
    "hash": "57beecaf6908bae4f97de5e2dc8e8d0311fae5bc989593c172c307d13e31f6e4"
   }
  }
 },
 "nbformat": 4,
 "nbformat_minor": 2
}
