{
 "cells": [
  {
   "cell_type": "markdown",
   "metadata": {
    "hideCode": false,
    "hidePrompt": false,
    "solution": "hidden",
    "toc": true
   },
   "source": [
    "<h1>Table of Contents<span class=\"tocSkip\"></span></h1>\n",
    "<div class=\"toc\" style=\"margin-top: 1em;\"><ul class=\"toc-item\"><li><span><a href=\"#Exercise-10---Dragging-images-to-obtain-a-similarity-space\" data-toc-modified-id=\"Exercise-10---Dragging-images-to-obtain-a-similarity-space-1\"><span class=\"toc-item-num\">1&nbsp;&nbsp;</span>Exercise 10 - Dragging images to obtain a similarity space</a></span></li></ul></div>"
   ]
  },
  {
   "cell_type": "markdown",
   "metadata": {
    "hideCode": false,
    "hidePrompt": false
   },
   "source": [
    "# Exercise 10 - Dragging images to obtain a similarity space\n",
    "\n",
    "Suppose we want to find out how similar Chinese characters appear to people who do not read Chinese. There are several ways of doing this. One is to have people view pairs of images and provide pairwise similarity ratings. But the number of such judgments quickly grows with the number of stimuli. An alternative is to display many images at the same time and have people drag them into groups depending on how similar they look. So something like this:"
   ]
  },
  {
   "cell_type": "markdown",
   "metadata": {
    "hideCode": false,
    "hidePrompt": false
   },
   "source": [
    "<img src=\"images/image_drag.gif\" width=\"550\">"
   ]
  },
  {
   "cell_type": "markdown",
   "metadata": {
    "hideCode": false,
    "hidePrompt": false,
    "solution": "hidden",
    "solution_first": true
   },
   "source": [
    "Implementing this task in PsychoPy is very easy. Let's take 10 minutes to do this starting with the code below."
   ]
  },
  {
   "cell_type": "code",
   "execution_count": 1,
   "metadata": {
    "hideCode": false,
    "hideOutput": true,
    "hidePrompt": false,
    "scrolled": true
   },
   "outputs": [
    {
     "ename": "ValueError",
     "evalue": "max() arg is an empty sequence",
     "output_type": "error",
     "traceback": [
      "\u001b[0;31m---------------------------------------------------------------------------\u001b[0m",
      "\u001b[0;31mValueError\u001b[0m                                Traceback (most recent call last)",
      "\u001b[0;32m<ipython-input-1-bc4d9312a8bc>\u001b[0m in \u001b[0;36m<module>\u001b[0;34m()\u001b[0m\n\u001b[1;32m      6\u001b[0m \u001b[0mpics\u001b[0m \u001b[0;34m=\u001b[0m \u001b[0mloadFiles\u001b[0m\u001b[0;34m(\u001b[0m\u001b[0;34m'stimuli'\u001b[0m\u001b[0;34m,\u001b[0m \u001b[0;34m'png'\u001b[0m\u001b[0;34m,\u001b[0m \u001b[0;34m'image'\u001b[0m\u001b[0;34m,\u001b[0m \u001b[0mwin\u001b[0m\u001b[0;34m)\u001b[0m\u001b[0;34m\u001b[0m\u001b[0m\n\u001b[1;32m      7\u001b[0m \u001b[0mnumPics\u001b[0m \u001b[0;34m=\u001b[0m \u001b[0mlen\u001b[0m\u001b[0;34m(\u001b[0m\u001b[0mpics\u001b[0m\u001b[0;34m.\u001b[0m\u001b[0mkeys\u001b[0m\u001b[0;34m(\u001b[0m\u001b[0;34m)\u001b[0m\u001b[0;34m)\u001b[0m\u001b[0;34m\u001b[0m\u001b[0m\n\u001b[0;32m----> 8\u001b[0;31m \u001b[0mpositions\u001b[0m \u001b[0;34m=\u001b[0m \u001b[0mcalculateRectangularCoordinates\u001b[0m\u001b[0;34m(\u001b[0m\u001b[0;36m150\u001b[0m\u001b[0;34m,\u001b[0m \u001b[0;36m150\u001b[0m\u001b[0;34m,\u001b[0m \u001b[0mnumPics\u001b[0m \u001b[0;34m/\u001b[0m \u001b[0;36m4\u001b[0m\u001b[0;34m,\u001b[0m \u001b[0mnumPics\u001b[0m \u001b[0;34m/\u001b[0m \u001b[0;36m5\u001b[0m\u001b[0;34m)\u001b[0m\u001b[0;34m\u001b[0m\u001b[0m\n\u001b[0m\u001b[1;32m      9\u001b[0m \u001b[0mrandom\u001b[0m\u001b[0;34m.\u001b[0m\u001b[0mshuffle\u001b[0m\u001b[0;34m(\u001b[0m\u001b[0mpositions\u001b[0m\u001b[0;34m)\u001b[0m\u001b[0;34m\u001b[0m\u001b[0m\n\u001b[1;32m     10\u001b[0m \u001b[0mmouse\u001b[0m \u001b[0;34m=\u001b[0m \u001b[0mevent\u001b[0m\u001b[0;34m.\u001b[0m\u001b[0mMouse\u001b[0m\u001b[0;34m(\u001b[0m\u001b[0mwin\u001b[0m\u001b[0;34m=\u001b[0m\u001b[0mwin\u001b[0m\u001b[0;34m)\u001b[0m\u001b[0;34m\u001b[0m\u001b[0m\n",
      "\u001b[0;32m/Users/glupyan/Dropbox/LupyanExps/Psychopy Files/useful_functions.pyc\u001b[0m in \u001b[0;36mcalculateRectangularCoordinates\u001b[0;34m(distanceX, distanceY, numCols, numRows, yOffset, xOffset)\u001b[0m\n\u001b[1;32m    161\u001b[0m                         \u001b[0mcoords\u001b[0m\u001b[0;34m[\u001b[0m\u001b[0mcurObj\u001b[0m\u001b[0;34m]\u001b[0m\u001b[0;34m=\u001b[0m \u001b[0;34m(\u001b[0m\u001b[0mcurCol\u001b[0m\u001b[0;34m*\u001b[0m\u001b[0mdistanceX\u001b[0m\u001b[0;34m,\u001b[0m \u001b[0mcurRow\u001b[0m\u001b[0;34m*\u001b[0m\u001b[0mdistanceY\u001b[0m\u001b[0;34m)\u001b[0m\u001b[0;34m\u001b[0m\u001b[0m\n\u001b[1;32m    162\u001b[0m                         \u001b[0mcurObj\u001b[0m\u001b[0;34m=\u001b[0m\u001b[0mcurObj\u001b[0m\u001b[0;34m+\u001b[0m\u001b[0;36m1\u001b[0m\u001b[0;34m\u001b[0m\u001b[0m\n\u001b[0;32m--> 163\u001b[0;31m         \u001b[0mxCorrected\u001b[0m \u001b[0;34m=\u001b[0m \u001b[0mmax\u001b[0m\u001b[0;34m(\u001b[0m\u001b[0;34m[\u001b[0m\u001b[0mcoord\u001b[0m\u001b[0;34m[\u001b[0m\u001b[0;36m0\u001b[0m\u001b[0;34m]\u001b[0m \u001b[0;32mfor\u001b[0m \u001b[0mcoord\u001b[0m \u001b[0;32min\u001b[0m \u001b[0mcoords\u001b[0m\u001b[0;34m]\u001b[0m\u001b[0;34m)\u001b[0m\u001b[0;34m/\u001b[0m\u001b[0;36m2\u001b[0m \u001b[0;34m-\u001b[0m\u001b[0mxOffset\u001b[0m\u001b[0;34m\u001b[0m\u001b[0m\n\u001b[0m\u001b[1;32m    164\u001b[0m         \u001b[0myCorrected\u001b[0m \u001b[0;34m=\u001b[0m \u001b[0mmax\u001b[0m\u001b[0;34m(\u001b[0m\u001b[0;34m[\u001b[0m\u001b[0mcoord\u001b[0m\u001b[0;34m[\u001b[0m\u001b[0;36m1\u001b[0m\u001b[0;34m]\u001b[0m \u001b[0;32mfor\u001b[0m \u001b[0mcoord\u001b[0m \u001b[0;32min\u001b[0m \u001b[0mcoords\u001b[0m\u001b[0;34m]\u001b[0m\u001b[0;34m)\u001b[0m\u001b[0;34m/\u001b[0m\u001b[0;36m2\u001b[0m \u001b[0;34m-\u001b[0m\u001b[0myOffset\u001b[0m\u001b[0;34m\u001b[0m\u001b[0m\n\u001b[1;32m    165\u001b[0m \u001b[0;34m\u001b[0m\u001b[0m\n",
      "\u001b[0;31mValueError\u001b[0m: max() arg is an empty sequence"
     ]
    }
   ],
   "source": [
    "import random\n",
    "from psychopy import visual, core, event\n",
    "from useful_functions import loadFiles, calculateRectangularCoordinates\n",
    "\n",
    "win = visual.Window([900, 850], color=\"white\", allowGUI=False, units='pix')\n",
    "pics = loadFiles('stimuli', 'png', 'image', win)\n",
    "numPics = len(pics.keys())\n",
    "positions = calculateRectangularCoordinates(150, 150, numPics / 4, numPics / 5)\n",
    "random.shuffle(positions)\n",
    "mouse = event.Mouse(win=win)\n",
    "\n",
    "done = visual.Circle(win,lineColor=\"orange\",fillColor=\"orange\",size=100,autoDraw=True)\n",
    "doneText = visual.TextStim(win,text=\"Done\",color=\"black\",height=25)\n",
    "doneText.setAutoDraw(True)\n",
    "done.setPos((0,-320))\n",
    "doneText.setPos((0,-320))\n",
    "\n",
    "\n",
    "#keep going\n",
    "\n",
    "#draw all the stims in their initial positions\n",
    "\n",
    "#now allow user to move the stimuli and end by clicking on the orange button"
   ]
  },
  {
   "cell_type": "markdown",
   "metadata": {},
   "source": [
    "<div class=\"alert alert-block alert-info\">\n",
    "Big Hint: Somewhere in your code should be this line: `while mouse.isPressedIn(pics[curPic]['stim']):`\n",
    "</div>\n",
    "\n",
    "<div class=\"alert alert-block alert-info\">\n",
    "This is a task where the Autodraw mode comes in handy. `pics[curPic]['stim'].setAutoDraw(True)` will make is so that the ImageStim is drawn on every screenflip without you having to explicitly `.draw()` it. You can also do this for TextStims.\n",
    "</div>\n",
    "\n"
   ]
  },
  {
   "cell_type": "markdown",
   "metadata": {},
   "source": [
    "To calculate a similarity space from the resulting positions, you can use multidimensional scaling as implemented in scikit/sklearn libraries which should already be installed on your machine. The first step would be to take the Euclidean distances between the final positions of the pictures, and save them to a matrix that looks like this (showing the rows/columns for the first 10 images) \n",
    "\n",
    "```\n",
    "CC001\t  0\t 30\t106\t753\t127\t415\t154\t584\t292\t473\n",
    "CC002\t 30\t  0\t497\t104\t341\t382\t127\t507\t 16\t340\n",
    "CC003\t106\t497\t  0\t212\t393\t747\t233\t340\t683\t398\n",
    "CC004\t753\t104\t212\t  0\t640\t778\t611\t152\t101\t628\n",
    "CC005\t127\t341\t393\t640\t  0\t 78\t309\t273\t389\t322\n",
    "CC006\t415\t382\t747\t778\t 78\t  0\t451\t581\t356\t469\n",
    "CC007\t154\t127\t233\t611\t309\t451\t  0\t629\t206\t644\n",
    "CC008\t584\t507\t340\t152\t273\t581\t629\t  0\t631\t233\n",
    "CC009\t292\t 16\t683\t101\t389\t356\t206\t631\t  0\t162\n",
    "CC010\t473\t340\t398\t628\t322\t469\t644\t233\t162\t  0\n",
    "```"
   ]
  },
  {
   "cell_type": "code",
   "execution_count": null,
   "metadata": {},
   "outputs": [],
   "source": [
    "import csv\n",
    "import numpy as np\n",
    "import matplotlib.pyplot as plt\n",
    "from sklearn import manifold\n",
    "\n",
    "data = list(csv.reader(open(\"distances.csv\", \"r\"), delimiter='\\t'))\n",
    "dists = [map(float,distance[1:-1]) for distance in data\n",
    "\n",
    "adist = np.array(dists)\n",
    "amax = np.amax(adist)\n",
    "adist /= amax\n",
    "\n",
    "mds = manifold.MDS(n_components=2, dissimilarity=\"euclidean\", random_state=6)\n",
    "results = mds.fit(adist)\n",
    "\n",
    "#this is your embedding\n",
    "coords = results.embedding_\n",
    "\n",
    "#here's some plotting code (though I would ordinarily do this in R)\n",
    "plt.subplots_adjust(bottom = 0.1)\n",
    "plt.scatter(coords[:, 0], coords[:, 1], marker = 'o')\n",
    "for label, x, y in zip(characters, coords[:, 0], coords[:, 1]):\n",
    "\tplt.annotate(\n",
    "\t\tlabel,\n",
    "\t\txy = (x, y), xytext = (-20, 20),\n",
    "\t\ttextcoords = 'offset points', ha = 'right', va = 'bottom',\n",
    "\t\tbbox = dict(boxstyle = 'round,pad=0.5', fc = 'yellow', alpha = 0.5),\n",
    "\t\tarrowprops = dict(arrowstyle = '->', connectionstyle = 'arc3,rad=0'))\n",
    "\n",
    "plt.show()"
   ]
  }
 ],
 "metadata": {
  "hide_code_all_hidden": false,
  "kernelspec": {
   "display_name": "Python 2",
   "language": "python",
   "name": "python2"
  },
  "language_info": {
   "codemirror_mode": {
    "name": "ipython",
    "version": 2
   },
   "file_extension": ".py",
   "mimetype": "text/x-python",
   "name": "python",
   "nbconvert_exporter": "python",
   "pygments_lexer": "ipython2",
   "version": "2.7.13"
  },
  "toc": {
   "nav_menu": {},
   "number_sections": true,
   "sideBar": true,
   "skip_h1_title": false,
   "toc_cell": true,
   "toc_position": {
    "height": "765px",
    "left": "0px",
    "right": "1560.45px",
    "top": "110px",
    "width": "185px"
   },
   "toc_section_display": "block",
   "toc_window_display": true
  }
 },
 "nbformat": 4,
 "nbformat_minor": 2
}
