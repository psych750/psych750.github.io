{
 "cells": [
  {
   "cell_type": "markdown",
   "metadata": {},
   "source": [
    "# Debugging practice\n",
    "\n",
    "Debugging your code is an inescapable part of coding just like revising your writing is an inescapable part of writing. These exercises are designd to help you practice your debugging skills while demonstrating a few common pitfalls.\n"
   ]
  },
  {
   "cell_type": "markdown",
   "metadata": {},
   "source": [
    "1. This bit of code is supposed to iterate through a shuffled list. Why is it not working?"
   ]
  },
  {
   "cell_type": "code",
   "execution_count": 7,
   "metadata": {},
   "outputs": [
    {
     "name": "stdout",
     "output_type": "stream",
     "text": [
      "['o', 'u', 'e', 'a', 'i']\n",
      "o\n",
      "u\n",
      "e\n",
      "a\n",
      "i\n"
     ]
    }
   ],
   "source": [
    "import random\n",
    "vowels = ['a','e','i','o','u']\n",
    "random.shuffle(vowels)\n",
    "print(vowels)\n",
    "\n",
    "for cur_vowel in vowels:\n",
    "\tprint(cur_vowel)"
   ]
  },
  {
   "cell_type": "markdown",
   "metadata": {},
   "source": [
    "2. `Sets` are like lists except they allow us to perform set operations like union, intersection, difference etc. Unlike lists which have no restrictions on duplicated elements, a set -- by definition -- only contains unique elements. Because sets are implemented in a very efficient way, we can use them to remove duplicates from a list. For example:"
   ]
  },
  {
   "cell_type": "code",
   "execution_count": 9,
   "metadata": {},
   "outputs": [
    {
     "name": "stdout",
     "output_type": "stream",
     "text": [
      "['dog', 'cat', 'wolf', 'dog', 'dog']\n",
      "['cat', 'dog', 'wolf']\n"
     ]
    }
   ],
   "source": [
    "list_with_duplicates = ['dog', 'cat', 'wolf', 'dog', 'dog']\n",
    "print(list_with_duplicates)\n",
    "print(list(set(list_with_duplicates))) #voila, duplicates gone!"
   ]
  },
  {
   "cell_type": "markdown",
   "metadata": {},
   "source": [
    "I'm trying to do something similar here, but running into a problem. Help!"
   ]
  },
  {
   "cell_type": "code",
   "execution_count": 16,
   "metadata": {},
   "outputs": [
    {
     "name": "stdout",
     "output_type": "stream",
     "text": [
      "<class 'type'>\n",
      "['violin', 'piano', 'guitar']\n"
     ]
    }
   ],
   "source": [
    "duplicated_list = ['violin', 'guitar', 'guitar', 'piano']\n",
    "print(list(set(duplicated_list))) #voila, duplicates gone?"
   ]
  },
  {
   "cell_type": "markdown",
   "metadata": {},
   "source": [
    "4. I'm trying to iterate through a list, check if each element is a palindrome (reads the same backwards and forwards), and if it's not, remove it from the list so that I only have palindromes at the end. The palindrome checker is working... but something else is not.."
   ]
  },
  {
   "cell_type": "code",
   "execution_count": 39,
   "metadata": {},
   "outputs": [
    {
     "name": "stdout",
     "output_type": "stream",
     "text": [
      "dog\n",
      "dod\n",
      "cat\n",
      "malyalam\n",
      "['rotator', 'dod', 'kayak', 'a man a plan a canal panama']\n"
     ]
    }
   ],
   "source": [
    "def is_palindrome(str):\n",
    "    str = str.replace(' ','') # remove spaces\n",
    "    return str == str[::-1]\n",
    "\n",
    "list_of_strings = ['dog', 'rotator', 'dod', 'cat', 'kayak', 'malyalam', 'a man a plan a canal panama']\n",
    "\n",
    "for cur_elt,cur_string in enumerate(list_of_strings):\n",
    "    if not is_palindrome(cur_string):\n",
    "        list_of_strings.remove(cur_elt)\n"
   ]
  },
  {
   "cell_type": "markdown",
   "metadata": {},
   "source": [
    "5. I'm trying to iterate through a list, but something is wrong. What happened?\n"
   ]
  },
  {
   "cell_type": "code",
   "execution_count": 26,
   "metadata": {},
   "outputs": [
    {
     "name": "stdout",
     "output_type": "stream",
     "text": [
      "0\n",
      "1\n",
      "2\n",
      "3\n",
      "4\n",
      "5\n",
      "6\n",
      "7\n",
      "8\n",
      "9\n"
     ]
    }
   ],
   "source": [
    "myList = []\n",
    "for i in range(10):\n",
    "    myList.append(i)\n",
    "\n",
    "listSize = len(myList)\n",
    "for index in range(listSize+1):\n",
    "    print(myList[index])"
   ]
  },
  {
   "cell_type": "markdown",
   "metadata": {},
   "source": [
    "6. Now instead of a list, I'm trying to iterate through a dictionary and print out the various car models stored inside it. Why isn't it working?"
   ]
  },
  {
   "cell_type": "code",
   "execution_count": 28,
   "metadata": {},
   "outputs": [
    {
     "name": "stdout",
     "output_type": "stream",
     "text": [
      "Stelvio\n",
      "M3\n",
      "Corvette\n",
      "Challenger\n"
     ]
    }
   ],
   "source": [
    "thisDict = {\n",
    "    'brand':['Alfa Romeo','BMW','Chevrolet','Dodge'],\n",
    "    'year':[2018,2023,1997,1969],\n",
    "    'model':['Stelvio','M3','Corvette','Challenger'],\n",
    "    'color':['black','green','red','black'],\n",
    "    'horsepower':[280,473,345,425]\n",
    "}\n",
    "\n",
    "for index in range(len(thisDict['model'])):\n",
    "    print(thisDict['model'][index])"
   ]
  },
  {
   "cell_type": "markdown",
   "metadata": {},
   "source": [
    "7. The function I defined is doing two addition operations. I'm trying to access the result of one of the additions, but Python keeps throwing an error at me. What is going on?"
   ]
  },
  {
   "cell_type": "code",
   "execution_count": 31,
   "metadata": {},
   "outputs": [
    {
     "name": "stdout",
     "output_type": "stream",
     "text": [
      "8\n"
     ]
    }
   ],
   "source": [
    "def myFunction(x):\n",
    "    y = x + 3\n",
    "    z = x + 5\n",
    "    return y\n",
    "\n",
    "y = 5\n",
    "b = myFunction(y)\n",
    "print(b)\n",
    "\n"
   ]
  },
  {
   "cell_type": "markdown",
   "metadata": {},
   "source": [
    "8. I'm trying to create a function that multiplies the number I input by 3, but why does it result in `None`? And why can't I print x??"
   ]
  },
  {
   "cell_type": "code",
   "execution_count": 34,
   "metadata": {},
   "outputs": [
    {
     "name": "stdout",
     "output_type": "stream",
     "text": [
      "15\n",
      "15\n"
     ]
    },
    {
     "ename": "NameError",
     "evalue": "name 'x' is not defined",
     "output_type": "error",
     "traceback": [
      "\u001b[0;31m---------------------------------------------------------------------------\u001b[0m",
      "\u001b[0;31mNameError\u001b[0m                                 Traceback (most recent call last)",
      "\u001b[1;32m/Users/glupyan/gitRepos/psych750.github.io/notebooks/activity_debugging.ipynb Cell 17\u001b[0m in \u001b[0;36m<cell line: 9>\u001b[0;34m()\u001b[0m\n\u001b[1;32m      <a href='vscode-notebook-cell:/Users/glupyan/gitRepos/psych750.github.io/notebooks/activity_debugging.ipynb#X22sZmlsZQ%3D%3D?line=6'>7</a>\u001b[0m b \u001b[39m=\u001b[39m multiplyByThree(a)\n\u001b[1;32m      <a href='vscode-notebook-cell:/Users/glupyan/gitRepos/psych750.github.io/notebooks/activity_debugging.ipynb#X22sZmlsZQ%3D%3D?line=7'>8</a>\u001b[0m \u001b[39mprint\u001b[39m(b)\n\u001b[0;32m----> <a href='vscode-notebook-cell:/Users/glupyan/gitRepos/psych750.github.io/notebooks/activity_debugging.ipynb#X22sZmlsZQ%3D%3D?line=8'>9</a>\u001b[0m \u001b[39mprint\u001b[39m(x)\n",
      "\u001b[0;31mNameError\u001b[0m: name 'x' is not defined"
     ]
    }
   ],
   "source": [
    "def multiplyByThree(x):\n",
    "    x *= 3\n",
    "    print(x)\n",
    "    return x\n",
    "\n",
    "a = 5\n",
    "b = multiplyByThree(a)\n",
    "print(b)\n",
    "print(x)"
   ]
  }
 ],
 "metadata": {
  "kernelspec": {
   "display_name": "Python 3.8.13 ('psych750')",
   "language": "python",
   "name": "python3"
  },
  "language_info": {
   "codemirror_mode": {
    "name": "ipython",
    "version": 3
   },
   "file_extension": ".py",
   "mimetype": "text/x-python",
   "name": "python",
   "nbconvert_exporter": "python",
   "pygments_lexer": "ipython3",
   "version": "3.8.13"
  },
  "toc": {
   "nav_menu": {},
   "number_sections": true,
   "sideBar": true,
   "skip_h1_title": false,
   "toc_cell": false,
   "toc_position": {
    "height": "526px",
    "left": "0px",
    "right": "1095px",
    "top": "111px",
    "width": "185px"
   },
   "toc_section_display": "block",
   "toc_window_display": true
  },
  "vscode": {
   "interpreter": {
    "hash": "57beecaf6908bae4f97de5e2dc8e8d0311fae5bc989593c172c307d13e31f6e4"
   }
  }
 },
 "nbformat": 4,
 "nbformat_minor": 2
}
