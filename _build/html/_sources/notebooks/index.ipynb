{
 "cells": [
  {
   "cell_type": "markdown",
   "metadata": {
    "toc": true
   },
   "source": [
    "<h1>Table of Contents<span class=\"tocSkip\"></span></h1>\n",
    "<div class=\"toc\" style=\"margin-top: 1em;\"><ul class=\"toc-item\"><li><span><a href=\"#Programming-and-Automation-Techniques-for-Psychologists\" data-toc-modified-id=\"Programming-and-Automation-Techniques-for-Psychologists-1\"><span class=\"toc-item-num\">1&nbsp;&nbsp;</span>Programming and Automation Techniques for Psychologists</a></span><ul class=\"toc-item\"><li><span><a href=\"#Why-Program?\" data-toc-modified-id=\"Why-Program?-1.1\"><span class=\"toc-item-num\">1.1&nbsp;&nbsp;</span>Why Program?</a></span></li><li><span><a href=\"#Class-philosophy\" data-toc-modified-id=\"Class-philosophy-1.2\"><span class=\"toc-item-num\">1.2&nbsp;&nbsp;</span>Class philosophy</a></span></li><li><span><a href=\"#What-now?\" data-toc-modified-id=\"What-now?-1.3\"><span class=\"toc-item-num\">1.3&nbsp;&nbsp;</span>What now?</a></span></li><li><span><a href=\"#Schedule\" data-toc-modified-id=\"Schedule-1.4\"><span class=\"toc-item-num\">1.4&nbsp;&nbsp;</span>Schedule</a></span></li><li><span><a href=\"#Feedback\" data-toc-modified-id=\"Feedback-1.5\"><span class=\"toc-item-num\">1.5&nbsp;&nbsp;</span>Feedback</a></span></li><li><span><a href=\"#About\" data-toc-modified-id=\"About-1.6\"><span class=\"toc-item-num\">1.6&nbsp;&nbsp;</span>About</a></span></li></ul></li></ul></div>"
   ]
  },
  {
   "cell_type": "markdown",
   "metadata": {},
   "source": [
    "# Programming and Automation Techniques for Psychologists\n",
    "---\n",
    "Welcome! Our mission is to teach you how to stop relying on point-and-click experiment packages and program your own experiments, script common tasks, organize your data, and in the process, become a better scientist.\n",
    "\n",
    "In Spring, 2018 we will be meeting on Thursdays 9:00am-11:30am in Psych 634. The class is taught by Prof. Gary Lupyan ([lab page](http://sapir.psych.wisc.edu)), (lupyan _at_ wisc dot edu).\n",
    "\n",
    "\n",
    "## Why Program?\n",
    "---\n",
    "Knowing how to program and how to automate common tasks will make your life (or at least your academic life) better. Much better. A programmatic approach will allow you to create experiments in hours that would take days or weeks of fiddling in point-and-click packages like Eprime. Programming your experiments will give you complete control overy every aspect of the procedure. You will never again need to worry about whether you can implement your experiment _in_ some program. If you can think it, you can program it.  A globally programmatic approach to behavioral research will also mean that you will never have to shuffle lists in Excel to create the proper counterbalancing or randomize things. You will never have to copy and paste data files, or `gasp` manually code people's (objective) responses. Changing the size of 1000 images or measuring the onset latency of a voice response becomes as simple as executing a little program, which at the end of the class, you will be able to write from scratch.\n",
    "\n",
    "At the end of the class you'll be comfortable with creating full-blown experiments using Python and Psychopy. You will learn how to design experiments in a programmatic way (no pointing, no clicking) and be amazed with your increase in efficiency. In addition to coding experiments, by the end of the class you'll be on your way to doing all sorts of fancy schmancy things in Python and command-line tools (e.g., data massaging of all sorts, (basic) corpus linguistics, automatic image and audio processing, and collecting some data online. The world will be your oyster.  Mmm, oysters.\n",
    "\n",
    "## Class philosophy\n",
    "---\n",
    "Programming, as taught by computer scientists, emphasizes lots of theory (pointers, O-notation, garbage collection) and relatively abstract problem solving (e.g., implementing sort algorithms, navigating trees, recursive functions). Although this is an excelelnt way to gain a deep understanding of computer science, we are betting that it is not the best way to teach applied programming skills in a short amount of time to non computer-scientists. In this class we'll be taking a more applied approach. Every exercise we do will introduce students to a skill relevant to solving problems commonly encountered in behavioral research. We'll learn some theory along the way, but the focus will be on practical how-to solutions. If you've never programmed before, you're in for an initially steep learning curve, but it will flatten out quickly, and your mind will be blown at what you are able to accomplish. If your only experience with programming came from data-analysis environments like R or environments specially created for scientific computing like MATLAB, you will appreciate the power and elegance of Python. If you have some experience programming in languages like Java and C, you will find the transition to Python itself quite easy, and will learn a lot about how to make efficient use of Python and various open-source tools for quickly moving from an experiment idea to analyzable data. \n",
    "\n",
    "## What now?\n",
    "---\n",
    "* Begin by following the _download and install_ instructions above to set up your Python environment.\n",
    "\n",
    "* If you are in the class, make sure you've joined the Github repository, installed Slack, and joined the class channel (check for invite in your mailbox or email me if you don't see one). For those using this site as a tutorial: I have taken down the posted solutions in preparation for the Spring semester, but if you need a solution (or any code that's not posted), please email me (lupyan _at_ wisc dot edu). \n",
    "\n",
    "* Watch the [*What is Python and how do I run it screencast*](https://www.youtube.com/watch?v=j2jhv29PIoM&feature=youtu.be) \n",
    "\n",
    "The GitHub repository for the Jupyter Notebooks and scripts that generate these pages is [here](https://github.com/lupyanlab/programming_for_psychologists)."
   ]
  },
  {
   "cell_type": "markdown",
   "metadata": {
    "hide_input": false
   },
   "source": [
    "## Schedule"
   ]
  },
  {
   "cell_type": "code",
   "execution_count": 8,
   "metadata": {
    "hide_input": true
   },
   "outputs": [
    {
     "data": {
      "text/html": [
       "\n",
       "        <iframe\n",
       "            width=\"700\"\n",
       "            height=\"750\"\n",
       "            src=\"week_by_week_schedule/index.html\"\n",
       "            frameborder=\"0\"\n",
       "            allowfullscreen\n",
       "        ></iframe>\n",
       "        "
      ],
      "text/plain": [
       "<IPython.lib.display.IFrame at 0x10e592590>"
      ]
     },
     "execution_count": 8,
     "metadata": {},
     "output_type": "execute_result"
    }
   ],
   "source": [
    "from IPython.display import IFrame\n",
    "IFrame('week_by_week_schedule/index.html', width=700, height=750)"
   ]
  },
  {
   "cell_type": "markdown",
   "metadata": {},
   "source": [
    "## Feedback\n",
    "---\n",
    "If you are currently enrolled in the class, please use the Slack channel. If you are browsing these resources and have a comment/question, please email: lupyan at wisc dot edu. "
   ]
  },
  {
   "cell_type": "markdown",
   "metadata": {
    "collapsed": true
   },
   "source": [
    "## About\n",
    "---\n",
    "Gary Lupyan is an Associate Professor of Psychology at University of Wisconsin-Madison. See the [lab webpage](http://sapir.psych.wisc.edu) for info on research and lab openings."
   ]
  }
 ],
 "metadata": {
  "kernelspec": {
   "display_name": "Python 2",
   "language": "python",
   "name": "python2"
  },
  "language_info": {
   "codemirror_mode": {
    "name": "ipython",
    "version": 2
   },
   "file_extension": ".py",
   "mimetype": "text/x-python",
   "name": "python",
   "nbconvert_exporter": "python",
   "pygments_lexer": "ipython2",
   "version": "2.7.13"
  },
  "toc": {
   "nav_menu": {},
   "number_sections": true,
   "sideBar": true,
   "skip_h1_title": false,
   "toc_cell": true,
   "toc_position": {},
   "toc_section_display": "block",
   "toc_window_display": false
  }
 },
 "nbformat": 4,
 "nbformat_minor": 1
}
