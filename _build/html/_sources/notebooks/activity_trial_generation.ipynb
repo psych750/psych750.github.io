{
 "cells": [
  {
   "cell_type": "markdown",
   "metadata": {},
   "source": [
    "# A couple trial-generation activities\n",
    "\n",
    "Before you type anything, think about how to go about solving these. Try to think of two ways. Which one is easier? Do the easy one!"
   ]
  },
  {
   "cell_type": "markdown",
   "metadata": {},
   "source": [
    "## Exercise 1\n",
    "Write a function to create a **qusi-random** sequence of these animals\n",
    "```python\n",
    "animals = ['dog','cat','cow','pig','mouse','hamster','elephant','zebra']\n",
    "```\n",
    "\n",
    "Your function should accept the list as an argument and also a length parameter which indicates how long a list to create. Check to make sure that the length is at minimum the length of the list. If it's less than that, throw an error. You might find `random.sample()` useful.\n",
    "\n",
    "Now comes the tricky part. The sequence you generate should be randomized, but not have any animal repeating back to back.\n",
    "\n",
    "So:\n",
    "```python\n",
    "['cat','dog','elephant','zebra','pig','cow','hamster','mouse','mouse','dog'] \n",
    "```\n",
    "is not ok because mouse repeated twice in a row, but\n",
    "\n",
    "```python\n",
    "['cat','dog','elephant','zebra','pig','cow','hamster','cat','mouse','dog'] \n",
    "```\n",
    "is ok.\n",
    "\n",
    "```{tip}\n",
    "You can use list comprehension with random.choice to generate sequences of arbitrary length with replacement, e.g.,\n",
    "`random_list = [random.choice(animals) for _ in range(num_items)]`\n",
    "```\n"
   ]
  },
  {
   "cell_type": "markdown",
   "metadata": {},
   "source": [
    "## Exercise 2\n",
    "\n",
    "Now let's try something a little different. Generate a sequence of animals such that, on average, there is a some chance of a back-to-back repeat. You'll want to define a function:\n",
    "\n",
    "`def sequence_with_repeats(lst,length,prop_back_to_back)`\n",
    "\n",
    "If prop_back_to_back is .2 then the function will generate a random sample from `lst` that is `length` long and in which (about) 20% of the elements are back-to-back repeats. \n"
   ]
  },
  {
   "cell_type": "markdown",
   "metadata": {},
   "source": [
    "## Extra credit (3 extra pts on Exercise 5) \n",
    "\n",
    "You can start in class if there is time and finish at home (Slack me your solution)\n",
    "\n",
    "Now let's try the opposite. Ensure that in your sequence, the repeats are at least `min_lag` elements apart and at most `max_lag` elments apart. For example, if `min_lag` is 3 and `max_lag` is 5, then there should be a repeat every 3-5 trials. This is not a back-to-back repeat! So if you have a sequence `a, b, c, d` and there's a `min_lag` of 3 and a `max_lag` of 3, then the next element must be `a`. If `min_lag` is 3 and `max_lag` is 4, then the next element could be `a` or it could be a new element `e` in which case the following element must be `a`."
   ]
  }
 ],
 "metadata": {
  "kernelspec": {
   "display_name": "Python 3.8.13 ('psych750')",
   "language": "python",
   "name": "python3"
  },
  "language_info": {
   "codemirror_mode": {
    "name": "ipython",
    "version": 3
   },
   "file_extension": ".py",
   "mimetype": "text/x-python",
   "name": "python",
   "nbconvert_exporter": "python",
   "pygments_lexer": "ipython3",
   "version": "3.8.13"
  },
  "name": "_merged",
  "toc": {
   "nav_menu": {},
   "number_sections": true,
   "sideBar": true,
   "skip_h1_title": false,
   "toc_cell": true,
   "toc_position": {
    "height": "570px",
    "left": "0px",
    "right": "967px",
    "top": "111px",
    "width": "313px"
   },
   "toc_section_display": "block",
   "toc_window_display": true
  },
  "vscode": {
   "interpreter": {
    "hash": "57beecaf6908bae4f97de5e2dc8e8d0311fae5bc989593c172c307d13e31f6e4"
   }
  }
 },
 "nbformat": 4,
 "nbformat_minor": 1
}
