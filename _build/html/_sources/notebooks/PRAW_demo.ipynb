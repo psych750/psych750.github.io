{
 "cells": [
  {
   "cell_type": "markdown",
   "metadata": {},
   "source": [
    "# PRAW\n",
    "\n",
    "## Introduction to PRAW\n",
    "\n",
    "`PRAW` is an API wrapper for Reddit. It lets you access Reddit content without worrying about violating Reddit's data access rules. This notebook is designed to get you going with the basics. See [here](https://praw.readthedocs.io/en/stable/) for full documentation. \n",
    "\n",
    "## Installing PRAW\n",
    "\n",
    "Within the psych750 environment, install praw using `pip`:\n",
    "\n",
    "```\n",
    "pip install praw\n",
    "```\n",
    "\n",
    "## Working with PRAW\n",
    "We first need to create an instance of the Reddig class using an existing Reddit account. We created an account for testing purposes:"
   ]
  },
  {
   "cell_type": "code",
   "execution_count": 19,
   "metadata": {},
   "outputs": [
    {
     "name": "stdout",
     "output_type": "stream",
     "text": [
      "tutorial_for_praw\n"
     ]
    }
   ],
   "source": [
    "import praw\n",
    "\n",
    "r = praw.Reddit(\n",
    "    client_id = 'BHpXy52FE-8za63YtAqvOQ',\n",
    "    client_secret = 'GWEUpuB6M4q9YB2q9SOvY6OuGJ20JQ',\n",
    "    password='psych750!Tutorial',\n",
    "    user_agent = 'testscript by u/tutorial_for_praw',\n",
    "    username='tutorial_for_praw'\n",
    ")\n",
    "print(r.user.me()) # Checking if it's working, it should just show the user name"
   ]
  },
  {
   "cell_type": "markdown",
   "metadata": {},
   "source": [
    "## Authenticating PRAW to access Reddit\n",
    "\n",
    "To use PRAW, you need to authenticate with your Reddit account. For your own code, you'll want to use your own account (or create a new one). First create a new Reddit account or use one you already have. Then go [here](https://www.reddit.com/prefs/apps/) and click on the `are you a developer? create an app...` button to create an application. Name it `psych750` and choose `script`. Add in a short description and use `http://localhost:8080` as the redirect uri. The usename is your regular username and the password is that user's password. The client_id string is the code in the upper-left by user_script\n"
   ]
  },
  {
   "cell_type": "markdown",
   "metadata": {},
   "source": [
    "## Accessing top posts\n",
    "\n",
    "Hottest 10 posts on Reddit (as of the time of writing this tutorial)."
   ]
  },
  {
   "cell_type": "code",
   "execution_count": 2,
   "metadata": {},
   "outputs": [
    {
     "name": "stdout",
     "output_type": "stream",
     "text": [
      "Inhaled Cannabis Reduces Pain and Anxiety, Improves Health-Related Quality of Life in Patients with Treatment-Resistant Conditions\n",
      "Magic Pineapples🎤 (Carmen Lagala)\n",
      "Nancy Pelosi marching on Washington for Gay Rights in the 80s\n",
      "'Tried & Failed': Vladimir Putin Suffers Another Devastating Loss After 'Doomsday' Nuclear-Powered Torpedo Fails To Launch\n",
      "A church steeple blew off during a storm last night.\n",
      "TIL blacking out from alcohol doesn’t cause you to lose memories, but rather your brain temporarily loses the ability to create new memories during the blackout (so the memories never exist)\n",
      "Colorado voters approve free school meals for K-12 students\n",
      "Lorde: “Touring Has Become a Demented Struggle to Break Even or Face Debt”\n",
      "Can somebody ID this turtle? Found this critter boxed up on my driveway\n",
      "How to impress a girl by hiding a card behind your hand\n"
     ]
    }
   ],
   "source": [
    "for cur_submission in r.front.hot(limit = 10):\n",
    "    # print(cur_submission)\n",
    "    submission = r.submission(cur_submission)\n",
    "    print(submission.title)"
   ]
  },
  {
   "cell_type": "markdown",
   "metadata": {},
   "source": [
    "Let's look at one of them. [This submission](https://www.reddit.com/r/todayilearned/comments/ysm4ys/til_blacking_out_from_alcohol_doesnt_cause_you_to/) talks about how your brain temporarily loses the ability to create new memories when you experience a blackout from alcohol. It has more than 1000 comments and we can use PRAW to extract all the comments and see what people's opinions are. See [here](https://praw.readthedocs.io/en/stable/tutorials/comments.html#extracting-comments-with-praw) for info on extracting comments.\n",
    "\n",
    "Let's take a look at the top 5 comments."
   ]
  },
  {
   "cell_type": "markdown",
   "metadata": {},
   "source": [
    "## Accessing comments\n",
    "\n",
    "### Access comments via the submission's URL\n",
    "\n",
    "Let's acces top 5 comments of a particular submission. We can access the submission using its URL: "
   ]
  },
  {
   "cell_type": "code",
   "execution_count": 27,
   "metadata": {},
   "outputs": [
    {
     "name": "stdout",
     "output_type": "stream",
     "text": [
      "Anterograde amnesia: the inability to form new memories. Alcohol blackout is *temporary* anterograde amnesia; it goes away when the alcohol intoxication goes away. Permanent anterograde amnesia is a thing; my boss suffered a heart attack years ago, and it left him with permanent anterograde amnesia. When you cannot learn new information at all, it's pretty hard to work in I.T., where you have to learn new stuff all the time. Management retired him pretty quick.\n",
      "Pro tip: I'd you ever want to know if someone is \"Blacked Out\" ask them the same question a few times within a few minutes, they usually won't remember.\n",
      "I like to call this state Read Only Mode\n",
      "[Anterograde amnesia](https://en.wikipedia.org/wiki/Anterograde_amnesia).\n",
      "Some drugs which have the same effect are sometimes used for potentially mentally traumatic medical or dental procedures.\n"
     ]
    }
   ],
   "source": [
    "url = 'https://www.reddit.com/r/todayilearned/comments/ysm4ys/til_blacking_out_from_alcohol_doesnt_cause_you_to/'\n",
    "\n",
    "submission = r.submission(url = url)\n",
    "\n",
    "for top_level_comment in submission.comments[:5]:\n",
    "    print(top_level_comment.body)\n"
   ]
  },
  {
   "cell_type": "markdown",
   "metadata": {},
   "source": [
    "### Access comments via the submission's ID\n",
    "\n",
    "Or we can access it using its unique id (let's grab the hottest comments again -- different day than the ones listed above, so they'll be different. \n",
    "This time we'll output their titles along with their IDs and their poster's username."
   ]
  },
  {
   "cell_type": "code",
   "execution_count": 25,
   "metadata": {},
   "outputs": [
    {
     "name": "stdout",
     "output_type": "stream",
     "text": [
      "Almost Twice as Many Republicans Died From COVID Before the Midterms Than Democrats | The authors of a new study can’t say if this impacted the midterms, but say that it’s “plausible given just how stark the differences in vaccination rates have been, among Democrats and Republicans.” ywvvpv chrisdh79 \n",
      "\n",
      "\n",
      "Came back from the bathroom to find my seat had been double stolen. ywq0vq lewisisbrown \n",
      "\n",
      "\n",
      "Biden said Ukraine air defence missile responsible for Poland blast - NATO source ywp9wt flyingcatwithhorns \n",
      "\n",
      "\n",
      "Twitter chaos spills into public view as Musk clashes with and fires employees on the platform | CNN Business ywoieq Khalifa_Nomi \n",
      "\n",
      "\n",
      "They sell Swiss Army knives in the Zurich airport…after security. ywu2od YouMayDissagree \n",
      "\n",
      "\n",
      "TIL peanuts have more protein than any other nut. ywryol colorsnshapes888 \n",
      "\n",
      "\n",
      "Artemis has launched ywmd17 grees_g0 \n",
      "\n",
      "\n",
      "Arizona ywrzzu But_a_Jape \n",
      "\n",
      "\n",
      "PsBattle: Abandoned Japanese Hotel ywpgj8 rizlahh \n",
      "\n",
      "\n",
      "These companies ran an experiment: Pay workers their full salary to work fewer days. ywukjk Sariel007 \n",
      "\n",
      "\n"
     ]
    }
   ],
   "source": [
    "for cur_submission in r.front.hot(limit = 10):\n",
    "    # print(cur_submission)\n",
    "    submission = r.submission(cur_submission)\n",
    "    print(submission.title,submission.id,submission.author,'\\n')\n",
    "\n"
   ]
  },
  {
   "cell_type": "code",
   "execution_count": 26,
   "metadata": {
    "tags": [
     "hide-output"
    ]
   },
   "outputs": [
    {
     "name": "stdout",
     "output_type": "stream",
     "text": [
      "Welcome to r/science! This is a heavily moderated subreddit in order to keep the discussion on science. However, we recognize that many people want to discuss how they feel the research relates to their own personal lives, so to give people a space to do that, **personal anecdotes are allowed as responses to this comment**. Any anecdotal comments elsewhere in the discussion will be removed and our [normal comment rules]( https://www.reddit.com/r/science/wiki/rules#wiki_comment_rules) apply to all other comments.\n",
      "\n",
      "*I am a bot, and this action was performed automatically. Please [contact the moderators of this subreddit](/message/compose/?to=/r/science) if you have any questions or concerns.*\n",
      "From the article: COVID-19 is killing more Republicans than Democrats, according to a [new study](https://www.nber.org/system/files/working_papers/w30512/w30512.pdf) from the National Bureau of Economic Research. The study, titled Excess Death Rates for Republicans and Democrats During the COVID-19 Pandemic, used voter registration and death records to answer a question: is there a link between political affiliation and rates of COVID related death in the U.S.?\n",
      "\n",
      "The short answer is yes. “In 2018 and the early parts of 2020, excess death rates for Republicans and Democrats are similar, and centered around zero,” the study said. “Both groups experienced a similar large spike in excess deaths in the winter of 2020-2021. However, in the summer of 2021—after vaccines were widely available—the Republican excess death rate rose to nearly double that of Democrats, and this gap widened further in the winter of 2021.”\n",
      "\n",
      "The study attributes this to the vaccine uptake disparity between Republicans and Democrats, which has been widely documented as more Republicans refused to take the vaccine; the most vocal anti-vax voices were Republican politicians and some conservative news outlets: “The gap in excess death rates between Republicans and Democrats is concentrated in counties with low vaccination rates and only materializes after vaccines became widely available,” the study notes.\n",
      "It seems obvious in retrospect but remember how many of us didn't believe Hillary in the pizza basement meetings when she said Republicans would rather die than accept medicine from us.\n",
      "The math is pretty simple - 1.1 million dead, with a difference of roughly one third of that between the two parties (or 1100000/3 = 366,000). There are 435 districts. Assuming the deaths are relatively evenly spread between the districts that would mean about 840 deaths per district.  \n",
      "\n",
      "\n",
      "So far I dont think any races have been that close this year. Even so, it is likely that most of the GOP deaths were in heavy GOP districts and most of the Dem deaths in heavy Dem districts (both for practical math reasons and also the reality of where people died).  \n",
      "\n",
      "\n",
      "So that would mean that the differential in swing districts is even smaller - maybe a few hundred votes, which again, is a threshold which hasnt been met in any House race this year, yet.  \n",
      "\n",
      "\n",
      "So now, it didnt make a difference in the election at the House level. Maybe some statewide races though.\n",
      "Looks like everyone in the comments here is too busy jerking themselves off to have read the article and didn't see that it specifically linked to analysis debunking the idea that covid death discrepancies had an affect on the midterm results ([https://www.washingtonpost.com/politics/2022/11/14/coronavirus-midterm-elections-republicans/](https://www.washingtonpost.com/politics/2022/11/14/coronavirus-midterm-elections-republicans/)).\n",
      "\n",
      "This is Vice. It's not a scientific publication. The headline is based on an interviewer asking one of the study's scientists a question about the effect on elections and he answered with \"I dunno maybe.\"\n",
      "\n",
      "The death discrepancy is real, it swinging an election does not seem to be.\n"
     ]
    }
   ],
   "source": [
    "submission = r.submission(id='ywvvpv')\n",
    "for top_level_comment in submission.comments[:5]:\n",
    "    print(top_level_comment.body)\n"
   ]
  },
  {
   "cell_type": "markdown",
   "metadata": {},
   "source": [
    "## Using NLTK to extract info from comments"
   ]
  },
  {
   "cell_type": "markdown",
   "metadata": {},
   "source": [
    "Let's use `nltk` to extract some information from these comments. It will take a little while because we're interacting in real time with the Reddit site for pulling these data.\n",
    "\n",
    "```{note}\n",
    "See [here](https://praw.readthedocs.io/en/stable/tutorials/comments.html#the-replace-more-method) for info on the replace_more method.\n",
    "```"
   ]
  },
  {
   "cell_type": "code",
   "execution_count": 11,
   "metadata": {},
   "outputs": [],
   "source": [
    "import nltk\n",
    "\n",
    "all_comments = ''\n",
    "submission.comments.replace_more()\n",
    "for top_level_comment in submission.comments:\n",
    "    all_comments += top_level_comment.body\n",
    "\n",
    "all_comments_tokens = nltk.word_tokenize(all_comments)\n",
    "all_comments_pos = nltk.pos_tag(all_comments_tokens)\n"
   ]
  },
  {
   "cell_type": "code",
   "execution_count": 14,
   "metadata": {},
   "outputs": [
    {
     "name": "stdout",
     "output_type": "stream",
     "text": [
      "[('memories', 71), ('memory', 50), ('drunk', 45), ('time', 39), ('night', 39), ('brain', 35), ('’', 33), ('*', 29), ('people', 27), ('alcohol', 26), ('someone', 24), ('t', 24), ('day', 24), ('term', 22), ('thing', 20), ('blackout', 18), ('years', 16), ('times', 15), ('things', 15), ('way', 15)]\n"
     ]
    }
   ],
   "source": [
    "all_comments_nouns = [word[0].lower() for word in all_comments_pos if word[1][:2] == 'NN']\n",
    "print(nltk.FreqDist(all_comments_nouns).most_common(20))\n"
   ]
  },
  {
   "cell_type": "markdown",
   "metadata": {},
   "source": [
    "## Accessing upvotes\n",
    "\n",
    "Let's find out how many upvotes it received:"
   ]
  },
  {
   "cell_type": "code",
   "execution_count": 15,
   "metadata": {},
   "outputs": [
    {
     "name": "stdout",
     "output_type": "stream",
     "text": [
      "This submission has: 53938 upvotes!\n"
     ]
    }
   ],
   "source": [
    "print('This submission has: ' + str(submission.score) + ' upvotes!')"
   ]
  },
  {
   "cell_type": "markdown",
   "metadata": {},
   "source": [
    "What about downvotes? PRAW does not have a downvote attribute you can look up. It only has a downvote method that lets you actually downvote the submission. So don't do that unless you want to downvote it! To find the number of downvotes, we need to calculate it based on the score (number of upvotes) and the upvote ratio:"
   ]
  },
  {
   "cell_type": "code",
   "execution_count": 16,
   "metadata": {},
   "outputs": [
    {
     "name": "stdout",
     "output_type": "stream",
     "text": [
      "This submission has: 3776 downvotes!\n"
     ]
    }
   ],
   "source": [
    "print(f'This submission has: {str(round(submission.score * (1-submission.upvote_ratio)))} downvotes!')"
   ]
  },
  {
   "cell_type": "markdown",
   "metadata": {},
   "source": [
    "## Demo of accessing most frequent nouns used in a subreddit's posts\n",
    "Let's try something else. Let's take a look at what people in Wisconsin are discussing these days."
   ]
  },
  {
   "cell_type": "code",
   "execution_count": 17,
   "metadata": {},
   "outputs": [
    {
     "name": "stdout",
     "output_type": "stream",
     "text": [
      "[('wisconsin', 23), ('’', 13), ('milwaukee', 5), ('johnson', 5), ('county', 5), ('deer', 4), ('state', 4), ('abortion', 4), ('%', 3), ('wi', 3), ('green', 3), ('bay', 3), ('voters', 3), ('mandela', 2), ('loss', 2)]\n"
     ]
    }
   ],
   "source": [
    "all_hot_submissions = ''\n",
    "for cur_submission in r.subreddit(\"wisconsin\").hot():\n",
    "    submission = r.submission(cur_submission)\n",
    "    all_hot_submissions += submission.title\n",
    "\n",
    "all_hot_submissions_tokens = nltk.word_tokenize(all_hot_submissions)\n",
    "all_hot_submissions_pos = nltk.pos_tag(all_hot_submissions_tokens)\n",
    "all_hot_submissions_nouns = [word[0].lower() for word in all_hot_submissions_pos if word[1][:2] == 'NN']\n",
    "\n",
    "print(nltk.FreqDist(all_hot_submissions_nouns).most_common(15))"
   ]
  },
  {
   "cell_type": "markdown",
   "metadata": {},
   "source": [
    "Not a big surprise, people are mostly talking about the recent election.\n"
   ]
  },
  {
   "cell_type": "markdown",
   "metadata": {},
   "source": [
    "## Accessing user info of hottest post \n"
   ]
  },
  {
   "cell_type": "code",
   "execution_count": 23,
   "metadata": {},
   "outputs": [
    {
     "name": "stdout",
     "output_type": "stream",
     "text": [
      "The hottest submission in r/wisconsin is: Yay…more lanes authored by Nimzay98\n"
     ]
    }
   ],
   "source": [
    "for cur_submission in r.subreddit(\"wisconsin\").hot(limit = 1):\n",
    "    hottest_submission_in_wisconsin = r.submission(cur_submission)\n",
    "\n",
    "print(f'The hottest submission in r/wisconsin is: {hottest_submission_in_wisconsin.title} by {hottest_submission_in_wisconsin.author}')\n"
   ]
  },
  {
   "cell_type": "markdown",
   "metadata": {},
   "source": [
    "Can we find out more about this user? What's this person's karma? Where else has this user posted within the last month?"
   ]
  },
  {
   "cell_type": "code",
   "execution_count": 67,
   "metadata": {},
   "outputs": [
    {
     "name": "stdout",
     "output_type": "stream",
     "text": [
      "this user has 46036 karma!\n",
      "This user has posted in TibiaMMO in the past month.\n",
      "This user has posted in madisonwi in the past month.\n",
      "This user has posted in blurrypicturesofdogs in the past month.\n"
     ]
    }
   ],
   "source": [
    "import time\n",
    "\n",
    "user_instance = hottest_submission_in_wisconsin.author\n",
    "print('this user has ' + str(user_instance.comment_karma) + ' karma!')\n",
    "\n",
    "all_subreddits_user_posted = []\n",
    "for cur_submission in user_instance.submissions.new():\n",
    "    submission = r.submission(cur_submission)\n",
    "    all_subreddits_user_posted.append(submission.subreddit)\n",
    "    if time.time() - submission.created_utc > 60*60*24*30: #we'll walk through what's going on here in class\n",
    "        break\n",
    "\n",
    "unique_subreddits = set(all_subreddits_user_posted)\n",
    "for cur_subreddit in unique_subreddits:\n",
    "    print('This user has posted in ' + str(cur_subreddit.display_name) + ' in the past month.')"
   ]
  },
  {
   "cell_type": "markdown",
   "metadata": {},
   "source": [
    "We can tell that this user is a very active reddit user, probably from Madison and like dogs.\n",
    "\n"
   ]
  },
  {
   "cell_type": "markdown",
   "metadata": {},
   "source": [
    "### Again with additional commentary\n",
    "\n",
    "Let's unpack the above code a bit.\n",
    "\n",
    "Let's grab the top posts from MadisonWI (the top post here tends to be from the moderator, so we'll go with the second highest)"
   ]
  },
  {
   "cell_type": "code",
   "execution_count": 71,
   "metadata": {},
   "outputs": [
    {
     "name": "stdout",
     "output_type": "stream",
     "text": [
      "My immunocompromised partner never got her absentee ballot. She voted anyway. #WisconsinPandemicPrimary number61971\n"
     ]
    }
   ],
   "source": [
    "import time\n",
    "from datetime import datetime\n",
    "\n",
    "for cur_submission in r.subreddit(\"MadisonWI\").top(limit = 2): \n",
    "    top_submission_in_madison = r.submission(cur_submission) #we assign the submission to a new variable\n",
    "\n",
    "user_instance = top_submission_in_madison.author #now create a user instance from this submission\n",
    "\n",
    "print(top_submission_in_madison.title,'||',top_submission_in_madison.author) \n"
   ]
  },
  {
   "cell_type": "markdown",
   "metadata": {},
   "source": [
    "There is something a little peculiar here. If we print `top_submission_in_madison.author`, it prints as a string. But if we look at it, we see it's not a string at all:"
   ]
  },
  {
   "cell_type": "code",
   "execution_count": 72,
   "metadata": {},
   "outputs": [
    {
     "data": {
      "text/plain": [
       "praw.models.reddit.redditor.Redditor"
      ]
     },
     "execution_count": 72,
     "metadata": {},
     "output_type": "execute_result"
    }
   ],
   "source": [
    "type(top_submission_in_madison.author)"
   ]
  },
  {
   "cell_type": "markdown",
   "metadata": {},
   "source": [
    "We can see that it's an object in the Redditor class. We can find out which precise methods it has by using `help(top_submission_in_madison.author)`\n",
    "but the eaier way to go is just to look at the documentation. Searching google for `praw.models.reddit.redditor.Redditor` got me [here](https://praw.readthedocs.io/en/stable/code_overview/models/redditor.html)\n",
    "\n",
    "Now let's find this user's previous 15 posts:"
   ]
  },
  {
   "cell_type": "code",
   "execution_count": 78,
   "metadata": {},
   "outputs": [
    {
     "name": "stdout",
     "output_type": "stream",
     "text": [
      "2022-10-31 12:02:55 politics || 9 || Well, America, You Were a Nice Idea While You Lasted \n",
      "\n",
      "2022-10-28 15:25:13 politics || 9 || Senator Tom Cotton brags about ignoring Trump impeachment evidence \n",
      "\n",
      "2022-10-27 14:00:40 politics || 1 || The Federal Courts Are Out of Control Right Now \n",
      "\n",
      "2022-10-24 19:23:57 EDH || 10 || What commander do you use for the precon 40K decks? \n",
      "\n",
      "2022-10-14 15:45:49 politics || 0 || Ending the Jan. 6 Hearings With a Trump Subpoena Was a Mistake \n",
      "\n",
      "2022-09-20 10:56:48 LateStageCapitalism || 10 || Small-Town Sewers Are Getting Tech-Like Premiums \n",
      "\n",
      "2022-09-19 14:28:04 politics || 2 || Ruling the US supreme court isn’t enough. The right wants to amend the constitution \n",
      "\n",
      "2022-09-15 16:16:15 politics || 148 || Mary Trump on How Her Uncle Keeps Getting Away With It \n",
      "\n",
      "2022-09-13 15:07:40 LateStageCapitalism || 53 || Johnson & Johnson Is Trying the 'Texas Two-Step' to Avoid Accountability \n",
      "\n",
      "2022-09-12 15:01:23 politics || 491 || Herschel Walker Is the Reductio ad Absurdum of Every \"Not a Politician\" Campaign \n",
      "\n",
      "2022-09-12 14:32:37 MarchAgainstNazis || 35 || The 1776 Cosplayers Are Playing with Fire and It's Headed Nowhere Good \n",
      "\n",
      "2022-09-12 14:14:30 politics || 375 || The 1776 Cosplayers Are Playing with Fire and It's Headed Nowhere Good \n",
      "\n",
      "2022-08-24 09:05:13 politics || 52 || Is the Public Ready to Think About 'Public Health' Again If the Bird Flu Gets Bad? \n",
      "\n",
      "2022-08-19 15:54:14 politics || 557 || We Don’t Need a Trump-Inspired Civil War for Things to Get Real Bad, Real Fast \n",
      "\n",
      "2022-08-13 13:46:43 Michigan || 77 || Au Train sunset, Aug 12 \n",
      "\n",
      "2022-07-29 20:38:47 politics || 1142 || Alito’s Speech Mocking Foreign Leaders Has a Deeper, Darker Message \n",
      "\n",
      "2022-07-15 13:23:44 politics || 1 || What Does It Take to End a Political Career Nowadays, Anyway? \n",
      "\n"
     ]
    }
   ],
   "source": [
    "for num_submission,cur_submission in enumerate(user_instance.submissions.new()): #now iterate through the user's submissions\n",
    "    submission = r.submission(cur_submission) # create a submission instance\n",
    "    print(datetime.fromtimestamp(submission.created_utc), submission.subreddit, '||', submission.score, '||', submission.title,'\\n') #access the submission's attributes: \n",
    "    if num_submission > 15: #stop after 15 submissions \n",
    "        break\n"
   ]
  },
  {
   "cell_type": "markdown",
   "metadata": {},
   "source": [
    "## A joke"
   ]
  },
  {
   "cell_type": "code",
   "execution_count": null,
   "metadata": {},
   "outputs": [
    {
     "name": "stdout",
     "output_type": "stream",
     "text": [
      "What's the difference between grey and gray?\n",
      "One is a color, and the other is a colour.\n"
     ]
    }
   ],
   "source": [
    "submission = r.submission('yshook') #the argument is the submission's id\n",
    "print(submission.title)\n",
    "print(submission.selftext)"
   ]
  }
 ],
 "metadata": {
  "kernelspec": {
   "display_name": "Python 3.8.13 ('psych750')",
   "language": "python",
   "name": "python3"
  },
  "language_info": {
   "codemirror_mode": {
    "name": "ipython",
    "version": 3
   },
   "file_extension": ".py",
   "mimetype": "text/x-python",
   "name": "python",
   "nbconvert_exporter": "python",
   "pygments_lexer": "ipython3",
   "version": "3.8.13"
  },
  "vscode": {
   "interpreter": {
    "hash": "57beecaf6908bae4f97de5e2dc8e8d0311fae5bc989593c172c307d13e31f6e4"
   }
  }
 },
 "nbformat": 4,
 "nbformat_minor": 2
}
