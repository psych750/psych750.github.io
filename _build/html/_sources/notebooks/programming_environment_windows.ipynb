{
 "cells": [
  {
   "cell_type": "markdown",
   "metadata": {
    "toc": true
   },
   "source": [
    "<h1>Table of Contents<span class=\"tocSkip\"></span></h1>\n",
    "<div class=\"toc\" style=\"margin-top: 1em;\"><ul class=\"toc-item\"><li><span><a href=\"#Programming-Environment:-Windows-10\" data-toc-modified-id=\"Programming-Environment:-Windows-10-1\"><span class=\"toc-item-num\">1&nbsp;&nbsp;</span>Programming Environment: Windows 10</a></span></li><li><span><a href=\"#Installing-Cmder\" data-toc-modified-id=\"Installing-Cmder-2\"><span class=\"toc-item-num\">2&nbsp;&nbsp;</span>Installing Cmder</a></span></li><li><span><a href=\"#Installing-the-Anaconda-Distribution-of-Python\" data-toc-modified-id=\"Installing-the-Anaconda-Distribution-of-Python-3\"><span class=\"toc-item-num\">3&nbsp;&nbsp;</span>Installing the Anaconda Distribution of Python</a></span><ul class=\"toc-item\"><li><span><a href=\"#Installing-the-packages\" data-toc-modified-id=\"Installing-the-packages-3.1\"><span class=\"toc-item-num\">3.1&nbsp;&nbsp;</span>Installing the packages</a></span></li><li><span><a href=\"#Test-Anaconda-Python-Install\" data-toc-modified-id=\"Test-Anaconda-Python-Install-3.2\"><span class=\"toc-item-num\">3.2&nbsp;&nbsp;</span>Test Anaconda Python Install</a></span></li><li><span><a href=\"#Test-PsychoPy\" data-toc-modified-id=\"Test-PsychoPy-3.3\"><span class=\"toc-item-num\">3.3&nbsp;&nbsp;</span>Test PsychoPy</a></span></li><li><span><a href=\"#Test-spyder\" data-toc-modified-id=\"Test-spyder-3.4\"><span class=\"toc-item-num\">3.4&nbsp;&nbsp;</span>Test spyder</a></span></li></ul></li><li><span><a href=\"#Installing-pyo\" data-toc-modified-id=\"Installing-pyo-4\"><span class=\"toc-item-num\">4&nbsp;&nbsp;</span>Installing pyo</a></span><ul class=\"toc-item\"><li><span><a href=\"#Test-pyo\" data-toc-modified-id=\"Test-pyo-4.1\"><span class=\"toc-item-num\">4.1&nbsp;&nbsp;</span>Test pyo</a></span></li></ul></li><li><span><a href=\"#Installing-Sublime-Text\" data-toc-modified-id=\"Installing-Sublime-Text-5\"><span class=\"toc-item-num\">5&nbsp;&nbsp;</span>Installing Sublime Text</a></span><ul class=\"toc-item\"><li><span><a href=\"#Create-a-shortcut-to-Sublime-Text\" data-toc-modified-id=\"Create-a-shortcut-to-Sublime-Text-5.1\"><span class=\"toc-item-num\">5.1&nbsp;&nbsp;</span>Create a shortcut to Sublime Text</a></span></li></ul></li><li><span><a href=\"#Optional:-Creating-a-virtual-environment\" data-toc-modified-id=\"Optional:-Creating-a-virtual-environment-6\"><span class=\"toc-item-num\">6&nbsp;&nbsp;</span>Optional: Creating a virtual environment</a></span></li></ul></div>"
   ]
  },
  {
   "cell_type": "markdown",
   "metadata": {},
   "source": [
    "Programming Environment: Windows 10\n",
    "===\n",
    "We will be using the Anaconda distribution of Python (2.7). This section will guide you on installing Anaconda, PsychoPy, pyo, and Sublime Text. We will be using the Anaconda environment which is bundled with lots of packages for scientific computing, allows you to more easily install packages and create virtual environments, and comes with a handy IDE (Integrated Development Environment) called **Spyder**. "
   ]
  },
  {
   "cell_type": "markdown",
   "metadata": {},
   "source": [
    "Installing Cmder\n",
    "===\n",
    "\n",
    "We'll be using various shell commands in the class. Windows terminal (`cmd`) is pretty crummy and although there is a Linux shell now available for Windows 10, the shell is not integrated with the Windows system making its use very inconvenient. As a solution we'll use `Cmder`.\n",
    "\n",
    "* [Download Cmder](http://cmder.net/) -- full version -- and uncompress it into wherever you want to run it from (probably not your Downloads folder). \n",
    "\n",
    "Open it by double clicking on Cmder.exe. Pin it to the taskbar. Now start an Administrator shell like so:\n",
    "![title](images/cmder_integrate.png)\n",
    "\n",
    "Navigate to the directory containing Cmder using `cd`. You can verify by typing `ls` and making sure you see Cmder.exe in the list.\n",
    "\n",
    "To integrate Cmder with Windows explorer type `.\\cmder.exe /REGISTER ALL` in the Cmder prompt\n",
    "\n",
    "<div class=\"alert alert-block alert-info\">\n",
    "If you are getting errors make sure you are inside the directory containing Cmder.exe. Also make sure you are typing the commands exactly as they appear above. Spaces matter.\n",
    "</div>\n",
    "\n",
    "\n",
    "Now you can right click on any directory in Windows explorer and choose to open the contents with Cmder.\n"
   ]
  },
  {
   "cell_type": "markdown",
   "metadata": {},
   "source": [
    "Installing the Anaconda Distribution of Python\n",
    "===\n",
    "\n",
    "* Download and Install the **Python 2.7 32 bit** [Miniconda installer](https://conda.io/miniconda.html). During installation you will be prompted to add Anaconda to the PATH. Select to do that (even though it will tell you it's not the recommended option).\n",
    "\n",
    "For simplicity, we'll install all the Python packages we'll need into the `root` environment of Anaconda. If you want a separate environment for `PsychoPy`, see [Creating a virtual environment](#Optional:-Creating-a-virtual-environment). If you don't know what virtual environments are and want to learn, see [here](https://conda.io/docs/user-guide/tasks/manage-environments.html)\n",
    "\n",
    "## Installing the packages\n",
    "* Once Miniconda is installed, go to `Cmder` and paste in the following commands, press `enter` and wait for everything to install:\n",
    "\n",
    "``` bash\n",
    "conda install spyder jupyter psutil\n",
    "pip install numpy scipy matplotlib pandas pyopengl pyglet==1.2.4 pillow moviepy lxml \n",
    "pip install openpyxl configobj future json_tricks wxpython pypiwin32\n",
    "pip install psychopy\n",
    "```\n",
    "\n",
    "<div class=\"alert alert-block alert-info\">\n",
    "If you have install errors, note them and let me know via the #installation_problems Slack sub-channel.\n",
    "</div>\n",
    "\n",
    "## Test Anaconda Python Install\n",
    "====\n",
    "* In Cmder, enter `python`, now instead of the Mac-bundled Python, you should see something like:\n",
    "```bash\n",
    "$ python \n",
    "Python 2.7.14 |Anaconda, Inc.| (default, Nov  8 2017, 13:40:13) [MSC v.1500 32 bit (Intel)] on win32\n",
    "Type \"help\", \"copyright\", \"credits\" or \"license\" for more information.\n",
    "```\n",
    "\n",
    "## Test PsychoPy\n",
    "====\n",
    "* Now let's test that `PsychoPy` installed correctly. At the python prompt type:\n",
    "\n",
    "```python\n",
    ">>> import psychopy\n",
    ">>> psychopy.__version__\n",
    "'1.85.3'\n",
    "```\n",
    "\n",
    "If you see this, you know that the PsychoPy library installed correctly. \n",
    "\n",
    "* Let's test that PsychoPy can successfully open a new window\n",
    "\n",
    "```python\n",
    ">>>from psychopy import visual\n",
    ">>>visual.Window((400,400),color=\"green\")\n",
    "```\n",
    "\n",
    "When you hit enter after the second line, you should see a small green window. \n",
    "<div class=\"alert alert-block alert-info\">\n",
    "Click on Cmder and enter exit() to quit (you won't be able to close the window like a regular Windows window)\n",
    "</div>\n",
    "\n",
    "\n",
    "\n",
    "## Test spyder\n",
    "===\n",
    "* Now let's test the spyder graphical IDE. In CMDer type `spyder`. You should see something like this:\n",
    "![title](images/spyder.png)\n",
    "\n",
    "If that looks a like RStudio, that's because all these IDEs are descended from a common ancestor. \n"
   ]
  },
  {
   "cell_type": "markdown",
   "metadata": {},
   "source": [
    "Installing pyo\n",
    "===\n",
    "\n",
    "* The last thing we need to do is install the `pyo` package which `PsychoPy` uses to play audio files with low(er) latencies. There are other alternatives for playing sounds, but in my testing, `pyo` consistently produces more robust performance.\n",
    "\n",
    "Download and install PYO from [here](http://ajaxsoundstudio.com/downloads/pyo_0.8.0_py2.7_setup.exe). \n",
    "\n",
    "## Test pyo\n",
    "===\n",
    "* In Cmder, enter `python`, then:\n",
    "``` python\n",
    "    >>>import pyo\n",
    "    pyo version 0.8.0 (uses single precision)\n",
    "```\n",
    "\n",
    "If you see this, all is good.\n"
   ]
  },
  {
   "cell_type": "markdown",
   "metadata": {},
   "source": [
    "Installing Sublime Text\n",
    "===\n",
    "Sublime Text is a popular text editor with a very large collection of plugins and themes that allow you to make it anything you want it to be. It is not free, but has a generous trial-use policy. If you like it, please purchase a license.\n",
    "\n",
    "To install Sublime Text, go to the [Downloads](http://www.sublimetext.com/3) page, and click on the Windows installer. \n",
    "\n",
    "To use it efficiently, you'll want to learn some [keyboard shortcuts](https://www.shortcutfoo.com/app/dojos/sublime-text-3-win/cheatsheet). \n",
    "\n",
    "There are lots of handy packages for Sublime Text. To install them, you'll want to first install [Package Control](https://packagecontrol.io/installation) which allows you to browse and install packages directly from within Sublime Text. Some especially handy ones are [Origami](https://packagecontrol.io/packages/Origami), [SublimeREPL](https://packagecontrol.io/packages/SublimeREPL), [AdvancedCSV](https://packagecontrol.io/packages/Advanced%20CSV), and [Terminal](https://packagecontrol.io/packages/Terminal).\n",
    "\n",
    "## Create a shortcut to Sublime Text\n",
    "\n",
    "* It's very handy to be able to open a file with sublime text from the terminal. The easiest way to do this is with an `alias`. \n",
    "\n",
    "Using Sublime Text, open the `user-aliases.cmd` file inside `cmder\\config` (cmder is inside whatever directory you're using it from). \n",
    "\n",
    "Add an alias to Sublime Text by adding the following line into `user-aliases.cmd`.\n",
    "\n",
    "```bash\n",
    "s=\"C:\\Program Files\\Sublime Text 3\\sublime_text.exe\" $1  \n",
    "```\n",
    "\n",
    "Save the file and restart Cmder. Now you should be able to open any file inside Sublime Text using `s`, e.g., `s my_file.txt` "
   ]
  },
  {
   "cell_type": "markdown",
   "metadata": {},
   "source": [
    "# Optional: Creating a virtual environment\n",
    "===\n",
    "\n",
    "If you already have a Anaconda environment that you're happy with, and don't want to mess with, or you want to create a separate Python environment for this class, execute the following two lines at the Terminal ***before*** following the [package installation instructions](#Installing-the-packages):\n",
    "\n",
    "```bash\n",
    "conda create -n psychopy pip \n",
    "source activate psychopy\n",
    "```\n"
   ]
  },
  {
   "cell_type": "markdown",
   "metadata": {},
   "source": [
    "[top](#)"
   ]
  },
  {
   "cell_type": "markdown",
   "metadata": {},
   "source": [
    "- - -\n",
    "[Previous: Programming Environment](http://nbviewer.ipython.org/urls/raw.github.com/ehmatthes/intro_programming/master/notebooks/programming_environment.ipynb) | \n",
    "[Home](http://nbviewer.ipython.org/urls/raw.github.com/ehmatthes/intro_programming/master/notebooks/index.ipynb) | \n",
    "[Next: Hello World](http://nbviewer.ipython.org/urls/raw.github.com/ehmatthes/intro_programming/master/notebooks/hello_world.ipynb)"
   ]
  }
 ],
 "metadata": {
  "kernelspec": {
   "display_name": "Python 2",
   "language": "python",
   "name": "python2"
  },
  "language_info": {
   "codemirror_mode": {
    "name": "ipython",
    "version": 2
   },
   "file_extension": ".py",
   "mimetype": "text/x-python",
   "name": "python",
   "nbconvert_exporter": "python",
   "pygments_lexer": "ipython2",
   "version": "2.7.13"
  },
  "toc": {
   "nav_menu": {
    "height": "14px",
    "width": "160px"
   },
   "number_sections": true,
   "sideBar": true,
   "skip_h1_title": false,
   "toc_cell": true,
   "toc_position": {
    "height": "565px",
    "left": "0px",
    "right": "20px",
    "top": "111px",
    "width": "224px"
   },
   "toc_section_display": "block",
   "toc_window_display": true
  }
 },
 "nbformat": 4,
 "nbformat_minor": 1
}
