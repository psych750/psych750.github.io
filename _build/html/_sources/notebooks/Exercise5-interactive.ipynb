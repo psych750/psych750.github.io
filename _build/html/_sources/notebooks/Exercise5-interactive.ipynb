{
 "cells": [
  {
   "cell_type": "markdown",
   "metadata": {},
   "source": [
    "# Exercise 5 - Interactive experiments\n",
    "\n",
    "[Accept the exercise](https://classroom.github.com/a/bxyDH5Uq)\n",
    "\n",
    "Inside the exercise 5 repository is a 1-page article by [Whitaker and McGraw\n",
    "(2000)](http://www.nature.com/neuro/journal/v3/n1/full/nn0100_13.html) who report a curious tilt illusion that I have recreated for you below."
   ]
  },
  {
   "cell_type": "markdown",
   "metadata": {},
   "source": [
    "```{image} images/digitalclocks.png\n",
    ":alt: Digital Clock\n",
    ":width: 460px\n",
    ":align: center\n",
    "```\n",
    "\n",
    "\n",
    "\n",
    "\n"
   ]
  },
  {
   "cell_type": "markdown",
   "metadata": {},
   "source": [
    "Believe it or not, while the numbers in the two alarm clocks are tilted in opposite directions, they are tilted to the exact same degree. More curious still is that the illusion largely goes away if the stimuli are not plausible numbers (though depending on the conditions, it can be elicited with letters as well). See for yourselves!"
   ]
  },
  {
   "cell_type": "markdown",
   "metadata": {},
   "source": [
    "```{image} images/digitalclocks_reversed.png\n",
    ":alt: Digital Clock Reversed\n",
    ":width: 460px\n",
    ":align: center\n",
    "```"
   ]
  },
  {
   "cell_type": "markdown",
   "metadata": {},
   "source": [
    "If we are going to figure out what causes this illusion, we need to start by measuring its strength. The exercise has two purposes. First, it serves as an example of a simple interactive experiment and is designed to help you cement some coding patterns we've been working on (loading in external files) while also teaching you some new things (how to use the mouse for responding). Second, it's a nice illustration of how we go about measuring the strength of an illusion. \n"
   ]
  },
  {
   "cell_type": "markdown",
   "metadata": {},
   "source": [
    "\n",
    "On each trial, the participant will view one of the \"standard\" images -- numbers or letters presented in the normal or reversed orientation and tilting to the left or right.\n",
    "\n",
    "The participants' goal is to adjust the orientation of a small line positioned below the clock display such that it matches the orientation of the standard image. The extent \n",
    "Participants orientation of the gabor using the mouse wheel. \n",
    "\n",
    "Your task is to fill in `do_adjustment()` with the code necessary to display the stimuli, update the orientation of `adjusting_stim` and write some data to a CSV file for later analysis.\n",
    "\n",
    "Notice the function library we've placed in your starter code repository (`my_first_function_library.py`). Use it! Import functions by typing `from my_first_function_library import X` where X is the function you'd like to import. Separate multiple functions with a comma just like we do when importing the various parts of psychopy. You can import all of them with  `from my_first_function_library import *` \n"
   ]
  },
  {
   "cell_type": "markdown",
   "metadata": {},
   "source": [
    "Here is the code for getting mouse wheel movements (which are equivalent to scrolling on a\n",
    "trackpad, normally a two finger vertical swipe)."
   ]
  },
  {
   "cell_type": "code",
   "execution_count": 2,
   "metadata": {},
   "outputs": [
    {
     "name": "stderr",
     "output_type": "stream",
     "text": [
      "2022-10-05 09:24:20.400 python[47727:2051381] Warning: Expected min height of view: (<NSPopoverTouchBarItemButton: 0x7fd6e32ca600>) to be less than or equal to 30 but got a height of 32.000000. This error will be logged once per view in violation.\n",
      "2022-10-05 09:24:20.401 python[47727:2051381] Warning: Expected min height of view: (<NSButton: 0x7fd6e4c42890>) to be less than or equal to 30 but got a height of 32.000000. This error will be logged once per view in violation.\n",
      "2022-10-05 09:24:20.403 python[47727:2051381] Warning: Expected min height of view: (<NSPopoverTouchBarItemButton: 0x7fd6e4c43450>) to be less than or equal to 30 but got a height of 32.000000. This error will be logged once per view in violation.\n",
      "2022-10-05 09:24:20.405 python[47727:2051381] Warning: Expected min height of view: (<NSPopoverTouchBarItemButton: 0x7fd6e4c48d00>) to be less than or equal to 30 but got a height of 32.000000. This error will be logged once per view in violation.\n"
     ]
    },
    {
     "ename": "KeyboardInterrupt",
     "evalue": "",
     "output_type": "error",
     "traceback": [
      "\u001b[0;31m---------------------------------------------------------------------------\u001b[0m",
      "\u001b[0;31mKeyboardInterrupt\u001b[0m                         Traceback (most recent call last)",
      "\u001b[1;32m/Users/glupyan/gitRepos/psych750.github.io/notebooks/Exercise5-interactive.ipynb Cell 8\u001b[0m in \u001b[0;36m<cell line: 9>\u001b[0;34m()\u001b[0m\n\u001b[1;32m      <a href='vscode-notebook-cell:/Users/glupyan/gitRepos/psych750.github.io/notebooks/Exercise5-interactive.ipynb#W6sZmlsZQ%3D%3D?line=6'>7</a>\u001b[0m num_wheel_turns_down\u001b[39m=\u001b[39mnum_wheel_turns_up\u001b[39m=\u001b[39m\u001b[39m0\u001b[39m\n\u001b[1;32m      <a href='vscode-notebook-cell:/Users/glupyan/gitRepos/psych750.github.io/notebooks/Exercise5-interactive.ipynb#W6sZmlsZQ%3D%3D?line=7'>8</a>\u001b[0m \u001b[39mwhile\u001b[39;00m \u001b[39mTrue\u001b[39;00m:\n\u001b[0;32m----> <a href='vscode-notebook-cell:/Users/glupyan/gitRepos/psych750.github.io/notebooks/Exercise5-interactive.ipynb#W6sZmlsZQ%3D%3D?line=8'>9</a>\u001b[0m     wheelRel \u001b[39m=\u001b[39m myMouse\u001b[39m.\u001b[39;49mgetWheelRel()[\u001b[39m1\u001b[39m]\n\u001b[1;32m     <a href='vscode-notebook-cell:/Users/glupyan/gitRepos/psych750.github.io/notebooks/Exercise5-interactive.ipynb#W6sZmlsZQ%3D%3D?line=9'>10</a>\u001b[0m     \u001b[39mif\u001b[39;00m wheelRel\u001b[39m>\u001b[39m\u001b[39m0.0\u001b[39m:\n\u001b[1;32m     <a href='vscode-notebook-cell:/Users/glupyan/gitRepos/psych750.github.io/notebooks/Exercise5-interactive.ipynb#W6sZmlsZQ%3D%3D?line=10'>11</a>\u001b[0m         num_wheel_turns_down\u001b[39m+\u001b[39m\u001b[39m=\u001b[39m\u001b[39m1\u001b[39m\n",
      "File \u001b[0;32m~/anaconda3/envs/psych750/lib/python3.8/site-packages/psychopy/event.py:784\u001b[0m, in \u001b[0;36mMouse.getWheelRel\u001b[0;34m(self)\u001b[0m\n\u001b[1;32m    782\u001b[0m \u001b[39mglobal\u001b[39;00m mouseWheelRel\n\u001b[1;32m    783\u001b[0m rel \u001b[39m=\u001b[39m mouseWheelRel\n\u001b[0;32m--> 784\u001b[0m mouseWheelRel \u001b[39m=\u001b[39m numpy\u001b[39m.\u001b[39;49marray([\u001b[39m0.0\u001b[39;49m, \u001b[39m0.0\u001b[39;49m])\n\u001b[1;32m    785\u001b[0m \u001b[39mreturn\u001b[39;00m rel\n",
      "\u001b[0;31mKeyboardInterrupt\u001b[0m: "
     ]
    }
   ],
   "source": [
    "from psychopy import core, visual, prefs, event\n",
    "win = visual.Window([800,600],color=\"white\", units='pix')\n",
    "\n",
    "myMouse = event.Mouse()\n",
    "myMouse.setVisible(0)\n",
    "\n",
    "num_wheel_turns_down=num_wheel_turns_up=0\n",
    "while True:\n",
    "    wheelRel = myMouse.getWheelRel()[1]\n",
    "    if wheelRel>0.0:\n",
    "        num_wheel_turns_down+=1\n",
    "        print('wheel down: ', num_wheel_turns_up, num_wheel_turns_down)\n",
    "    elif wheelRel<0.0:\n",
    "        num_wheel_turns_up+=1\n",
    "        print('wheel up', num_wheel_turns_up, num_wheel_turns_down)\n",
    "        "
   ]
  },
  {
   "cell_type": "markdown",
   "metadata": {},
   "source": [
    "Your starter code has this code wrapped in a `do_adjustment()` function. We'll go over it in class."
   ]
  },
  {
   "cell_type": "markdown",
   "metadata": {},
   "source": [
    "## Part 1\n",
    "\n",
    "Grab a set of runtime variables using a GUI box as we did previously. You should have an error check built-in so you don't overwrite an existing data file. Also use the saving state trick I showed you to load in the previous values you used, so if you ran subject tilt_103, that's the value that comes up in the GUI box the next time you run.  (this error check is already implemented in the function library as part of opening the results file for writing. Feel free to use it by attempting to open results file after grabbing the runtime variables. This way you don't actually need to modify any code.. just use it!)\n",
    "\n",
    "\n",
    "For the runtime variables, just use these:\n",
    "\n",
    "* Subject code\n",
    "* Random seed (controls the pseudo-random order)\n",
    "* Number of blocks (an integer -- one controls how many times we go through the stimulus list)\n"
   ]
  },
  {
   "cell_type": "markdown",
   "metadata": {},
   "source": [
    "## Part 2\n",
    "\n",
    "Pass these runtime variables to generate_trials() so that it generates a subjCode_trials.csv trial file with the correct properties. This one's very simple -- just iterate through all the image files number of blocks times, in pseudo-random order (determined by the seed). The starter code for `generate_trials()` uses `os.glob()` to get a list of filenames inside the `stimuli` directory. Notice that the starter code for `generate_trials()` breaks up the fiename into its fields. Write these into appropriate columns in your trials file so that you can read them in and use them in your main script.\n",
    "\n",
    ":::{tip}\n",
    "Add the following code to the bottom of `generate_trials.py`\n",
    "```python\n",
    "if __name__==\"__main__\":\n",
    "    generate_trials({'subj_code':'test_subj1', 'seed':10, 'number_of_blocks':1}, order=['subj_code', 'seed', 'number_of_blocks'])\n",
    "    generate_trials({'subj_code':'test_subj2', 'seed':10, 'number_of_blocks':1}, order=['subj_code', 'seed', 'number_of_blocks'])\n",
    "    generate_trials({'subj_code':'test_subj3', 'seed':11, 'number_of_blocks':2}, order=['subj_code', 'seed', 'number_of_blocks'])\n",
    "    generate_trials({'subj_code':'test_subj4', 'seed':11, 'number_of_blocks':2}, order=['subj_code', 'seed', 'number_of_blocks'])\n",
    "```\n",
    "\n",
    "This should generate 4 test files. If your seed is working correctly, the order in test_subj1 and test_subj2 should be identical!  test_subj3 and test_subj4 should likewise be identical to one another, but the order should be different from test_subj1/2. The order in blocks 1 and 2 should be different (but again, identical in test_subj3 and test_subj4)\n",
    "\n",
    ":::\n"
   ]
  },
  {
   "cell_type": "markdown",
   "metadata": {},
   "source": [
    "## Part 3\n",
    "\n",
    "Read in the trial file -- use column headers! --  show the appropriate trial and collect the response. For this part, just print the response (the angle of the adjustable bar), to the console. No need to write to a data-file just yet. "
   ]
  },
  {
   "cell_type": "markdown",
   "metadata": {},
   "source": [
    "## Part 4\n",
    "\n",
    "Write the result to a data-file: subj_code_data.csv placed inside a data subfolder. The data-file should be in the following format. *Please make sure your format is exactly this -- these columns in this order, separated by commas*\n",
    "\n",
    "(Updated on 10/10 12:48pm - if you already did it with slightly diff column order, don't worry about it!)\n",
    "\n",
    "```\n",
    "Col 1: trial_number (beginning with 1)\n",
    "Col 2: subject_code\n",
    "Col 3: random_seed\n",
    "Col 4: number_of_blocks (defaulting to 1 for this exercise)\n",
    "Col 5: current block number beginning with 1\n",
    "Col 6: filename of the shown image\n",
    "Col 7: displayed_string\n",
    "Col 8: orientation\n",
    "Col 9: true_angle\n",
    "Col 10: tilt_direction\n",
    "Col 11: matched_angle -- participnt's response (vertical = 0)\n",
    "Col 12: signed_error (positive means the adjusted stimulus leans too much to the right; negative = too much to the left, 0 = perfectly correct)\n",
    "Col 13: absolute error (absolute difference between true_angle and matched_angle -- make sure you are mindful of the tilt direction difference b/w left 7 and right 7 is 14)\n",
    "Col 14: RT - reaction time from stimulus onset to response, in milliseconds, rounded to the nearest millisecond\n",
    "```\n",
    "\n",
    "The first line of your file should be the column names, i.e,\n",
    "\n",
    "```\n",
    "trial_number,subject_code,random_seed,number_of_blocks,block_num,displayed_string,orientation,true_angle,tilt_direction,matched_angle,signed_error,absolute_error,RT\n",
    "```\n"
   ]
  }
 ],
 "metadata": {
  "kernelspec": {
   "display_name": "Python 3.8.13 ('psych750')",
   "language": "python",
   "name": "python3"
  },
  "language_info": {
   "codemirror_mode": {
    "name": "ipython",
    "version": 3
   },
   "file_extension": ".py",
   "mimetype": "text/x-python",
   "name": "python",
   "nbconvert_exporter": "python",
   "pygments_lexer": "ipython3",
   "version": "3.8.13"
  },
  "toc": {
   "nav_menu": {},
   "number_sections": true,
   "sideBar": true,
   "skip_h1_title": false,
   "toc_cell": true,
   "toc_position": {
    "height": "765px",
    "left": "0px",
    "right": "1560.45px",
    "top": "110px",
    "width": "185px"
   },
   "toc_section_display": "block",
   "toc_window_display": true
  },
  "vscode": {
   "interpreter": {
    "hash": "57beecaf6908bae4f97de5e2dc8e8d0311fae5bc989593c172c307d13e31f6e4"
   }
  }
 },
 "nbformat": 4,
 "nbformat_minor": 2
}
