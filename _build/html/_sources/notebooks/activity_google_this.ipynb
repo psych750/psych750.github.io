{
 "cells": [
  {
   "cell_type": "markdown",
   "metadata": {},
   "source": [
    "# Google ***this!***\n",
    "\n",
    "You've probably realized at this point that your ability to solve various problems -- coding, data wrangling, graphing -- is closely related to your ability to effectively google stuff. We are not born knowing how to do this. Fortunately, there is quite a bit of consistency in how people ask and answer questions (or at least there are certain types of questions/answers that attain prominence in search engine results). This means that if you ask the question in the right way, you're much more likely to find an answer. \n",
    "\n",
    "So let's try this. I've come up with a series of graphing (ggplot) and wrangling (tidyverse/dplyr) problems. Go through them and for each, enter in your initial google search, a better search if the first one didn't work, and the URL to the page showing (what looks to you to be) a working solution.\n",
    "\n",
    "[Start the activity](https://uwmadison.co1.qualtrics.com/jfe/form/SV_1YQ3j7QCcr7XkYC)\n",
    "\n",
    "\n"
   ]
  }
 ],
 "metadata": {
  "kernelspec": {
   "display_name": "Python 3.8.13 ('psych750')",
   "language": "python",
   "name": "python3"
  },
  "language_info": {
   "codemirror_mode": {
    "name": "ipython",
    "version": 2
   },
   "file_extension": ".py",
   "mimetype": "text/x-python",
   "name": "python",
   "nbconvert_exporter": "python",
   "pygments_lexer": "ipython2",
   "version": "3.8.13"
  },
  "toc": {
   "nav_menu": {},
   "number_sections": true,
   "sideBar": false,
   "skip_h1_title": false,
   "toc_cell": false,
   "toc_position": {},
   "toc_section_display": "block",
   "toc_window_display": false
  },
  "vscode": {
   "interpreter": {
    "hash": "57beecaf6908bae4f97de5e2dc8e8d0311fae5bc989593c172c307d13e31f6e4"
   }
  }
 },
 "nbformat": 4,
 "nbformat_minor": 2
}
