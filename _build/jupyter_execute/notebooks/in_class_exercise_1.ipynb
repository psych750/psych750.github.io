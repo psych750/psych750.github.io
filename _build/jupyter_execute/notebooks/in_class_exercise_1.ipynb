{
 "cells": [
  {
   "cell_type": "markdown",
   "metadata": {},
   "source": [
    "# Now let's write some code!\n"
   ]
  },
  {
   "cell_type": "markdown",
   "metadata": {},
   "source": [
    "1. Write a `for` loop to print out the numbers 0 through 5\n",
    "1. Write a `for` loop to print out the numbers 2 through 8. Now do another one to print 9 through 0 (i.e., backwards)\n",
    "    <div class=\"alert alert-block alert-info\">\n",
    "    Use help(range) to see some other things you can do with the range function</div>\n",
    "1. Given the list ['one', 'two','three','four'], write code that will print: 'one and a two and a three and a four'\n",
    "1. Write a bit of code using for loop(s) that print out the following sequence:\n",
    "```\n",
    "0\n",
    "01\n",
    "012\n",
    "0123\n",
    "01234\n",
    "012345\n",
    "```\n",
    "\n",
    "```{note}\n",
    "This one's gonna be challenging to people who have not programmed before. Give it a try and then turn to your neighbor and talk about how you might solve it.\n",
    "```\n",
    "\n",
    "```{warning}\n",
    "If you're writing your program in the Python Shell or in a Jupyter Notebook, Python will automatically append a newline to anything you print. To keep it from doing that end the print statement with a comman, e.g., `print i,`. If you're writing the code in a text editor and executing using `python filename.py`, you can keep using `print` in the normal way.\n",
    "```\n"
   ]
  },
  {
   "cell_type": "code",
   "execution_count": 30,
   "metadata": {},
   "outputs": [
    {
     "name": "stdout",
     "output_type": "stream",
     "text": [
      "one and a two and a three and a four\n"
     ]
    }
   ],
   "source": [
    "numbers = ['one', 'two','three','four']\n",
    "\n",
    "for number in numbers:\n",
    "    print number,\n",
    "    if number != \"four\":\n",
    "        print \"and a\",\n",
    "\n",
    "\n"
   ]
  },
  {
   "cell_type": "code",
   "execution_count": 31,
   "metadata": {},
   "outputs": [
    {
     "data": {
      "text/plain": [
       "True"
      ]
     },
     "execution_count": 31,
     "metadata": {},
     "output_type": "execute_result"
    }
   ],
   "source": []
  },
  {
   "cell_type": "code",
   "execution_count": 8,
   "metadata": {},
   "outputs": [
    {
     "name": "stdout",
     "output_type": "stream",
     "text": [
      "8\n",
      "7\n",
      "6\n",
      "5\n",
      "4\n",
      "3\n",
      "2\n",
      "1\n",
      "0\n"
     ]
    }
   ],
   "source": []
  },
  {
   "cell_type": "code",
   "execution_count": null,
   "metadata": {},
   "outputs": [],
   "source": []
  }
 ],
 "metadata": {
  "celltoolbar": "Edit Metadata",
  "kernelspec": {
   "display_name": "Python 3",
   "language": "python",
   "name": "python3"
  },
  "language_info": {
   "codemirror_mode": {
    "name": "ipython",
    "version": 3
   },
   "file_extension": ".py",
   "mimetype": "text/x-python",
   "name": "python",
   "nbconvert_exporter": "python",
   "pygments_lexer": "ipython3",
   "version": "3.9.4"
  }
 },
 "nbformat": 4,
 "nbformat_minor": 2
}