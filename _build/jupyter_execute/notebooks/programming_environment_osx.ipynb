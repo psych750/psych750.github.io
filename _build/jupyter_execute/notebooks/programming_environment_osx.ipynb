{
 "cells": [
  {
   "cell_type": "markdown",
   "metadata": {},
   "source": [
    "# Programming Environment for MacOS\n",
    "\n",
    "Python is installed by default on Macs, but we will ***not*** be using the standard install. Instead we will be using the Anaconda environment which allows for easy installation of packages into a virtual environment which helps to eliminate software conflicts. "
   ]
  },
  {
   "cell_type": "markdown",
   "metadata": {},
   "source": [
    "## Install git\n",
    "[Download and install](https://sourceforge.net/projects/git-osx-installer/files/) the latest version of `git` \n",
    "\n",
    "Test it by typing \n",
    "`git --version` \n",
    "at the command prompt.\n",
    "\n"
   ]
  },
  {
   "cell_type": "markdown",
   "metadata": {},
   "source": [
    "## Install the Anaconda Distribution of Python\n",
    "\n",
    "```{attention}\n",
    "The instructions are slightly different if you are using an Intel Mac or a newer M1/M2 mac. If you're not sure Click on the Apple icon on the top left corner and select `About this Mac`. If it says Intel XXX, then follow the Intel CPU instructions. If it says Apple M1 or similar, follow the Mac CPU instructions.\n",
    "```\n",
    "\n",
    "### Intel CPU Instructions\n",
    "* Download and Install the **Python 3.8 64 bit** [Miniconda installer](https://conda.io/miniconda.html). If you are asked whether you want the installer to prepend Anaconda to your PATH, respond ***yes***.\n",
    "\n",
    "\n",
    "### Mac CPU Instructions\n",
    "* Open up your `Finder` and click on `Applications`. Then navigate to `Utilities` folder and right click on the `Terminal` and select Duplicate. Rename the duplicate to `Rosetta-Terminal`. Then right click on the `Rosetta-Terminal` and select `Get Info`. Check the `Open with Rosetta` option.\n",
    "\n",
    "* Download and Install the **Python 3.8 64 bit** [Miniconda installer](https://conda.io/miniconda.html). Make sure to select the `macOS Intel x86 64-bit` version. The `pkg` file is more user friendly and installs like any other programs. If you are asked whether you want the installer to prepend Anaconda to your PATH, respond ***yes***.\n",
    "\n",
    "* From now on, use the `Rosetta-Terminal` instead of the original `Terminal`.\n",
    "\n"
   ]
  },
  {
   "cell_type": "markdown",
   "metadata": {},
   "source": [
    "\n",
    "\n",
    "## Create a Virtual Environment\n",
    "\n",
    "Next let's create a virtual environment for this course. At the command prompt type\n",
    "\n",
    "```bash\n",
    "conda create -n psych750 python=3.8 pip\n",
    "```\n",
    "\n",
    "Once it's created, you can activate it by typing\n",
    "```\n",
    "conda activate psych750\n",
    "```\n",
    "\n",
    "### Test the Anaconda Python install\n",
    "\n",
    "Activate your environment using `conda activate psych750` and then type `python` to start the Python interpreter\n",
    "```bash\n",
    "$ python \n",
    "Python 3.8.13 (default, Mar 28 2022, 06:16:26)\n",
    "[Clang 12.0.0 ] :: Anaconda, Inc. on darwin\n",
    "Type \"help\", \"copyright\", \"credits\" or \"license\" for more information.\n",
    "```\n",
    "\n"
   ]
  },
  {
   "cell_type": "markdown",
   "metadata": {},
   "source": [
    "## Install Homebrew and PortAudio\n",
    "\n",
    "Next we need to install Homebrew and run some commands in order to install other packages. Follow the instructions [here](https://brew.sh) to install Homebrew.\n",
    "\n",
    "Once Homebrew is installed, run the following command in Terminal:\n",
    "```bash\n",
    "brew install portaudio\n",
    "```\n",
    "This will install some libraries for doing some speech recognition magic"
   ]
  },
  {
   "cell_type": "markdown",
   "metadata": {},
   "source": [
    "\n",
    "## Installing the necessary Python packages\n",
    "Now let's install the packages we'll need. Paste in the lines below, one at at a time, into your terminal (make sure your new environment is activated first). Wait for everything to install before proceeding to the next line.\n",
    "\n",
    "```bash\n",
    "conda install jupyter jupyterlab\n",
    "conda install pyaudio\n",
    "pip install psychopy\n",
    "```\n",
    "\n",
    "```{warning}\n",
    "If you run into any install errors, please make note of the precise errors and post them to the #installation_problems Slack channel.\n",
    "```\n",
    "\n",
    "### Test PsychoPy\n",
    "====\n",
    "* Now let's test that `PsychoPy` installed correctly. Start the python interpreter and then import the psychopy package:\n",
    "\n",
    "```python\n",
    ">>> import psychopy\n",
    ">>> psychopy.__version__\n",
    "'2022.2.2'\n",
    "```\n",
    "\n",
    "If you see the verison number, the PsychoPy library probably installed correctly. Let's do some more tests\n",
    "\n",
    "* Let's test if PsychoPy can successfully open a new window.\n",
    "\n",
    "```python\n",
    ">>> from psychopy import visual\n",
    ">>> visual.Window((400,400),color=\"green\")\n",
    "```\n",
    "\n",
    "When you hit enter after the second line, you should see a small green window appear. There may me some warnings displayed... You can safely ignore them.\n",
    "\n",
    "```{note}\n",
    "You won't be able to close the window like a regular Mac window.\n",
    "Click on the terminal and enter `exit()` to quit the session and close the window.\n",
    "```\n",
    "\n",
    "* Finally let's test whether Psychopy can open pop-up boxes without issues\n",
    "\n",
    "```python\n",
    ">>> from psychopy import visual, gui\n",
    "```\n",
    "\n",
    "Now copy/paste this little function:\n",
    "```python\n",
    "def popupError(text):\n",
    "    errorDlg = gui.Dlg(title=\"Error\", pos=(400,400))\n",
    "    errorDlg.addText('Error: '+text, color='Red')\n",
    "    errorDlg.show()\n",
    "```\n",
    "\n",
    "And lastly, execute it like so:\n",
    "\n",
    "```python\n",
    "popupError('Pop up test!')\n",
    "```\n",
    "\n",
    "If you saw a little pop-up window, all's good. If it doesn't immediately appear, check that it's not behind your active window.\n",
    "\n",
    "\n"
   ]
  },
  {
   "cell_type": "markdown",
   "metadata": {},
   "source": [
    "\n",
    "### Configure a few Psychopy settings\n",
    "\n",
    "While we're here, let's also make sure the Psychopy settings are in order. Enter these lines in the python interpreter:\n",
    "```python\n",
    "import psychopy\n",
    "psychopy.prefs.general['units']='pix'\n",
    "psychopy.prefs.hardware['audioLib'] = ['PTB', 'pyo','pygame']\n",
    "psychopy.prefs.saveUserPrefs()\n",
    "```"
   ]
  },
  {
   "cell_type": "markdown",
   "metadata": {},
   "source": [
    "## Install Visual Studio Code\n",
    "\n",
    "Visual Studio Code is a very powerful and user-friendly code editor which we will use in this class to edit python/jupyter notebook scripts. Download Visual Studio Code [here](https://code.visualstudio.com) and install it.\n",
    "\n",
    "Once it's installed, open up VS code and select File -> New Text File. At the top of the script, click select a language and select `python`. VS code will prompt you to install the Python extension. Once that is installed go back to your file and press `Command + Shift + P`, and type in `Python: Select Interpreter`. Select the `psych750` conda Python environment you created earlier. \n",
    "\n",
    "Look over keyboard shortcuts: `Help: Keyboard Shortcut Reference` Try to use them!\n",
    "\n",
    "### Create a shortcut to Visual Studio code\n",
    "\n",
    "It is very useful to be able to quickly open up a file in the editor from the shell. You can do this like so:\n",
    "\n",
    "Hit  `Command + Shift + P` and type `shell` \n",
    "Press `enter` to `Install Code Command in PATH`\n",
    "\n",
    "\n",
    "Test the installation by launching a new terminal window and typing\n",
    "```bash\n",
    "code some_file_name.txt\n",
    "```\n",
    "\n",
    "where `some_file_name.txt` is the file you want to open. \n",
    "\n",
    "It should open up in visual Studio Code\n",
    "\n",
    "If you want to shorten it further, e.g., instead of having to type `code` you want to type `c`, add an `alias` to your shell configuration file (`.bash_profil), like so:\n",
    "\n",
    "```bash\n",
    "code ~/.bash_profile\n",
    "```\n",
    "\n",
    "Now add the line\n",
    "```bash\n",
    "alias c=\"code\"\n",
    "```\n",
    "\n",
    "Save the file and restart your shell. You should now be able to open files in Visual Code Studio by typing\n",
    "```bash\n",
    "c some_file_name.txt\n",
    "```"
   ]
  },
  {
   "cell_type": "markdown",
   "metadata": {},
   "source": [
    "## Install R & RStudio Desktop\n",
    "\n",
    "Next install R and RSudio Desktop by following the instructions [here](https://www.rstudio.com/products/rstudio/download/#download).\n",
    "\n",
    "### Install a few R packages\n",
    "\n",
    "Once R and RStudio are installed, make sure you can open up RStudio successfully and then install these packages (we may include some additional ones later).\n",
    "\n",
    "At the RStudio prompt, type\n",
    "\n",
    "```r\n",
    "install.packages(c(\"tidyverse\", \"ggplot2\", \"lme4\", \"psych\", \"psychTools\"))\n",
    "```\n"
   ]
  }
 ],
 "metadata": {
  "kernelspec": {
   "display_name": "Python 3.8.13 ('psych750')",
   "language": "python",
   "name": "python3"
  },
  "language_info": {
   "codemirror_mode": {
    "name": "ipython",
    "version": 3
   },
   "file_extension": ".py",
   "mimetype": "text/x-python",
   "name": "python",
   "nbconvert_exporter": "python",
   "pygments_lexer": "ipython3",
   "version": "3.8.13"
  },
  "toc": {
   "nav_menu": {
    "height": "14px",
    "width": "160px"
   },
   "number_sections": true,
   "sideBar": true,
   "skip_h1_title": false,
   "toc_cell": true,
   "toc_position": {
    "height": "565px",
    "left": "0px",
    "right": "20px",
    "top": "111px",
    "width": "224px"
   },
   "toc_section_display": "block",
   "toc_window_display": true
  },
  "vscode": {
   "interpreter": {
    "hash": "9d91dc52a2e956fc45a257e58b5dd59b41177d8dfb12ca1b8fcc83ff636ea095"
   }
  }
 },
 "nbformat": 4,
 "nbformat_minor": 1
}