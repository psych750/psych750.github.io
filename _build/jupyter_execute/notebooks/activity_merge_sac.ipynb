{
 "cells": [
  {
   "cell_type": "markdown",
   "metadata": {},
   "source": [
    "# Tying up some loose ends\n",
    "\n",
    "I can't let you out of this course without telling you about merging and the power of group_by/mutate to flexibly group by different factors in the same data-frame. "
   ]
  },
  {
   "cell_type": "code",
   "execution_count": 2,
   "metadata": {
    "tags": [
     "remove-output"
    ],
    "vscode": {
     "languageId": "r"
    }
   },
   "outputs": [
    {
     "name": "stderr",
     "output_type": "stream",
     "text": [
      "-- \u001b[1mAttaching packages\u001b[22m --------------------------------------- tidyverse 1.3.0 --\n",
      "\n",
      "\u001b[32mv\u001b[39m \u001b[34mggplot2\u001b[39m 3.3.5     \u001b[32mv\u001b[39m \u001b[34mpurrr  \u001b[39m 0.3.4\n",
      "\u001b[32mv\u001b[39m \u001b[34mtibble \u001b[39m 3.1.7     \u001b[32mv\u001b[39m \u001b[34mdplyr  \u001b[39m 1.0.8\n",
      "\u001b[32mv\u001b[39m \u001b[34mtidyr  \u001b[39m 1.2.0     \u001b[32mv\u001b[39m \u001b[34mstringr\u001b[39m 1.4.0\n",
      "\u001b[32mv\u001b[39m \u001b[34mreadr  \u001b[39m 2.1.2     \u001b[32mv\u001b[39m \u001b[34mforcats\u001b[39m 0.5.0\n",
      "\n",
      "-- \u001b[1mConflicts\u001b[22m ------------------------------------------ tidyverse_conflicts() --\n",
      "\u001b[31mx\u001b[39m \u001b[34mdplyr\u001b[39m::\u001b[32mfilter()\u001b[39m masks \u001b[34mstats\u001b[39m::filter()\n",
      "\u001b[31mx\u001b[39m \u001b[34mdplyr\u001b[39m::\u001b[32mlag()\u001b[39m    masks \u001b[34mstats\u001b[39m::lag()\n",
      "\n"
     ]
    }
   ],
   "source": [
    "library(tidyverse)"
   ]
  },
  {
   "cell_type": "markdown",
   "metadata": {},
   "source": [
    "Let's load in some data. This is a sample of a large set of iconicity word norms. Participant see a list of words and rate each one on a 1-7 scale. A high rating indicates the sound of the word has a resemblance to its meanings. A low rating indicates it does not. We have multiple ratings for each word. We have two files -- one containing ratings and the other containing some demographic infrmation -- a participant's gender and age. "
   ]
  },
  {
   "cell_type": "code",
   "execution_count": 24,
   "metadata": {
    "vscode": {
     "languageId": "r"
    }
   },
   "outputs": [],
   "source": [
    "responses <- read.csv(\"https://psych750.github.io/data/iconicity_sample.csv\")\n",
    "demographics <- read.csv(\"https://psych750.github.io/data/iconicity_sample_demographics.csv\")\n"
   ]
  },
  {
   "cell_type": "code",
   "execution_count": 25,
   "metadata": {
    "vscode": {
     "languageId": "r"
    }
   },
   "outputs": [
    {
     "data": {
      "text/html": [
       "<table class=\"dataframe\">\n",
       "<caption>A data.frame: 6 × 4</caption>\n",
       "<thead>\n",
       "\t<tr><th></th><th scope=col>subj_code</th><th scope=col>word</th><th scope=col>key</th><th scope=col>rt</th></tr>\n",
       "\t<tr><th></th><th scope=col>&lt;int&gt;</th><th scope=col>&lt;fct&gt;</th><th scope=col>&lt;int&gt;</th><th scope=col>&lt;int&gt;</th></tr>\n",
       "</thead>\n",
       "<tbody>\n",
       "\t<tr><th scope=row>1</th><td>1</td><td>abdominal</td><td>1</td><td>3245</td></tr>\n",
       "\t<tr><th scope=row>2</th><td>1</td><td>select   </td><td>1</td><td>3335</td></tr>\n",
       "\t<tr><th scope=row>3</th><td>1</td><td>grain    </td><td>4</td><td>2612</td></tr>\n",
       "\t<tr><th scope=row>4</th><td>1</td><td>clothes  </td><td>5</td><td>2500</td></tr>\n",
       "\t<tr><th scope=row>5</th><td>1</td><td>hepatitis</td><td>1</td><td>2174</td></tr>\n",
       "\t<tr><th scope=row>6</th><td>1</td><td>carousel </td><td>3</td><td>2336</td></tr>\n",
       "</tbody>\n",
       "</table>\n"
      ],
      "text/latex": [
       "A data.frame: 6 × 4\n",
       "\\begin{tabular}{r|llll}\n",
       "  & subj\\_code & word & key & rt\\\\\n",
       "  & <int> & <fct> & <int> & <int>\\\\\n",
       "\\hline\n",
       "\t1 & 1 & abdominal & 1 & 3245\\\\\n",
       "\t2 & 1 & select    & 1 & 3335\\\\\n",
       "\t3 & 1 & grain     & 4 & 2612\\\\\n",
       "\t4 & 1 & clothes   & 5 & 2500\\\\\n",
       "\t5 & 1 & hepatitis & 1 & 2174\\\\\n",
       "\t6 & 1 & carousel  & 3 & 2336\\\\\n",
       "\\end{tabular}\n"
      ],
      "text/markdown": [
       "\n",
       "A data.frame: 6 × 4\n",
       "\n",
       "| <!--/--> | subj_code &lt;int&gt; | word &lt;fct&gt; | key &lt;int&gt; | rt &lt;int&gt; |\n",
       "|---|---|---|---|---|\n",
       "| 1 | 1 | abdominal | 1 | 3245 |\n",
       "| 2 | 1 | select    | 1 | 3335 |\n",
       "| 3 | 1 | grain     | 4 | 2612 |\n",
       "| 4 | 1 | clothes   | 5 | 2500 |\n",
       "| 5 | 1 | hepatitis | 1 | 2174 |\n",
       "| 6 | 1 | carousel  | 3 | 2336 |\n",
       "\n"
      ],
      "text/plain": [
       "  subj_code word      key rt  \n",
       "1 1         abdominal 1   3245\n",
       "2 1         select    1   3335\n",
       "3 1         grain     4   2612\n",
       "4 1         clothes   5   2500\n",
       "5 1         hepatitis 1   2174\n",
       "6 1         carousel  3   2336"
      ]
     },
     "metadata": {},
     "output_type": "display_data"
    }
   ],
   "source": [
    "responses %>% arrange(subj_code) %>% head"
   ]
  },
  {
   "cell_type": "code",
   "execution_count": 26,
   "metadata": {
    "vscode": {
     "languageId": "r"
    }
   },
   "outputs": [],
   "source": [
    "demographics %>% head\n"
   ]
  },
  {
   "cell_type": "markdown",
   "metadata": {},
   "source": [
    "## Merging\n",
    "\n"
   ]
  },
  {
   "cell_type": "code",
   "execution_count": 40,
   "metadata": {
    "vscode": {
     "languageId": "r"
    }
   },
   "outputs": [
    {
     "name": "stderr",
     "output_type": "stream",
     "text": [
      "\u001b[1m\u001b[22mJoining, by = \"gender\"\n"
     ]
    },
    {
     "data": {
      "text/html": [
       "<table class=\"dataframe\">\n",
       "<caption>A data.frame: 6 × 4</caption>\n",
       "<thead>\n",
       "\t<tr><th></th><th scope=col>gender</th><th scope=col>gender2</th><th scope=col>participant_code</th><th scope=col>age</th></tr>\n",
       "\t<tr><th></th><th scope=col>&lt;fct&gt;</th><th scope=col>&lt;fct&gt;</th><th scope=col>&lt;int&gt;</th><th scope=col>&lt;dbl&gt;</th></tr>\n",
       "</thead>\n",
       "<tbody>\n",
       "\t<tr><th scope=row>1</th><td>male</td><td>man</td><td> 4</td><td>47.58836</td></tr>\n",
       "\t<tr><th scope=row>2</th><td>male</td><td>man</td><td> 6</td><td>40.85812</td></tr>\n",
       "\t<tr><th scope=row>3</th><td>male</td><td>man</td><td> 7</td><td>43.56354</td></tr>\n",
       "\t<tr><th scope=row>4</th><td>male</td><td>man</td><td> 9</td><td>32.45972</td></tr>\n",
       "\t<tr><th scope=row>5</th><td>male</td><td>man</td><td>12</td><td>41.60187</td></tr>\n",
       "\t<tr><th scope=row>6</th><td>male</td><td>man</td><td>15</td><td>40.81981</td></tr>\n",
       "</tbody>\n",
       "</table>\n"
      ],
      "text/latex": [
       "A data.frame: 6 × 4\n",
       "\\begin{tabular}{r|llll}\n",
       "  & gender & gender2 & participant\\_code & age\\\\\n",
       "  & <fct> & <fct> & <int> & <dbl>\\\\\n",
       "\\hline\n",
       "\t1 & male & man &  4 & 47.58836\\\\\n",
       "\t2 & male & man &  6 & 40.85812\\\\\n",
       "\t3 & male & man &  7 & 43.56354\\\\\n",
       "\t4 & male & man &  9 & 32.45972\\\\\n",
       "\t5 & male & man & 12 & 41.60187\\\\\n",
       "\t6 & male & man & 15 & 40.81981\\\\\n",
       "\\end{tabular}\n"
      ],
      "text/markdown": [
       "\n",
       "A data.frame: 6 × 4\n",
       "\n",
       "| <!--/--> | gender &lt;fct&gt; | gender2 &lt;fct&gt; | participant_code &lt;int&gt; | age &lt;dbl&gt; |\n",
       "|---|---|---|---|---|\n",
       "| 1 | male | man |  4 | 47.58836 |\n",
       "| 2 | male | man |  6 | 40.85812 |\n",
       "| 3 | male | man |  7 | 43.56354 |\n",
       "| 4 | male | man |  9 | 32.45972 |\n",
       "| 5 | male | man | 12 | 41.60187 |\n",
       "| 6 | male | man | 15 | 40.81981 |\n",
       "\n"
      ],
      "text/plain": [
       "  gender gender2 participant_code age     \n",
       "1 male   man      4               47.58836\n",
       "2 male   man      6               40.85812\n",
       "3 male   man      7               43.56354\n",
       "4 male   man      9               32.45972\n",
       "5 male   man     12               41.60187\n",
       "6 male   man     15               40.81981"
      ]
     },
     "metadata": {},
     "output_type": "display_data"
    }
   ],
   "source": [
    "left_join(convert_gender,demographics) %>% head\n"
   ]
  },
  {
   "cell_type": "code",
   "execution_count": 34,
   "metadata": {
    "vscode": {
     "languageId": "r"
    }
   },
   "outputs": [
    {
     "name": "stderr",
     "output_type": "stream",
     "text": [
      "Warning message in read.table(pipe(\"pbpaste\"), header = TRUE, sep, ...):\n",
      "\"incomplete final line found by readTableHeader on 'pbpaste'\"\n"
     ]
    }
   ],
   "source": [
    "library(psychTools)\n",
    "convert_gender =read.clipboard.csv(sep=\"\\t\")"
   ]
  },
  {
   "cell_type": "code",
   "execution_count": 35,
   "metadata": {
    "vscode": {
     "languageId": "r"
    }
   },
   "outputs": [
    {
     "data": {
      "text/html": [
       "<table class=\"dataframe\">\n",
       "<caption>A data.frame: 2 × 2</caption>\n",
       "<thead>\n",
       "\t<tr><th scope=col>gender</th><th scope=col>gender2</th></tr>\n",
       "\t<tr><th scope=col>&lt;fct&gt;</th><th scope=col>&lt;fct&gt;</th></tr>\n",
       "</thead>\n",
       "<tbody>\n",
       "\t<tr><td>male  </td><td>man  </td></tr>\n",
       "\t<tr><td>female</td><td>woman</td></tr>\n",
       "</tbody>\n",
       "</table>\n"
      ],
      "text/latex": [
       "A data.frame: 2 × 2\n",
       "\\begin{tabular}{ll}\n",
       " gender & gender2\\\\\n",
       " <fct> & <fct>\\\\\n",
       "\\hline\n",
       "\t male   & man  \\\\\n",
       "\t female & woman\\\\\n",
       "\\end{tabular}\n"
      ],
      "text/markdown": [
       "\n",
       "A data.frame: 2 × 2\n",
       "\n",
       "| gender &lt;fct&gt; | gender2 &lt;fct&gt; |\n",
       "|---|---|\n",
       "| male   | man   |\n",
       "| female | woman |\n",
       "\n"
      ],
      "text/plain": [
       "  gender gender2\n",
       "1 male   man    \n",
       "2 female woman  "
      ]
     },
     "metadata": {},
     "output_type": "display_data"
    }
   ],
   "source": [
    "convert_gender"
   ]
  },
  {
   "cell_type": "markdown",
   "metadata": {},
   "source": [
    "Suppose we want to merge these two files. What do we do?"
   ]
  },
  {
   "cell_type": "markdown",
   "metadata": {},
   "source": [
    "## Getting group-level variables\n",
    "\n",
    "We've frequently used `group_by` in combination with `summarize`. But `dplyr` allows us to also use it in combination with `mutate` to do some pretty magical stuff. For example, suppose we want to add in to our responses data-frame the median reaction time for each subject. Easy! "
   ]
  },
  {
   "cell_type": "code",
   "execution_count": 41,
   "metadata": {
    "vscode": {
     "languageId": "r"
    }
   },
   "outputs": [
    {
     "data": {
      "text/html": [
       "<table class=\"dataframe\">\n",
       "<caption>A tibble: 6 × 2</caption>\n",
       "<thead>\n",
       "\t<tr><th scope=col>word</th><th scope=col>mean_resp</th></tr>\n",
       "\t<tr><th scope=col>&lt;fct&gt;</th><th scope=col>&lt;dbl&gt;</th></tr>\n",
       "</thead>\n",
       "<tbody>\n",
       "\t<tr><td>American   </td><td>7.000000</td></tr>\n",
       "\t<tr><td>Americanize</td><td>3.000000</td></tr>\n",
       "\t<tr><td>April      </td><td>2.500000</td></tr>\n",
       "\t<tr><td>Aurora     </td><td>3.333333</td></tr>\n",
       "\t<tr><td>Baggie     </td><td>3.000000</td></tr>\n",
       "\t<tr><td>Banning    </td><td>7.000000</td></tr>\n",
       "</tbody>\n",
       "</table>\n"
      ],
      "text/latex": [
       "A tibble: 6 × 2\n",
       "\\begin{tabular}{ll}\n",
       " word & mean\\_resp\\\\\n",
       " <fct> & <dbl>\\\\\n",
       "\\hline\n",
       "\t American    & 7.000000\\\\\n",
       "\t Americanize & 3.000000\\\\\n",
       "\t April       & 2.500000\\\\\n",
       "\t Aurora      & 3.333333\\\\\n",
       "\t Baggie      & 3.000000\\\\\n",
       "\t Banning     & 7.000000\\\\\n",
       "\\end{tabular}\n"
      ],
      "text/markdown": [
       "\n",
       "A tibble: 6 × 2\n",
       "\n",
       "| word &lt;fct&gt; | mean_resp &lt;dbl&gt; |\n",
       "|---|---|\n",
       "| American    | 7.000000 |\n",
       "| Americanize | 3.000000 |\n",
       "| April       | 2.500000 |\n",
       "| Aurora      | 3.333333 |\n",
       "| Baggie      | 3.000000 |\n",
       "| Banning     | 7.000000 |\n",
       "\n"
      ],
      "text/plain": [
       "  word        mean_resp\n",
       "1 American    7.000000 \n",
       "2 Americanize 3.000000 \n",
       "3 April       2.500000 \n",
       "4 Aurora      3.333333 \n",
       "5 Baggie      3.000000 \n",
       "6 Banning     7.000000 "
      ]
     },
     "metadata": {},
     "output_type": "display_data"
    }
   ],
   "source": [
    "responses %>% group_by(word) %>% summarize(mean_resp=mean(key,na.rm=TRUE)) %>% head"
   ]
  },
  {
   "cell_type": "code",
   "execution_count": 9,
   "metadata": {
    "vscode": {
     "languageId": "r"
    }
   },
   "outputs": [
    {
     "data": {
      "text/html": [
       "<table class=\"dataframe\">\n",
       "<caption>A grouped_df: 25 × 5</caption>\n",
       "<thead>\n",
       "\t<tr><th scope=col>subj_code</th><th scope=col>word</th><th scope=col>key</th><th scope=col>rt</th><th scope=col>median_RT</th></tr>\n",
       "\t<tr><th scope=col>&lt;int&gt;</th><th scope=col>&lt;fct&gt;</th><th scope=col>&lt;int&gt;</th><th scope=col>&lt;int&gt;</th><th scope=col>&lt;dbl&gt;</th></tr>\n",
       "</thead>\n",
       "<tbody>\n",
       "\t<tr><td>1</td><td>abdominal   </td><td>1</td><td>3245</td><td>2449</td></tr>\n",
       "\t<tr><td>1</td><td>select      </td><td>1</td><td>3335</td><td>2449</td></tr>\n",
       "\t<tr><td>1</td><td>grain       </td><td>4</td><td>2612</td><td>2449</td></tr>\n",
       "\t<tr><td>1</td><td>clothes     </td><td>5</td><td>2500</td><td>2449</td></tr>\n",
       "\t<tr><td>1</td><td>hepatitis   </td><td>1</td><td>2174</td><td>2449</td></tr>\n",
       "\t<tr><td>1</td><td>carousel    </td><td>3</td><td>2336</td><td>2449</td></tr>\n",
       "\t<tr><td>1</td><td>seer        </td><td>1</td><td>2093</td><td>2449</td></tr>\n",
       "\t<tr><td>1</td><td>reek        </td><td>1</td><td>3116</td><td>2449</td></tr>\n",
       "\t<tr><td>1</td><td>pamper      </td><td>1</td><td>1856</td><td>2449</td></tr>\n",
       "\t<tr><td>1</td><td>displeasure </td><td>1</td><td>2449</td><td>2449</td></tr>\n",
       "\t<tr><td>1</td><td>country     </td><td>7</td><td>2399</td><td>2449</td></tr>\n",
       "\t<tr><td>1</td><td>reed        </td><td>1</td><td>1649</td><td>2449</td></tr>\n",
       "\t<tr><td>1</td><td>misdirect   </td><td>3</td><td>3021</td><td>2449</td></tr>\n",
       "\t<tr><td>1</td><td>stroganoff  </td><td>1</td><td>2358</td><td>2449</td></tr>\n",
       "\t<tr><td>1</td><td>lackey      </td><td>1</td><td>3816</td><td>2449</td></tr>\n",
       "\t<tr><td>1</td><td>fence       </td><td>2</td><td>2449</td><td>2449</td></tr>\n",
       "\t<tr><td>1</td><td>colander    </td><td>1</td><td>2189</td><td>2449</td></tr>\n",
       "\t<tr><td>1</td><td>twice       </td><td>7</td><td>2970</td><td>2449</td></tr>\n",
       "\t<tr><td>2</td><td>coin        </td><td>3</td><td>9141</td><td>3091</td></tr>\n",
       "\t<tr><td>2</td><td>rep         </td><td>3</td><td>3695</td><td>3091</td></tr>\n",
       "\t<tr><td>2</td><td>precognition</td><td>3</td><td>2815</td><td>3091</td></tr>\n",
       "\t<tr><td>2</td><td>settlement  </td><td>5</td><td>2949</td><td>3091</td></tr>\n",
       "\t<tr><td>2</td><td>twirl       </td><td>7</td><td>2529</td><td>3091</td></tr>\n",
       "\t<tr><td>2</td><td>geek        </td><td>6</td><td>2826</td><td>3091</td></tr>\n",
       "\t<tr><td>2</td><td>pallet      </td><td>5</td><td>4755</td><td>3091</td></tr>\n",
       "</tbody>\n",
       "</table>\n"
      ],
      "text/latex": [
       "A grouped\\_df: 25 × 5\n",
       "\\begin{tabular}{lllll}\n",
       " subj\\_code & word & key & rt & median\\_RT\\\\\n",
       " <int> & <fct> & <int> & <int> & <dbl>\\\\\n",
       "\\hline\n",
       "\t 1 & abdominal    & 1 & 3245 & 2449\\\\\n",
       "\t 1 & select       & 1 & 3335 & 2449\\\\\n",
       "\t 1 & grain        & 4 & 2612 & 2449\\\\\n",
       "\t 1 & clothes      & 5 & 2500 & 2449\\\\\n",
       "\t 1 & hepatitis    & 1 & 2174 & 2449\\\\\n",
       "\t 1 & carousel     & 3 & 2336 & 2449\\\\\n",
       "\t 1 & seer         & 1 & 2093 & 2449\\\\\n",
       "\t 1 & reek         & 1 & 3116 & 2449\\\\\n",
       "\t 1 & pamper       & 1 & 1856 & 2449\\\\\n",
       "\t 1 & displeasure  & 1 & 2449 & 2449\\\\\n",
       "\t 1 & country      & 7 & 2399 & 2449\\\\\n",
       "\t 1 & reed         & 1 & 1649 & 2449\\\\\n",
       "\t 1 & misdirect    & 3 & 3021 & 2449\\\\\n",
       "\t 1 & stroganoff   & 1 & 2358 & 2449\\\\\n",
       "\t 1 & lackey       & 1 & 3816 & 2449\\\\\n",
       "\t 1 & fence        & 2 & 2449 & 2449\\\\\n",
       "\t 1 & colander     & 1 & 2189 & 2449\\\\\n",
       "\t 1 & twice        & 7 & 2970 & 2449\\\\\n",
       "\t 2 & coin         & 3 & 9141 & 3091\\\\\n",
       "\t 2 & rep          & 3 & 3695 & 3091\\\\\n",
       "\t 2 & precognition & 3 & 2815 & 3091\\\\\n",
       "\t 2 & settlement   & 5 & 2949 & 3091\\\\\n",
       "\t 2 & twirl        & 7 & 2529 & 3091\\\\\n",
       "\t 2 & geek         & 6 & 2826 & 3091\\\\\n",
       "\t 2 & pallet       & 5 & 4755 & 3091\\\\\n",
       "\\end{tabular}\n"
      ],
      "text/markdown": [
       "\n",
       "A grouped_df: 25 × 5\n",
       "\n",
       "| subj_code &lt;int&gt; | word &lt;fct&gt; | key &lt;int&gt; | rt &lt;int&gt; | median_RT &lt;dbl&gt; |\n",
       "|---|---|---|---|---|\n",
       "| 1 | abdominal    | 1 | 3245 | 2449 |\n",
       "| 1 | select       | 1 | 3335 | 2449 |\n",
       "| 1 | grain        | 4 | 2612 | 2449 |\n",
       "| 1 | clothes      | 5 | 2500 | 2449 |\n",
       "| 1 | hepatitis    | 1 | 2174 | 2449 |\n",
       "| 1 | carousel     | 3 | 2336 | 2449 |\n",
       "| 1 | seer         | 1 | 2093 | 2449 |\n",
       "| 1 | reek         | 1 | 3116 | 2449 |\n",
       "| 1 | pamper       | 1 | 1856 | 2449 |\n",
       "| 1 | displeasure  | 1 | 2449 | 2449 |\n",
       "| 1 | country      | 7 | 2399 | 2449 |\n",
       "| 1 | reed         | 1 | 1649 | 2449 |\n",
       "| 1 | misdirect    | 3 | 3021 | 2449 |\n",
       "| 1 | stroganoff   | 1 | 2358 | 2449 |\n",
       "| 1 | lackey       | 1 | 3816 | 2449 |\n",
       "| 1 | fence        | 2 | 2449 | 2449 |\n",
       "| 1 | colander     | 1 | 2189 | 2449 |\n",
       "| 1 | twice        | 7 | 2970 | 2449 |\n",
       "| 2 | coin         | 3 | 9141 | 3091 |\n",
       "| 2 | rep          | 3 | 3695 | 3091 |\n",
       "| 2 | precognition | 3 | 2815 | 3091 |\n",
       "| 2 | settlement   | 5 | 2949 | 3091 |\n",
       "| 2 | twirl        | 7 | 2529 | 3091 |\n",
       "| 2 | geek         | 6 | 2826 | 3091 |\n",
       "| 2 | pallet       | 5 | 4755 | 3091 |\n",
       "\n"
      ],
      "text/plain": [
       "   subj_code word         key rt   median_RT\n",
       "1  1         abdominal    1   3245 2449     \n",
       "2  1         select       1   3335 2449     \n",
       "3  1         grain        4   2612 2449     \n",
       "4  1         clothes      5   2500 2449     \n",
       "5  1         hepatitis    1   2174 2449     \n",
       "6  1         carousel     3   2336 2449     \n",
       "7  1         seer         1   2093 2449     \n",
       "8  1         reek         1   3116 2449     \n",
       "9  1         pamper       1   1856 2449     \n",
       "10 1         displeasure  1   2449 2449     \n",
       "11 1         country      7   2399 2449     \n",
       "12 1         reed         1   1649 2449     \n",
       "13 1         misdirect    3   3021 2449     \n",
       "14 1         stroganoff   1   2358 2449     \n",
       "15 1         lackey       1   3816 2449     \n",
       "16 1         fence        2   2449 2449     \n",
       "17 1         colander     1   2189 2449     \n",
       "18 1         twice        7   2970 2449     \n",
       "19 2         coin         3   9141 3091     \n",
       "20 2         rep          3   3695 3091     \n",
       "21 2         precognition 3   2815 3091     \n",
       "22 2         settlement   5   2949 3091     \n",
       "23 2         twirl        7   2529 3091     \n",
       "24 2         geek         6   2826 3091     \n",
       "25 2         pallet       5   4755 3091     "
      ]
     },
     "metadata": {},
     "output_type": "display_data"
    }
   ],
   "source": [
    "responses %>% group_by(subj_code) %>% mutate(median_RT = median(rt)) %>% head(25)"
   ]
  },
  {
   "cell_type": "markdown",
   "metadata": {},
   "source": [
    "This pattern is especially useful to create by-factor normalized variables, e.g."
   ]
  },
  {
   "cell_type": "code",
   "execution_count": 20,
   "metadata": {
    "vscode": {
     "languageId": "r"
    }
   },
   "outputs": [
    {
     "data": {
      "text/html": [
       "<table class=\"dataframe\">\n",
       "<caption>A grouped_df: 20 × 8</caption>\n",
       "<thead>\n",
       "\t<tr><th scope=col>subj_code</th><th scope=col>word</th><th scope=col>key</th><th scope=col>rt</th><th scope=col>scaled_resp_by_subj</th><th scope=col>num_ratings_by_subj</th><th scope=col>scaled_resp_by_word</th><th scope=col>num_ratings_for_word</th></tr>\n",
       "\t<tr><th scope=col>&lt;int&gt;</th><th scope=col>&lt;fct&gt;</th><th scope=col>&lt;int&gt;</th><th scope=col>&lt;int&gt;</th><th scope=col>&lt;dbl[,1]&gt;</th><th scope=col>&lt;int&gt;</th><th scope=col>&lt;dbl[,1]&gt;</th><th scope=col>&lt;int&gt;</th></tr>\n",
       "</thead>\n",
       "<tbody>\n",
       "\t<tr><td>7011</td><td>payroll       </td><td>6</td><td>2015</td><td> 1.4142136</td><td>14</td><td> 0.5773503</td><td>3</td></tr>\n",
       "\t<tr><td>7011</td><td>scaffold      </td><td>4</td><td>1924</td><td> 0.0000000</td><td>14</td><td>-0.7071068</td><td>2</td></tr>\n",
       "\t<tr><td>7011</td><td>make          </td><td>5</td><td>1852</td><td> 0.7071068</td><td>14</td><td> 1.0246951</td><td>4</td></tr>\n",
       "\t<tr><td>7011</td><td>hairpin       </td><td>5</td><td>1986</td><td> 0.7071068</td><td>14</td><td>       NaN</td><td>1</td></tr>\n",
       "\t<tr><td>7011</td><td>swept         </td><td>5</td><td>1604</td><td> 0.7071068</td><td>14</td><td>-1.2247449</td><td>4</td></tr>\n",
       "\t<tr><td>7011</td><td>learning      </td><td>3</td><td>1958</td><td>-0.7071068</td><td>14</td><td>-0.6245384</td><td>7</td></tr>\n",
       "\t<tr><td>7012</td><td>detergent     </td><td>1</td><td>1235</td><td>-0.4601950</td><td>14</td><td>-0.7071068</td><td>2</td></tr>\n",
       "\t<tr><td>7012</td><td>participant   </td><td>1</td><td> 960</td><td>-0.4601950</td><td>14</td><td>-0.7071068</td><td>2</td></tr>\n",
       "\t<tr><td>7012</td><td>affectionate  </td><td>1</td><td>1393</td><td>-0.4601950</td><td>14</td><td>       NaN</td><td>1</td></tr>\n",
       "\t<tr><td>7012</td><td>irate         </td><td>7</td><td>3296</td><td> 2.5133728</td><td>14</td><td> 1.1801937</td><td>4</td></tr>\n",
       "\t<tr><td>7012</td><td>corset        </td><td>6</td><td>1862</td><td> 2.0177781</td><td>14</td><td> 1.4657098</td><td>4</td></tr>\n",
       "\t<tr><td>7012</td><td>congruity     </td><td>1</td><td>1134</td><td>-0.4601950</td><td>14</td><td>-0.5000000</td><td>4</td></tr>\n",
       "\t<tr><td>7012</td><td>hurry         </td><td>1</td><td>1488</td><td>-0.4601950</td><td>14</td><td>-1.0795912</td><td>5</td></tr>\n",
       "\t<tr><td>7012</td><td>marsh         </td><td>3</td><td>4215</td><td> 0.5309942</td><td>14</td><td>-0.8488747</td><td>4</td></tr>\n",
       "\t<tr><td>7012</td><td>droplet       </td><td>1</td><td> 938</td><td>-0.4601950</td><td>14</td><td>-0.7071068</td><td>2</td></tr>\n",
       "\t<tr><td>7012</td><td>disenfranchise</td><td>1</td><td>1471</td><td>-0.4601950</td><td>14</td><td>-1.1618950</td><td>4</td></tr>\n",
       "\t<tr><td>7012</td><td>salamander    </td><td>1</td><td>2849</td><td>-0.4601950</td><td>14</td><td>-1.0910895</td><td>3</td></tr>\n",
       "\t<tr><td>7012</td><td>methodology   </td><td>1</td><td> 694</td><td>-0.4601950</td><td>14</td><td>-0.7071068</td><td>2</td></tr>\n",
       "\t<tr><td>7012</td><td>sweater       </td><td>1</td><td>4780</td><td>-0.4601950</td><td>14</td><td>-0.5773503</td><td>3</td></tr>\n",
       "\t<tr><td>7012</td><td>tram          </td><td>1</td><td>1660</td><td>-0.4601950</td><td>14</td><td>-0.7071068</td><td>2</td></tr>\n",
       "</tbody>\n",
       "</table>\n"
      ],
      "text/latex": [
       "A grouped\\_df: 20 × 8\n",
       "\\begin{tabular}{llllllll}\n",
       " subj\\_code & word & key & rt & scaled\\_resp\\_by\\_subj & num\\_ratings\\_by\\_subj & scaled\\_resp\\_by\\_word & num\\_ratings\\_for\\_word\\\\\n",
       " <int> & <fct> & <int> & <int> & <dbl{[},1{]}> & <int> & <dbl{[},1{]}> & <int>\\\\\n",
       "\\hline\n",
       "\t 7011 & payroll        & 6 & 2015 &  1.4142136 & 14 &  0.5773503 & 3\\\\\n",
       "\t 7011 & scaffold       & 4 & 1924 &  0.0000000 & 14 & -0.7071068 & 2\\\\\n",
       "\t 7011 & make           & 5 & 1852 &  0.7071068 & 14 &  1.0246951 & 4\\\\\n",
       "\t 7011 & hairpin        & 5 & 1986 &  0.7071068 & 14 &        NaN & 1\\\\\n",
       "\t 7011 & swept          & 5 & 1604 &  0.7071068 & 14 & -1.2247449 & 4\\\\\n",
       "\t 7011 & learning       & 3 & 1958 & -0.7071068 & 14 & -0.6245384 & 7\\\\\n",
       "\t 7012 & detergent      & 1 & 1235 & -0.4601950 & 14 & -0.7071068 & 2\\\\\n",
       "\t 7012 & participant    & 1 &  960 & -0.4601950 & 14 & -0.7071068 & 2\\\\\n",
       "\t 7012 & affectionate   & 1 & 1393 & -0.4601950 & 14 &        NaN & 1\\\\\n",
       "\t 7012 & irate          & 7 & 3296 &  2.5133728 & 14 &  1.1801937 & 4\\\\\n",
       "\t 7012 & corset         & 6 & 1862 &  2.0177781 & 14 &  1.4657098 & 4\\\\\n",
       "\t 7012 & congruity      & 1 & 1134 & -0.4601950 & 14 & -0.5000000 & 4\\\\\n",
       "\t 7012 & hurry          & 1 & 1488 & -0.4601950 & 14 & -1.0795912 & 5\\\\\n",
       "\t 7012 & marsh          & 3 & 4215 &  0.5309942 & 14 & -0.8488747 & 4\\\\\n",
       "\t 7012 & droplet        & 1 &  938 & -0.4601950 & 14 & -0.7071068 & 2\\\\\n",
       "\t 7012 & disenfranchise & 1 & 1471 & -0.4601950 & 14 & -1.1618950 & 4\\\\\n",
       "\t 7012 & salamander     & 1 & 2849 & -0.4601950 & 14 & -1.0910895 & 3\\\\\n",
       "\t 7012 & methodology    & 1 &  694 & -0.4601950 & 14 & -0.7071068 & 2\\\\\n",
       "\t 7012 & sweater        & 1 & 4780 & -0.4601950 & 14 & -0.5773503 & 3\\\\\n",
       "\t 7012 & tram           & 1 & 1660 & -0.4601950 & 14 & -0.7071068 & 2\\\\\n",
       "\\end{tabular}\n"
      ],
      "text/markdown": [
       "\n",
       "A grouped_df: 20 × 8\n",
       "\n",
       "| subj_code &lt;int&gt; | word &lt;fct&gt; | key &lt;int&gt; | rt &lt;int&gt; | scaled_resp_by_subj &lt;dbl[,1]&gt; | num_ratings_by_subj &lt;int&gt; | scaled_resp_by_word &lt;dbl[,1]&gt; | num_ratings_for_word &lt;int&gt; |\n",
       "|---|---|---|---|---|---|---|---|\n",
       "| 7011 | payroll        | 6 | 2015 |  1.4142136 | 14 |  0.5773503 | 3 |\n",
       "| 7011 | scaffold       | 4 | 1924 |  0.0000000 | 14 | -0.7071068 | 2 |\n",
       "| 7011 | make           | 5 | 1852 |  0.7071068 | 14 |  1.0246951 | 4 |\n",
       "| 7011 | hairpin        | 5 | 1986 |  0.7071068 | 14 |        NaN | 1 |\n",
       "| 7011 | swept          | 5 | 1604 |  0.7071068 | 14 | -1.2247449 | 4 |\n",
       "| 7011 | learning       | 3 | 1958 | -0.7071068 | 14 | -0.6245384 | 7 |\n",
       "| 7012 | detergent      | 1 | 1235 | -0.4601950 | 14 | -0.7071068 | 2 |\n",
       "| 7012 | participant    | 1 |  960 | -0.4601950 | 14 | -0.7071068 | 2 |\n",
       "| 7012 | affectionate   | 1 | 1393 | -0.4601950 | 14 |        NaN | 1 |\n",
       "| 7012 | irate          | 7 | 3296 |  2.5133728 | 14 |  1.1801937 | 4 |\n",
       "| 7012 | corset         | 6 | 1862 |  2.0177781 | 14 |  1.4657098 | 4 |\n",
       "| 7012 | congruity      | 1 | 1134 | -0.4601950 | 14 | -0.5000000 | 4 |\n",
       "| 7012 | hurry          | 1 | 1488 | -0.4601950 | 14 | -1.0795912 | 5 |\n",
       "| 7012 | marsh          | 3 | 4215 |  0.5309942 | 14 | -0.8488747 | 4 |\n",
       "| 7012 | droplet        | 1 |  938 | -0.4601950 | 14 | -0.7071068 | 2 |\n",
       "| 7012 | disenfranchise | 1 | 1471 | -0.4601950 | 14 | -1.1618950 | 4 |\n",
       "| 7012 | salamander     | 1 | 2849 | -0.4601950 | 14 | -1.0910895 | 3 |\n",
       "| 7012 | methodology    | 1 |  694 | -0.4601950 | 14 | -0.7071068 | 2 |\n",
       "| 7012 | sweater        | 1 | 4780 | -0.4601950 | 14 | -0.5773503 | 3 |\n",
       "| 7012 | tram           | 1 | 1660 | -0.4601950 | 14 | -0.7071068 | 2 |\n",
       "\n"
      ],
      "text/plain": [
       "   subj_code word           key rt   scaled_resp_by_subj num_ratings_by_subj\n",
       "1  7011      payroll        6   2015  1.4142136          14                 \n",
       "2  7011      scaffold       4   1924  0.0000000          14                 \n",
       "3  7011      make           5   1852  0.7071068          14                 \n",
       "4  7011      hairpin        5   1986  0.7071068          14                 \n",
       "5  7011      swept          5   1604  0.7071068          14                 \n",
       "6  7011      learning       3   1958 -0.7071068          14                 \n",
       "7  7012      detergent      1   1235 -0.4601950          14                 \n",
       "8  7012      participant    1    960 -0.4601950          14                 \n",
       "9  7012      affectionate   1   1393 -0.4601950          14                 \n",
       "10 7012      irate          7   3296  2.5133728          14                 \n",
       "11 7012      corset         6   1862  2.0177781          14                 \n",
       "12 7012      congruity      1   1134 -0.4601950          14                 \n",
       "13 7012      hurry          1   1488 -0.4601950          14                 \n",
       "14 7012      marsh          3   4215  0.5309942          14                 \n",
       "15 7012      droplet        1    938 -0.4601950          14                 \n",
       "16 7012      disenfranchise 1   1471 -0.4601950          14                 \n",
       "17 7012      salamander     1   2849 -0.4601950          14                 \n",
       "18 7012      methodology    1    694 -0.4601950          14                 \n",
       "19 7012      sweater        1   4780 -0.4601950          14                 \n",
       "20 7012      tram           1   1660 -0.4601950          14                 \n",
       "   scaled_resp_by_word num_ratings_for_word\n",
       "1   0.5773503          3                   \n",
       "2  -0.7071068          2                   \n",
       "3   1.0246951          4                   \n",
       "4         NaN          1                   \n",
       "5  -1.2247449          4                   \n",
       "6  -0.6245384          7                   \n",
       "7  -0.7071068          2                   \n",
       "8  -0.7071068          2                   \n",
       "9         NaN          1                   \n",
       "10  1.1801937          4                   \n",
       "11  1.4657098          4                   \n",
       "12 -0.5000000          4                   \n",
       "13 -1.0795912          5                   \n",
       "14 -0.8488747          4                   \n",
       "15 -0.7071068          2                   \n",
       "16 -1.1618950          4                   \n",
       "17 -1.0910895          3                   \n",
       "18 -0.7071068          2                   \n",
       "19 -0.5773503          3                   \n",
       "20 -0.7071068          2                   "
      ]
     },
     "metadata": {},
     "output_type": "display_data"
    }
   ],
   "source": [
    "responses %>% \n",
    "   group_by(subj_code) %>% \n",
    "   mutate(scaled_resp_by_subj = scale(key),num_ratings_by_subj=n()) %>% \n",
    "   group_by(word) %>% \n",
    "   mutate(scaled_resp_by_word = scale(key),num_ratings_for_word=n()) %>% \n",
    "   tail(20)\n",
    "\n"
   ]
  },
  {
   "cell_type": "markdown",
   "metadata": {},
   "source": [
    "## Applying something to multiple columns \n",
    "\n",
    "It is often useful to apply something to multiple columns at once. We can do this the long way by using mutate and listing each column and what function we want to apply to it. In cases where we're applying the same function to multiple columns, there's a faster solution using [across()](https://dplyr.tidyverse.org/articles/colwise.html)\n",
    "\n",
    "Let's get the means of the first four columns for each species listed in the `iris` dataset:"
   ]
  },
  {
   "cell_type": "code",
   "execution_count": 42,
   "metadata": {
    "vscode": {
     "languageId": "r"
    }
   },
   "outputs": [
    {
     "data": {
      "text/html": [
       "<table class=\"dataframe\">\n",
       "<caption>A data.frame: 6 × 5</caption>\n",
       "<thead>\n",
       "\t<tr><th></th><th scope=col>Sepal.Length</th><th scope=col>Sepal.Width</th><th scope=col>Petal.Length</th><th scope=col>Petal.Width</th><th scope=col>Species</th></tr>\n",
       "\t<tr><th></th><th scope=col>&lt;dbl&gt;</th><th scope=col>&lt;dbl&gt;</th><th scope=col>&lt;dbl&gt;</th><th scope=col>&lt;dbl&gt;</th><th scope=col>&lt;fct&gt;</th></tr>\n",
       "</thead>\n",
       "<tbody>\n",
       "\t<tr><th scope=row>1</th><td>5.1</td><td>3.5</td><td>1.4</td><td>0.2</td><td>setosa</td></tr>\n",
       "\t<tr><th scope=row>2</th><td>4.9</td><td>3.0</td><td>1.4</td><td>0.2</td><td>setosa</td></tr>\n",
       "\t<tr><th scope=row>3</th><td>4.7</td><td>3.2</td><td>1.3</td><td>0.2</td><td>setosa</td></tr>\n",
       "\t<tr><th scope=row>4</th><td>4.6</td><td>3.1</td><td>1.5</td><td>0.2</td><td>setosa</td></tr>\n",
       "\t<tr><th scope=row>5</th><td>5.0</td><td>3.6</td><td>1.4</td><td>0.2</td><td>setosa</td></tr>\n",
       "\t<tr><th scope=row>6</th><td>5.4</td><td>3.9</td><td>1.7</td><td>0.4</td><td>setosa</td></tr>\n",
       "</tbody>\n",
       "</table>\n"
      ],
      "text/latex": [
       "A data.frame: 6 × 5\n",
       "\\begin{tabular}{r|lllll}\n",
       "  & Sepal.Length & Sepal.Width & Petal.Length & Petal.Width & Species\\\\\n",
       "  & <dbl> & <dbl> & <dbl> & <dbl> & <fct>\\\\\n",
       "\\hline\n",
       "\t1 & 5.1 & 3.5 & 1.4 & 0.2 & setosa\\\\\n",
       "\t2 & 4.9 & 3.0 & 1.4 & 0.2 & setosa\\\\\n",
       "\t3 & 4.7 & 3.2 & 1.3 & 0.2 & setosa\\\\\n",
       "\t4 & 4.6 & 3.1 & 1.5 & 0.2 & setosa\\\\\n",
       "\t5 & 5.0 & 3.6 & 1.4 & 0.2 & setosa\\\\\n",
       "\t6 & 5.4 & 3.9 & 1.7 & 0.4 & setosa\\\\\n",
       "\\end{tabular}\n"
      ],
      "text/markdown": [
       "\n",
       "A data.frame: 6 × 5\n",
       "\n",
       "| <!--/--> | Sepal.Length &lt;dbl&gt; | Sepal.Width &lt;dbl&gt; | Petal.Length &lt;dbl&gt; | Petal.Width &lt;dbl&gt; | Species &lt;fct&gt; |\n",
       "|---|---|---|---|---|---|\n",
       "| 1 | 5.1 | 3.5 | 1.4 | 0.2 | setosa |\n",
       "| 2 | 4.9 | 3.0 | 1.4 | 0.2 | setosa |\n",
       "| 3 | 4.7 | 3.2 | 1.3 | 0.2 | setosa |\n",
       "| 4 | 4.6 | 3.1 | 1.5 | 0.2 | setosa |\n",
       "| 5 | 5.0 | 3.6 | 1.4 | 0.2 | setosa |\n",
       "| 6 | 5.4 | 3.9 | 1.7 | 0.4 | setosa |\n",
       "\n"
      ],
      "text/plain": [
       "  Sepal.Length Sepal.Width Petal.Length Petal.Width Species\n",
       "1 5.1          3.5         1.4          0.2         setosa \n",
       "2 4.9          3.0         1.4          0.2         setosa \n",
       "3 4.7          3.2         1.3          0.2         setosa \n",
       "4 4.6          3.1         1.5          0.2         setosa \n",
       "5 5.0          3.6         1.4          0.2         setosa \n",
       "6 5.4          3.9         1.7          0.4         setosa "
      ]
     },
     "metadata": {},
     "output_type": "display_data"
    }
   ],
   "source": [
    "iris %>% head"
   ]
  },
  {
   "cell_type": "code",
   "execution_count": 24,
   "metadata": {
    "vscode": {
     "languageId": "r"
    }
   },
   "outputs": [
    {
     "data": {
      "text/html": [
       "<table class=\"dataframe\">\n",
       "<caption>A tibble: 3 × 5</caption>\n",
       "<thead>\n",
       "\t<tr><th scope=col>Species</th><th scope=col>Sepal.Length</th><th scope=col>Sepal.Width</th><th scope=col>Petal.Length</th><th scope=col>Petal.Width</th></tr>\n",
       "\t<tr><th scope=col>&lt;fct&gt;</th><th scope=col>&lt;dbl&gt;</th><th scope=col>&lt;dbl&gt;</th><th scope=col>&lt;dbl&gt;</th><th scope=col>&lt;dbl&gt;</th></tr>\n",
       "</thead>\n",
       "<tbody>\n",
       "\t<tr><td>setosa    </td><td>5.006</td><td>3.428</td><td>1.462</td><td>0.246</td></tr>\n",
       "\t<tr><td>versicolor</td><td>5.936</td><td>2.770</td><td>4.260</td><td>1.326</td></tr>\n",
       "\t<tr><td>virginica </td><td>6.588</td><td>2.974</td><td>5.552</td><td>2.026</td></tr>\n",
       "</tbody>\n",
       "</table>\n"
      ],
      "text/latex": [
       "A tibble: 3 × 5\n",
       "\\begin{tabular}{lllll}\n",
       " Species & Sepal.Length & Sepal.Width & Petal.Length & Petal.Width\\\\\n",
       " <fct> & <dbl> & <dbl> & <dbl> & <dbl>\\\\\n",
       "\\hline\n",
       "\t setosa     & 5.006 & 3.428 & 1.462 & 0.246\\\\\n",
       "\t versicolor & 5.936 & 2.770 & 4.260 & 1.326\\\\\n",
       "\t virginica  & 6.588 & 2.974 & 5.552 & 2.026\\\\\n",
       "\\end{tabular}\n"
      ],
      "text/markdown": [
       "\n",
       "A tibble: 3 × 5\n",
       "\n",
       "| Species &lt;fct&gt; | Sepal.Length &lt;dbl&gt; | Sepal.Width &lt;dbl&gt; | Petal.Length &lt;dbl&gt; | Petal.Width &lt;dbl&gt; |\n",
       "|---|---|---|---|---|\n",
       "| setosa     | 5.006 | 3.428 | 1.462 | 0.246 |\n",
       "| versicolor | 5.936 | 2.770 | 4.260 | 1.326 |\n",
       "| virginica  | 6.588 | 2.974 | 5.552 | 2.026 |\n",
       "\n"
      ],
      "text/plain": [
       "  Species    Sepal.Length Sepal.Width Petal.Length Petal.Width\n",
       "1 setosa     5.006        3.428       1.462        0.246      \n",
       "2 versicolor 5.936        2.770       4.260        1.326      \n",
       "3 virginica  6.588        2.974       5.552        2.026      "
      ]
     },
     "metadata": {},
     "output_type": "display_data"
    }
   ],
   "source": [
    "iris %>%\n",
    "  group_by(Species) %>% \n",
    "  summarise(across(1:4, mean))"
   ]
  },
  {
   "cell_type": "markdown",
   "metadata": {},
   "source": [
    "The function `mean` can be replaced by any pre-defined function or custom function that you've defined.\n",
    "\n",
    "In addition to selecting by column index, we can select columns by type or name. Let's see this in action:"
   ]
  },
  {
   "cell_type": "code",
   "execution_count": 32,
   "metadata": {
    "vscode": {
     "languageId": "r"
    }
   },
   "outputs": [
    {
     "data": {
      "text/html": [
       "<table class=\"dataframe\">\n",
       "<caption>A tibble: 3 × 5</caption>\n",
       "<thead>\n",
       "\t<tr><th scope=col>Species</th><th scope=col>Sepal.Length</th><th scope=col>Sepal.Width</th><th scope=col>Petal.Length</th><th scope=col>Petal.Width</th></tr>\n",
       "\t<tr><th scope=col>&lt;fct&gt;</th><th scope=col>&lt;dbl&gt;</th><th scope=col>&lt;dbl&gt;</th><th scope=col>&lt;dbl&gt;</th><th scope=col>&lt;dbl&gt;</th></tr>\n",
       "</thead>\n",
       "<tbody>\n",
       "\t<tr><td>setosa    </td><td>5.006</td><td>3.428</td><td>1.462</td><td>0.246</td></tr>\n",
       "\t<tr><td>versicolor</td><td>5.936</td><td>2.770</td><td>4.260</td><td>1.326</td></tr>\n",
       "\t<tr><td>virginica </td><td>6.588</td><td>2.974</td><td>5.552</td><td>2.026</td></tr>\n",
       "</tbody>\n",
       "</table>\n"
      ],
      "text/latex": [
       "A tibble: 3 × 5\n",
       "\\begin{tabular}{lllll}\n",
       " Species & Sepal.Length & Sepal.Width & Petal.Length & Petal.Width\\\\\n",
       " <fct> & <dbl> & <dbl> & <dbl> & <dbl>\\\\\n",
       "\\hline\n",
       "\t setosa     & 5.006 & 3.428 & 1.462 & 0.246\\\\\n",
       "\t versicolor & 5.936 & 2.770 & 4.260 & 1.326\\\\\n",
       "\t virginica  & 6.588 & 2.974 & 5.552 & 2.026\\\\\n",
       "\\end{tabular}\n"
      ],
      "text/markdown": [
       "\n",
       "A tibble: 3 × 5\n",
       "\n",
       "| Species &lt;fct&gt; | Sepal.Length &lt;dbl&gt; | Sepal.Width &lt;dbl&gt; | Petal.Length &lt;dbl&gt; | Petal.Width &lt;dbl&gt; |\n",
       "|---|---|---|---|---|\n",
       "| setosa     | 5.006 | 3.428 | 1.462 | 0.246 |\n",
       "| versicolor | 5.936 | 2.770 | 4.260 | 1.326 |\n",
       "| virginica  | 6.588 | 2.974 | 5.552 | 2.026 |\n",
       "\n"
      ],
      "text/plain": [
       "  Species    Sepal.Length Sepal.Width Petal.Length Petal.Width\n",
       "1 setosa     5.006        3.428       1.462        0.246      \n",
       "2 versicolor 5.936        2.770       4.260        1.326      \n",
       "3 virginica  6.588        2.974       5.552        2.026      "
      ]
     },
     "metadata": {},
     "output_type": "display_data"
    }
   ],
   "source": [
    "iris %>%\n",
    "  group_by(Species) %>% \n",
    "  summarise(across(where(is.numeric), mean)) # select all the numeric columns"
   ]
  },
  {
   "cell_type": "code",
   "execution_count": 48,
   "metadata": {
    "vscode": {
     "languageId": "r"
    }
   },
   "outputs": [
    {
     "data": {
      "text/html": [
       "<table class=\"dataframe\">\n",
       "<caption>A tibble: 3 × 3</caption>\n",
       "<thead>\n",
       "\t<tr><th scope=col>Species</th><th scope=col>Sepal.Length</th><th scope=col>Petal.Length</th></tr>\n",
       "\t<tr><th scope=col>&lt;fct&gt;</th><th scope=col>&lt;dbl&gt;</th><th scope=col>&lt;dbl&gt;</th></tr>\n",
       "</thead>\n",
       "<tbody>\n",
       "\t<tr><td>setosa    </td><td>5.006</td><td>1.462</td></tr>\n",
       "\t<tr><td>versicolor</td><td>5.936</td><td>4.260</td></tr>\n",
       "\t<tr><td>virginica </td><td>6.588</td><td>5.552</td></tr>\n",
       "</tbody>\n",
       "</table>\n"
      ],
      "text/latex": [
       "A tibble: 3 × 3\n",
       "\\begin{tabular}{lll}\n",
       " Species & Sepal.Length & Petal.Length\\\\\n",
       " <fct> & <dbl> & <dbl>\\\\\n",
       "\\hline\n",
       "\t setosa     & 5.006 & 1.462\\\\\n",
       "\t versicolor & 5.936 & 4.260\\\\\n",
       "\t virginica  & 6.588 & 5.552\\\\\n",
       "\\end{tabular}\n"
      ],
      "text/markdown": [
       "\n",
       "A tibble: 3 × 3\n",
       "\n",
       "| Species &lt;fct&gt; | Sepal.Length &lt;dbl&gt; | Petal.Length &lt;dbl&gt; |\n",
       "|---|---|---|\n",
       "| setosa     | 5.006 | 1.462 |\n",
       "| versicolor | 5.936 | 4.260 |\n",
       "| virginica  | 6.588 | 5.552 |\n",
       "\n"
      ],
      "text/plain": [
       "  Species    Sepal.Length Petal.Length\n",
       "1 setosa     5.006        1.462       \n",
       "2 versicolor 5.936        4.260       \n",
       "3 virginica  6.588        5.552       "
      ]
     },
     "metadata": {},
     "output_type": "display_data"
    }
   ],
   "source": [
    "iris %>%\n",
    "  group_by(Species) %>% \n",
    "  summarise(across(contains(\"Length\"), mean)) # select all the columns whose name contains Length"
   ]
  },
  {
   "cell_type": "markdown",
   "metadata": {},
   "source": [
    "## Running a linear model on each grouping factor"
   ]
  },
  {
   "cell_type": "markdown",
   "metadata": {},
   "source": [
    "Let's run separate regression models (lm) on each species preicting Sepal.Length from Petal.Length"
   ]
  },
  {
   "cell_type": "code",
   "execution_count": 35,
   "metadata": {
    "vscode": {
     "languageId": "r"
    }
   },
   "outputs": [
    {
     "data": {
      "text/html": [
       "<table class=\"dataframe\">\n",
       "<caption>A matrix: 4 × 4 of type dbl</caption>\n",
       "<thead>\n",
       "\t<tr><th></th><th scope=col>Sepal.Length</th><th scope=col>Sepal.Width</th><th scope=col>Petal.Length</th><th scope=col>Petal.Width</th></tr>\n",
       "</thead>\n",
       "<tbody>\n",
       "\t<tr><th scope=row>Sepal.Length</th><td> 1.0000000</td><td>-0.1175698</td><td> 0.8717538</td><td> 0.8179411</td></tr>\n",
       "\t<tr><th scope=row>Sepal.Width</th><td>-0.1175698</td><td> 1.0000000</td><td>-0.4284401</td><td>-0.3661259</td></tr>\n",
       "\t<tr><th scope=row>Petal.Length</th><td> 0.8717538</td><td>-0.4284401</td><td> 1.0000000</td><td> 0.9628654</td></tr>\n",
       "\t<tr><th scope=row>Petal.Width</th><td> 0.8179411</td><td>-0.3661259</td><td> 0.9628654</td><td> 1.0000000</td></tr>\n",
       "</tbody>\n",
       "</table>\n"
      ],
      "text/latex": [
       "A matrix: 4 × 4 of type dbl\n",
       "\\begin{tabular}{r|llll}\n",
       "  & Sepal.Length & Sepal.Width & Petal.Length & Petal.Width\\\\\n",
       "\\hline\n",
       "\tSepal.Length &  1.0000000 & -0.1175698 &  0.8717538 &  0.8179411\\\\\n",
       "\tSepal.Width & -0.1175698 &  1.0000000 & -0.4284401 & -0.3661259\\\\\n",
       "\tPetal.Length &  0.8717538 & -0.4284401 &  1.0000000 &  0.9628654\\\\\n",
       "\tPetal.Width &  0.8179411 & -0.3661259 &  0.9628654 &  1.0000000\\\\\n",
       "\\end{tabular}\n"
      ],
      "text/markdown": [
       "\n",
       "A matrix: 4 × 4 of type dbl\n",
       "\n",
       "| <!--/--> | Sepal.Length | Sepal.Width | Petal.Length | Petal.Width |\n",
       "|---|---|---|---|---|\n",
       "| Sepal.Length |  1.0000000 | -0.1175698 |  0.8717538 |  0.8179411 |\n",
       "| Sepal.Width | -0.1175698 |  1.0000000 | -0.4284401 | -0.3661259 |\n",
       "| Petal.Length |  0.8717538 | -0.4284401 |  1.0000000 |  0.9628654 |\n",
       "| Petal.Width |  0.8179411 | -0.3661259 |  0.9628654 |  1.0000000 |\n",
       "\n"
      ],
      "text/plain": [
       "             Sepal.Length Sepal.Width Petal.Length Petal.Width\n",
       "Sepal.Length  1.0000000   -0.1175698   0.8717538    0.8179411 \n",
       "Sepal.Width  -0.1175698    1.0000000  -0.4284401   -0.3661259 \n",
       "Petal.Length  0.8717538   -0.4284401   1.0000000    0.9628654 \n",
       "Petal.Width   0.8179411   -0.3661259   0.9628654    1.0000000 "
      ]
     },
     "metadata": {},
     "output_type": "display_data"
    }
   ],
   "source": [
    "iris %>% select_if(is.numeric) %>% cor\n"
   ]
  },
  {
   "cell_type": "code",
   "execution_count": 45,
   "metadata": {
    "vscode": {
     "languageId": "r"
    }
   },
   "outputs": [
    {
     "data": {
      "text/html": [
       "<table class=\"dataframe\">\n",
       "<caption>A grouped_df: 6 × 6</caption>\n",
       "<thead>\n",
       "\t<tr><th scope=col>Species</th><th scope=col>term</th><th scope=col>estimate</th><th scope=col>std.error</th><th scope=col>statistic</th><th scope=col>p.value</th></tr>\n",
       "\t<tr><th scope=col>&lt;fct&gt;</th><th scope=col>&lt;chr&gt;</th><th scope=col>&lt;dbl&gt;</th><th scope=col>&lt;dbl&gt;</th><th scope=col>&lt;dbl&gt;</th><th scope=col>&lt;dbl&gt;</th></tr>\n",
       "</thead>\n",
       "<tbody>\n",
       "\t<tr><td>setosa    </td><td>(Intercept) </td><td>4.2131682</td><td>0.41558877</td><td>10.137830</td><td>1.614927e-13</td></tr>\n",
       "\t<tr><td>setosa    </td><td>Petal.Length</td><td>0.5422926</td><td>0.28231526</td><td> 1.920876</td><td>6.069778e-02</td></tr>\n",
       "\t<tr><td>versicolor</td><td>(Intercept) </td><td>2.4075231</td><td>0.44625834</td><td> 5.394909</td><td>2.075294e-06</td></tr>\n",
       "\t<tr><td>versicolor</td><td>Petal.Length</td><td>0.8282810</td><td>0.10413643</td><td> 7.953806</td><td>2.586190e-10</td></tr>\n",
       "\t<tr><td>virginica </td><td>(Intercept) </td><td>1.0596591</td><td>0.46676645</td><td> 2.270213</td><td>2.772289e-02</td></tr>\n",
       "\t<tr><td>virginica </td><td>Petal.Length</td><td>0.9957386</td><td>0.08366764</td><td>11.901120</td><td>6.297786e-16</td></tr>\n",
       "</tbody>\n",
       "</table>\n"
      ],
      "text/latex": [
       "A grouped\\_df: 6 × 6\n",
       "\\begin{tabular}{llllll}\n",
       " Species & term & estimate & std.error & statistic & p.value\\\\\n",
       " <fct> & <chr> & <dbl> & <dbl> & <dbl> & <dbl>\\\\\n",
       "\\hline\n",
       "\t setosa     & (Intercept)  & 4.2131682 & 0.41558877 & 10.137830 & 1.614927e-13\\\\\n",
       "\t setosa     & Petal.Length & 0.5422926 & 0.28231526 &  1.920876 & 6.069778e-02\\\\\n",
       "\t versicolor & (Intercept)  & 2.4075231 & 0.44625834 &  5.394909 & 2.075294e-06\\\\\n",
       "\t versicolor & Petal.Length & 0.8282810 & 0.10413643 &  7.953806 & 2.586190e-10\\\\\n",
       "\t virginica  & (Intercept)  & 1.0596591 & 0.46676645 &  2.270213 & 2.772289e-02\\\\\n",
       "\t virginica  & Petal.Length & 0.9957386 & 0.08366764 & 11.901120 & 6.297786e-16\\\\\n",
       "\\end{tabular}\n"
      ],
      "text/markdown": [
       "\n",
       "A grouped_df: 6 × 6\n",
       "\n",
       "| Species &lt;fct&gt; | term &lt;chr&gt; | estimate &lt;dbl&gt; | std.error &lt;dbl&gt; | statistic &lt;dbl&gt; | p.value &lt;dbl&gt; |\n",
       "|---|---|---|---|---|---|\n",
       "| setosa     | (Intercept)  | 4.2131682 | 0.41558877 | 10.137830 | 1.614927e-13 |\n",
       "| setosa     | Petal.Length | 0.5422926 | 0.28231526 |  1.920876 | 6.069778e-02 |\n",
       "| versicolor | (Intercept)  | 2.4075231 | 0.44625834 |  5.394909 | 2.075294e-06 |\n",
       "| versicolor | Petal.Length | 0.8282810 | 0.10413643 |  7.953806 | 2.586190e-10 |\n",
       "| virginica  | (Intercept)  | 1.0596591 | 0.46676645 |  2.270213 | 2.772289e-02 |\n",
       "| virginica  | Petal.Length | 0.9957386 | 0.08366764 | 11.901120 | 6.297786e-16 |\n",
       "\n"
      ],
      "text/plain": [
       "  Species    term         estimate  std.error  statistic p.value     \n",
       "1 setosa     (Intercept)  4.2131682 0.41558877 10.137830 1.614927e-13\n",
       "2 setosa     Petal.Length 0.5422926 0.28231526  1.920876 6.069778e-02\n",
       "3 versicolor (Intercept)  2.4075231 0.44625834  5.394909 2.075294e-06\n",
       "4 versicolor Petal.Length 0.8282810 0.10413643  7.953806 2.586190e-10\n",
       "5 virginica  (Intercept)  1.0596591 0.46676645  2.270213 2.772289e-02\n",
       "6 virginica  Petal.Length 0.9957386 0.08366764 11.901120 6.297786e-16"
      ]
     },
     "metadata": {},
     "output_type": "display_data"
    }
   ],
   "source": [
    "library(broom)\n",
    "iris %>% group_by(Species) %>% \n",
    "    do(tidy( \n",
    "      lm(Sepal.Length ~ Petal.Length, data = .)))"
   ]
  },
  {
   "cell_type": "markdown",
   "metadata": {},
   "source": [
    "Let's try this with something more meaningful. "
   ]
  },
  {
   "cell_type": "code",
   "execution_count": 46,
   "metadata": {
    "vscode": {
     "languageId": "r"
    }
   },
   "outputs": [
    {
     "data": {
      "text/html": [
       "<table class=\"dataframe\">\n",
       "<caption>A tibble: 6 × 6</caption>\n",
       "<thead>\n",
       "\t<tr><th scope=col>country</th><th scope=col>continent</th><th scope=col>year</th><th scope=col>lifeExp</th><th scope=col>pop</th><th scope=col>gdpPercap</th></tr>\n",
       "\t<tr><th scope=col>&lt;fct&gt;</th><th scope=col>&lt;fct&gt;</th><th scope=col>&lt;int&gt;</th><th scope=col>&lt;dbl&gt;</th><th scope=col>&lt;int&gt;</th><th scope=col>&lt;dbl&gt;</th></tr>\n",
       "</thead>\n",
       "<tbody>\n",
       "\t<tr><td>Afghanistan</td><td>Asia</td><td>1952</td><td>28.801</td><td> 8425333</td><td>779.4453</td></tr>\n",
       "\t<tr><td>Afghanistan</td><td>Asia</td><td>1957</td><td>30.332</td><td> 9240934</td><td>820.8530</td></tr>\n",
       "\t<tr><td>Afghanistan</td><td>Asia</td><td>1962</td><td>31.997</td><td>10267083</td><td>853.1007</td></tr>\n",
       "\t<tr><td>Afghanistan</td><td>Asia</td><td>1967</td><td>34.020</td><td>11537966</td><td>836.1971</td></tr>\n",
       "\t<tr><td>Afghanistan</td><td>Asia</td><td>1972</td><td>36.088</td><td>13079460</td><td>739.9811</td></tr>\n",
       "\t<tr><td>Afghanistan</td><td>Asia</td><td>1977</td><td>38.438</td><td>14880372</td><td>786.1134</td></tr>\n",
       "</tbody>\n",
       "</table>\n"
      ],
      "text/latex": [
       "A tibble: 6 × 6\n",
       "\\begin{tabular}{llllll}\n",
       " country & continent & year & lifeExp & pop & gdpPercap\\\\\n",
       " <fct> & <fct> & <int> & <dbl> & <int> & <dbl>\\\\\n",
       "\\hline\n",
       "\t Afghanistan & Asia & 1952 & 28.801 &  8425333 & 779.4453\\\\\n",
       "\t Afghanistan & Asia & 1957 & 30.332 &  9240934 & 820.8530\\\\\n",
       "\t Afghanistan & Asia & 1962 & 31.997 & 10267083 & 853.1007\\\\\n",
       "\t Afghanistan & Asia & 1967 & 34.020 & 11537966 & 836.1971\\\\\n",
       "\t Afghanistan & Asia & 1972 & 36.088 & 13079460 & 739.9811\\\\\n",
       "\t Afghanistan & Asia & 1977 & 38.438 & 14880372 & 786.1134\\\\\n",
       "\\end{tabular}\n"
      ],
      "text/markdown": [
       "\n",
       "A tibble: 6 × 6\n",
       "\n",
       "| country &lt;fct&gt; | continent &lt;fct&gt; | year &lt;int&gt; | lifeExp &lt;dbl&gt; | pop &lt;int&gt; | gdpPercap &lt;dbl&gt; |\n",
       "|---|---|---|---|---|---|\n",
       "| Afghanistan | Asia | 1952 | 28.801 |  8425333 | 779.4453 |\n",
       "| Afghanistan | Asia | 1957 | 30.332 |  9240934 | 820.8530 |\n",
       "| Afghanistan | Asia | 1962 | 31.997 | 10267083 | 853.1007 |\n",
       "| Afghanistan | Asia | 1967 | 34.020 | 11537966 | 836.1971 |\n",
       "| Afghanistan | Asia | 1972 | 36.088 | 13079460 | 739.9811 |\n",
       "| Afghanistan | Asia | 1977 | 38.438 | 14880372 | 786.1134 |\n",
       "\n"
      ],
      "text/plain": [
       "  country     continent year lifeExp pop      gdpPercap\n",
       "1 Afghanistan Asia      1952 28.801   8425333 779.4453 \n",
       "2 Afghanistan Asia      1957 30.332   9240934 820.8530 \n",
       "3 Afghanistan Asia      1962 31.997  10267083 853.1007 \n",
       "4 Afghanistan Asia      1967 34.020  11537966 836.1971 \n",
       "5 Afghanistan Asia      1972 36.088  13079460 739.9811 \n",
       "6 Afghanistan Asia      1977 38.438  14880372 786.1134 "
      ]
     },
     "metadata": {},
     "output_type": "display_data"
    }
   ],
   "source": [
    "library(gapminder)\n",
    "gapminder %>% head"
   ]
  },
  {
   "cell_type": "code",
   "execution_count": 60,
   "metadata": {
    "vscode": {
     "languageId": "r"
    }
   },
   "outputs": [
    {
     "data": {
      "text/html": [
       "<table class=\"dataframe\">\n",
       "<caption>A tibble: 2 × 2</caption>\n",
       "<thead>\n",
       "\t<tr><th scope=col>year</th><th scope=col>lifeExp</th></tr>\n",
       "\t<tr><th scope=col>&lt;int&gt;</th><th scope=col>&lt;dbl&gt;</th></tr>\n",
       "</thead>\n",
       "<tbody>\n",
       "\t<tr><td>1952</td><td>49.05762</td></tr>\n",
       "\t<tr><td>2007</td><td>67.00742</td></tr>\n",
       "</tbody>\n",
       "</table>\n"
      ],
      "text/latex": [
       "A tibble: 2 × 2\n",
       "\\begin{tabular}{ll}\n",
       " year & lifeExp\\\\\n",
       " <int> & <dbl>\\\\\n",
       "\\hline\n",
       "\t 1952 & 49.05762\\\\\n",
       "\t 2007 & 67.00742\\\\\n",
       "\\end{tabular}\n"
      ],
      "text/markdown": [
       "\n",
       "A tibble: 2 × 2\n",
       "\n",
       "| year &lt;int&gt; | lifeExp &lt;dbl&gt; |\n",
       "|---|---|\n",
       "| 1952 | 49.05762 |\n",
       "| 2007 | 67.00742 |\n",
       "\n"
      ],
      "text/plain": [
       "  year lifeExp \n",
       "1 1952 49.05762\n",
       "2 2007 67.00742"
      ]
     },
     "metadata": {},
     "output_type": "display_data"
    }
   ],
   "source": [
    "gapminder %>% group_by (year) %>% \n",
    "    summarize(lifeExp=mean(lifeExp)) %>% \n",
    "    filter(year==min(year) | year==max(year))"
   ]
  },
  {
   "cell_type": "markdown",
   "metadata": {},
   "source": [
    "We can see that on average there's been a 18 (!!) year increase in life expectancy between 1952 and 2007. Remarkable progress.\n",
    "Which countries showed the largest vs. smallest trends in life expectancy in this time? To answer, let's run a separate linear model for each country, predicting life expectancy from year and sort by the coefficient. A large coefficient means a large increase. A small coefficient means a small increase (a negative coefficient means a decrease in life expectancy)."
   ]
  },
  {
   "cell_type": "code",
   "execution_count": 53,
   "metadata": {
    "tags": [
     "hide-output"
    ],
    "vscode": {
     "languageId": "r"
    }
   },
   "outputs": [
    {
     "data": {
      "text/html": [
       "<table class=\"dataframe\">\n",
       "<caption>A grouped_df: 142 × 2</caption>\n",
       "<thead>\n",
       "\t<tr><th scope=col>country</th><th scope=col>estimate</th></tr>\n",
       "\t<tr><th scope=col>&lt;fct&gt;</th><th scope=col>&lt;dbl&gt;</th></tr>\n",
       "</thead>\n",
       "<tbody>\n",
       "\t<tr><td>Oman              </td><td>0.7721790</td></tr>\n",
       "\t<tr><td>Vietnam           </td><td>0.6716154</td></tr>\n",
       "\t<tr><td>Saudi Arabia      </td><td>0.6496231</td></tr>\n",
       "\t<tr><td>Indonesia         </td><td>0.6346413</td></tr>\n",
       "\t<tr><td>Libya             </td><td>0.6255357</td></tr>\n",
       "\t<tr><td>Yemen, Rep.       </td><td>0.6054594</td></tr>\n",
       "\t<tr><td>West Bank and Gaza</td><td>0.6011007</td></tr>\n",
       "\t<tr><td>Tunisia           </td><td>0.5878434</td></tr>\n",
       "\t<tr><td>Gambia            </td><td>0.5818259</td></tr>\n",
       "\t<tr><td>Jordan            </td><td>0.5717294</td></tr>\n",
       "\t<tr><td>Algeria           </td><td>0.5692797</td></tr>\n",
       "\t<tr><td>Nicaragua         </td><td>0.5565196</td></tr>\n",
       "\t<tr><td>Egypt             </td><td>0.5554545</td></tr>\n",
       "\t<tr><td>Korea, Rep.       </td><td>0.5554000</td></tr>\n",
       "\t<tr><td>Syria             </td><td>0.5543594</td></tr>\n",
       "\t<tr><td>Honduras          </td><td>0.5428517</td></tr>\n",
       "\t<tr><td>Morocco           </td><td>0.5424727</td></tr>\n",
       "\t<tr><td>Guatemala         </td><td>0.5312734</td></tr>\n",
       "\t<tr><td>China             </td><td>0.5307149</td></tr>\n",
       "\t<tr><td>Nepal             </td><td>0.5292615</td></tr>\n",
       "\t<tr><td>Peru              </td><td>0.5276979</td></tr>\n",
       "\t<tr><td>India             </td><td>0.5053210</td></tr>\n",
       "\t<tr><td>Senegal           </td><td>0.5047000</td></tr>\n",
       "\t<tr><td>Ecuador           </td><td>0.5000531</td></tr>\n",
       "\t<tr><td>Bolivia           </td><td>0.4999322</td></tr>\n",
       "\t<tr><td>Bangladesh        </td><td>0.4981308</td></tr>\n",
       "\t<tr><td>Turkey            </td><td>0.4972399</td></tr>\n",
       "\t<tr><td>Iran              </td><td>0.4966399</td></tr>\n",
       "\t<tr><td>El Salvador       </td><td>0.4771413</td></tr>\n",
       "\t<tr><td>Chile             </td><td>0.4768441</td></tr>\n",
       "\t<tr><td>⋮</td><td>⋮</td></tr>\n",
       "\t<tr><td>New Zealand             </td><td> 0.19282098</td></tr>\n",
       "\t<tr><td>United Kingdom          </td><td> 0.18596573</td></tr>\n",
       "\t<tr><td>United States           </td><td> 0.18416923</td></tr>\n",
       "\t<tr><td>Central African Republic</td><td> 0.18390559</td></tr>\n",
       "\t<tr><td>Uruguay                 </td><td> 0.18327203</td></tr>\n",
       "\t<tr><td>Tanzania                </td><td> 0.17468811</td></tr>\n",
       "\t<tr><td>Trinidad and Tobago     </td><td> 0.17366154</td></tr>\n",
       "\t<tr><td>South Africa            </td><td> 0.16915944</td></tr>\n",
       "\t<tr><td>Sweden                  </td><td> 0.16625455</td></tr>\n",
       "\t<tr><td>Iceland                 </td><td> 0.16537552</td></tr>\n",
       "\t<tr><td>Romania                 </td><td> 0.15740140</td></tr>\n",
       "\t<tr><td>Paraguay                </td><td> 0.15735455</td></tr>\n",
       "\t<tr><td>Burundi                 </td><td> 0.15413427</td></tr>\n",
       "\t<tr><td>Bulgaria                </td><td> 0.14568881</td></tr>\n",
       "\t<tr><td>Czech Republic          </td><td> 0.14481538</td></tr>\n",
       "\t<tr><td>Netherlands             </td><td> 0.13668671</td></tr>\n",
       "\t<tr><td>Slovak Republic         </td><td> 0.13404406</td></tr>\n",
       "\t<tr><td>Norway                  </td><td> 0.13194126</td></tr>\n",
       "\t<tr><td>Cote d'Ivoire           </td><td> 0.13055664</td></tr>\n",
       "\t<tr><td>Hungary                 </td><td> 0.12364895</td></tr>\n",
       "\t<tr><td>Uganda                  </td><td> 0.12158601</td></tr>\n",
       "\t<tr><td>Denmark                 </td><td> 0.12133007</td></tr>\n",
       "\t<tr><td>Liberia                 </td><td> 0.09599371</td></tr>\n",
       "\t<tr><td>Lesotho                 </td><td> 0.09556573</td></tr>\n",
       "\t<tr><td>Swaziland               </td><td> 0.09507483</td></tr>\n",
       "\t<tr><td>Congo, Dem. Rep.        </td><td> 0.09391538</td></tr>\n",
       "\t<tr><td>Botswana                </td><td> 0.06066853</td></tr>\n",
       "\t<tr><td>Rwanda                  </td><td>-0.04583147</td></tr>\n",
       "\t<tr><td>Zambia                  </td><td>-0.06042517</td></tr>\n",
       "\t<tr><td>Zimbabwe                </td><td>-0.09302098</td></tr>\n",
       "</tbody>\n",
       "</table>\n"
      ],
      "text/latex": [
       "A grouped\\_df: 142 × 2\n",
       "\\begin{tabular}{ll}\n",
       " country & estimate\\\\\n",
       " <fct> & <dbl>\\\\\n",
       "\\hline\n",
       "\t Oman               & 0.7721790\\\\\n",
       "\t Vietnam            & 0.6716154\\\\\n",
       "\t Saudi Arabia       & 0.6496231\\\\\n",
       "\t Indonesia          & 0.6346413\\\\\n",
       "\t Libya              & 0.6255357\\\\\n",
       "\t Yemen, Rep.        & 0.6054594\\\\\n",
       "\t West Bank and Gaza & 0.6011007\\\\\n",
       "\t Tunisia            & 0.5878434\\\\\n",
       "\t Gambia             & 0.5818259\\\\\n",
       "\t Jordan             & 0.5717294\\\\\n",
       "\t Algeria            & 0.5692797\\\\\n",
       "\t Nicaragua          & 0.5565196\\\\\n",
       "\t Egypt              & 0.5554545\\\\\n",
       "\t Korea, Rep.        & 0.5554000\\\\\n",
       "\t Syria              & 0.5543594\\\\\n",
       "\t Honduras           & 0.5428517\\\\\n",
       "\t Morocco            & 0.5424727\\\\\n",
       "\t Guatemala          & 0.5312734\\\\\n",
       "\t China              & 0.5307149\\\\\n",
       "\t Nepal              & 0.5292615\\\\\n",
       "\t Peru               & 0.5276979\\\\\n",
       "\t India              & 0.5053210\\\\\n",
       "\t Senegal            & 0.5047000\\\\\n",
       "\t Ecuador            & 0.5000531\\\\\n",
       "\t Bolivia            & 0.4999322\\\\\n",
       "\t Bangladesh         & 0.4981308\\\\\n",
       "\t Turkey             & 0.4972399\\\\\n",
       "\t Iran               & 0.4966399\\\\\n",
       "\t El Salvador        & 0.4771413\\\\\n",
       "\t Chile              & 0.4768441\\\\\n",
       "\t ⋮ & ⋮\\\\\n",
       "\t New Zealand              &  0.19282098\\\\\n",
       "\t United Kingdom           &  0.18596573\\\\\n",
       "\t United States            &  0.18416923\\\\\n",
       "\t Central African Republic &  0.18390559\\\\\n",
       "\t Uruguay                  &  0.18327203\\\\\n",
       "\t Tanzania                 &  0.17468811\\\\\n",
       "\t Trinidad and Tobago      &  0.17366154\\\\\n",
       "\t South Africa             &  0.16915944\\\\\n",
       "\t Sweden                   &  0.16625455\\\\\n",
       "\t Iceland                  &  0.16537552\\\\\n",
       "\t Romania                  &  0.15740140\\\\\n",
       "\t Paraguay                 &  0.15735455\\\\\n",
       "\t Burundi                  &  0.15413427\\\\\n",
       "\t Bulgaria                 &  0.14568881\\\\\n",
       "\t Czech Republic           &  0.14481538\\\\\n",
       "\t Netherlands              &  0.13668671\\\\\n",
       "\t Slovak Republic          &  0.13404406\\\\\n",
       "\t Norway                   &  0.13194126\\\\\n",
       "\t Cote d'Ivoire            &  0.13055664\\\\\n",
       "\t Hungary                  &  0.12364895\\\\\n",
       "\t Uganda                   &  0.12158601\\\\\n",
       "\t Denmark                  &  0.12133007\\\\\n",
       "\t Liberia                  &  0.09599371\\\\\n",
       "\t Lesotho                  &  0.09556573\\\\\n",
       "\t Swaziland                &  0.09507483\\\\\n",
       "\t Congo, Dem. Rep.         &  0.09391538\\\\\n",
       "\t Botswana                 &  0.06066853\\\\\n",
       "\t Rwanda                   & -0.04583147\\\\\n",
       "\t Zambia                   & -0.06042517\\\\\n",
       "\t Zimbabwe                 & -0.09302098\\\\\n",
       "\\end{tabular}\n"
      ],
      "text/markdown": [
       "\n",
       "A grouped_df: 142 × 2\n",
       "\n",
       "| country &lt;fct&gt; | estimate &lt;dbl&gt; |\n",
       "|---|---|\n",
       "| Oman               | 0.7721790 |\n",
       "| Vietnam            | 0.6716154 |\n",
       "| Saudi Arabia       | 0.6496231 |\n",
       "| Indonesia          | 0.6346413 |\n",
       "| Libya              | 0.6255357 |\n",
       "| Yemen, Rep.        | 0.6054594 |\n",
       "| West Bank and Gaza | 0.6011007 |\n",
       "| Tunisia            | 0.5878434 |\n",
       "| Gambia             | 0.5818259 |\n",
       "| Jordan             | 0.5717294 |\n",
       "| Algeria            | 0.5692797 |\n",
       "| Nicaragua          | 0.5565196 |\n",
       "| Egypt              | 0.5554545 |\n",
       "| Korea, Rep.        | 0.5554000 |\n",
       "| Syria              | 0.5543594 |\n",
       "| Honduras           | 0.5428517 |\n",
       "| Morocco            | 0.5424727 |\n",
       "| Guatemala          | 0.5312734 |\n",
       "| China              | 0.5307149 |\n",
       "| Nepal              | 0.5292615 |\n",
       "| Peru               | 0.5276979 |\n",
       "| India              | 0.5053210 |\n",
       "| Senegal            | 0.5047000 |\n",
       "| Ecuador            | 0.5000531 |\n",
       "| Bolivia            | 0.4999322 |\n",
       "| Bangladesh         | 0.4981308 |\n",
       "| Turkey             | 0.4972399 |\n",
       "| Iran               | 0.4966399 |\n",
       "| El Salvador        | 0.4771413 |\n",
       "| Chile              | 0.4768441 |\n",
       "| ⋮ | ⋮ |\n",
       "| New Zealand              |  0.19282098 |\n",
       "| United Kingdom           |  0.18596573 |\n",
       "| United States            |  0.18416923 |\n",
       "| Central African Republic |  0.18390559 |\n",
       "| Uruguay                  |  0.18327203 |\n",
       "| Tanzania                 |  0.17468811 |\n",
       "| Trinidad and Tobago      |  0.17366154 |\n",
       "| South Africa             |  0.16915944 |\n",
       "| Sweden                   |  0.16625455 |\n",
       "| Iceland                  |  0.16537552 |\n",
       "| Romania                  |  0.15740140 |\n",
       "| Paraguay                 |  0.15735455 |\n",
       "| Burundi                  |  0.15413427 |\n",
       "| Bulgaria                 |  0.14568881 |\n",
       "| Czech Republic           |  0.14481538 |\n",
       "| Netherlands              |  0.13668671 |\n",
       "| Slovak Republic          |  0.13404406 |\n",
       "| Norway                   |  0.13194126 |\n",
       "| Cote d'Ivoire            |  0.13055664 |\n",
       "| Hungary                  |  0.12364895 |\n",
       "| Uganda                   |  0.12158601 |\n",
       "| Denmark                  |  0.12133007 |\n",
       "| Liberia                  |  0.09599371 |\n",
       "| Lesotho                  |  0.09556573 |\n",
       "| Swaziland                |  0.09507483 |\n",
       "| Congo, Dem. Rep.         |  0.09391538 |\n",
       "| Botswana                 |  0.06066853 |\n",
       "| Rwanda                   | -0.04583147 |\n",
       "| Zambia                   | -0.06042517 |\n",
       "| Zimbabwe                 | -0.09302098 |\n",
       "\n"
      ],
      "text/plain": [
       "       country                  estimate   \n",
       "1      Oman                     0.7721790  \n",
       "2      Vietnam                  0.6716154  \n",
       "3      Saudi Arabia             0.6496231  \n",
       "4      Indonesia                0.6346413  \n",
       "5      Libya                    0.6255357  \n",
       "6      Yemen, Rep.              0.6054594  \n",
       "7      West Bank and Gaza       0.6011007  \n",
       "8      Tunisia                  0.5878434  \n",
       "9      Gambia                   0.5818259  \n",
       "10     Jordan                   0.5717294  \n",
       "11     Algeria                  0.5692797  \n",
       "12     Nicaragua                0.5565196  \n",
       "13     Egypt                    0.5554545  \n",
       "14     Korea, Rep.              0.5554000  \n",
       "15     Syria                    0.5543594  \n",
       "16     Honduras                 0.5428517  \n",
       "17     Morocco                  0.5424727  \n",
       "18     Guatemala                0.5312734  \n",
       "19     China                    0.5307149  \n",
       "20     Nepal                    0.5292615  \n",
       "21     Peru                     0.5276979  \n",
       "22     India                    0.5053210  \n",
       "23     Senegal                  0.5047000  \n",
       "24     Ecuador                  0.5000531  \n",
       "25     Bolivia                  0.4999322  \n",
       "26     Bangladesh               0.4981308  \n",
       "27     Turkey                   0.4972399  \n",
       "28     Iran                     0.4966399  \n",
       "29     El Salvador              0.4771413  \n",
       "30     Chile                    0.4768441  \n",
       "<U+22EE> <U+22EE>                 <U+22EE>   \n",
       "113    New Zealand               0.19282098\n",
       "114    United Kingdom            0.18596573\n",
       "115    United States             0.18416923\n",
       "116    Central African Republic  0.18390559\n",
       "117    Uruguay                   0.18327203\n",
       "118    Tanzania                  0.17468811\n",
       "119    Trinidad and Tobago       0.17366154\n",
       "120    South Africa              0.16915944\n",
       "121    Sweden                    0.16625455\n",
       "122    Iceland                   0.16537552\n",
       "123    Romania                   0.15740140\n",
       "124    Paraguay                  0.15735455\n",
       "125    Burundi                   0.15413427\n",
       "126    Bulgaria                  0.14568881\n",
       "127    Czech Republic            0.14481538\n",
       "128    Netherlands               0.13668671\n",
       "129    Slovak Republic           0.13404406\n",
       "130    Norway                    0.13194126\n",
       "131    Cote d'Ivoire             0.13055664\n",
       "132    Hungary                   0.12364895\n",
       "133    Uganda                    0.12158601\n",
       "134    Denmark                   0.12133007\n",
       "135    Liberia                   0.09599371\n",
       "136    Lesotho                   0.09556573\n",
       "137    Swaziland                 0.09507483\n",
       "138    Congo, Dem. Rep.          0.09391538\n",
       "139    Botswana                  0.06066853\n",
       "140    Rwanda                   -0.04583147\n",
       "141    Zambia                   -0.06042517\n",
       "142    Zimbabwe                 -0.09302098"
      ]
     },
     "metadata": {},
     "output_type": "display_data"
    }
   ],
   "source": [
    "gapminder %>% group_by(country) %>% \n",
    "    do(tidy( \n",
    "      lm(lifeExp ~ year, data = .))) %>% \n",
    "      filter(term==\"year\") %>% \n",
    "      select(country,estimate) %>%\n",
    "      arrange(-estimate)"
   ]
  },
  {
   "cell_type": "markdown",
   "metadata": {},
   "source": [
    "```{note}\n",
    "Whenever we compare slopes (and that's what this coefficient is), we need to be mindful that a shallow slope *could* just mean that life expectancy was already very high at the start. Conversely, a steep slope could come from a having an especially low life expectancy at the start of the timeseries, *or* an especially high life expectancy at the end.\n",
    "```\n",
    "\n",
    "The largest increases are in places that had massive industrialization. Smallest increases are places with civil unrest and poor medical care.\n",
    "Just as a sanity check, let's look at the differences between the minimum and maximum year for the two extremes: Oman and Zimbambe\n"
   ]
  },
  {
   "cell_type": "code",
   "execution_count": 61,
   "metadata": {
    "vscode": {
     "languageId": "r"
    }
   },
   "outputs": [
    {
     "name": "stderr",
     "output_type": "stream",
     "text": [
      "\u001b[1m\u001b[22m`summarise()` has grouped output by 'country'. You can override using the\n",
      "`.groups` argument.\n"
     ]
    },
    {
     "data": {
      "text/html": [
       "<table class=\"dataframe\">\n",
       "<caption>A grouped_df: 4 × 3</caption>\n",
       "<thead>\n",
       "\t<tr><th scope=col>country</th><th scope=col>year</th><th scope=col>lifeExp</th></tr>\n",
       "\t<tr><th scope=col>&lt;fct&gt;</th><th scope=col>&lt;int&gt;</th><th scope=col>&lt;dbl&gt;</th></tr>\n",
       "</thead>\n",
       "<tbody>\n",
       "\t<tr><td>Oman    </td><td>1952</td><td>37.578</td></tr>\n",
       "\t<tr><td>Oman    </td><td>2007</td><td>75.640</td></tr>\n",
       "\t<tr><td>Zimbabwe</td><td>1952</td><td>48.451</td></tr>\n",
       "\t<tr><td>Zimbabwe</td><td>2007</td><td>43.487</td></tr>\n",
       "</tbody>\n",
       "</table>\n"
      ],
      "text/latex": [
       "A grouped\\_df: 4 × 3\n",
       "\\begin{tabular}{lll}\n",
       " country & year & lifeExp\\\\\n",
       " <fct> & <int> & <dbl>\\\\\n",
       "\\hline\n",
       "\t Oman     & 1952 & 37.578\\\\\n",
       "\t Oman     & 2007 & 75.640\\\\\n",
       "\t Zimbabwe & 1952 & 48.451\\\\\n",
       "\t Zimbabwe & 2007 & 43.487\\\\\n",
       "\\end{tabular}\n"
      ],
      "text/markdown": [
       "\n",
       "A grouped_df: 4 × 3\n",
       "\n",
       "| country &lt;fct&gt; | year &lt;int&gt; | lifeExp &lt;dbl&gt; |\n",
       "|---|---|---|\n",
       "| Oman     | 1952 | 37.578 |\n",
       "| Oman     | 2007 | 75.640 |\n",
       "| Zimbabwe | 1952 | 48.451 |\n",
       "| Zimbabwe | 2007 | 43.487 |\n",
       "\n"
      ],
      "text/plain": [
       "  country  year lifeExp\n",
       "1 Oman     1952 37.578 \n",
       "2 Oman     2007 75.640 \n",
       "3 Zimbabwe 1952 48.451 \n",
       "4 Zimbabwe 2007 43.487 "
      ]
     },
     "metadata": {},
     "output_type": "display_data"
    }
   ],
   "source": [
    "gapminder %>% group_by(country,year) %>% \n",
    "    summarize(lifeExp=mean(lifeExp)) %>% \n",
    "    filter(country==\"Oman\" | country==\"Zimbabwe\") %>% \n",
    "    filter(year==min(year) | year==max(year))"
   ]
  }
 ],
 "metadata": {
  "kernelspec": {
   "display_name": "R",
   "language": "R",
   "name": "ir"
  },
  "language_info": {
   "codemirror_mode": "r",
   "file_extension": ".r",
   "mimetype": "text/x-r-source",
   "name": "R",
   "pygments_lexer": "r",
   "version": "3.6.3"
  }
 },
 "nbformat": 4,
 "nbformat_minor": 2
}