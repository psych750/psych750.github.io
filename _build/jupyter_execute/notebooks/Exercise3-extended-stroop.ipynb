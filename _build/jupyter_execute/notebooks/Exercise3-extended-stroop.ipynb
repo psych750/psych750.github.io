{
 "cells": [
  {
   "cell_type": "markdown",
   "metadata": {},
   "source": [
    "# Exercise 3: Extending the stroop effect - NOT DONE YET\n",
    "\n",
    "[Accept the exercise](XXXX)\n",
    "\n",
    "In this exercise we'll be extending the Stroop effect you coded for Exercise 2 into a more complete experiment that (1) uses external files for stimulus generation rather than building them in, (2) accept runtime variables such as a subject code and what condition they're in, and (3) use some out-of-the-box speech recognition to allow participants to respond with their voices (as the original Stroop task did)."
   ]
  },
  {
   "cell_type": "code",
   "execution_count": null,
   "metadata": {},
   "outputs": [],
   "source": [
    "## Generating a simple trial list. \n",
    "\n",
    "-- to be revised -- \n",
    "\n",
    "Suppose we are interested in finding out the efficacy of a particular kind of masking technique and want to examine if it's more effective in the left vs. right visual field. Let's code a basic trial list for an experiment in which we display an image on either the left or the right side of the screen. Both sides of the screen are then masked, and we are interested in measuring people's ability (e.g., accuracy, reaction time) in responding whether the image was on the right or left side of the screen, while comparing responses on masked vs. nonmasked trials. \n",
    "\n",
    "To do this, we need to generate a list of trials in which some proportion is masked and some is not masked. Within each condition, we want the image on the left side displayed with some proportion of the time, and on the right the remaining times. \n",
    "\n",
    "Let's begin by having 2/3 masked trials and 1/3 non-masked trials. Within each level of the masking factor, half of the targets should be on the left and half on the right. Let's have 5 blocks with each block having all the possible trial types. \n",
    "\n",
    "The code you write should output to the terminal output that looks just like this (that first number is the block number).\n",
    "\n",
    "```Text\n",
    "$ python generateTrials.py\n",
    "1,masked,right\n",
    "1,masked,left\n",
    "1,masked,right\n",
    "1,masked,left\n",
    "1,nonmasked,right\n",
    "1,nonmasked,left\n",
    "2,masked,right\n",
    "2,masked,left\n",
    "2,masked,right\n",
    "2,masked,left\n",
    "2,nonmasked,right\n",
    "2,nonmasked,left\n",
    "3,masked,right\n",
    "3,masked,left\n",
    "3,masked,right\n",
    "3,masked,left\n",
    "3,nonmasked,right\n",
    "3,nonmasked,left\n",
    "4,masked,right\n",
    "4,masked,left\n",
    "4,masked,right\n",
    "4,masked,left\n",
    "4,nonmasked,right\n",
    "4,nonmasked,left\n",
    "5,masked,right\n",
    "5,masked,left\n",
    "5,masked,right\n",
    "5,masked,left\n",
    "5,nonmasked,right\n",
    "5,nonmasked,left\n",
    "```"
   ]
  },
  {
   "cell_type": "markdown",
   "metadata": {},
   "source": [
    "## Exercise 3 parts\n",
    "\n",
    "```{admonition} Challenge!\n",
    "1. Ensure that you can't run the same participant code twice. If you enter a participant code that's already been entered, PsychoPy should pop-up a warning box saying \"Participant code already exists\". This should prevent you from overwriting an existing data-file. \n",
    "```\n",
    "\n",
    "1.  Output the trial information and the user's response, one line per response. The file should look like this and should be called results.txt. Your submission should have at least 20 trials of data, i.e., the results.txt file that you push to the repo should have 20 lines.\n",
    "\n",
    "|        |        |             |   |      |\n",
    "|--------|--------|-------------|---|------|\n",
    "| green  | green  | congruent   | 1 | 854  |\n",
    "| green  | yellow | incongruent | 1 | 1023 |\n",
    "| yellow | green  | incongruent | 0 | 912  |\n",
    "| yellow | yellow | congruent   | 1 | 810  |\n",
    "\n",
    "\n",
    "Col 1: The word shown\n",
    "\n",
    "Col 2: The color of the word\n",
    "\n",
    "Col 3: Trial type\n",
    "\n",
    "COl 4: 1 for a correct response, 0 for incorrect\n",
    "\n",
    "Col 5: The reaction time, in milliseconds.\n",
    "\n",
    " The columns should be separated with commas, i.e., the string containing the first line of the file with the data above would look like this:\n",
    " `green,green,congruent,1,854`\n",
    "\n",
    "As in Exercise 2, you should be writing to the file after every trial. Make sure your fine is named `subject-code_data.csv` where `subject-code` is the subject code entered at runtime.\n",
    "\n"
   ]
  }
 ],
 "metadata": {
  "celltoolbar": "Edit Metadata",
  "kernelspec": {
   "display_name": "Python 3 (ipykernel)",
   "language": "python",
   "name": "python3"
  },
  "language_info": {
   "codemirror_mode": {
    "name": "ipython",
    "version": 3
   },
   "file_extension": ".py",
   "mimetype": "text/x-python",
   "name": "python",
   "nbconvert_exporter": "python",
   "pygments_lexer": "ipython3",
   "version": "3.8.13"
  },
  "toc": {
   "nav_menu": {},
   "number_sections": true,
   "sideBar": true,
   "skip_h1_title": false,
   "toc_cell": true,
   "toc_position": {
    "height": "526px",
    "left": "0px",
    "right": "922px",
    "top": "111px",
    "width": "358px"
   },
   "toc_section_display": "block",
   "toc_window_display": true
  },
  "vscode": {
   "interpreter": {
    "hash": "57beecaf6908bae4f97de5e2dc8e8d0311fae5bc989593c172c307d13e31f6e4"
   }
  }
 },
 "nbformat": 4,
 "nbformat_minor": 2
}