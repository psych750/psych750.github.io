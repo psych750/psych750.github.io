{
 "cells": [
  {
   "cell_type": "markdown",
   "metadata": {},
   "source": [
    "# Regular expressions\n",
    "\n",
    "Regular expressions are an immensely powerful tool built into most modern computer languages. They are a type of formal grammar that allow you to match strings that match or mismatch a particular rule. [Common uses](http://www.rexegg.com/regex-uses.html) include checking if user input conforms to a desired pattern (e.g., 3 numbers followed by two numbers, followed by 3 numbers), to all sorts of complicated search-replace operations both in text-files and, e.g., renaming files.\n",
    "\n",
    "There are [entire books](https://www.amazon.com/Mastering-Regular-Expressions-Jeffrey-Friedl/dp/0596528124) written on regular expressions as well as [comprehensive online references](https://www.regular-expressions.info/). We'll only concern ourselves with a few basics here. \n",
    "\n",
    "**Start by looking over the [first 10 lessons of this tutorial](https://regexone.com/)** (they're very quick), paying special attention to the sidebar on right, which I reproduce below.\n",
    "\n",
    "Now go to this snazzy [interactive regexp matcher](https://regexr.com/) and play around with it to get a feel for the syntax.\n",
    "\n",
    "Then go through the rest of this notebook and make sure you understand why each regexp works in the way it does."
   ]
  },
  {
   "cell_type": "markdown",
   "metadata": {},
   "source": [
    "\n",
    "Syntax | Meaning\n",
    "------------- |:-------------\n",
    "abc…\t |  Literal letters\n",
    "\\d\t | \tAny Digit\n",
    "\\D\t | \tAny Non-digit character\n",
    ".\t | \tAny single character\n",
    "\\.\t | \tPeriod (slash is an escape character)\n",
    "[abc]\t | \tOnly a, b, or c\n",
    "[^abc]\t | \tNot a, b, nor c\n",
    "[a-z]\t | \tCharacters a to z\n",
    "[A-Z]\t | \tCharacters A to Z\n",
    "[0-9]\t | \tNumbers 0 to 9\n",
    "\\w\t | \tAny Alphanumeric character\n",
    "\\W\t | \tAny Non-alphanumeric character\n",
    "{m}\t | \tm Repetitions\n",
    "{m,n}\t | \tm to n Repetitions\n",
    "&#42;\t | \tZero or more repetitions\n",
    "&#63;\t | \tOptional character (0 or 1)\n",
    "&plus;\t | \tOne or more repetitions\n",
    "\\s\t | \tAny Whitespace\n",
    "\\S\t | \tAny Non-whitespace character\n",
    "^\t | \tStart of string (or line for multiline matching)\n",
    "$\t | \tEnd of string (or line for multiline matching)\n",
    "(...)\t | \tCapture Group (for capturing matches and backreference)\n",
    "(a(bc))\t | \tCapture Sub-group\n",
    "(.&#42;)\t | \tCapture all\n",
    "(abc&#124;def)\t | \tMatches abc or def\n"
   ]
  },
  {
   "cell_type": "markdown",
   "metadata": {},
   "source": [
    "## Use as a filter"
   ]
  },
  {
   "cell_type": "markdown",
   "metadata": {},
   "source": [
    "Let's begin by reading in a file containing a bunch of words from the [American National Corpus](http://www.anc.org/) that have a frequency of at least 9. Here's a sample of what this file looks like.\n",
    "\n",
    "    word\tlemma\tpos\tfreq\n",
    "    the\tthe\tDT\t1081168\n",
    "    of\tof\tIN\t539793\n",
    "    and\tand\tCC\t466737\n",
    "    to\tto\tTO\t448519\n",
    "    a\ta\tDT\t406057\n",
    "    in\tin\tIN\t360853\n",
    "    is\tbe\tVBZ\t192975\n",
    "\n",
    "For those unfamiliar with language lingo, English lemmas are basically the word-stems, e.g., the lemma of *cars* is *car*; the lemma of *walking* is *walk*. pos stands for [*part of speech*](https://www.ling.upenn.edu/courses/Fall_2003/ling001/penn_treebank_pos.html).\n"
   ]
  },
  {
   "cell_type": "code",
   "execution_count": 42,
   "metadata": {},
   "outputs": [],
   "source": [
    "import re #import the python regexp module\n",
    "import pandas as pd\n",
    "\n",
    "data = pd.read_csv('https://psych750.github.io/data/ANC-written-count_over9.txt',encoding = \"ISO-8859-1\",sep=\"\\t\")\n",
    "\n"
   ]
  },
  {
   "cell_type": "code",
   "execution_count": 43,
   "metadata": {},
   "outputs": [],
   "source": [
    "words = list(set(data['word']))[1:]\n"
   ]
  },
  {
   "cell_type": "code",
   "execution_count": 44,
   "metadata": {},
   "outputs": [
    {
     "name": "stdout",
     "output_type": "stream",
     "text": [
      "We have 48316 unique words\n"
     ]
    }
   ],
   "source": [
    "print (f\"We have {len(words)} unique words\")\n"
   ]
  },
  {
   "cell_type": "markdown",
   "metadata": {},
   "source": [
    "Now let's use some regular expressions starting with simple ones, and moving on to every slightly more complicated ones."
   ]
  },
  {
   "cell_type": "markdown",
   "metadata": {},
   "source": [
    "Grab words beginning with *q*"
   ]
  },
  {
   "cell_type": "code",
   "execution_count": 45,
   "metadata": {
    "tags": [
     "hide-output"
    ]
   },
   "outputs": [
    {
     "data": {
      "text/plain": [
       "['qualitatively',\n",
       " 'quarterly',\n",
       " 'quadrupled',\n",
       " 'quotes',\n",
       " 'qaida',\n",
       " 'questionnaires',\n",
       " 'qtls',\n",
       " 'quibble',\n",
       " 'quintana',\n",
       " 'qin',\n",
       " 'quilts',\n",
       " 'quetzalcoatl',\n",
       " 'qçí',\n",
       " 'quadratic',\n",
       " 'quartop',\n",
       " 'quit',\n",
       " 'querying',\n",
       " 'qing',\n",
       " 'qualities',\n",
       " 'quartet',\n",
       " 'qd',\n",
       " 'quadruple',\n",
       " 'quoting',\n",
       " 'quso',\n",
       " 'quixotic',\n",
       " 'quiz',\n",
       " 'quests',\n",
       " 'queue',\n",
       " 'qingdao',\n",
       " 'qtc',\n",
       " 'queried',\n",
       " 'quai',\n",
       " 'quantiles',\n",
       " 'qassam',\n",
       " 'quiescent',\n",
       " 'quiche',\n",
       " 'quietly',\n",
       " 'quirky',\n",
       " 'quarrel',\n",
       " 'quincy',\n",
       " 'quell',\n",
       " 'quarter-century',\n",
       " 'quadrants',\n",
       " 'quick',\n",
       " 'qspline',\n",
       " 'quintessential',\n",
       " 'quashed',\n",
       " 'qaddafi',\n",
       " 'quintanilla',\n",
       " 'quiver',\n",
       " 'queen',\n",
       " 'quilting',\n",
       " 'quantum',\n",
       " 'quipped',\n",
       " 'q-pna',\n",
       " 'quill',\n",
       " 'qualifying',\n",
       " 'quick-edit',\n",
       " 'quart',\n",
       " 'qios',\n",
       " 'quay',\n",
       " 'quitting',\n",
       " 'quagmire',\n",
       " 'quickly',\n",
       " 'qe',\n",
       " 'quarterfinals',\n",
       " 'quilt',\n",
       " 'quenched',\n",
       " 'quantities',\n",
       " 'quartiles',\n",
       " 'quantitate',\n",
       " 'qtl',\n",
       " 'quantitatively',\n",
       " 'quran',\n",
       " 'quarterfinal',\n",
       " 'quickening',\n",
       " 'quantitative',\n",
       " 'quickness',\n",
       " 'quine',\n",
       " 'quaint',\n",
       " 'qianlong',\n",
       " 'quebec',\n",
       " 'qualifications',\n",
       " 'quickest',\n",
       " 'quantified',\n",
       " 'q',\n",
       " 'quandary',\n",
       " 'qutb',\n",
       " 'quot',\n",
       " 'qadir',\n",
       " 'quote',\n",
       " 'quarterback',\n",
       " 'queasy',\n",
       " 'quarterbacks',\n",
       " 'qualified',\n",
       " 'qt',\n",
       " 'queries',\n",
       " 'quintile',\n",
       " 'quark',\n",
       " 'qualifier',\n",
       " 'quayle',\n",
       " 'qeis',\n",
       " 'qsp',\n",
       " 'quail',\n",
       " 'qida',\n",
       " 'quad',\n",
       " 'qpak',\n",
       " 'quo',\n",
       " 'qualms',\n",
       " 'questionable',\n",
       " 'quickie',\n",
       " 'quartz',\n",
       " 'quantify',\n",
       " 'quotations',\n",
       " 'quinone',\n",
       " 'quarry',\n",
       " 'quantity',\n",
       " 'quindlen',\n",
       " 'quantifying',\n",
       " 'qur',\n",
       " 'questioning',\n",
       " 'qb',\n",
       " 'quds',\n",
       " 'quirks',\n",
       " 'quarters',\n",
       " 'quality',\n",
       " 'qéåüåçäçöó',\n",
       " 'québécois',\n",
       " 'qureshi',\n",
       " 'quadrangle',\n",
       " 'quotable',\n",
       " 'quadrant',\n",
       " 'queues',\n",
       " 'qu',\n",
       " 'questions',\n",
       " 'quickedit',\n",
       " 'quenk',\n",
       " 'qualcomm',\n",
       " 'quasispecies',\n",
       " 'quotation',\n",
       " 'quixote',\n",
       " 'quips',\n",
       " 'quake',\n",
       " 'quentin',\n",
       " 'quid',\n",
       " 'qa',\n",
       " 'quaternary',\n",
       " 'que',\n",
       " 'quilted',\n",
       " 'quantitated',\n",
       " 'quackery',\n",
       " 'quoted',\n",
       " 'quantile',\n",
       " 'qualifiers',\n",
       " 'question',\n",
       " 'quip',\n",
       " 'qui',\n",
       " 'qiaquick',\n",
       " 'quite',\n",
       " 'quasi',\n",
       " 'quinta',\n",
       " 'qus',\n",
       " 'qrs',\n",
       " 'qrna',\n",
       " 'quality-of-life',\n",
       " 'quizzes',\n",
       " 'quakes',\n",
       " 'queer',\n",
       " 'qualitative',\n",
       " 'québec',\n",
       " 'quaker',\n",
       " 'quixtar',\n",
       " 'quirk',\n",
       " 'quartops',\n",
       " 'qua',\n",
       " 'quack',\n",
       " 'quintas',\n",
       " 'quigley',\n",
       " 'questioned',\n",
       " 'quiet',\n",
       " 'qualify',\n",
       " 'quarreling',\n",
       " 'quintiles',\n",
       " 'quotas',\n",
       " 'queensland',\n",
       " 'question-and-answer',\n",
       " 'quest',\n",
       " 'quantitation',\n",
       " 'qiagen',\n",
       " 'quench',\n",
       " 'qualifies',\n",
       " 'quotient',\n",
       " 'qio',\n",
       " 'questionnaire',\n",
       " 'quash',\n",
       " 'quayside',\n",
       " 'quibbles',\n",
       " 'quieter',\n",
       " 'questioner',\n",
       " 'qaeda',\n",
       " 'query',\n",
       " 'quantifiable',\n",
       " 'qol',\n",
       " 'quits',\n",
       " 'quinn',\n",
       " 'quick-line',\n",
       " 'quintet',\n",
       " 'quarter',\n",
       " 'quickened',\n",
       " 'qatar',\n",
       " 'quantification',\n",
       " 'quarrels',\n",
       " 'queens',\n",
       " 'quota',\n",
       " 'quidditch',\n",
       " 'quicker',\n",
       " 'quenching',\n",
       " 'quecreek',\n",
       " 'quarries',\n",
       " 'qualification',\n",
       " 'quinones',\n",
       " 'quartets',\n",
       " 'qwest',\n",
       " 'quivering',\n",
       " 'qp',\n",
       " 'quaid',\n",
       " 'qrt-pcr',\n",
       " 'quays',\n",
       " 'quinean',\n",
       " 'quartile']"
      ]
     },
     "execution_count": 45,
     "metadata": {},
     "output_type": "execute_result"
    }
   ],
   "source": [
    "[curWord for curWord in words if re.findall('^q',curWord)]"
   ]
  },
  {
   "cell_type": "code",
   "execution_count": 68,
   "metadata": {},
   "outputs": [
    {
     "data": {
      "text/plain": [
       "['self-determination',\n",
       " 'multimillion-dollar',\n",
       " 'self-monitoring',\n",
       " 'flamingo',\n",
       " 'limoncello',\n",
       " 'illumination',\n",
       " 'filamentous',\n",
       " 'complementation',\n",
       " 'filamentation',\n",
       " 'ultramicroextensions',\n",
       " 'telecommunications',\n",
       " 'flamingos',\n",
       " 'supplementation',\n",
       " 'multidimensional',\n",
       " 'chloramphenicol',\n",
       " 'elimination',\n",
       " 'self-incrimination',\n",
       " 'bloomington',\n",
       " 'implementations',\n",
       " 'flamenco',\n",
       " 'implementation']"
      ]
     },
     "execution_count": 68,
     "metadata": {},
     "output_type": "execute_result"
    }
   ],
   "source": [
    "[curWord for curWord in words if re.findall('l{1}.+m{1}.+n{1}.+o{1}',curWord)]"
   ]
  },
  {
   "cell_type": "markdown",
   "metadata": {},
   "source": [
    "Grab all words begin with an *a* and end with an *i*"
   ]
  },
  {
   "cell_type": "code",
   "execution_count": 46,
   "metadata": {
    "tags": [
     "hide-output"
    ]
   },
   "outputs": [
    {
     "data": {
      "text/plain": [
       "['armani',\n",
       " 'avi',\n",
       " 'alexei',\n",
       " 'api',\n",
       " 'accompli',\n",
       " 'abdelghani',\n",
       " 'assisi',\n",
       " 'asci',\n",
       " 'acini',\n",
       " 'ami',\n",
       " 'adlai',\n",
       " 'arundhati',\n",
       " 'aulaqi',\n",
       " 'asahi',\n",
       " 'ambani',\n",
       " 'ascii',\n",
       " 'alibi',\n",
       " 'arabi',\n",
       " 'ani',\n",
       " 'ashkenazi',\n",
       " 'afghani',\n",
       " 'agassi',\n",
       " 'abyssi',\n",
       " 'amalfi',\n",
       " 'anti',\n",
       " 'alveoli',\n",
       " 'antoni',\n",
       " 'ajami',\n",
       " 'agouti',\n",
       " 'abi',\n",
       " 'audi',\n",
       " 'adi',\n",
       " 'aci',\n",
       " 'afi',\n",
       " 'ali',\n",
       " 'agnelli',\n",
       " 'andrei',\n",
       " 'alumni',\n",
       " 'ari']"
      ]
     },
     "execution_count": 46,
     "metadata": {},
     "output_type": "execute_result"
    }
   ],
   "source": [
    "[curWord for curWord in words if re.findall('^a\\w+i$',curWord)]"
   ]
  },
  {
   "cell_type": "markdown",
   "metadata": {},
   "source": [
    "Grab all words that begin with an *a*, followed by 4-6 letters and and on an *i*"
   ]
  },
  {
   "cell_type": "code",
   "execution_count": 47,
   "metadata": {
    "tags": [
     "hide-output"
    ]
   },
   "outputs": [
    {
     "data": {
      "text/plain": [
       "['armani',\n",
       " 'alexei',\n",
       " 'accompli',\n",
       " 'assisi',\n",
       " 'aulaqi',\n",
       " 'ambani',\n",
       " 'afghani',\n",
       " 'agassi',\n",
       " 'abyssi',\n",
       " 'amalfi',\n",
       " 'alveoli',\n",
       " 'antoni',\n",
       " 'agouti',\n",
       " 'agnelli',\n",
       " 'andrei',\n",
       " 'alumni']"
      ]
     },
     "execution_count": 47,
     "metadata": {},
     "output_type": "execute_result"
    }
   ],
   "source": [
    "[curWord for curWord in words if re.findall('^a\\w{4,6}i$',curWord)]"
   ]
  },
  {
   "cell_type": "markdown",
   "metadata": {},
   "source": [
    "Grab words that start with a *b*, end on an *t*, and contain a *t* somewhere in the middle"
   ]
  },
  {
   "cell_type": "code",
   "execution_count": 48,
   "metadata": {
    "tags": [
     "hide-output"
    ]
   },
   "outputs": [
    {
     "data": {
      "text/plain": [
       "['batshit',\n",
       " 'baptist',\n",
       " 'blatant',\n",
       " 'bittersweet',\n",
       " 'backstreet',\n",
       " 'butaprost',\n",
       " 'bartlett',\n",
       " 'brightest',\n",
       " 'blastocyst',\n",
       " 'betterment',\n",
       " 'bestest',\n",
       " 'bittorrent',\n",
       " 'butait',\n",
       " 'bioterrorist']"
      ]
     },
     "execution_count": 48,
     "metadata": {},
     "output_type": "execute_result"
    }
   ],
   "source": [
    "[curWord for curWord in words if re.findall('^b\\w+t\\w+t$',curWord)]"
   ]
  },
  {
   "cell_type": "markdown",
   "metadata": {},
   "source": [
    "Let's say we want to exclude words that end on two *t*s. "
   ]
  },
  {
   "cell_type": "code",
   "execution_count": 49,
   "metadata": {
    "tags": [
     "hide-output"
    ]
   },
   "outputs": [
    {
     "data": {
      "text/plain": [
       "['batshit',\n",
       " 'baptist',\n",
       " 'blatant',\n",
       " 'bittersweet',\n",
       " 'backstreet',\n",
       " 'butaprost',\n",
       " 'brightest',\n",
       " 'blastocyst',\n",
       " 'betterment',\n",
       " 'bestest',\n",
       " 'bittorrent',\n",
       " 'butait',\n",
       " 'bioterrorist']"
      ]
     },
     "execution_count": 49,
     "metadata": {},
     "output_type": "execute_result"
    }
   ],
   "source": [
    "[curWord for curWord in words if re.findall('^b\\w+t\\w+[^tt]t$',curWord)]"
   ]
  },
  {
   "cell_type": "markdown",
   "metadata": {},
   "source": [
    "Let's get all the words containing the vowels a, e, i, o, in that order"
   ]
  },
  {
   "cell_type": "code",
   "execution_count": 50,
   "metadata": {
    "tags": [
     "hide-output"
    ]
   },
   "outputs": [
    {
     "data": {
      "text/plain": [
       "['characterization',\n",
       " 'catheterization',\n",
       " 'carvedilol',\n",
       " 'cardiorespiratory',\n",
       " 'compartmentalization',\n",
       " 'categorization',\n",
       " 'characterizations',\n",
       " 'parameterization',\n",
       " 'intraperitoneal',\n",
       " 'chloramphenicol',\n",
       " 'campesino',\n",
       " 'intraperitoneally']"
      ]
     },
     "execution_count": 50,
     "metadata": {},
     "output_type": "execute_result"
    }
   ],
   "source": [
    "[curWord for curWord in words if re.findall('\\w+a+\\w+e+\\w+i+\\w+o+',curWord)]"
   ]
  },
  {
   "cell_type": "markdown",
   "metadata": {},
   "source": [
    "You know that saying [i before e except after c](https://en.wikipedia.org/wiki/I_before_E_except_after_C) (in which case it's i after e, like *receive*). Let's see how well this mnemonic holds up."
   ]
  },
  {
   "cell_type": "markdown",
   "metadata": {},
   "source": [
    "Let's find out how many words there are that have *ie* vs. *ei* in them.\n"
   ]
  },
  {
   "cell_type": "code",
   "execution_count": 51,
   "metadata": {},
   "outputs": [
    {
     "name": "stdout",
     "output_type": "stream",
     "text": [
      "ie words: 1439\n",
      "ei words: 483\n"
     ]
    }
   ],
   "source": [
    "print (\"ie words:\", len([curWord for curWord in words if re.findall('ie',curWord)]))\n",
    "print (\"ei words:\", len([curWord for curWord in words if re.findall('ei',curWord)]))\n"
   ]
  },
  {
   "cell_type": "markdown",
   "metadata": {
    "hidePrompt": false
   },
   "source": [
    "Now let's check what happens when we check for a 'c' preceding ie/ei"
   ]
  },
  {
   "cell_type": "code",
   "execution_count": 52,
   "metadata": {},
   "outputs": [
    {
     "name": "stdout",
     "output_type": "stream",
     "text": [
      "cie words: 107\n",
      "cei words: 33\n"
     ]
    }
   ],
   "source": [
    "print (\"cie words:\", len([curWord for curWord in words if re.findall('cie',curWord)]))\n",
    "print (\"cei words:\", len([curWord for curWord in words if re.findall('cei',curWord)]))"
   ]
  },
  {
   "cell_type": "markdown",
   "metadata": {},
   "source": [
    "There are actually *more* words that violate the mnemonic than those that obey it!\n",
    "What are these words?"
   ]
  },
  {
   "cell_type": "code",
   "execution_count": 53,
   "metadata": {
    "tags": [
     "hide-output"
    ]
   },
   "outputs": [
    {
     "data": {
      "text/plain": [
       "['btk-deficient',\n",
       " 'prescience',\n",
       " 'malignancies',\n",
       " 'cross-species',\n",
       " 'species-specific',\n",
       " 'contingencies',\n",
       " 'inconsistencies',\n",
       " 'omniscient',\n",
       " 'efficiencies',\n",
       " 'consciences',\n",
       " 'redundancies',\n",
       " 'efficiency',\n",
       " 'vacancies',\n",
       " 'conspiracies',\n",
       " 'efficiently',\n",
       " 'inadequacies',\n",
       " 'legacies',\n",
       " 'pregnancies',\n",
       " 'sucient',\n",
       " 'delicacies',\n",
       " 'glacier',\n",
       " 'efficacies',\n",
       " 'newscientist',\n",
       " 'deficient',\n",
       " 'bureaucracies',\n",
       " 'prescient',\n",
       " 'fancier',\n",
       " 'coefficient',\n",
       " 'bankruptcies',\n",
       " 'scientific',\n",
       " 'fancies',\n",
       " 'conscientious',\n",
       " 'agencies',\n",
       " 'scientist',\n",
       " 'pricier',\n",
       " 'marcie',\n",
       " 'ancients',\n",
       " 'immunodeficiency',\n",
       " 'conscience',\n",
       " 'lucie',\n",
       " 'insufficiency',\n",
       " 'deficiency',\n",
       " 'self-sufficiency',\n",
       " 'policies',\n",
       " 'suycient',\n",
       " 'science-fiction',\n",
       " 'concierge',\n",
       " 'societal',\n",
       " 'constituencies',\n",
       " 'inefficiency',\n",
       " 'inaccuracies',\n",
       " 'currencies',\n",
       " 'insufficient',\n",
       " 'ancient',\n",
       " 'society',\n",
       " 'proficiency',\n",
       " 'science',\n",
       " 'scientists',\n",
       " 'science-based',\n",
       " 'saucier',\n",
       " 'sufficiently',\n",
       " 'quasispecies',\n",
       " 'scientia',\n",
       " 'neuroscientist',\n",
       " 'dependencies',\n",
       " 'biosciences',\n",
       " 'fancied',\n",
       " 'tendencies',\n",
       " 'intricacies',\n",
       " 'subspecies',\n",
       " 'scientifically',\n",
       " 'glaciers',\n",
       " 'proficient',\n",
       " 'energy-efficient',\n",
       " 'species',\n",
       " 'gracie',\n",
       " 'scientology',\n",
       " 'francie',\n",
       " 'frequencies',\n",
       " 'emergencies',\n",
       " 'aberrancies',\n",
       " 'candidacies',\n",
       " 'inefficiencies',\n",
       " 'sciences',\n",
       " 'tumefaciens',\n",
       " 'interspecies',\n",
       " 'conscientiously',\n",
       " 'insufficiently',\n",
       " 'hacienda',\n",
       " 'democracies',\n",
       " 'financier',\n",
       " 'coefficients',\n",
       " 'financiers',\n",
       " 'deficiencies',\n",
       " 'prophecies',\n",
       " 'inefficient',\n",
       " 'unscientific',\n",
       " 'competencies',\n",
       " 'self-sufficient',\n",
       " 'sufficiency',\n",
       " 'neuroscience',\n",
       " 'sufficient',\n",
       " 'efficient',\n",
       " 'potencies',\n",
       " 'societies',\n",
       " 'pharmacies',\n",
       " 'discrepancies']"
      ]
     },
     "execution_count": 53,
     "metadata": {},
     "output_type": "execute_result"
    }
   ],
   "source": [
    "[curWord for curWord in words if re.findall('cie',curWord)]"
   ]
  },
  {
   "cell_type": "markdown",
   "metadata": {},
   "source": [
    "Here's a tricky one. Let's find words containing 4 *r*s (interspersed among other letters). One way to do this is to explicitly specify it... any character, r, any character, r.. etc. Like so.."
   ]
  },
  {
   "cell_type": "code",
   "execution_count": 54,
   "metadata": {},
   "outputs": [
    {
     "data": {
      "text/plain": [
       "['counterterrorist',\n",
       " 'cardiorespiratory',\n",
       " 'extraterrestrials',\n",
       " 'refrigerator',\n",
       " 'extracurricular',\n",
       " 'refrigerators',\n",
       " 'grrrr',\n",
       " 'extraterrestrial',\n",
       " 'counterterrorism']"
      ]
     },
     "execution_count": 54,
     "metadata": {},
     "output_type": "execute_result"
    }
   ],
   "source": [
    "[curWord for curWord in words if re.findall('\\w*r+\\w*r+\\w*r+\\w*r+\\w*',curWord)]"
   ]
  },
  {
   "cell_type": "markdown",
   "metadata": {},
   "source": [
    "There are two shortcomings to this approach. The first is that if we want 3 or 5 matches, we need to explicitly remove or add code rather than changing a single number-of-matches parameter. Another shortcoming is that hyphenated words are excluded. We can add hyphens by replacing `\\w` with `[a-z\\-]`, but that makes the expression even longer. Here's a better solution:"
   ]
  },
  {
   "cell_type": "code",
   "execution_count": 55,
   "metadata": {},
   "outputs": [
    {
     "data": {
      "text/plain": [
       "['counter-terrorism',\n",
       " 'counterterrorist',\n",
       " 'cardiorespiratory',\n",
       " 'extraterrestrials',\n",
       " 'refrigerator',\n",
       " 'reverse-transcribed',\n",
       " 'reverse-transcription',\n",
       " 'writer-director',\n",
       " 'extracurricular',\n",
       " 'antiretroviral-experienced',\n",
       " 'refrigerators',\n",
       " 'grrrr',\n",
       " 'corporate-reform',\n",
       " 'extraterrestrial',\n",
       " 'counterterrorism']"
      ]
     },
     "execution_count": 55,
     "metadata": {},
     "output_type": "execute_result"
    }
   ],
   "source": [
    "[curWord for curWord in words if re.findall('([^r]*r[^r]*){4}$',curWord)]"
   ]
  },
  {
   "cell_type": "markdown",
   "metadata": {},
   "source": [
    "Let's unpack that. We are matching a [group](https://www.regular-expressions.info/refcapture.html) which is demarcated by parentheses. The group pattern is: not-an-r (0 or more times), an r, and then not-an-r (0 or more times). We want words that match this pattern exactly 4 times. That gives us all the words containing four *r*s and anything in between them (including nothing, hence *grrrr*)"
   ]
  },
  {
   "cell_type": "markdown",
   "metadata": {},
   "source": [
    "## Use in place of conditionals\n",
    "\n",
    "Let's say we want to check whether an entered word is *color* or the British *colour*. We can do this with a conditional (`if \"color\" or \"colour\"`), but we can also use regular expressions (which scale much better than conditionals). For example:"
   ]
  },
  {
   "cell_type": "code",
   "execution_count": 56,
   "metadata": {},
   "outputs": [
    {
     "data": {
      "text/plain": [
       "['colour', 'color']"
      ]
     },
     "execution_count": 56,
     "metadata": {},
     "output_type": "execute_result"
    }
   ],
   "source": [
    "re.findall('colou?r','The British like to colour their colors')\n"
   ]
  },
  {
   "cell_type": "markdown",
   "metadata": {},
   "source": [
    "Play around with this:"
   ]
  },
  {
   "cell_type": "code",
   "execution_count": 57,
   "metadata": {},
   "outputs": [
    {
     "data": {
      "text/plain": [
       "'cag'"
      ]
     },
     "execution_count": 57,
     "metadata": {},
     "output_type": "execute_result"
    }
   ],
   "source": [
    "variousWords = re.compile('[d|c][a|o][g|t]')\n",
    "variousWords.match('cog').group()\n",
    "variousWords.match('cag').group()"
   ]
  },
  {
   "cell_type": "markdown",
   "metadata": {},
   "source": [
    "Here are some more examples."
   ]
  },
  {
   "cell_type": "code",
   "execution_count": 58,
   "metadata": {},
   "outputs": [
    {
     "data": {
      "text/plain": [
       "['gmail.com', 'wisc.edu']"
      ]
     },
     "execution_count": 58,
     "metadata": {},
     "output_type": "execute_result"
    }
   ],
   "source": [
    "import re\n",
    "\n",
    "#will match any numbers\n",
    "anyNums = re.compile('[0-9]+')\n",
    "anyNums.findall('There are 99 bottles of beer on the wall. 999....') #will return all matches\n",
    "anyNums.search('There are 99 bottles of beer on the wall. 999....').group() #will return just the first occurrence\n",
    "\n",
    "#two digit numbers from 00 to 59 or 80 to 89 \n",
    "someNums = re.compile('[0-5][0-9]|[8][0-9]')\n",
    "matches = [someNums.search(x).group() for x in 'It will match 54, 52, and 88, but not 7 or 92 or any of the letters'.split(' ') if someNums.search(x)]\n",
    "matches\n",
    "\n",
    "#We don’t need to compile regular expressions using re.compile. but it speeds things up when using the same rule over a large corpus.\n",
    "\n",
    "emailRegExGrouped = re.compile('([\\w.-]+)@([\\w.-]+)')\n",
    "#the parenthesis allow us to access groups -- the first group corresponds to the first matched part (before the @). The second group to the domain (e.g., wisc.edu(\n",
    "\n",
    "emailRegExGrouped.search('g.lupyan@gmail.com').groups()\n",
    "('g.lupyan', 'gmail.com')\n",
    "\n",
    "emailRegExGrouped.findall('g.lupyan@gmail.com lupyan@wisc.edu')\n",
    "#returns [('g.lupyan', 'gmail.com'), ('lupyan', 'wisc.edu')]\n",
    "\n",
    "#to get all the domains:\n",
    "[email[1] for email in emailRegExGrouped.findall('g.lupyan@gmail.com lupyan@wisc.edu')]\n",
    "#returns ['gmail.com', 'wisc.edu']"
   ]
  },
  {
   "cell_type": "markdown",
   "metadata": {},
   "source": [
    "## Search and replace\n",
    "\n",
    "All good text editors allow you to use regular expressions in search and replace. \n",
    "A simple usage case is searching for lines that begin or end with a certain character sequence. To find lines that begin with \"ab\", search for `^ab`. To find lines that end on `ies` search for `ies$`\n",
    "\n",
    "<div class=\"alert alert-block alert-info\">\n",
    "Make sure to enable regular-expression search by clicking on .* in Sublime text or checking the appropriate box (sometimes labeled Grep) in other text editors</div>\n"
   ]
  },
  {
   "cell_type": "markdown",
   "metadata": {},
   "source": [
    "When using regular expressions in search/replace, it becomes useful to use matching groups. \n",
    "\n",
    "For example, suppose you want to replace the occurrences of the following strings, which occur at the start of each line:\n",
    "```\n",
    "bdSubjCode_130\n",
    "badSbjCode_131\n",
    "baSubjCode_132\n",
    "badSubjCode_133\n",
    "badubjCode_134\n",
    "BadSubjCode_135\n",
    "```\n",
    "with \n",
    "\n",
    "```\n",
    "MYSUBJCODE_130\n",
    "MYSUBJCODE_131\n",
    "MYSUBJCODE_132\n",
    "MYSUBJCODE_133\n",
    "MYSUBJCODE_134\n",
    "MYSUBJCODE_135\n",
    "```\n",
    "You *could* manually do search replaces for each one. But if you have a hundred of these, that gets tedious fast and is a recipe for errors.\n",
    "\n",
    "Here's a much better solution. Simply search for:\n",
    "\n",
    "`(^\\w+_)([0-9]+)`\n",
    "\n",
    "and replace with\n",
    "\n",
    "`MYSUBJCODE_\\2`\n",
    "\n",
    "The \\2 refers to the second group, i.e., the number"
   ]
  },
  {
   "cell_type": "markdown",
   "metadata": {},
   "source": [
    "Here's another example. Delete all the lines that start with some letters and end in 'ing':\n",
    "\n",
    "Search:\n",
    "`(^\\w+ing).*`\n",
    "Replace with: nothing\n",
    "\n",
    "Now you can do another search and replace, searching for\n",
    "`\\n+`\n",
    "and replacing with\n",
    "`\\n`\n",
    "To get rid of multiple newlines that the first search/replace may have created."
   ]
  },
  {
   "cell_type": "markdown",
   "metadata": {},
   "source": [
    "## Batch file renaming"
   ]
  },
  {
   "cell_type": "markdown",
   "metadata": {},
   "source": [
    "You can use what you've learned about regular expressions for manipulating not just actual text, but text used in file names. You can do this in straight-up Python using the `os` library, or by using GUI programs like [NameChanger](https://mrrsoftware.com/namechanger/) (Mac),  or [Bulk Rename](http://www.bulkrenameutility.co.uk/Main_Intro.php) (PC). These programs allow you to do batch renaming of files using simple search/replace (e.g., replace `_` with `-` as well as by using regular expressions for more complex changes!\n"
   ]
  }
 ],
 "metadata": {
  "kernelspec": {
   "display_name": "Python 3.8.13 ('psych750')",
   "language": "python",
   "name": "python3"
  },
  "language_info": {
   "codemirror_mode": {
    "name": "ipython",
    "version": 3
   },
   "file_extension": ".py",
   "mimetype": "text/x-python",
   "name": "python",
   "nbconvert_exporter": "python",
   "pygments_lexer": "ipython3",
   "version": "3.8.13"
  },
  "toc": {
   "nav_menu": {},
   "number_sections": false,
   "sideBar": true,
   "skip_h1_title": false,
   "toc_cell": true,
   "toc_position": {
    "height": "509px",
    "left": "0px",
    "right": "978.636px",
    "top": "110px",
    "width": "185px"
   },
   "toc_section_display": "block",
   "toc_window_display": true
  },
  "vscode": {
   "interpreter": {
    "hash": "57beecaf6908bae4f97de5e2dc8e8d0311fae5bc989593c172c307d13e31f6e4"
   }
  }
 },
 "nbformat": 4,
 "nbformat_minor": 2
}