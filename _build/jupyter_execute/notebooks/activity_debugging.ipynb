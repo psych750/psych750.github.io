{
 "cells": [
  {
   "cell_type": "markdown",
   "metadata": {},
   "source": [
    "# Debugging practice\n",
    "\n",
    "Debugging your code is an inescapable part of coding just like revising your writing is an inescapable part of writing. These exercises are designd to help you practice your debugging skills while demonstrating a few common pitfalls.\n"
   ]
  },
  {
   "cell_type": "markdown",
   "metadata": {},
   "source": [
    "This bit of code is supposed to iterate through a shuffled list. Why is it not working?"
   ]
  },
  {
   "cell_type": "code",
   "execution_count": null,
   "metadata": {},
   "outputs": [],
   "source": [
    "vowels = ['a','e','i','o','u']\n",
    "for cur_vowel in random.shuffle(vowels):\n",
    "\tprint(cur_vowel)"
   ]
  },
  {
   "cell_type": "markdown",
   "metadata": {},
   "source": [
    "`Sets` are like lists except they allow us to perform set operations like union, intersection, difference etc. Unlike lists which have no restrictions on duplicated elements, a set -- by definition -- only contains unique elements. Because sets are implemented in a very efficient way, we can use them to remove duplicates from a list. For example:"
   ]
  },
  {
   "cell_type": "code",
   "execution_count": null,
   "metadata": {},
   "outputs": [],
   "source": [
    "list_with_duplicates = ['dog', 'cat', 'wolf', 'dog']\n",
    "print(list_with_duplicates)\n",
    "print(list(set(list_with_duplicates))) #voila, duplicates gone!"
   ]
  },
  {
   "cell_type": "markdown",
   "metadata": {},
   "source": [
    "I'm trying to do something similar here, but running into a problem. Help!"
   ]
  },
  {
   "cell_type": "code",
   "execution_count": null,
   "metadata": {},
   "outputs": [],
   "source": [
    "list = ['violin', 'guitar', 'guitar', 'piano']\n",
    "print(list(set(list))) #voila, duplicates gone?"
   ]
  },
  {
   "cell_type": "markdown",
   "metadata": {},
   "source": [
    "I'm trying to iterate through a list, check if each element is a palindrom (reads the same backwards and forwards), and if it's not, remove it from the list so that I only have palindromes at the end. The palindrome checker is working... but something else is not.."
   ]
  },
  {
   "cell_type": "code",
   "execution_count": null,
   "metadata": {},
   "outputs": [],
   "source": [
    "def is_palindrome(str):\n",
    "    str = str.replace(' ','') # remove spaces\n",
    "    return str == str[::-1]\n",
    "\n",
    "list_of_strings = ['dog', 'rotator', 'dod', 'cat', 'kayak', 'malyalam', 'a man a plan a canal panama']\n",
    "\n",
    "for cur_elt,cur_string in enumerate(list_of_strings):\n",
    "    if not is_palindrome(cur_string):\n",
    "        list_of_strings.remove(cur_elt)\n"
   ]
  },
  {
   "cell_type": "markdown",
   "metadata": {},
   "source": [
    "I'm trying to iterate through a list, but something is wrong. What happened?\n"
   ]
  },
  {
   "cell_type": "code",
   "execution_count": null,
   "metadata": {},
   "outputs": [],
   "source": [
    "myList = []\n",
    "for i in range(10):\n",
    "    myList.append(i)\n",
    "\n",
    "listSize = len(myList)\n",
    "for index in range(listSize+1):\n",
    "    print(myList[index])"
   ]
  },
  {
   "cell_type": "markdown",
   "metadata": {},
   "source": [
    "Now instead of a list, I'm trying to iterate through a dictionary and print out the various car models stored inside it. Why isn't it working?"
   ]
  },
  {
   "cell_type": "code",
   "execution_count": null,
   "metadata": {},
   "outputs": [],
   "source": [
    "thisDict = {\n",
    "    'brand':['Alfa Romeo','BMW','Chevrolet','Dodge'],\n",
    "    'year':[2018,2023,1997,1969],\n",
    "    'model':['Stelvio','M3','Corvette','Challenger'],\n",
    "    'color':['black','green','red','black'],\n",
    "    'horsepower':[280,473,345,425]\n",
    "}\n",
    "\n",
    "for index in range(len(thisDict)):\n",
    "    print(thisDict['model'][index])"
   ]
  },
  {
   "cell_type": "markdown",
   "metadata": {},
   "source": [
    "The function I defined is doing two addition operations. I'm trying to access the result of one of the additions, but Python keeps throwing an error at me. What is going on?"
   ]
  },
  {
   "cell_type": "code",
   "execution_count": null,
   "metadata": {},
   "outputs": [],
   "source": [
    "def myFunction(x):\n",
    "    y = x + 3\n",
    "    z = x + 5\n",
    "    return y\n",
    "\n",
    "a = 5\n",
    "b = myFunction(a)\n",
    "print(z)"
   ]
  },
  {
   "cell_type": "markdown",
   "metadata": {},
   "source": [
    "I'm trying to create a function that multiplies the number I input by 3, but why does it result in `None`? And why can't I print x??"
   ]
  },
  {
   "cell_type": "code",
   "execution_count": null,
   "metadata": {},
   "outputs": [],
   "source": [
    "def multiplyByThree(x):\n",
    "    x *= 3\n",
    "\n",
    "a = 5\n",
    "b = multiplyByThree(a)\n",
    "print(b)\n",
    "print(x)"
   ]
  }
 ],
 "metadata": {
  "kernelspec": {
   "display_name": "Python 3 (ipykernel)",
   "language": "python",
   "name": "python3"
  },
  "language_info": {
   "codemirror_mode": {
    "name": "ipython",
    "version": 3
   },
   "file_extension": ".py",
   "mimetype": "text/x-python",
   "name": "python",
   "nbconvert_exporter": "python",
   "pygments_lexer": "ipython3",
   "version": "3.8.13"
  },
  "toc": {
   "nav_menu": {},
   "number_sections": true,
   "sideBar": true,
   "skip_h1_title": false,
   "toc_cell": false,
   "toc_position": {
    "height": "526px",
    "left": "0px",
    "right": "1095px",
    "top": "111px",
    "width": "185px"
   },
   "toc_section_display": "block",
   "toc_window_display": true
  },
  "vscode": {
   "interpreter": {
    "hash": "fd0397b87f454630a8e29a5bd5ad2bb52517df87f687500a14b5dda89d554fa9"
   }
  }
 },
 "nbformat": 4,
 "nbformat_minor": 2
}