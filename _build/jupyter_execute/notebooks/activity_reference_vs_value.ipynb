{
 "cells": [
  {
   "cell_type": "markdown",
   "metadata": {},
   "source": [
    "# Mutables, Immutables, and Object References\n",
    "\n",
    "This section introduces a couple distinctions: **mutable** vs. **immutable**, and **passing by value**, by **reference**, and by **object reference**. You can read about this in more detail [here](https://secon.utulsa.edu/cs2123/slides/pypass.pdf) and [here](https://www.geeksforgeeks.org/is-python-call-by-reference-or-call-by-value/#:~:text=Python%20utilizes%20a%20system%2C%20which,being%20passed%20to%20the%20function.). Another good source with some helpful illustrations is [this explanation](https://blog.finxter.com/how-to-pass-a-variable-by-reference-in-python/).\n",
    "\n",
    "If you want a bit more of a brain melt, check [this out](https://medium.datadriveninvestor.com/mutable-and-immutable-python-2093deeac8d9).\n",
    "\n",
    "\n",
    "Python's variable types come in two main flavors: immutables and mutables. \n",
    "\n",
    "**Immutables**\n",
    "\n",
    "An immutble is a variable whose internal state cannot be changed. Numbers (integers and floats), strings, booleans, and tuples are all of this kind. The internal value of 5 is... 5. An 's' is an 's'. A True is a True. \n",
    "\n",
    "**Mutables**\n",
    "\n",
    "A mutable type is the opposite -- a variable whose internal value *can* be changed. Lists, dictionaries, and more complex user-defined objects (for example the various psychopy objects we've been working with like `win`, `visual.Rect`, etc.\n",
    "\n",
    "\n",
    "When we pass variables between functions or between a function and the main code block, the information the variables contains is passed differently depending on whether the variable is mutable or immutable. Immutable variables are passed by value while mutable variables are passed by reference (i.e., what's passed is the pointer to the memory location of that object, not the object's contents).\n",
    "\n",
    "Understanding this distinction will improve your mental model of how information is passed around in a python program and helps to understand why some things may not work the way you initally expect them to.   "
   ]
  },
  {
   "cell_type": "markdown",
   "metadata": {},
   "source": [
    "Predict what happens in these next two cells"
   ]
  },
  {
   "cell_type": "code",
   "execution_count": 1,
   "metadata": {
    "tags": [
     "hide-output"
    ]
   },
   "outputs": [
    {
     "name": "stdout",
     "output_type": "stream",
     "text": [
      "appleapple\n",
      "apple\n"
     ]
    }
   ],
   "source": [
    "\n",
    "\n",
    "a_fruit = 'apple'\n",
    "another_fruit = 'mango'\n",
    "\n",
    "another_fruit = a_fruit \n",
    "a_fruit *= 2\n",
    "\n",
    "print(a_fruit)\n",
    "print(another_fruit)\n"
   ]
  },
  {
   "cell_type": "code",
   "execution_count": 2,
   "metadata": {
    "tags": [
     "hide-output"
    ]
   },
   "outputs": [
    {
     "name": "stdout",
     "output_type": "stream",
     "text": [
      "['apple', 'pear', 'avocado']\n",
      "['apple', 'pear', 'avocado']\n"
     ]
    }
   ],
   "source": [
    "\n",
    "\n",
    "fruits = ['apple', 'pear']\n",
    "more_fruits = ['mango', 'watermelon']\n",
    "\n",
    "more_fruits = fruits \n",
    "fruits.append('avocado')\n",
    "\n",
    "print(fruits)\n",
    "print(more_fruits)\n"
   ]
  },
  {
   "cell_type": "markdown",
   "metadata": {},
   "source": [
    "Weird, right? In the first cell, we're dealing with variables containing strings (an immutable type). When we did `another_fruit = a_fruit `, the value of `a_fruit` was assigne to the variable `another_fruit` (if it already had a value, it was overwritten). In other words, the information was passed by **value**. The two variables -- `fruit` and `another_fruit` are completely independent from one another.\n",
    "\n",
    "\n",
    "In the second cell we are dealing with a **mutable** type -- a list. When we assigned one list to another variable -- `more_fruits = fruits` -- the **reference** of the list (its location in memory) was passe to the variable `more_fruits`. What happens now is that both variables -- `fruits` and `more fruits` are pointing to the same place in memory. In effect they are the same object. And so changing one will change the other (because what we are changing is a list that both varibles are pointing to). \n",
    "\n",
    "\n",
    "The distinction is especially important to understand because it underpins how information is passed between functions/namespaces.  Let's take a look at these couple examples. Predict the output of each cell."
   ]
  },
  {
   "cell_type": "code",
   "execution_count": 3,
   "metadata": {
    "tags": [
     "hide-output"
    ]
   },
   "outputs": [
    {
     "name": "stdout",
     "output_type": "stream",
     "text": [
      "9\n"
     ]
    }
   ],
   "source": [
    "def change(x):\n",
    "    x = x+5\n",
    "    return x\n",
    "\n",
    "a_num = 4\n",
    "a_num = change(a_num)\n",
    "print(a_num)\n"
   ]
  },
  {
   "cell_type": "code",
   "execution_count": 4,
   "metadata": {
    "tags": [
     "hide-output"
    ]
   },
   "outputs": [
    {
     "name": "stdout",
     "output_type": "stream",
     "text": [
      "4\n"
     ]
    }
   ],
   "source": [
    "def change(x):\n",
    "    x = x+5\n",
    "\n",
    "a_num = 4\n",
    "change(a_num)\n",
    "print(a_num)\n"
   ]
  },
  {
   "cell_type": "code",
   "execution_count": 5,
   "metadata": {
    "tags": [
     "hide-output"
    ]
   },
   "outputs": [
    {
     "name": "stdout",
     "output_type": "stream",
     "text": [
      "[4, 5]\n"
     ]
    }
   ],
   "source": [
    "def change(x):\n",
    "    x.append(5)\n",
    "\n",
    "a_list = [4]\n",
    "change(a_list)\n",
    "print(a_list)\n"
   ]
  },
  {
   "cell_type": "code",
   "execution_count": 1,
   "metadata": {
    "tags": [
     "hide-output"
    ]
   },
   "outputs": [
    {
     "name": "stdout",
     "output_type": "stream",
     "text": [
      "[4, 6]\n"
     ]
    }
   ],
   "source": [
    "def change(x):\n",
    "    x.append(6)\n",
    "\n",
    "a_list = [4]\n",
    "change(a_list)\n",
    "print(a_list)"
   ]
  },
  {
   "cell_type": "code",
   "execution_count": 7,
   "metadata": {
    "tags": [
     "hide-output"
    ]
   },
   "outputs": [
    {
     "name": "stdout",
     "output_type": "stream",
     "text": [
      "[4, 5]\n",
      "[4, 5]\n"
     ]
    }
   ],
   "source": [
    "def change(x):\n",
    "    x.append(5)\n",
    "    return x\n",
    "\n",
    "a_list = [4]\n",
    "b_list = change(a_list)\n",
    "print(b_list)\n",
    "print(a_list)\n"
   ]
  }
 ],
 "metadata": {
  "celltoolbar": "Edit Metadata",
  "kernelspec": {
   "display_name": "Python 3 (ipykernel)",
   "language": "python",
   "name": "python3"
  },
  "language_info": {
   "codemirror_mode": {
    "name": "ipython",
    "version": 3
   },
   "file_extension": ".py",
   "mimetype": "text/x-python",
   "name": "python",
   "nbconvert_exporter": "python",
   "pygments_lexer": "ipython3",
   "version": "3.8.13"
  },
  "vscode": {
   "interpreter": {
    "hash": "57beecaf6908bae4f97de5e2dc8e8d0311fae5bc989593c172c307d13e31f6e4"
   }
  }
 },
 "nbformat": 4,
 "nbformat_minor": 1
}