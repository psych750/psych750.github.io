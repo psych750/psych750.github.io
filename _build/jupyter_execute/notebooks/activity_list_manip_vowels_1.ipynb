{
 "cells": [
  {
   "cell_type": "markdown",
   "metadata": {},
   "source": [
    "# List/string manipulation exercises\n",
    "\n",
    "## Exercise 1\n",
    "\n",
    "For the first exercise, you'll be reading in some names and manipulating them.\n",
    "\n",
    "First, let's grab your full names from the course roster.\n",
    "\n"
   ]
  },
  {
   "cell_type": "code",
   "execution_count": 1,
   "metadata": {},
   "outputs": [
    {
     "name": "stdout",
     "output_type": "stream",
     "text": [
      "['Anthony,Lauren Elise', 'Beatty,Drew Evelyn', 'Cheung,Alexander Jefferson', 'Chu,Carol', 'Cunningham,Emma Gayle', 'Fu,Meng', 'Gao,Sizhe', 'Green,Benjamin Douglas', 'Holley,Kendall Isaiah', 'Hou,Lihao', 'Koppel Egierd,Jacob I', 'Ma,Yuanxue', 'Marji,Michelle', 'Modahl,Lucas Nolan', 'Smith,Matthew Aaron', 'Stein,Andrea Gray', 'Yoo,Sujin', 'Yuksel,Ezgi Melisa', 'Zhong,Zhuolun', 'Zhu,Yan']\n"
     ]
    }
   ],
   "source": [
    "import pandas as pd\n",
    "names = pd.read_csv('https://raw.githubusercontent.com/psych750/resources/main/stimuli/psych750_roster.csv')\n",
    "full_names = list(names['Name'])\n",
    "print(full_names)\n"
   ]
  },
  {
   "cell_type": "code",
   "execution_count": null,
   "metadata": {},
   "outputs": [],
   "source": [
    "for cur_name in full_names:\n",
    "    \n",
    "    first_middle = cur_name.split(',')[1]\n",
    "    if len(first_middle.split( ))>1:\n",
    "        print(first_middle.split( )[0])\n",
    "    else:\n",
    "        print(first_middle)\n"
   ]
  },
  {
   "cell_type": "markdown",
   "metadata": {},
   "source": [
    "### Output first names only\n",
    "\n",
    "Write a loop with code that processes the `full_names` list and outputs just the first names"
   ]
  },
  {
   "cell_type": "markdown",
   "metadata": {},
   "source": [
    "## Now turn it into a function\n",
    "\n",
    "Complete the body of this function to return a list containing just the first names in the same order as the full names that were given to the function."
   ]
  },
  {
   "cell_type": "code",
   "execution_count": null,
   "metadata": {},
   "outputs": [],
   "source": [
    "def return_first_names(names):\n",
    "    pass"
   ]
  },
  {
   "cell_type": "markdown",
   "metadata": {},
   "source": [
    "### Now test it by running this code:"
   ]
  },
  {
   "cell_type": "markdown",
   "metadata": {},
   "source": [
    "\n",
    "\n",
    "```{python}\n",
    "first_names = return_first_names(full_names)\n",
    "try:\n",
    "    assert first_names == ['Lauren', 'Drew', 'Alexander', 'Carol', 'Emma', 'Meng', 'Sizhe', 'Benjamin', 'Kendall', 'Lihao', 'Jacob', 'Yuanxue', 'Michelle', 'Lucas', 'Matthew', 'Andrea', 'Sujin', 'Ezgi', 'Zhuolun', 'Yan']\n",
    "except AssertionError:\n",
    "    print(\"Woops something's not right with your list\")\n",
    "```"
   ]
  },
  {
   "cell_type": "markdown",
   "metadata": {},
   "source": [
    "## Exercise 2\n",
    "\n",
    "In this more extended exercise, you'll be writing some code to count up vowels in lists of words"
   ]
  },
  {
   "cell_type": "code",
   "execution_count": 44,
   "metadata": {},
   "outputs": [],
   "source": [
    "vowels = ['a','e','i','o','u']\n",
    "words = ['', 'rhythms', 'abracadabra', '12324', 'trysts','a','zebra', 'refrigerator']\n",
    "\n"
   ]
  },
  {
   "cell_type": "markdown",
   "metadata": {},
   "source": [
    "1. Figure out which word in `words` has the most vowels. Your code should print out the element of the `words` list that contains the most vowels.\n",
    "2. If you didn't use a function for part 1, define a function `count_vowels_in_string()` that takes in a string and outputs the number of vowels it has. Then use this function to compute which word has the most vowels. \n",
    "3. Update your code so that it now outputs  the word containing the most vowels *and* the number of vowels it contains.\n",
    "4. Make sure your code can deal with a list that contains integers, not just strings. For example, `words` might contain the element \n",
    "\n",
    "\n",
    "```{admonitions} Challenge\n",
    "Does your code allow you to easily change the function from computing the maximum number to computing the minimum number? If not, think of an alternate solution that will let you do this.\n",
    "```"
   ]
  }
 ],
 "metadata": {
  "kernelspec": {
   "display_name": "Python 3.8.13 ('psych750')",
   "language": "python",
   "name": "python3"
  },
  "language_info": {
   "codemirror_mode": {
    "name": "ipython",
    "version": 3
   },
   "file_extension": ".py",
   "mimetype": "text/x-python",
   "name": "python",
   "nbconvert_exporter": "python",
   "pygments_lexer": "ipython3",
   "version": "3.8.13"
  },
  "vscode": {
   "interpreter": {
    "hash": "57beecaf6908bae4f97de5e2dc8e8d0311fae5bc989593c172c307d13e31f6e4"
   }
  }
 },
 "nbformat": 4,
 "nbformat_minor": 2
}