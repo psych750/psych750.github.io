{
 "cells": [
  {
   "cell_type": "markdown",
   "metadata": {},
   "source": [
    "For this activity, we will write a function that computes [the Fibonacci Sequence](https://en.wikipedia.org/wiki/Fibonacci_number) in a few different ways.  Each number in Fibonacci Sequence is defined as the sum of the two numbers preceding it:\n",
    "\n",
    "0 1 1 2 3 5 8 13 21 34...\n",
    "\n",
    "It comes up in everything from [flower petals](https://www.popmath.org.uk/rpamaths/rpampages/sunflower.html) to [rabbit populations](https://en.wikipedia.org/wiki/Fibonacci_number#/media/File:Fibonacci_Rabbits.svg)\n",
    "\n",
    "As the numbers get larger, the ratio of a number to its predecessor, i.e., n/(n-1) approaches `phi`, the [golden ratio](https://en.wikipedia.org/wiki/Golden_ratio)."
   ]
  },
  {
   "cell_type": "markdown",
   "metadata": {},
   "source": [
    "Write a function `fibonacci()` that takes one argument `x` and returns the fibonacci sequence up to that number, e.g.,\n",
    "\n",
    "```python\n",
    "fibonacci(14)\n",
    "```\n",
    "should return\n",
    "```python\n",
    "[0, 1, 1, 1, 2, 3, 5, 8, 13, 21, 34, 55, 89, 144, 233, 377]\n",
    "```"
   ]
  },
  {
   "cell_type": "code",
   "execution_count": 4,
   "metadata": {},
   "outputs": [
    {
     "name": "stdout",
     "output_type": "stream",
     "text": [
      "[0, 1, 1, 1, 2, 3, 5, 8, 13, 21, 34, 55, 89, 144, 233, 377]\n"
     ]
    }
   ],
   "source": [
    "def fibonacci(x):\n",
    "    fib_so_far = [0]\n",
    "    for i in range(x+1):\n",
    "        if i<0:\n",
    "            pass\n",
    "        elif i<1:\n",
    "            fib_so_far.append(1)\n",
    "        else:\n",
    "            fib_so_far.append(fib_so_far[-1] + fib_so_far[-2])\n",
    "    return fib_so_far\n",
    "\n",
    "print(fibonacci(14))"
   ]
  },
  {
   "cell_type": "code",
   "execution_count": 34,
   "metadata": {},
   "outputs": [],
   "source": [
    "def fib(n, fib_so_far={0: 0, 1: 1}):\n",
    "    if n not in fib_so_far:\n",
    "        fib_so_far[n] = fib(n-1, fib_so_far) + fib(n-2, fib_so_far)\n",
    "    return fib_so_far[n]\n",
    "\n"
   ]
  },
  {
   "cell_type": "code",
   "execution_count": 35,
   "metadata": {},
   "outputs": [
    {
     "data": {
      "text/plain": [
       "0"
      ]
     },
     "execution_count": 35,
     "metadata": {},
     "output_type": "execute_result"
    }
   ],
   "source": [
    "fib(5)\n"
   ]
  },
  {
   "cell_type": "code",
   "execution_count": 23,
   "metadata": {},
   "outputs": [],
   "source": [
    "def non_recursive_fib(x):\n",
    "    fib_so_far = []\n",
    "    for i in range(x+1):\n",
    "        if i<=0:\n",
    "            pass\n",
    "        elif i<=2:\n",
    "            fib_so_far.append(1)\n",
    "        else:\n",
    "            fib_so_far.append(fib_so_far[-1] + fib_so_far[-2])\n",
    "    return fib_so_far\n",
    "\n",
    "fib_seq = non_recursive_fib(1000)"
   ]
  },
  {
   "cell_type": "code",
   "execution_count": 7,
   "metadata": {},
   "outputs": [
    {
     "name": "stdout",
     "output_type": "stream",
     "text": [
      "34\n"
     ]
    }
   ],
   "source": [
    "def recursive_fib(x):\n",
    "    if x<=0:\n",
    "        pass\n",
    "    elif x<=2:\n",
    "        return 1\n",
    "    else:\n",
    "        return recursive_fib(x-1)+recursive_fib(x-2)\n",
    "\n",
    "print(recursive_fib(9))"
   ]
  },
  {
   "cell_type": "code",
   "execution_count": 12,
   "metadata": {},
   "outputs": [
    {
     "name": "stdout",
     "output_type": "stream",
     "text": [
      "f(0) = 0\n",
      "f(1) = 1\n",
      "f(2) = 1\n",
      "f(3) = 2\n",
      "f(4) = 3\n",
      "f(5) = 5\n",
      "f(6) = 8\n",
      "f(7) = 13\n",
      "f(8) = 21\n",
      "f(9) = 34\n",
      "f(10) = 55\n",
      "f(11) = 89\n",
      "f(12) = 144\n",
      "f(13) = 233\n",
      "f(14) = 377\n",
      "f(15) = 610\n",
      "f(16) = 987\n",
      "f(17) = 1597\n",
      "f(18) = 2584\n",
      "f(19) = 4181\n",
      "f(20) = 6765\n",
      "f(21) = 10946\n",
      "f(22) = 17711\n",
      "f(23) = 28657\n",
      "f(24) = 46368\n",
      "f(25) = 75025\n",
      "f(26) = 121393\n",
      "f(27) = 196418\n",
      "f(28) = 317811\n",
      "f(29) = 514229\n",
      "f(30) = 832040\n",
      "f(31) = 1346269\n",
      "f(32) = 2178309\n",
      "f(33) = 3524578\n",
      "f(34) = 5702887\n",
      "f(35) = 9227465\n",
      "f(36) = 14930352\n",
      "f(37) = 24157817\n",
      "f(38) = 39088169\n",
      "f(39) = 63245986\n",
      "f(40) = 102334155\n",
      "f(41) = 165580141\n",
      "f(42) = 267914296\n",
      "f(43) = 433494437\n",
      "f(44) = 701408733\n",
      "f(45) = 1134903170\n",
      "f(46) = 1836311903\n",
      "f(47) = 2971215073\n",
      "f(48) = 4807526976\n",
      "f(49) = 7778742049\n",
      "f(50) = 12586269025\n",
      "f(51) = 20365011074\n",
      "f(52) = 32951280099\n",
      "f(53) = 53316291173\n",
      "f(54) = 86267571272\n",
      "f(55) = 139583862445\n",
      "f(56) = 225851433717\n",
      "f(57) = 365435296162\n",
      "f(58) = 591286729879\n",
      "f(59) = 956722026041\n",
      "f(60) = 1548008755920\n",
      "f(61) = 2504730781961\n",
      "f(62) = 4052739537881\n",
      "f(63) = 6557470319842\n",
      "f(64) = 10610209857723\n",
      "f(65) = 17167680177565\n",
      "f(66) = 27777890035288\n",
      "f(67) = 44945570212853\n",
      "f(68) = 72723460248141\n",
      "f(69) = 117669030460994\n",
      "f(70) = 190392490709135\n",
      "f(71) = 308061521170129\n",
      "f(72) = 498454011879264\n",
      "f(73) = 806515533049393\n",
      "f(74) = 1304969544928657\n",
      "f(75) = 2111485077978050\n",
      "f(76) = 3416454622906707\n",
      "f(77) = 5527939700884757\n",
      "f(78) = 8944394323791464\n",
      "f(79) = 14472334024676221\n",
      "f(80) = 23416728348467685\n",
      "f(81) = 37889062373143906\n",
      "f(82) = 61305790721611591\n",
      "f(83) = 99194853094755497\n",
      "f(84) = 160500643816367088\n",
      "f(85) = 259695496911122585\n",
      "f(86) = 420196140727489673\n",
      "f(87) = 679891637638612258\n",
      "f(88) = 1100087778366101931\n",
      "f(89) = 1779979416004714189\n",
      "f(90) = 2880067194370816120\n",
      "f(91) = 4660046610375530309\n",
      "f(92) = 7540113804746346429\n",
      "f(93) = 12200160415121876738\n",
      "f(94) = 19740274219868223167\n",
      "f(95) = 31940434634990099905\n",
      "f(96) = 51680708854858323072\n",
      "f(97) = 83621143489848422977\n",
      "f(98) = 135301852344706746049\n",
      "f(99) = 218922995834555169026\n",
      "f(100) = 354224848179261915075\n"
     ]
    },
    {
     "data": {
      "text/plain": [
       "(218922995834555169026, 354224848179261915075)"
      ]
     },
     "execution_count": 12,
     "metadata": {},
     "output_type": "execute_result"
    }
   ],
   "source": [
    "def print_fib(n): \n",
    "  if n == 1: \n",
    "     print( \"f(0) = 0\" ) \n",
    "     print( \"f(1) = 1\" ) \n",
    "     return 0,1        \n",
    "  fn_2, fn_1 = print_fib( n-1 ) \n",
    "  fn = fn_1 + fn_2 \n",
    "  print( f\"f({n}) = {fn}\" ) \n",
    "  return fn_1, fn \n",
    "\n",
    "print_fib( 100 ) "
   ]
  },
  {
   "cell_type": "code",
   "execution_count": 24,
   "metadata": {},
   "outputs": [
    {
     "data": {
      "text/plain": [
       "1.618033988749895"
      ]
     },
     "execution_count": 24,
     "metadata": {},
     "output_type": "execute_result"
    }
   ],
   "source": [
    "fib_seq[-1]/fib_seq[-2]"
   ]
  },
  {
   "cell_type": "code",
   "execution_count": 115,
   "metadata": {},
   "outputs": [
    {
     "data": {
      "text/plain": [
       "True"
      ]
     },
     "execution_count": 115,
     "metadata": {},
     "output_type": "execute_result"
    }
   ],
   "source": [
    "def is_palindrome_rec(str):\n",
    "    if len(str)<=1:\n",
    "        return True\n",
    "    elif str[0]!=str[-1]:\n",
    "        return False\n",
    "    else:\n",
    "        return is_palindrome_rec(str[1:-1])\n",
    "\n",
    "is_palindrome_rec('MalayalaM')"
   ]
  },
  {
   "cell_type": "code",
   "execution_count": 118,
   "metadata": {},
   "outputs": [
    {
     "data": {
      "text/plain": [
       "True"
      ]
     },
     "execution_count": 118,
     "metadata": {},
     "output_type": "execute_result"
    }
   ],
   "source": [
    "def is_palindrome_nonrec(str):\n",
    "    if len(str)<=1:\n",
    "        return True\n",
    "    else:\n",
    "        for i,substring in enumerate(str):\n",
    "            if str[i]!=str[-i-1]:\n",
    "                return False\n",
    "        return True\n",
    "\n",
    "is_palindrome_nonrec('MalayalaM')\n"
   ]
  },
  {
   "cell_type": "code",
   "execution_count": 55,
   "metadata": {},
   "outputs": [
    {
     "name": "stdout",
     "output_type": "stream",
     "text": [
      "a a\n"
     ]
    }
   ],
   "source": [
    "def is_palindrome_builtin(str):\n",
    "    return str == str[::-1]\n"
   ]
  },
  {
   "cell_type": "code",
   "execution_count": 119,
   "metadata": {},
   "outputs": [
    {
     "name": "stdout",
     "output_type": "stream",
     "text": [
      "54321\n"
     ]
    }
   ],
   "source": [
    "str = '12345'\n",
    "print(str[::-1])"
   ]
  }
 ],
 "metadata": {
  "kernelspec": {
   "display_name": "Python 3.8.13 ('psych750')",
   "language": "python",
   "name": "python3"
  },
  "language_info": {
   "codemirror_mode": {
    "name": "ipython",
    "version": 3
   },
   "file_extension": ".py",
   "mimetype": "text/x-python",
   "name": "python",
   "nbconvert_exporter": "python",
   "pygments_lexer": "ipython3",
   "version": "3.8.13"
  },
  "vscode": {
   "interpreter": {
    "hash": "57beecaf6908bae4f97de5e2dc8e8d0311fae5bc989593c172c307d13e31f6e4"
   }
  }
 },
 "nbformat": 4,
 "nbformat_minor": 2
}