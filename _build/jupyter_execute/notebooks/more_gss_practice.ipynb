{
 "cells": [
  {
   "cell_type": "markdown",
   "metadata": {},
   "source": [
    "# More practice with the GSS\n"
   ]
  },
  {
   "cell_type": "markdown",
   "metadata": {},
   "source": [
    "\n",
    "## Part 1: Education, political view, and climate change\n",
    "\n",
    "Adapt one of the Exercise 7 solutions to quickly plot the interaction between `degree` and `polviews` for predicting [`clmtcaus`](https://gssdataexplorer.norc.org/variables/7486/vshow). What are you seeing?\n"
   ]
  },
  {
   "cell_type": "markdown",
   "metadata": {},
   "source": [
    "\n",
    "----\n"
   ]
  },
  {
   "cell_type": "markdown",
   "metadata": {},
   "source": [
    "## Part 2: Science knowledge and its correlates\n",
    "\n",
    "\n",
    "### 2.1\n",
    "a. Recall the compound variable `science knowledge` that you created as part of Exercise 7.\n",
    "How does science knowledge vary as a function of education (`degree`) and belief in God (`god`)?\n",
    "\n",
    "### 2.2\n",
    "What about science knowledge vs. trust in science (`consci`) and education (`degree`)?\n",
    "\n",
    "### 2.3\n",
    "Show how `science knowledge` varies by party identification (`partyid`) and belief in god (`god`). What are you seeing?\n",
    "\n",
    "Partyid has a lot of levels, so for simplicity, create a variable called `partyid_twoway` which is \"democrat\"\n",
    "for partyid levels 1-3 inclusive, and \"republican\" for levels 5-7, inclusive. For the graph, just plot the republicans vs. democrats thus defined.\n",
    "\n",
    "### 2.4\n",
    "What about science knowledge vs. trust in science (`consci`) and party identification (the `partyid_twoway` variable you created in part 4) "
   ]
  },
  {
   "cell_type": "markdown",
   "metadata": {},
   "source": [
    "\n",
    "## Part 3\n",
    "\n",
    "Visualizing on a map\n",
    "\n",
    "### 3.1\n",
    "\n",
    "Show how the science-knowledge (the compound measure you created for Exercise 7) varies for different parts of the country (`region`). There are a lots of ways of vizualizing data on maps. One of them is [us_map](https://jtr13.github.io/cc19/different-ways-of-plotting-u-s-map-in-r.html). Whatever way you choose will probably require that you map `region` onto individual states. [Here is the mapping](https://www2.census.gov/geo/pdfs/maps-data/maps/reference/us_regdiv.pdf). You'll need to create a CSV with this mapping and join it to your data.\n",
    "\n",
    "```{note}\n",
    "Bonus+1 if you show what it looks like when you residualize education (`degree`)\n",
    "```\n",
    "\n",
    "\n",
    "## 3.2\n",
    "Find a variable for which there is a more dramatic difference for different parts of the country. "
   ]
  }
 ],
 "metadata": {
  "kernelspec": {
   "display_name": "Python 3.8.13 ('psych750')",
   "language": "python",
   "name": "python3"
  },
  "language_info": {
   "codemirror_mode": {
    "name": "ipython",
    "version": 3
   },
   "file_extension": ".py",
   "mimetype": "text/x-python",
   "name": "python",
   "nbconvert_exporter": "python",
   "pygments_lexer": "ipython3",
   "version": "3.8.13"
  },
  "toc": {
   "nav_menu": {},
   "number_sections": true,
   "sideBar": true,
   "skip_h1_title": false,
   "toc_cell": true,
   "toc_position": {
    "height": "765px",
    "left": "0px",
    "right": "1560.45px",
    "top": "110px",
    "width": "185px"
   },
   "toc_section_display": "block",
   "toc_window_display": true
  },
  "vscode": {
   "interpreter": {
    "hash": "57beecaf6908bae4f97de5e2dc8e8d0311fae5bc989593c172c307d13e31f6e4"
   }
  }
 },
 "nbformat": 4,
 "nbformat_minor": 2
}