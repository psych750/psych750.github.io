{
 "cells": [
  {
   "cell_type": "markdown",
   "id": "c10ee314",
   "metadata": {},
   "source": [
    "Testing\n",
    "===\n",
    "The programs that we write can quickly become complicated, and with complexity comes bugs. Programmers have long accepted that every program will have its share of bugs. To deal with this, we have come up with many ways to defend against avoidable bugs. Learning to write tests is one of the best things you can do to guard against avoidable bugs creeping into your own programs. Basically, you write a set of tests that you then run against your program every time you or someone else changes the program. These tests, if written correctly, prove that changes to the code do not break anything that was working previously."
   ]
  },
  {
   "cell_type": "markdown",
   "id": "eedf608b",
   "metadata": {},
   "source": [
    "[Previous: Exceptions](http://nbviewer.ipython.org/urls/raw.github.com/ehmatthes/intro_programming/master/notebooks/exceptions.ipynb) | \n",
    "[Home](http://nbviewer.ipython.org/urls/raw.github.com/ehmatthes/intro_programming/master/notebooks/index.ipynb)"
   ]
  },
  {
   "cell_type": "markdown",
   "id": "a1b7b78f",
   "metadata": {},
   "source": [
    "Contents\n",
    "==="
   ]
  },
  {
   "cell_type": "markdown",
   "id": "73de4091",
   "metadata": {},
   "source": [
    "[top](#)"
   ]
  },
  {
   "cell_type": "markdown",
   "id": "ceb44cb4",
   "metadata": {},
   "source": [
    "- - -\n",
    "[Previous: Exceptions](http://nbviewer.ipython.org/urls/raw.github.com/ehmatthes/intro_programming/master/notebooks/exceptions.ipynb) | \n",
    "[Home](http://nbviewer.ipython.org/urls/raw.github.com/ehmatthes/intro_programming/master/notebooks/index.ipynb)"
   ]
  }
 ],
 "metadata": {},
 "nbformat": 4,
 "nbformat_minor": 5
}