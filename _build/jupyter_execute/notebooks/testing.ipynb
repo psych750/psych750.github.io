{
 "cells": [
  {
   "cell_type": "markdown",
   "id": "6dcdce8b",
   "metadata": {},
   "source": [
    "Testing\n",
    "===\n",
    "The programs that we write can quickly become complicated, and with complexity comes bugs. Programmers have long accepted that every program will have its share of bugs. To deal with this, we have come up with many ways to defend against avoidable bugs. Learning to write tests is one of the best things you can do to guard against avoidable bugs creeping into your own programs. Basically, you write a set of tests that you then run against your program every time you or someone else changes the program. These tests, if written correctly, prove that changes to the code do not break anything that was working previously."
   ]
  },
  {
   "cell_type": "markdown",
   "id": "f028e338",
   "metadata": {},
   "source": [
    "[Previous: Exceptions](http://nbviewer.ipython.org/urls/raw.github.com/ehmatthes/intro_programming/master/notebooks/exceptions.ipynb) | \n",
    "[Home](http://nbviewer.ipython.org/urls/raw.github.com/ehmatthes/intro_programming/master/notebooks/index.ipynb)"
   ]
  },
  {
   "cell_type": "markdown",
   "id": "e65fe707",
   "metadata": {},
   "source": [
    "Contents\n",
    "==="
   ]
  },
  {
   "cell_type": "markdown",
   "id": "440b3324",
   "metadata": {},
   "source": [
    "[top](#)"
   ]
  },
  {
   "cell_type": "markdown",
   "id": "0946e9c4",
   "metadata": {},
   "source": [
    "- - -\n",
    "[Previous: Exceptions](http://nbviewer.ipython.org/urls/raw.github.com/ehmatthes/intro_programming/master/notebooks/exceptions.ipynb) | \n",
    "[Home](http://nbviewer.ipython.org/urls/raw.github.com/ehmatthes/intro_programming/master/notebooks/index.ipynb)"
   ]
  }
 ],
 "metadata": {},
 "nbformat": 4,
 "nbformat_minor": 5
}