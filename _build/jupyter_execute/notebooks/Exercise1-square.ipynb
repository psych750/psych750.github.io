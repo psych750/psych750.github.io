{
 "cells": [
  {
   "cell_type": "markdown",
   "metadata": {},
   "source": [
    "# Exercise 1: Make a square and play with it"
   ]
  },
  {
   "cell_type": "markdown",
   "metadata": {},
   "source": [
    "The following bit of code will show a blue square for 500 ms and then exit out of the program."
   ]
  },
  {
   "cell_type": "code",
   "execution_count": 1,
   "metadata": {
    "0": "hide-output",
    "tags": []
   },
   "outputs": [
    {
     "name": "stdout",
     "output_type": "stream",
     "text": [
      "2.2120 \tWARNING \tMonitor specification not found. Creating a temporary one...\n"
     ]
    },
    {
     "ename": "SystemExit",
     "evalue": "",
     "output_type": "error",
     "traceback": [
      "An exception has occurred, use %tb to see the full traceback.\n",
      "\u001b[0;31mSystemExit\u001b[0m\n"
     ]
    },
    {
     "name": "stderr",
     "output_type": "stream",
     "text": [
      "/Users/glupyan/anaconda2/lib/python2.7/site-packages/IPython/core/interactiveshell.py:2889: UserWarning: To exit: use 'exit', 'quit', or Ctrl-D.\n",
      "  warn(\"To exit: use 'exit', 'quit', or Ctrl-D.\", stacklevel=1)\n"
     ]
    }
   ],
   "source": [
    "import time\n",
    "import sys\n",
    "from psychopy import visual,event,core\n",
    " \n",
    "win = visual.Window([400,400],color=\"black\", units='pix') #open a window\n",
    "square = visual.Rect(win,lineColor=\"black\",fillColor=\"blue\",size=[100,100]) #make a blue square\n",
    "square.draw() #draw the square to the buffer\n",
    "win.flip() #make the buffer visible\n",
    "core.wait(.5) #pause for 500 ms (half a second)\n",
    "win.close() #close the window -- don't need this if you're running this as a separate file\n",
    "sys.exit()"
   ]
  },
  {
   "cell_type": "markdown",
   "metadata": {},
   "source": [
    "## Go through each line and understand what it does. Then...\n",
    "\n",
    "1. Make the square red instead of blue\n",
    "\n",
    "1. Make the square appear for 1.5 secs.\n",
    "\n",
    "1. Show a red square for 1 s, then switch it to blue and show it for 1 s\n",
    "\n",
    "1. Make the square appear for 1.5 secs, then show a blank screen for 1 sec, then flash the square 3 times for 30 ms each.\n",
    "\n",
    "1. Show the following sequence: blue, red, blue, red, blue, red (with each square appearing for 1 s with a 50 ms blank screen in the middle).\n",
    "\n",
    "1. Show a red square for 1 s then change its orientation by 45-deg\n",
    "\n",
    "    <div class=\"alert alert-block alert-info\">\n",
    "    To change the orientation by a certain degree-value use square.setOri(value) where `value` is the new orientation.\n",
    "    </div>\n",
    "    \n",
    "1. Now make a square rotate continuously, one full revolution (360 degrees) per second\n",
    "    <div class=\"alert alert-block alert-info\">\n",
    "    To increase orientation use `square.ori += value` where `value` is the value by which to increase the\n",
    "    orientation.\n",
    "    </div>\n",
    "\n",
    "1. Make a rotating square stop rotating when you press the 's' key\n",
    "\n",
    "    <div class=\"alert alert-block alert-info\">\n",
    "    To accept keyboard input you'll want to check it event.getKeys(['s']) is True. \n",
    "    </div>\n",
    "\n",
    "1. Make a square stop rotating when you press 's' and then start rotating again when you press 'r'\n",
    "\n",
    "1. Display a blue square and increase its width (making it a rectangle) by 10 pixels whenever the user presses the left-arrow key. Decrease the width by 10 pixels when the user presses the right-arrow key\n",
    "\n",
    "    <div class=\"alert alert-block alert-info\">\n",
    "    The key codes for right and left arrows in PsychoPy are simply 'right' and 'left'\n",
    "    </div>\n",
    "\n",
    "    <div class=\"alert alert-block alert-info\">\n",
    "    To change the width use `square.size += [x,y]` where `x` and `y` are the values by which you want to change the \n",
    "    size\n",
    "    </div>\n",
    "\n",
    "1. Make the rectangle decrease/increase its width by 10% of its current width with each keypress instead of 10 pixels\n",
    "\n",
    "1. Show *two* rotating squares simultaneously, one left of center rotating clockwise, the other right of center, rotating counterclockwise\n",
    "\n",
    "1. As time allows, do something that's not listed here (e.g., make it a pentagon instead of a square, make it pulsate, play a sound as it moves, bounce off walls.. be creative.\n"
   ]
  }
 ],
 "metadata": {
  "kernelspec": {
   "display_name": "Python 3",
   "language": "python",
   "name": "python3"
  },
  "language_info": {
   "codemirror_mode": {
    "name": "ipython",
    "version": 3
   },
   "file_extension": ".py",
   "mimetype": "text/x-python",
   "name": "python",
   "nbconvert_exporter": "python",
   "pygments_lexer": "ipython3",
   "version": "3.9.4"
  }
 },
 "nbformat": 4,
 "nbformat_minor": 4
}