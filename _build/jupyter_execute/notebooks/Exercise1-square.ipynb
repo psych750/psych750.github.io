{
 "cells": [
  {
   "cell_type": "markdown",
   "metadata": {},
   "source": [
    "# Make a square and play with it"
   ]
  },
  {
   "cell_type": "markdown",
   "metadata": {},
   "source": [
    "The following bit of code will show a blue square for 500 ms and then exit out of the program."
   ]
  },
  {
   "cell_type": "code",
   "execution_count": 3,
   "metadata": {
    "tags": [
     "remove-output"
    ]
   },
   "outputs": [
    {
     "ename": "ModuleNotFoundError",
     "evalue": "No module named 'psychopy'",
     "output_type": "error",
     "traceback": [
      "\u001b[0;31m---------------------------------------------------------------------------\u001b[0m",
      "\u001b[0;31mModuleNotFoundError\u001b[0m                       Traceback (most recent call last)",
      "\u001b[0;32m<ipython-input-3-71c65d8eff0a>\u001b[0m in \u001b[0;36m<module>\u001b[0;34m\u001b[0m\n\u001b[1;32m      1\u001b[0m \u001b[0;32mimport\u001b[0m \u001b[0mtime\u001b[0m\u001b[0;34m\u001b[0m\u001b[0;34m\u001b[0m\u001b[0m\n\u001b[1;32m      2\u001b[0m \u001b[0;32mimport\u001b[0m \u001b[0msys\u001b[0m\u001b[0;34m\u001b[0m\u001b[0;34m\u001b[0m\u001b[0m\n\u001b[0;32m----> 3\u001b[0;31m \u001b[0;32mfrom\u001b[0m \u001b[0mpsychopy\u001b[0m \u001b[0;32mimport\u001b[0m \u001b[0mvisual\u001b[0m\u001b[0;34m,\u001b[0m\u001b[0mevent\u001b[0m\u001b[0;34m,\u001b[0m\u001b[0mcore\u001b[0m \u001b[0;31m# import the bits of PsychoPy we'll need for these exercises\u001b[0m\u001b[0;34m\u001b[0m\u001b[0;34m\u001b[0m\u001b[0m\n\u001b[0m\u001b[1;32m      4\u001b[0m \u001b[0;34m\u001b[0m\u001b[0m\n\u001b[1;32m      5\u001b[0m \u001b[0mwin\u001b[0m \u001b[0;34m=\u001b[0m \u001b[0mvisual\u001b[0m\u001b[0;34m.\u001b[0m\u001b[0mWindow\u001b[0m\u001b[0;34m(\u001b[0m\u001b[0;34m[\u001b[0m\u001b[0;36m400\u001b[0m\u001b[0;34m,\u001b[0m\u001b[0;36m400\u001b[0m\u001b[0;34m]\u001b[0m\u001b[0;34m,\u001b[0m\u001b[0mcolor\u001b[0m\u001b[0;34m=\u001b[0m\u001b[0;34m\"black\"\u001b[0m\u001b[0;34m,\u001b[0m \u001b[0munits\u001b[0m\u001b[0;34m=\u001b[0m\u001b[0;34m'pix'\u001b[0m\u001b[0;34m)\u001b[0m \u001b[0;31m#open a window\u001b[0m\u001b[0;34m\u001b[0m\u001b[0;34m\u001b[0m\u001b[0m\n",
      "\u001b[0;31mModuleNotFoundError\u001b[0m: No module named 'psychopy'"
     ]
    }
   ],
   "source": [
    "import time\n",
    "import sys\n",
    "from psychopy import visual,event,core # import the bits of PsychoPy we'll need for these exercises\n",
    "\n",
    "win = visual.Window([400,400],color=\"black\", units='pix') #open a window\n",
    "square = visual.Rect(win,lineColor=\"black\",fillColor=\"blue\",size=[100,100]) #create a Rectangle type object with certain parameters\n",
    "square.draw() #draw the square to the screen buffer\n",
    "win.flip() #make the buffer visible, i.e., show what's been drawn to it\n",
    "core.wait(.5) #pause for half a second (i.e., 500 ms)\n",
    "win.close() #close the window -- don't need this if you're running this as a separate file\n",
    "sys.exit() #quit out of the program -- don't need this if you're running this as a separate file"
   ]
  },
  {
   "cell_type": "markdown",
   "metadata": {},
   "source": [
    "## Go through each line and understand what it does. \n",
    "...then spend the next 15 mins working through these (you'll finish the rest on your own at home)\n",
    "\n",
    "1. Make the square red instead of blue\n",
    "\n",
    "1. Make the square appear for 1.5 secs.\n",
    "\n",
    "1. Show a red square for 1 second, then switch it to blue and show it for 1 second\n",
    "\n",
    "1. Make the square appear for 1.5 secs, then show a blank screen for 1 sec, then flash the square 3 times for 30 ms (i.e., .03 seconds) each.\n",
    "\n",
    "1. Show the following sequence: blue, red, blue, red, blue, red (with each square appearing for 1 s with a 50 ms blank screen in the middle).\n",
    "\n",
    "1. Show a red square for 1 s then change its orientation by 45-deg\n",
    "\n",
    "    ```{note}\n",
    "    To change the orientation by a certain degree-value use square.setOri(value) where `value` is the new orientation.\n",
    "    ```\n",
    "    \n",
    "1. Now make a square rotate continuously, one full revolution (360 degrees) per second\n",
    "\n",
    "    ```{note}\n",
    "    To increase orientation use `square.ori += value` where `value` is the value by which to increase the\n",
    "    orientation.\n",
    "    ```\n",
    "1. Make a rotating square stop rotating when you press the 's' key\n",
    "    ```{note}\n",
    "    To accept keyboard input you'll want to check if event.getKeys(['s']) is True. \n",
    "    ```\n",
    "1. Make a square stop rotating when you press 's' and then start rotating again when you press 'r'\n",
    "\n",
    "1. Display a blue square and increase its width (making it a rectangle) by 10 pixels whenever the user presses the left-arrow key. Decrease the width by 10 pixels when the user presses the right-arrow key\n",
    "\n",
    "    ```{note}\n",
    "    The key codes for right and left arrows in PsychoPy are simply 'right' and 'left'\n",
    "   ```\n",
    "\n",
    "    ```{note}\n",
    "    To change the width use `square.size += [x,y]` where `x` and `y` are the values by which you want to change the \n",
    "    size\n",
    "    ```\n",
    "\n",
    "1. Make the rectangle decrease/increase its width by 10% of its current width with each keypress instead of 10 pixels\n",
    "\n",
    "1. Show *two* rotating squares simultaneously, one left of center rotating clockwise, the other right of center, rotating counterclockwise\n",
    "\n",
    "1. As time allows, do something that's not listed here (e.g., make it a pentagon instead of a square, make it pulsate, play a sound as it moves, bounce off walls.. be creative.\n"
   ]
  }
 ],
 "metadata": {
  "celltoolbar": "Edit Metadata",
  "kernelspec": {
   "display_name": "Python 3",
   "language": "python",
   "name": "python3"
  },
  "language_info": {
   "codemirror_mode": {
    "name": "ipython",
    "version": 3
   },
   "file_extension": ".py",
   "mimetype": "text/x-python",
   "name": "python",
   "nbconvert_exporter": "python",
   "pygments_lexer": "ipython3",
   "version": "3.9.4"
  }
 },
 "nbformat": 4,
 "nbformat_minor": 4
}