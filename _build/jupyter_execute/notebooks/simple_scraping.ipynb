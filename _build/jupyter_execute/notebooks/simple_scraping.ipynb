{
 "cells": [
  {
   "cell_type": "markdown",
   "metadata": {},
   "source": [
    "# Simple scraping with BeautifulSoup!"
   ]
  },
  {
   "cell_type": "markdown",
   "metadata": {},
   "source": [
    "Now that you've gone through the Lynda tutorial, let's put your skills to use with a couple quick scraping exercises.   "
   ]
  },
  {
   "cell_type": "markdown",
   "metadata": {},
   "source": [
    "## Get current temperature in Madison"
   ]
  },
  {
   "cell_type": "markdown",
   "metadata": {},
   "source": [
    "Let's programmatically get the temperature in Madison from weather.com (like in the example \n",
    "[here](http://bdewilde.github.io/blog/blogger/2012/11/14/web-scraping-and-html-parsing-1/)). I'll start you off"
   ]
  },
  {
   "cell_type": "code",
   "execution_count": 5,
   "metadata": {},
   "outputs": [
    {
     "name": "stdout",
     "output_type": "stream",
     "text": [
      "\n"
     ]
    }
   ],
   "source": [
    "# -*- coding: utf-8 -*-\n",
    "import re\n",
    "import urllib2,sys\n",
    "from bs4 import BeautifulSoup, NavigableString\n",
    "\n",
    "weather_channel = requests.get(\"https://weather.com/weather/today/l/USWI0411:1:US\").text\n",
    "soup_weather_channel = BeautifulSoup(weather_channel)\n",
    "\n",
    "temp = ''#something something\n",
    "print temp #should print the current temperature (just the number)\n"
   ]
  },
  {
   "cell_type": "markdown",
   "metadata": {},
   "source": [
    "## Get temperatures for Lake Mendota"
   ]
  },
  {
   "cell_type": "markdown",
   "metadata": {},
   "source": [
    "Going along with the temperature theme, here's a slightly more complex exercise. Let's get the current water and air temperature from Lake Mendota and compute their difference."
   ]
  },
  {
   "cell_type": "code",
   "execution_count": 8,
   "metadata": {},
   "outputs": [
    {
     "name": "stdout",
     "output_type": "stream",
     "text": [
      "0 0 0\n"
     ]
    }
   ],
   "source": [
    "# -*- coding: utf-8 -*-\n",
    "import re\n",
    "import requests\n",
    "from bs4 import BeautifulSoup, NavigableString\n",
    "\n",
    "mendota = requests.get(\"https://lter.limnology.wisc.edu/researchsite/lake-mendota\").text\n",
    "soup_mendota = BeautifulSoup(mendota)\n",
    "\n",
    "water_temp = air_temp = 0\n",
    "\n",
    "print(water_temp, air_temp, str(air_temp-water_temp)) #should print out the temperatures (in F), and the difference\n"
   ]
  },
  {
   "cell_type": "code",
   "execution_count": null,
   "metadata": {},
   "outputs": [],
   "source": []
  }
 ],
 "metadata": {
  "kernelspec": {
   "display_name": "Python 3.8.13 ('psych750')",
   "language": "python",
   "name": "python3"
  },
  "language_info": {
   "codemirror_mode": {
    "name": "ipython",
    "version": 3
   },
   "file_extension": ".py",
   "mimetype": "text/x-python",
   "name": "python",
   "nbconvert_exporter": "python",
   "pygments_lexer": "ipython3",
   "version": "3.8.13"
  },
  "toc": {
   "nav_menu": {},
   "number_sections": true,
   "sideBar": true,
   "skip_h1_title": false,
   "toc_cell": true,
   "toc_position": {
    "height": "469px",
    "left": "0px",
    "right": "883.636px",
    "top": "110px",
    "width": "280px"
   },
   "toc_section_display": "block",
   "toc_window_display": true
  },
  "vscode": {
   "interpreter": {
    "hash": "57beecaf6908bae4f97de5e2dc8e8d0311fae5bc989593c172c307d13e31f6e4"
   }
  }
 },
 "nbformat": 4,
 "nbformat_minor": 2
}