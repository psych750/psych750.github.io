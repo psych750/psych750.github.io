{
 "cells": [
  {
   "cell_type": "markdown",
   "metadata": {},
   "source": [
    "# String manipulation exercise\n",
    "\n"
   ]
  },
  {
   "cell_type": "code",
   "execution_count": 23,
   "metadata": {},
   "outputs": [
    {
     "name": "stdout",
     "output_type": "stream",
     "text": [
      "['Anthony,Lauren Elise', 'Beatty,Drew Evelyn', 'Cheung,Alexander Jefferson', 'Chu,Carol', 'Cunningham,Emma Gayle', 'Fu,Meng', 'Gao,Sizhe', 'Green,Benjamin Douglas', 'Holley,Kendall Isaiah', 'Hou,Lihao', 'Koppel Egierd,Jacob I', 'Ma,Yuanxue', 'Marji,Michelle', 'Modahl,Lucas Nolan', 'Smith,Matthew Aaron', 'Stein,Andrea Gray', 'Yoo,Sujin', 'Yuksel,Ezgi Melisa', 'Zhong,Zhuolun', 'Zhu,Yan']\n"
     ]
    }
   ],
   "source": [
    "import pandas as pd\n",
    "names = pd.read_csv('https://raw.githubusercontent.com/psych750/resources/main/stimuli/psych750_roster.csv')\n",
    "full_names = list(names['Name'])\n",
    "print(full_names)\n"
   ]
  },
  {
   "cell_type": "markdown",
   "metadata": {},
   "source": [
    "## Output first names only\n",
    "\n",
    "Write a loop with code that processes the `full_names` list and outputs just the first names"
   ]
  },
  {
   "cell_type": "markdown",
   "metadata": {},
   "source": [
    "## Now turn it into a function\n",
    "\n",
    "Complete the body of this function to return a list containing just the first names in the same order as the full names that were given to the function."
   ]
  },
  {
   "cell_type": "code",
   "execution_count": 27,
   "metadata": {},
   "outputs": [],
   "source": []
  },
  {
   "cell_type": "markdown",
   "metadata": {},
   "source": [
    "## Test your function"
   ]
  },
  {
   "cell_type": "code",
   "execution_count": 32,
   "metadata": {},
   "outputs": [
    {
     "name": "stdout",
     "output_type": "stream",
     "text": [
      "Woops something's not right with your list\n"
     ]
    }
   ],
   "source": [
    "first_names = return_first_names(full_names)\n",
    "try:\n",
    "    assert first_names == ['Lauren', 'Drew', 'Alexander', 'Carol', 'Emma', 'Meng', 'Sizhe', 'Benjamin', 'Kendall', 'Lihao', 'Jacob', 'Yuanxue', 'Michelle', 'Lucas', 'Matthew', 'Andrea', 'Sujin', 'Ezgi', 'Zhuolun', 'Yan']\n",
    "except AssertionError:\n",
    "    print(\"Woops something's not right with your list\")"
   ]
  }
 ],
 "metadata": {
  "kernelspec": {
   "display_name": "Python 3.8.13 ('psych750')",
   "language": "python",
   "name": "python3"
  },
  "language_info": {
   "codemirror_mode": {
    "name": "ipython",
    "version": 3
   },
   "file_extension": ".py",
   "mimetype": "text/x-python",
   "name": "python",
   "nbconvert_exporter": "python",
   "pygments_lexer": "ipython3",
   "version": "3.8.13"
  },
  "vscode": {
   "interpreter": {
    "hash": "57beecaf6908bae4f97de5e2dc8e8d0311fae5bc989593c172c307d13e31f6e4"
   }
  }
 },
 "nbformat": 4,
 "nbformat_minor": 2
}