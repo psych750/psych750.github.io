{
 "cells": [
  {
   "cell_type": "markdown",
   "metadata": {},
   "source": [
    "# Dictionary Exercises"
   ]
  },
  {
   "cell_type": "markdown",
   "metadata": {},
   "source": [
    "## Selective dictionary access"
   ]
  },
  {
   "cell_type": "markdown",
   "metadata": {},
   "source": [
    "Given the following dictionary, find the mean value of the keys that begin with a vowel.\n",
    "\n",
    "```Python\n",
    "a_dict = \n",
    "{'--': 2,\n",
    " 'Air': 3,\n",
    " 'At': 2,\n",
    " 'Big': 3,\n",
    " 'But': 3,\n",
    " 'Figure': 6,\n",
    " 'Freestyle': 9,\n",
    " 'Olympics': 8,\n",
    " 'Pyeongchang,': 12,\n",
    " 'Skating.': 8,\n",
    " 'Skiing': 6,\n",
    " 'Snowboarding': 12,\n",
    " 'To': 2,\n",
    " 'Winter': 6,\n",
    " 'a': 1,\n",
    " 'air.': 4,\n",
    " 'and': 3,\n",
    " 'body': 4,\n",
    " 'corks': 5,\n",
    " 'do': 2,\n",
    " 'four': 4,\n",
    " 'got': 3,\n",
    " 'have': 4,\n",
    " 'in': 2,\n",
    " 'jumps': 5,\n",
    " 'less': 4,\n",
    " 'limit': 5,\n",
    " 'may': 3,\n",
    " 'of': 2,\n",
    " 'or': 2,\n",
    " 'possible?': 9,\n",
    " 'quad': 4,\n",
    " 'quad,': 5,\n",
    " 'reached': 7,\n",
    " 'second': 6,\n",
    " 'see': 3,\n",
    " \"skater's\": 8,\n",
    " 'than': 4,\n",
    " 'the': 3,\n",
    " 'their': 5,\n",
    " 'this': 4,\n",
    " 'times': 5,\n",
    " 'to': 2,\n",
    " 'turn': 4,\n",
    " 'twists': 6,\n",
    " 'we': 2,\n",
    " \"we'll\": 5,\n",
    " \"what's\": 6,\n",
    " \"year's\": 6}\n",
    "```\n",
    "\n",
    " Here's some code to help get you started:"
   ]
  },
  {
   "cell_type": "code",
   "execution_count": 4,
   "metadata": {},
   "outputs": [
    {
     "name": "stdout",
     "output_type": "stream",
     "text": [
      "4.5\n"
     ]
    }
   ],
   "source": [
    "import numpy as np\n",
    "\n",
    "vowels = ['a','e','i','o','u']\n",
    "\n",
    "def isVowel(letter):\n",
    "    return letter in vowels\n",
    "\n",
    "def isVowelOnset(string):\n",
    "    return isVowel(string[0])\n",
    "\n",
    "#to find a mean of a list, use the mean() function from the numpy library\n",
    "print(np.mean(range(10)))\n",
    "#it is commonly imported as np so that you can type np.mean() instead of numpy.mean()"
   ]
  },
  {
   "cell_type": "markdown",
   "metadata": {},
   "source": [
    "```{note}```\n",
    "By taking advantage of statements that already return True/False values, the code above avoids having to have code like: if X return True, else return Y.\n",
    "```"
   ]
  },
  {
   "cell_type": "markdown",
   "metadata": {},
   "source": [
    "### Selective access continued\n",
    "\n",
    "Now do the same for consonants\n",
    "\n",
    "<div class=\"alert alert-block alert-info\">\n",
    "Hint: You don't need to write separate isConsonant/isConsonantOnset functions!</div>\n"
   ]
  },
  {
   "cell_type": "markdown",
   "metadata": {},
   "source": [
    "## Letter counts\n",
    "\n",
    "Complete the implementation of the function `letter_counts()` which receives a string as input and returns a dictionary with (lowercase) letters as keys and their respective counts as values."
   ]
  },
  {
   "cell_type": "code",
   "execution_count": 3,
   "metadata": {},
   "outputs": [],
   "source": [
    "def letter_counts(string):\n",
    "    letter_sums = {}\n",
    "    letters = [letter for letter in string.lower() if c.isalpha()]\n",
    "    for curLetter in letters:\n",
    "        pass\n",
    "    \n",
    "    return letter_sums\n",
    "\n",
    "#Replace pass with appropriate code to make the function work. You only need a couple lines of code."
   ]
  },
  {
   "cell_type": "markdown",
   "metadata": {},
   "source": [
    "### Test your letter_counts function"
   ]
  },
  {
   "cell_type": "code",
   "execution_count": 2,
   "metadata": {},
   "outputs": [
    {
     "ename": "SyntaxError",
     "evalue": "invalid syntax (1399312205.py, line 2)",
     "output_type": "error",
     "traceback": [
      "\u001b[0;36m  Input \u001b[0;32mIn [2]\u001b[0;36m\u001b[0m\n\u001b[0;31m    ```python\u001b[0m\n\u001b[0m    ^\u001b[0m\n\u001b[0;31mSyntaxError\u001b[0m\u001b[0;31m:\u001b[0m invalid syntax\n"
     ]
    }
   ],
   "source": [
    "letter_counts(\"Complete the implementation of the function. `letter_counts()` receives a string as input and returns a dictionary with (lowercase) letters and their respective counts. The keys are the letters and the counts are how many times a given letter occurred.\")\n",
    "```python\n",
    "{'a': 12, 'c': 10, 'e': 32, 'd': 4, 'g': 1, 'f': 1, 'i': 12, 'h': 7, 'k': 0, 'm': 4, 'l': 6, 'o': 10, 'n': 15, 'p': 3, 's': 12, 'r': 15, 'u': 6, 't': 27, 'w': 2, 'v': 2, 'y': 2}\n",
    "```"
   ]
  },
  {
   "cell_type": "markdown",
   "metadata": {},
   "source": [
    "## Given a string, find the n most/least frequent letters in it"
   ]
  },
  {
   "cell_type": "code",
   "execution_count": null,
   "metadata": {},
   "outputs": [],
   "source": [
    "\n",
    "def most_frequent(string,n):\n",
    "    pass\n",
    "\n",
    "def least_frequent(string,n):\n",
    "    pass"
   ]
  },
  {
   "cell_type": "markdown",
   "metadata": {},
   "source": [
    "### Test most_frequent() and least_frequent() "
   ]
  },
  {
   "cell_type": "code",
   "execution_count": null,
   "metadata": {},
   "outputs": [],
   "source": [
    "a_string = \"At this year's Winter Olympics in Pyeongchang, we may see quad corks in Big Air Snowboarding or in Freestyle Skiing -- and we'll see quad twists and quad jumps in Figure Skating. But have we reached the limit of what's possible? To do a quad, a skater's got less than a second to turn their body four times in the air.\"\n",
    "\n",
    ">most_frequent(a_string,3)\n",
    "#should return [('e', 24), ('a', 21), ('i', 21)]\n",
    "\n",
    ">least_frequent(a_string,4)\n",
    "# should return [('j', 0), ('v', 0), ('f', 3)]"
   ]
  },
  {
   "cell_type": "markdown",
   "metadata": {},
   "source": [
    "## Bonus: Calculate most/least frequent letters in words beginning with consonants or vowels"
   ]
  },
  {
   "cell_type": "markdown",
   "metadata": {},
   "source": [
    "Implement `most_frequent2()` which makes the following function-called produce the desired results:\n",
    "\n",
    "```Python\n",
    "def most_frequent2(string,n):\n",
    "''' Given a string, return the n most frequent letters occurring in words beginning with vowels.\n",
    "'''\n",
    "    pass\n",
    "\n",
    "def least_frequent2(string,n):\n",
    "''' Given a string, return the n least frequent letters occurring in words beginning with vowels\n",
    "'''\n",
    "    pass\n",
    "```\n"
   ]
  },
  {
   "cell_type": "markdown",
   "metadata": {},
   "source": [
    "### Test most_frequent2() and least_frequent2()"
   ]
  },
  {
   "cell_type": "code",
   "execution_count": null,
   "metadata": {},
   "outputs": [],
   "source": [
    "a_string = \"At this year's Winter Olympics in Pyeongchang, we may see quad corks in Big Air Snowboarding or in Freestyle Skiing -- and we'll see quad twists and quad jumps in Figure Skating. But have we reached the limit of what's possible? To do a quad, a skater's got less than a second to turn their body four times in the air.\"\n",
    "\n",
    "most_frequent2(a_string,3)\n",
    "#should return [('n', 6), ('a', 5), ('i', 5)]\n",
    "\n",
    "least_frequent2(a_string,3)\n",
    "#should return [('f', 0), ('d', 1), ('o', 1)]"
   ]
  }
 ],
 "metadata": {
  "kernelspec": {
   "display_name": "Python 3.8.13 ('psych750')",
   "language": "python",
   "name": "python3"
  },
  "language_info": {
   "codemirror_mode": {
    "name": "ipython",
    "version": 3
   },
   "file_extension": ".py",
   "mimetype": "text/x-python",
   "name": "python",
   "nbconvert_exporter": "python",
   "pygments_lexer": "ipython3",
   "version": "3.8.13"
  },
  "name": "_merged",
  "toc": {
   "nav_menu": {},
   "number_sections": true,
   "sideBar": true,
   "skip_h1_title": false,
   "toc_cell": true,
   "toc_position": {
    "height": "570px",
    "left": "0px",
    "right": "967px",
    "top": "111px",
    "width": "313px"
   },
   "toc_section_display": "block",
   "toc_window_display": true
  },
  "vscode": {
   "interpreter": {
    "hash": "57beecaf6908bae4f97de5e2dc8e8d0311fae5bc989593c172c307d13e31f6e4"
   }
  }
 },
 "nbformat": 4,
 "nbformat_minor": 1
}