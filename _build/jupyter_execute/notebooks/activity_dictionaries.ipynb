{
 "cells": [
  {
   "cell_type": "markdown",
   "metadata": {},
   "source": [
    "# Playing around with dictionaries"
   ]
  },
  {
   "cell_type": "markdown",
   "metadata": {},
   "source": [
    "## Practice with operations on dictionary values\n",
    "\n",
    "Here's a [deep thought (by Jack Handey)](https://philip.greenspun.com/humor/deep-thoughts)"
   ]
  },
  {
   "cell_type": "code",
   "execution_count": 6,
   "metadata": {},
   "outputs": [],
   "source": [
    "a_deep_thought = '''Probably the earliest flyswatters were nothing more than \\ \n",
    "some sort of striking surface attached to the end of a long stick'''"
   ]
  },
  {
   "cell_type": "markdown",
   "metadata": {},
   "source": [
    "Let's create a dictionary out of it where each word is a key and its number of characters is a value."
   ]
  },
  {
   "cell_type": "code",
   "execution_count": 5,
   "metadata": {},
   "outputs": [
    {
     "name": "stdout",
     "output_type": "stream",
     "text": [
      "{'probably': 8, 'the': 3, 'earliest': 8, 'flyswatters': 11, 'were': 4, 'nothing': 7, 'more': 4, 'than': 4, 'some': 4, 'sort': 4, 'of': 2, 'striking': 8, 'surface': 7, 'attached': 8, 'to': 2, 'end': 3, 'a': 1, 'long': 4, 'stick': 5}\n"
     ]
    }
   ],
   "source": [
    "deep_thought_dict = {}\n",
    "for cur_word in a_deep_thought.split(' '):\n",
    "    deep_thought_dict[cur_word.lower()]=len(cur_word)\n",
    "print(deep_thought_dict)"
   ]
  },
  {
   "cell_type": "markdown",
   "metadata": {},
   "source": [
    ":::{tip}\n",
    "Common operations like this often have one-line solutions. We can accomplish the same behavior without an explicit `for` loop by using [dictionary comprehension](https://www.programiz.com/python-programming/dictionary-comprehension):\n",
    "```python\n",
    "deep_thought_dict = {cur_word.lower(): len(cur_word) for cur_word in a_deep_thought.split(' ')}\n",
    "```  \n",
    ":::"
   ]
  },
  {
   "cell_type": "markdown",
   "metadata": {},
   "source": [
    "Now that we have this information in a dictionary, do the following:\n",
    "\n",
    "* What's the average number of characters in these words?\n",
    "\n",
    ":::{tip} \n",
    "To find an average use `mean()` from the `numpy` library. For example,\n",
    "```python\n",
    "import numpy as np\n",
    "print(np.mean(range(10)))\n",
    "```\n",
    "You may need to explicitly convert the argument to np.mean to a list by using `list()`\n",
    ":::\n",
    "\n",
    "\n",
    "* What's the average number of characters in words beginning with vowels? \n",
    "\n",
    ":::{tip}\n",
    "By taking advantage of statements that already return True/False values, the code below avoids having to have code like: if X return True, else return Y. You don't necessarily want to use this exact code; it's just a demonstration.\n",
    "```python\n",
    "def is_vowel(letter):\n",
    "    return letter in ['a','e','i','o','u']\n",
    "```\n",
    ":::\n",
    "\n",
    "```{dropdown} Challenge\n",
    "Can you do this in one line of code? (hint: you'll need to use list comprehension)\n",
    "```\n",
    "\n",
    "\n"
   ]
  },
  {
   "cell_type": "markdown",
   "metadata": {},
   "source": [
    "* Now return the mean length of words beginning with a consonant\n",
    "```{tip}\n",
    "You don't need to write a separate function for consonants!\n",
    "```\n"
   ]
  },
  {
   "cell_type": "markdown",
   "metadata": {},
   "source": [
    "## Using a dictionary as a look-up table\n",
    "\n",
    "Dictionaries are a useful data-type for dynamically choosing actions based on the value of some variable.\n",
    "\n",
    "For example, suppose we want to show different stimuli based on whether participant responded with a particular arrow key (up, down, left, right). Depending on their response, we want to update the position of a stimulus, moving it 10 pixels to the right, left, etc.We might initially write code like this:\n",
    "\n",
    "```python\n",
    "if resp == 'left':\n",
    "    stim.pos += (-10,0)\n",
    "elif resp == 'right':\n",
    "    stim.pos += (10,0)\n",
    "elif resp == 'up':\n",
    "    stim.pos += (0,10)\n",
    "elif resp == 'down':\n",
    "    stim.pos += (0,-10)\n",
    "```\n",
    "\n",
    "This is bearable if we have just 4 alternatives, but what if we have 10? 30? Remember, anytime you're finding yourself repeating a piece of code with minor variation, there's gonna be a better way. In this case, one better way is to use dictionaries.\n",
    "\n",
    "```python\n",
    "resps_to_positions = {'left':(-10,0), 'right':(10,0)}\n",
    "```\n",
    "\n",
    "Finish this activity by specifying the rest of the dictionary. Then rewrite the conditional above to use this dictionary, replacing the multi-pronged conditional with a single line of code. That is, if you have a response stored in `resp`, how do you return the corresponding position?\n"
   ]
  },
  {
   "cell_type": "markdown",
   "metadata": {},
   "source": [
    "## Create and iterate through a list of dictionaries\n",
    "\n",
    "Another common use of dictionaries is to allow for structured access to information (this is quite relevant for Exercise 4). In Exercise 3, the trial file you generated had a bunch of columns that you had to access with their indices requiring you to keep track of which column number contained what information (color, orientation, etc.). Let's try to use a dictionary to do this instead.\n",
    "\n",
    "Below is some code to generate pairs or pets and owners. Right now it just prints the pairs. Modify the code so that the pairs are instead stored in a `pet_owners` list where each element contains two keys 'pet' and 'owner' and the value of the keys are the specific pet and specific owner, respectively. Then iterate through the list and print out the values."
   ]
  },
  {
   "cell_type": "code",
   "execution_count": 7,
   "metadata": {},
   "outputs": [
    {
     "name": "stdout",
     "output_type": "stream",
     "text": [
      "dog caleb\n",
      "hamster caleb\n",
      "hamster caleb\n",
      "dog caleb\n",
      "goldfish zihan\n",
      "goldfish zihan\n",
      "cat caleb\n",
      "dog kelly\n",
      "dog kelly\n",
      "goldfish zihan\n"
     ]
    }
   ],
   "source": [
    "import random\n",
    "pets = ['dog','cat','goldfish','hamster']\n",
    "owners = ['caleb','zihan','kelly','tianrun']\n",
    "\n",
    "num_rows = 10\n",
    "\n",
    "for rows in range(num_rows):\n",
    "    print(random.choice(pets),random.choice(owners))\n"
   ]
  },
  {
   "cell_type": "markdown",
   "metadata": {},
   "source": [
    "## "
   ]
  }
 ],
 "metadata": {
  "kernelspec": {
   "display_name": "Python 3.8.13 ('psych750')",
   "language": "python",
   "name": "python3"
  },
  "language_info": {
   "codemirror_mode": {
    "name": "ipython",
    "version": 3
   },
   "file_extension": ".py",
   "mimetype": "text/x-python",
   "name": "python",
   "nbconvert_exporter": "python",
   "pygments_lexer": "ipython3",
   "version": "3.8.13"
  },
  "name": "_merged",
  "toc": {
   "nav_menu": {},
   "number_sections": true,
   "sideBar": true,
   "skip_h1_title": false,
   "toc_cell": true,
   "toc_position": {
    "height": "570px",
    "left": "0px",
    "right": "967px",
    "top": "111px",
    "width": "313px"
   },
   "toc_section_display": "block",
   "toc_window_display": true
  },
  "vscode": {
   "interpreter": {
    "hash": "57beecaf6908bae4f97de5e2dc8e8d0311fae5bc989593c172c307d13e31f6e4"
   }
  }
 },
 "nbformat": 4,
 "nbformat_minor": 1
}