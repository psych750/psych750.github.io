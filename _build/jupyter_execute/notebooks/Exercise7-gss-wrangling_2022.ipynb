{
 "cells": [
  {
   "cell_type": "markdown",
   "metadata": {},
   "source": [
    "# Exercise 7 - Exploring the General Social Survey\n",
    "\n",
    "[Accept the exercise]()\n",
    "\n",
    "This exercise will give you practice wrangling and analyzing the general social survey. The goals are to cement the `dplyr` skills we've been working on and to give you practice going from a description of a problem to figuring out how to get the data to give you answer -- a critical skill for doing social / data science.\n",
    "\n",
    "Please [follow these instructions](https://kjhealy.github.io/gssr/) to download all the gss data and load it into R. I recommend the using `drat` to install.  Notice that importing the data this way fixes the earlier issue we saw with numeric variables like `age` and `income` being imported as factors. So no need to do the `as.character %>% as.numeric` conversion. Be mindful of the factor levels because they don't always correspond to what they ought to be. For example, variable called `happy` has its largest level corresponding to a *least* happy response. Rename your variables or use `fct_rev` as necessary so that the variable name matches its values. You can see that many variables have labels built alongside to that you know what each numeric response corresponds to. \n",
    "\n",
    "If you want to access the label instead of the numeric response (e.g., \"male\" and \"female\" for `sex` instead of 1 and 2), load in the [labelled](https://cran.r-project.org/web/packages/labelled/vignettes/intro_labelled.html) package and use `to_factor`, e.g.\n",
    "\n",
    "```r\n",
    "gss$sex_l <- to_factor(gss$sex)\n",
    "```\n",
    "\n",
    "If you want to create factors that preserve the original order (you probably do):\n",
    "\n",
    "```r\n",
    "gss$sex_l <- to_factor(gss$sex, levels=\"p\")\n",
    "```\n",
    "`sex_l` is now a factor.\n",
    "\n",
    "If you want to create an **ordinal** factor (you probably don't), use `ordered`:\n",
    "\n",
    "```r\n",
    "gss$sex_l <- to_factor(gss$sex, ordered=TRUE)\n",
    "```\n",
    "\n",
    "\n",
    "Please load in all the years into a dataframe called `gss_all`. You can complete the entire exercise using this dataframe, but one of the extra credit problems asks you to also use the longitututinal \"panel\" dataset."
   ]
  },
  {
   "cell_type": "markdown",
   "metadata": {},
   "source": [
    "\n",
    "## Part 1: Human evolution vs. elephant evolution\n",
    "\n",
    "Recall from the GSS activity that while political orientation (`polviews`) was strongly associated with endorsement of human evolution (`evolved`), it was not strongly associated with endorsement of the evolution of elephants (`evolved2`). Visualize this interaction in the clearest way possible. Because `evolved2` was only asked in 2016 and 2018, so use the (combined) 2016 and 2018 data for this graph.\n",
    "\n",
    "\n",
    "```{note}\n",
    "Earlier version asked you to plot a measure of variability. This is actually a bit tricky. If you already did, I'll give you extra credit (1 pt). Otherwise, don't worry about it\n",
    "```"
   ]
  },
  {
   "cell_type": "markdown",
   "metadata": {},
   "source": [
    "\n",
    "----\n"
   ]
  },
  {
   "cell_type": "markdown",
   "metadata": {},
   "source": [
    "## Part 2: Basic science knowledge, politics, education, and endorsement of human evolution?\n",
    "\n",
    "\n",
    "Begin by creating a compound variable `science_knowledge` that contains the average correctness of the following variables:\n",
    "```\n",
    "earthsun, electron, lasers, condrift, radioact, hotcore\n",
    "```\n",
    "(you'll need to consult the codebook if you're not sure what the right answer is 😬)\n",
    "\n",
    "Next, explore relationships between this variable (higher means more basic science knowledge), political affiliation (`polview` is a good one, but you can explore others), education (`degree` or `educ` for a more continuous measure), endorsement of human evolution (`evolved`)? Feel free to look at variables coding for people's employment type as well. As part of your solution for this part, report one or more main effects, an interaction (the more interesting and unexpected, the better), and a visualization that helps you gain insight into a pattern that's hard to appreciate by just looking at the numbers.\n",
    "\n",
    ":::{tip}\n",
    "The functions `rowwise` and `mean(c_across(list_of_columns))` (or `rowMeans(across(list_of_columns))` will come in handy for creating the compound variable. See [here](https://dplyr.tidyverse.org/articles/rowwise.html) for usage examples\n",
    ":::"
   ]
  },
  {
   "cell_type": "markdown",
   "metadata": {},
   "source": [
    "## Part 3: Sexual frequency\n",
    "\n",
    "Sex is an important part of our health and while more is not always better, knowing how much sex people are having is an important part of understanding sexual health. The variable `sexfreq` codes responses to the question \"About how often did you have sex during the last 12 months?\", from none (0) to More than 3 times a week (6).\n",
    "\n",
    "a. What's the relationship between respondent's gender (`sex`) and reported sexual frequency? \n",
    "\n",
    "b. Is this discrepancy different for different religions (`relig`) groups? Note that this  question is asking about an *interaction* -- i.e., is the male vs. female difference in reported sexual frequency greater for some religions vs. others.\n",
    "\n",
    "c. How does `sexfreq` change as a function of `year` (of survey), respondent's `age`, marital status (`marital`), and having (vs. not having) children (`childs`)? You'll want to look at combinations of these variables to get a full picture. **Good vizualizations will be very helpful here. Will be difficult to get full credit if you don't have any.** \n",
    "\n",
    "**Bonus:** Sexual frequency declines with age (no big surprise there). But is there some factor (location? beliefs? life factors?) that predict a substantially smaller decline?  +1.5 pts\n",
    "\n",
    "**Another Bonus** \n",
    "Are people in some regions of the US (`region`) having more sex? You can get the averages with group_by and summarize... But that's boring. More exciting is plotting it on a map! Follow [instructions here](https://cran.r-project.org/web/packages/usmap/vignettes/mapping.html) (or a different package if you want) to plot this data on a US map. To get the mapping from GSS region names to individual states, see p. 102 of the [GSS codebook](https://gss.norc.org/Documents/codebook/GSS%202021%20Codebook.pdf). + 3.5 pts\n"
   ]
  },
  {
   "cell_type": "markdown",
   "metadata": {},
   "source": [
    "## Part 4: Tax priorities\n",
    "\n",
    "Some people believe the government is spending too much money on certain issues. Other people believe we are not spending enough on those same issues.Explore the relationships between the following two sets of variables:\n",
    "\n",
    "Problems:\n",
    "```\n",
    "natspac, natenvir, natheal, natcity, natcrime, natdrug, nateduc, natrace, natarms, nataid, natfare\n",
    "```\n",
    "Respondents' characteristics (you may choose other variables than the ones below):\n",
    "```\n",
    "polviews, degree (or alternatively, educ), age, sex\n",
    "```\n",
    "\n",
    "Pick two variables from the problems category and one variable from the respondents' characteristics category that the view for the two problems are flipped for the same group of respondents (e.g., liberals think we are spending too much money on military but too little money on education, while conservatives think the opposite). \n",
    "\n",
    "a. Visualize the data in a way that clearly shows the pattern. \n",
    "\n",
    "b. Investigate whether their views have changed over the years (`year`)\n",
    "\n",
    "```{tip}\n",
    "You can use geom_smooth() to fit a curve across years to see how beliefs change across time. Be wary of small sample sizes though.\n",
    "```"
   ]
  },
  {
   "cell_type": "markdown",
   "metadata": {},
   "source": [
    "## Part 5: Astrology: beliefs, hobbies, and personalities\n",
    "\n",
    "About a third of the GSS respondents think that astrology is at least somewhat scientific (`astrosci`). Let's explore this. This question has an extra credit component (2 pts)\n",
    "\n",
    "\n",
    "a. Do people who believe that astrology is scientific (`astrosci`) also more likely to read their horoscope (`astrolgy`)? If so, how much more likely?\n",
    "\n",
    "b. What can you say about the demographics of people who read their horoscope (`astrolgy`) vs. don't read it? Is there some dimension that is especially well associated with it? (gender? age? occupation? (see `occ10`, also `indus10`). Bonus point if you discover a correlation of >.3 (or equivalent effect size).\n",
    "\n",
    "c. Is there a relationship between people's zodiac sign (`zodiac`) and belief in astrology? Likelihood of reading their horoscope? (bit meta there...)\n",
    "\n",
    "d. Imagine you are true believer (and an unscrupulous data scientist) trying to find data showing that there really **is** a relationship between one's [zodiac sign](https://www.allure.com/story/zodiac-sign-personality-traits-dates) and life trajectory. What's the strongest argument you can craft based on your analyses? Some variables you might find useful: `socbar` (going to bars), `helpful`, `empathy1`,  `empathy2`...  `sprtprsn` (spirituality) -- aren't Scorpios supposed to be more mysterious or something? 🤷‍♂️. You might want to check out variables related to occupation (e.g., `occ10`, life events (`divorce`), hobbies (e.g., `camping` -- note that 1993 wave had a bunch of questions related to hobbies). **Bonus +2 for a compelling graph.**\n",
    "\n",
    "```{note}\n",
    "Since many of these questions were only asked in some years, if you try to use data from multiple questions at once, you may end up with 0 respondents.\n",
    "```"
   ]
  }
 ],
 "metadata": {
  "kernelspec": {
   "display_name": "Python 3.8.13 ('psych750')",
   "language": "python",
   "name": "python3"
  },
  "language_info": {
   "codemirror_mode": {
    "name": "ipython",
    "version": 3
   },
   "file_extension": ".py",
   "mimetype": "text/x-python",
   "name": "python",
   "nbconvert_exporter": "python",
   "pygments_lexer": "ipython3",
   "version": "3.8.13"
  },
  "toc": {
   "nav_menu": {},
   "number_sections": true,
   "sideBar": true,
   "skip_h1_title": false,
   "toc_cell": true,
   "toc_position": {
    "height": "765px",
    "left": "0px",
    "right": "1560.45px",
    "top": "110px",
    "width": "185px"
   },
   "toc_section_display": "block",
   "toc_window_display": true
  },
  "vscode": {
   "interpreter": {
    "hash": "57beecaf6908bae4f97de5e2dc8e8d0311fae5bc989593c172c307d13e31f6e4"
   }
  }
 },
 "nbformat": 4,
 "nbformat_minor": 2
}