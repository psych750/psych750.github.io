{
 "cells": [
  {
   "cell_type": "markdown",
   "metadata": {},
   "source": [
    "# Exercise 7a - The Monty Hall Problem\n",
    "------------------\n",
    "\n",
    "![](images/MontyHall.jpg)\n",
    "\n",
    "The [Monty Hall Problem](https://en.wikipedia.org/wiki/Monty_Hall_problem) is a legendary example of how counter-intuitive simple probability can be. Here's the situation:\n",
    "\n",
    ">Suppose you're on a game show, and you're given the choice of three doors: Behind one door is a car; behind the others, goats. You pick a door, say No. 1, and the host, who knows what's behind the doors, opens another door, say No. 3, which has a goat. He then says to you, \"Do you want to pick door No. 2?\" Is it to your advantage to switch your choice?\n",
    "\n",
    "\n",
    "Write a numeric simulation of the Monty Hall problem and calculate the probabilities of winning if you switch every time you play and if you stay every time you play.\n",
    "\n",
    "\n"
   ]
  },
  {
   "cell_type": "markdown",
   "metadata": {},
   "source": [
    "Here's some code to get you started"
   ]
  },
  {
   "cell_type": "code",
   "execution_count": null,
   "metadata": {},
   "outputs": [],
   "source": [
    "import random\n",
    "import numpy as np\n",
    "\n",
    "def play_monty_hall(strategy):\n",
    "    if strategy!=\"stay\" and strategy!=\"switch\":\n",
    "        return \"Strategy must be 'stay' or 'switch'\"\n",
    "    #put your simulation code here\n",
    "    #return 1 if the simulation led to a win (car) and a 0 if to a loss (goat)\n",
    "\n",
    "num_games = 1000   \n",
    "wins_by_staying = [play_monty_hall('stay') for game in range(num_games)]\n",
    "wins_by_switching = [play_monty_hall('switch') for game in range(num_games)]\n",
    "\n",
    "print \"When staying:\", np.mean(wins_by_staying)\n",
    "print \"When switching:\", np.mean(wins_by_switching)\n"
   ]
  },
  {
   "cell_type": "markdown",
   "metadata": {},
   "source": [
    "# Exercise 7b - The Birthday Paradox\n",
    "\n",
    "The birthday paradox refers to the fact that it takes surprisingly few people before you're assured that some pair of people will have the same birthday.\n",
    "\n",
    "![BirthdayParadox](images/BirthdayParadox.jpg)\n",
    "\n",
    "Write code that finds a numerical approximation to the Birthday Paradox by simulating *n* people walking into a room.\n",
    "\n",
    "Use your code to answer these questions\n",
    "\n",
    "## What is the probability that in a room of n people, at least two share a birthday?\n",
    "Write a function or several functions which when given n, output the likelihood that any two people in the group share a birthday.\n",
    "<div class=\"alert alert-block alert-info\">\n",
    "Start by thinking about two people walking into a room</div>\n",
    "\n",
    "## How many people does it take for the probability to reach 50%?\n",
    "Because you are writing a numerical approximation, you'll want to run your simulations lots of times to get a distribution. Return the modal value of number of people that yield a 50% likelhood of a shared birthday.\n",
    "\n",
    "\n",
    "## Check your solutions\n",
    "Check that your code is returning [correct values](https://en.wikipedia.org/wiki/Birthday_paradox)"
   ]
  },
  {
   "cell_type": "code",
   "execution_count": null,
   "metadata": {},
   "outputs": [],
   "source": []
  }
 ],
 "metadata": {
  "kernelspec": {
   "display_name": "Python 2",
   "language": "python",
   "name": "python2"
  },
  "language_info": {
   "codemirror_mode": {
    "name": "ipython",
    "version": 2
   },
   "file_extension": ".py",
   "mimetype": "text/x-python",
   "name": "python",
   "nbconvert_exporter": "python",
   "pygments_lexer": "ipython2",
   "version": "2.7.13"
  },
  "toc": {
   "nav_menu": {},
   "number_sections": true,
   "sideBar": true,
   "skip_h1_title": false,
   "toc_cell": false,
   "toc_position": {
    "height": "469px",
    "left": "0px",
    "right": "1005.1px",
    "top": "110px",
    "width": "158px"
   },
   "toc_section_display": "block",
   "toc_window_display": true
  }
 },
 "nbformat": 4,
 "nbformat_minor": 2
}
