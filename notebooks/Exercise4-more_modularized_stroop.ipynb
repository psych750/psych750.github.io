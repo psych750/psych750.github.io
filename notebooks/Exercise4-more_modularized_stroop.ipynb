{
 "cells": [
  {
   "cell_type": "markdown",
   "metadata": {},
   "source": [
    "# Exercise 4: Modularizing and Error Checking \n",
    "\n",
    "[Accept the exercise](https://classroom.github.com/a/dUrj9P3_).\n",
    "\n",
    "As promised, we will be slowing down and so rather than having a brand new exercise, we'll stick with the previous one and work on further improvements which should be mirroring the improvements in your mental model of how the various pieces are fitting together. \n",
    "\n",
    "For this exercise, you may either join a team (limited to 2 people) or work individually. If you want to join a team and there isn't an existing one to join, please create a new one with `your_name_team`. If you'd like to work alone, create a team just called `your_name`.\n",
    "\n",
    "The purpose of this exercise is to get you more comfortable with the solution I posted for Exercise 3 and to further modularize it (Parts 1-5) and error-proof it (Part 5).  \n",
    "\n"
   ]
  },
  {
   "cell_type": "markdown",
   "metadata": {},
   "source": [
    "## Exercise 4 parts"
   ]
  },
  {
   "cell_type": "markdown",
   "metadata": {},
   "source": [
    "## Part 1.\n",
    "Take the stimulus presentation & response collection code -- the stuff that sets colors, orientations, does win flips, & collects responses -- and place it into a `show_trial()` function. You'll need to decide what arguments this function should take (the fewer the better! Keep it as extendable as possible!) and what the function should return. If done correctly, you should not have any setText, setOri, setColor, core.wait, or win.flip commands outside of this function."
   ]
  },
  {
   "cell_type": "markdown",
   "metadata": {},
   "source": [
    "## Part 2\n",
    "\n",
    "From exercise_3 solution (mirrored in Exercise 4 starter code):\n",
    "```python\n",
    "    #can we avoid this if statement by using a dictionary?\n",
    "    if cur_orientation=='upside_down':\n",
    "        word_stim.setOri(180)\n",
    "    else:\n",
    "        word_stim.setOri(0)\n",
    "\n",
    "```\n",
    "For this part, avoid using this conditional (if/else statement) by using a dictionary!"
   ]
  },
  {
   "cell_type": "markdown",
   "metadata": {},
   "source": [
    "## Part 3\n",
    "\n",
    "Recall this part:\n",
    "```python\n",
    "    subj_code = cur_trial[0]\n",
    "    prop_incongruent = cur_trial[1]\n",
    "    cur_word = cur_trial[2]\n",
    "    cur_color = cur_trial[3]\n",
    "    cur_trial_type = cur_trial[4]\n",
    "    cur_orientation = cur_trial[5]\n",
    "```\n",
    "Not only is this a lot of repetitive code, but it requires us to know which column is which. Improve this code by adding column names to the trial list so that you know which column is which. When you read the trials back in, store the different columns in dictionaries so you can access them by name, e.g., `cur_trial[text_color]` to access the what the current text color should be. **OR** read in the data using a Pandas data-frame. You can see an example of iterating through rows of a Pandas dataframe [here](https://stackoverflow.com/questions/16476924/how-to-iterate-over-rows-in-a-dataframe-in-pandas). For more on how to access rows/columns of Pandas dataframes, see [here](https://pythonhow.com/python-tutorial/pandas/Accessing-pandas-dataframe-columns-rows-and-cells/).  Note that iterating through rows of a data-frame like this is not advised in contexts when you need to do something to every row, but it's fine here since we're just using the dataframe as a source of information telling us what we need to do on each trial.\n",
    "\n"
   ]
  },
  {
   "cell_type": "markdown",
   "metadata": {},
   "source": [
    "## Part 4\n",
    "Exercise 3 allowed us to reuse a subject code which would result in overwriting the existing data file if it existed. Implement error checking to prevent the user from reusing a subject code. If they attempt to use it, pop up an error saying \"Subject code already exists\" and give them an opportunity to enter another subject code until they enter one that does not have an associated data file. The results files should be stored in a `data` subdirectory just as the trial lists are stored in a `trials` subdirectory.\n",
    "\n",
    "```{tip}\n",
    "Use [os.path.exists](https://docs.python.org/3/library/os.path.html#os.path.exists)!\n",
    "```"
   ]
  },
  {
   "cell_type": "markdown",
   "metadata": {},
   "source": [
    "## Part 5\n",
    "\n",
    "In the original demonstration of the Stroop effect, participants responded by using their voices. The researcher used a stopwatch to time how long it took to read a block of incongruent trials and compared it to reading a block of congruent trials. We can do a bit better. In this part, we'll be using some out-of-the-box speech recognition to decode what word the participant is saying and scoring it as correct or incorrect. We'll also use a (somewhat imprecise) psychopy function to automatically compute the onset time of people's verbal responses. \n",
    "\n",
    "Before adding the `speech_recognition.py` starter code into your main code, make sure to install the speech recognition library by `pip install SpeechRecognition` in CMDer/Rosetta terminal (remember to activate your `psych750` environment first!)\n",
    "\n",
    "The `speech_recognition.py` script should be pretty much plug and play with minimal changes needed to be made on your side. "
   ]
  },
  {
   "cell_type": "markdown",
   "metadata": {},
   "source": [
    "## Part 6\n",
    "\n",
    "Add `response_type` to the pop-up (GUI) box. The value of this variable can be either \"voice\" or \"key\". If it's key, proceed with the experiment as before. If it's voice, have it use the speech-recognition voice capability. `is_correct` should be 1 if the said word matched the text color (i.e., person said \"green\" and it was actually green), 0 if not, and 'NA' if there was some processing error. RT should reflect the measured speech onset or NA if it couldn't be measured. The results file should also include the response, as recognized. If a person said \"green\", it should record \"green\".  \n",
    "\n",
    "Make sure the value of `response_type` is included in the data file (so that someone looking at it later would know how the responses were collected)."
   ]
  }
 ],
 "metadata": {
  "celltoolbar": "Edit Metadata",
  "kernelspec": {
   "display_name": "Python 3 (ipykernel)",
   "language": "python",
   "name": "python3"
  },
  "language_info": {
   "codemirror_mode": {
    "name": "ipython",
    "version": 3
   },
   "file_extension": ".py",
   "mimetype": "text/x-python",
   "name": "python",
   "nbconvert_exporter": "python",
   "pygments_lexer": "ipython3",
   "version": "3.8.13"
  },
  "toc": {
   "nav_menu": {},
   "number_sections": true,
   "sideBar": true,
   "skip_h1_title": false,
   "toc_cell": true,
   "toc_position": {
    "height": "526px",
    "left": "0px",
    "right": "922px",
    "top": "111px",
    "width": "358px"
   },
   "toc_section_display": "block",
   "toc_window_display": true
  },
  "vscode": {
   "interpreter": {
    "hash": "57beecaf6908bae4f97de5e2dc8e8d0311fae5bc989593c172c307d13e31f6e4"
   }
  }
 },
 "nbformat": 4,
 "nbformat_minor": 2
}
