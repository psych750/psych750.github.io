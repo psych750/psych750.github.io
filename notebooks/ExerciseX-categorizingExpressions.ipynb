{
 "cells": [
  {
   "cell_type": "markdown",
   "metadata": {},
   "source": [
    "# Exercise 5 - Categorizing Facial Expressions"
   ]
  },
  {
   "cell_type": "markdown",
   "metadata": {},
   "source": [
    "## Modularize generateTrials\n",
    "Now that you have a working version of the basic expression-categorization study (a fixed debugThis2.py), let's split up the trial-generation part from the rest of the experimental script:\n",
    "\n",
    "1. Place the code and functions related to generating trials into a separate file `generateTrials.py`. \n",
    "1. Edit generateTrials.py code so that instead of returning `trials`, it writes the trial info to a CSV file called trials.csv which contains in each row all the information needed for the current trial, separated by commas. This first row of this file should contain a column header:\n",
    ">isMatch,emotionPrompt,shownActor,shownCategory,targetFaceImage\n",
    "1. Inside the main script, import you trial-generation function like so:\n",
    "```Python\n",
    "from generateTrials import *\n",
    "``` \n",
    "(your generateTrials.py file should be in the same directory as your main experiment .py file):\n",
    "1. In your main experiment script, call `generateTrials()` This should have the effect of creating trials.csv. \n",
    "1. Now let's read trials.csv into a list of dictionaries using [this importTrials function](http://sapir.psych.wisc.edu/programming_for_psychologists/notebooks/Psychopy_reference.html#Importing-a-trial-list)\n"
   ]
  },
  {
   "cell_type": "markdown",
   "metadata": {},
   "source": [
    "You should now have a trialList that you can access like so:\n",
    "```Python\n",
    "trialList = importTrials('trialList.txt')\n",
    "for curTrial in trialList:\n",
    "    curTrial['isMatch'] #contains 1/0 depending on whether the current trial is a match or mismatch\n",
    "```"
   ]
  },
  {
   "cell_type": "markdown",
   "metadata": {},
   "source": [
    "Why did we go through the trouble of writing to a reading from a file? To have an extra record of the trial list to which a particular subject was exposed and to double-check that the distributions of different conditions are what we want."
   ]
  },
  {
   "cell_type": "markdown",
   "metadata": {},
   "source": [
    "## Prompt for the subject code\n",
    "Let's add the capability to collect the subject's code. Pop up a box (as you did in [Exercise 2](http://sapir.psych.wisc.edu/programming_for_psychologists/notebooks/Exercise2-names.html) prompting the experimenter to provide a subject code. Pass this values to `generateTrials()` and have generateTrials use it to create not a generically named trials.csv, but a trials file specific to this participant, e.g., if the subject code is `ec_101`, the trials-file should be `ec_101_trials.csv`\n",
    "\n",
    "<div class=\"alert alert-block alert-info\">\n",
    "You'll need to modify your importTrials call so that you're including the subject name there as well instead of the generic trialList.txt. Also remember to add gui to the `from psychopy import...` statement at the start of the file</div>\n"
   ]
  },
  {
   "cell_type": "markdown",
   "metadata": {},
   "source": [
    "## Create an output file\n",
    "Now let's create an output file containing our data! Have your main script write to a subjCode_data.csv file. Each line should correspond to a trial and contain the following information, in this order:\n",
    "\n",
    "Independent Variables:\n",
    "* Subject Code\n",
    "* isMatch (0/1)\n",
    "* emotionPrompt ('Happy','Angry', or 'Sad')\n",
    "* shownActor (must be one of actors.keys())\n",
    "* shownCategory ('Happy','Angry', or 'Sad')\n",
    "* targetFaceImage (the filename of the face being shown, e.g., 005wN_90_60.jpg)\n",
    "\n",
    "Dependent Variables:\n",
    "* accuracy (1 for correct/0 for incorrect)\n",
    "* Reaction time (in milliseconds)"
   ]
  },
  {
   "cell_type": "markdown",
   "metadata": {},
   "source": [
    "# Exercise 5b: A more interesting face categorization study "
   ]
  },
  {
   "cell_type": "markdown",
   "metadata": {},
   "source": [
    "Here's a more interesting version of the expressions categorization experiment. The code below will show a prompt (Happy, Angry, or Sad) as before, and then show you three faces (one of which displayes the prompted expression). The user should respond with the the 1 key the prompted expression is on the left, the 2 key if it's in the middle, and the 3 key if on the right. \n",
    "\n",
    "<div class=\"alert alert-block alert-info\">\n",
    "Note that the key codes are strings '1', '2', '3' not integers 1, 2, 3\n",
    "</div>"
   ]
  },
  {
   "cell_type": "code",
   "execution_count": null,
   "metadata": {},
   "outputs": [],
   "source": [
    "import random\n",
    "import random\n",
    "import sys\n",
    "import numpy as np\n",
    "from psychopy import visual, core, event\n",
    "\n",
    "categories = {'Happy':'F', 'Angry':'W', 'Sad':'T'}\n",
    "actors = ['001m', '001w', '002m', '002w', '003m', '003w', '004m', '004w', '005m', '005w']\n",
    "suffix = '_90_60.jpg'\n",
    "positions = {'left':(-190,0), 'middle':(0,0), 'right':(190,0)}\n",
    "responseMapping = {'left':'1','middle':'2','right':'3'}\n",
    "\n",
    "def randomButNot(l,toExclude,num):\n",
    "\tchosen = random.sample(l,num)\n",
    "\twhile toExclude in chosen:\n",
    "\t\tchosen = random.sample(l,num)\n",
    "\treturn chosen\n",
    "\n",
    "def generateTrials(numTrials):\n",
    "\ttrials=[]\n",
    "\tfor i in range(numTrials):\n",
    "\t\ttargetCategory = random.choice(categories.keys())\n",
    "\t\tdistractorCategories = randomButNot(categories.keys(),targetCategory,2)\n",
    "\t\tactorsToShow = np.random.choice(actors,3) \n",
    "            #this is the random.choice() function from the numpy library which samples \n",
    "            #with replacement. cf. random.sample() samples WITHOUT replacement\n",
    "\t\ttargetLocation = random.choice(positions.keys())\n",
    "\t\ttrials.append({\n",
    "\t\t\t\t\t'emotionPrompt':targetCategory,\n",
    "\t\t\t\t\t'targetImage':actorsToShow[0]+categories[targetCategory]+suffix,\n",
    "\t\t\t\t\t'distractorImage1': actorsToShow[1]+categories[distractorCategories[0]]+suffix,\n",
    "\t\t\t\t\t'distractorImage2': actorsToShow[2]+categories[distractorCategories[1]]+suffix,\n",
    "\t\t\t\t\t'targetLocation': targetLocation\n",
    "\t\t\t\t\t})\n",
    "\treturn trials\n",
    "\n",
    "\n",
    "trials = generateTrials(40)\n",
    "\n",
    "win = visual.Window([1024,700],color=\"black\", units='pix')\n",
    "prompt = visual.TextStim(win=win,text='',color=\"white\",height=60)\n",
    "correctFeedback = visual.TextStim(win=win,text='CORRECT',color=\"green\",height=60)\n",
    "incorrectFeedback = visual.TextStim(win=win,text='ERROR',color=\"red\",height=60)\n",
    "pic1 = visual.ImageStim(win=win, mask=None,interpolate=True)\n",
    "pic2 = visual.ImageStim(win=win, mask=None,interpolate=True)\n",
    "pic3 = visual.ImageStim(win=win, mask=None,interpolate=True)\n",
    "\n",
    "for curTrial in trials:\n",
    "\twin.flip()\n",
    "\tcore.wait(.25)\n",
    "\tprompt.setText(curTrial['emotionPrompt'])\n",
    "\tprompt.draw()\n",
    "\twin.flip()\n",
    "\tcore.wait(.5)\n",
    "\n",
    "\twin.flip()\n",
    "\tcore.wait(.1)\n",
    "\tpic1.setImage('faces/'+curTrial['targetImage'])\n",
    "\tpic2.setImage('faces/'+curTrial['distractorImage1'])\n",
    "\tpic3.setImage('faces/'+curTrial['distractorImage2'])\n",
    "\tpic1.setPos(positions[curTrial['targetLocation']])\n",
    "\tdistractorPositions = randomButNot(positions.keys(),curTrial['targetLocation'],2)\n",
    "\tpic2.setPos(positions[distractorPositions[0]])\n",
    "\tpic3.setPos(positions[distractorPositions[1]])\n",
    "\n",
    "\tpic1.draw()\n",
    "\tpic2.draw()\n",
    "\tpic3.draw()\n",
    "\twin.flip()\n",
    "\tresponse = event.waitKeys(keyList=responseMapping.values())[0]\n",
    "\tprint response,responseMapping[curTrial['targetLocation']]\n",
    "\tif response==responseMapping[curTrial['targetLocation']]:\n",
    "\t\tcorrectFeedback.draw()\n",
    "\telse:\n",
    "\t\tincorrectFeedback.draw()\n",
    "\tcore.wait(.5)"
   ]
  },
  {
   "cell_type": "markdown",
   "metadata": {},
   "source": [
    "## Modularize the generateTrials code\n",
    "Begin by modularizing the generateTrials() code as in Exercise 5a."
   ]
  },
  {
   "cell_type": "markdown",
   "metadata": {},
   "source": [
    "## Effect of spatial grouping?\n",
    "Notice how we're displaying the faces in a horizontal orientation. This allows for having the mouths and eyes nicely aligned which may help comparing faces. Let's see if there's an effect of this by intermixing trials with the three faces horizontally oriented as in the code above, and trials that are vertically oriented. To get you started, you'll want to do is update your positions dictionary to this:\n",
    "\n",
    "```Python\n",
    "positions = {\n",
    "\t\t\t'vertical':  {'bottom':(0,-190), 'middle':(0,0), 'top':(0,190)},\n",
    "\t\t\t'horizontal': {'left':(-190,0), 'middle':(0,0), 'right':(190,0)}\n",
    "\t\t\t}\n",
    "```\n",
    "\n",
    "You'll then want to introduce a position factor `positionType` which is 'vertical' or 'horizontal' (`positions.keys()`) and based on whether a given trial is 'vertical' or 'horizontal' you'll want to:\n",
    "\n",
    "1. Access the appropriate positions for setting where your pictures appear. E.g., if your current position type is stored in `curPositionType`, use `positions[curPositionType]` to access the dictionary containing the possible positions.\n",
    "2. Set the location of the matching face by using e.g., `random.choice(positions[curPositionType].keys())`"
   ]
  },
  {
   "cell_type": "markdown",
   "metadata": {},
   "source": [
    "## Use a mouse for responding\n",
    "It becomes awkward to use a keyboard for responding in a task like this, so let's use a mouse for responding. See [here](http://sapir.psych.wisc.edu/programming_for_psychologists/notebooks/Psychopy_reference.html#How-do-I-have-people-respond-with-a-mouse?) for sample mouse code. You'll want to display the three faces until a person clicks on one of them."
   ]
  },
  {
   "cell_type": "markdown",
   "metadata": {},
   "source": [
    "## Create an output file\n",
    "Now let's create an output file containing our data! Have your main script write to a subjCode_data.csv file. Each line should correspond to a trial and contain the following information, precisely in this order:\n",
    "\n",
    "Independent Variables:\n",
    "* subject code (the unique subject code for the subject being run)\n",
    "* position type ('vertical' or 'horizontal')\n",
    "* emotion prompt (the string 'Happy', 'Angry' or 'Sad')\n",
    "* targetActor (must be one of actors.keys())\n",
    "* distractor1Actor (must be one of actors.keys())\n",
    "* distractor2Actor (must be one of actors.keys())\n",
    "* distractorEmotion1 (the string 'Happy', 'Angry' or 'Sad')\n",
    "* distractorEmotion2 (the string 'Happy', 'Angry' or 'Sad')\n",
    "* targetImage (the filename corresponding to the correct response, e.g., '005wN_90_60.jpg')\n",
    "* distractorImage1 (the filename corresponding to the first distractor)\n",
    "* distractorImage2 (the filename corresponding to the second distractor)\n",
    "* targetLocation (the location of the target: bottom/middle/top/left/right)\n",
    "\n",
    "Dependent Variables:\n",
    "* isRight (1 if response is correct; 0 if incorrect)\n",
    "* emotionChosen (the chosen emotion (Happy/Angry/Sad; should equal emotionPrompt if the response is correct)\n",
    "* RT (Reaction time in milliseconds from when faces appeared to mouseclick on one of them)"
   ]
  },
  {
   "cell_type": "markdown",
   "metadata": {},
   "source": [
    "You may run into some trouble figuring out the emotion of the face that the participant clicked on. \n",
    "If you set your `generateTrials()` function correctly, the following code will work:\n",
    "\n",
    "\n",
    "```Python\n",
    "isRight = int(pic1.contains(response))\n",
    "if isRight:\n",
    "    correctFeedback.draw()\n",
    "    emotionChosen = curTrial['emotionPrompt']\n",
    "else:\n",
    "    incorrectFeedback.draw()\n",
    "    if pic2.contains(response):\n",
    "        emotionChosen = curTrial['distractorEmotion1']\n",
    "    elif pic3.contains(response):\n",
    "        emotionChosen = curTrial['distractorEmotion2']\n",
    "```\n"
   ]
  },
  {
   "cell_type": "markdown",
   "metadata": {},
   "source": [
    "## Run yourself on the task!\n",
    "Please run yourself on this task to produce 100 trials of data. Should take <10 mins. Please take care to have your output file be precisely in the above-mentioned format so that we can combine data from everyone in the class. Here is a [sample output file](http://sapir.psych.wisc.edu/classMaterials/psych711/sample_data.csv). To check that your data is in the correct format, do the following:\n",
    "\n",
    "At the terminal, inside \n",
    "`cat sample.csv your_data.csv > data_format_test.csv`\n",
    "\n",
    "(replacing your_data.csv with the name of your output file, and including the appropriate path to sample_data.csv if it's not in the same directory as your data)\n",
    "\n",
    "Load the data into R:\n",
    "\n",
    "\n",
    "In R: `dat <- read.csv('data_format_test.csv')`\n",
    "\n",
    "Look at the summary: `summary(dat)`\n",
    "\n",
    "\n"
   ]
  },
  {
   "cell_type": "markdown",
   "metadata": {},
   "source": [
    "## Bonus: Actor + positionType\n",
    "Let's cross the actor and positionType to see if e.g., having faces lined up in horizontally helps especially when they're all of same gender. You want to have the following trial distribution\n",
    "\n",
    "```\n",
    "horizontal (50%). Of these:\n",
    "same-gender(Male) - 25%\n",
    "same-gender(Female) - 25%\n",
    "different-gender - 50%\n",
    "\n",
    "vertical (50%). Of these:\n",
    "same-gender(Male) - 25%\n",
    "same-gender(Female) - 25%\n",
    "different-gender - 50%\n",
    "```\n",
    "\n",
    "\n",
    "To cross factors, you can use for-loops, but a more compact way is to use the [`itertools` package](https://docs.python.org/2/library/itertools.html). So you might want to do something like this:"
   ]
  },
  {
   "cell_type": "code",
   "execution_count": 7,
   "metadata": {},
   "outputs": [
    {
     "name": "stdout",
     "output_type": "stream",
     "text": [
      "[('horiontal', 'diff-gender'), ('horiontal', 'same-gender'), ('vertical', 'diff-gender'), ('vertical', 'same-gender')]\n"
     ]
    }
   ],
   "source": [
    "from itertools import product\n",
    "\n",
    "positions = {\n",
    "\t\t\t'vertical':  {'bottom':(-190,0), 'middle':(0,0), 'top':(190,0)},\n",
    "\t\t\t'horiontal': {'left':(0,-190), 'middle':(0,0), 'right':(0,190)}\n",
    "\t\t\t}\n",
    "\n",
    "genderMix = {'same-gender':['male','female'], 'diff-gender':[]}\n",
    "\n",
    "\n",
    "trialTypes = list(product(positions.keys(), genderMix.keys()))\n",
    "\n",
    "print trialTypes"
   ]
  },
  {
   "cell_type": "code",
   "execution_count": null,
   "metadata": {},
   "outputs": [],
   "source": []
  }
 ],
 "metadata": {
  "kernelspec": {
   "display_name": "Python 2",
   "language": "python",
   "name": "python2"
  },
  "language_info": {
   "codemirror_mode": {
    "name": "ipython",
    "version": 2
   },
   "file_extension": ".py",
   "mimetype": "text/x-python",
   "name": "python",
   "nbconvert_exporter": "python",
   "pygments_lexer": "ipython2",
   "version": "2.7.13"
  },
  "toc": {
   "nav_menu": {},
   "number_sections": true,
   "sideBar": true,
   "skip_h1_title": false,
   "toc_cell": false,
   "toc_position": {
    "height": "526px",
    "left": "0px",
    "right": "1026px",
    "top": "111px",
    "width": "254px"
   },
   "toc_section_display": "block",
   "toc_window_display": true
  }
 },
 "nbformat": 4,
 "nbformat_minor": 2
}
