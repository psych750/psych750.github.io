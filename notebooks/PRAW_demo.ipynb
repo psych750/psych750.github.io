{
 "cells": [
  {
   "cell_type": "markdown",
   "metadata": {},
   "source": [
    "# PRAW\n",
    "\n",
    "## Introduction to PRAW\n",
    "\n",
    "`PRAW` is an API wrapper for Reddit. It lets you access Reddit content without worrying about violating Reddit's API rules. \n",
    "\n",
    "## Installing PRAW\n",
    "\n",
    "Within the psych750 environment, install praw using `pip`:\n",
    "\n",
    "```\n",
    "pip install praw\n",
    "```\n",
    "\n",
    "## Authenticating PRAW to access Reddit\n",
    "\n",
    "Before using PRAW, you need to authenticate with your Reddit account. Go [here](https://www.reddit.com/prefs/apps/) and click on the `are you a developer? create an app...` button to create an application. Name it `psych750` and choose `script`. Add in a short description and use `http://localhost:8080` as the redirect uri.\n",
    "\n",
    "## Working with PRAW\n",
    "Now that everything is ready to go, we need to create an instance first:"
   ]
  },
  {
   "cell_type": "code",
   "execution_count": 1,
   "metadata": {},
   "outputs": [
    {
     "name": "stdout",
     "output_type": "stream",
     "text": [
      "tutorial_for_praw\n"
     ]
    }
   ],
   "source": [
    "import praw\n",
    "\n",
    "r = praw.Reddit(\n",
    "    client_id = 'BHpXy52FE-8za63YtAqvOQ',\n",
    "    client_secret = 'GWEUpuB6M4q9YB2q9SOvY6OuGJ20JQ',\n",
    "    password='psych750!Tutorial',\n",
    "    user_agent = 'testscript by u/tutorial_for_praw',\n",
    "    username='tutorial_for_praw'\n",
    ")\n",
    "print(r.user.me()) # Checking if it's working, it should just show the user name"
   ]
  },
  {
   "cell_type": "markdown",
   "metadata": {},
   "source": [
    "Now we can look at things that are potentially interesting. Let's take a look at the hottest 10 posts on Reddit (as of the time of writing this tutorial)."
   ]
  },
  {
   "cell_type": "code",
   "execution_count": 2,
   "metadata": {},
   "outputs": [
    {
     "name": "stdout",
     "output_type": "stream",
     "text": [
      "Inhaled Cannabis Reduces Pain and Anxiety, Improves Health-Related Quality of Life in Patients with Treatment-Resistant Conditions\n",
      "Magic Pineapples🎤 (Carmen Lagala)\n",
      "Nancy Pelosi marching on Washington for Gay Rights in the 80s\n",
      "'Tried & Failed': Vladimir Putin Suffers Another Devastating Loss After 'Doomsday' Nuclear-Powered Torpedo Fails To Launch\n",
      "A church steeple blew off during a storm last night.\n",
      "TIL blacking out from alcohol doesn’t cause you to lose memories, but rather your brain temporarily loses the ability to create new memories during the blackout (so the memories never exist)\n",
      "Colorado voters approve free school meals for K-12 students\n",
      "Lorde: “Touring Has Become a Demented Struggle to Break Even or Face Debt”\n",
      "Can somebody ID this turtle? Found this critter boxed up on my driveway\n",
      "How to impress a girl by hiding a card behind your hand\n"
     ]
    }
   ],
   "source": [
    "for cur_submission in r.front.hot(limit = 10):\n",
    "    # print(cur_submission)\n",
    "    submission = r.submission(cur_submission)\n",
    "    print(submission.title)"
   ]
  },
  {
   "cell_type": "markdown",
   "metadata": {},
   "source": [
    "Let's look at one of them. [This submission](https://www.reddit.com/r/todayilearned/comments/ysm4ys/til_blacking_out_from_alcohol_doesnt_cause_you_to/) talks about how your brain temporarily loses the ability to create new memories when you experience a blackout from alcohol. It has more than 1000 comments and we can use PRAW to extract all the comments and see what people's opinions are. We can first take a look at the top 5 comments"
   ]
  },
  {
   "cell_type": "code",
   "execution_count": 2,
   "metadata": {},
   "outputs": [
    {
     "name": "stdout",
     "output_type": "stream",
     "text": [
      "Anterograde amnesia: the inability to form new memories. Alcohol blackout is *temporary* anterograde amnesia; it goes away when the alcohol intoxication goes away. Permanent anterograde amnesia is a thing; my boss suffered a heart attack years ago, and it left him with permanent anterograde amnesia. When you cannot learn new information at all, it's pretty hard to work in I.T., where you have to learn new stuff all the time. Management retired him pretty quick.\n",
      "Pro tip: I'd you ever want to know if someone is \"Blacked Out\" ask them the same question a few times within a few minutes, they usually won't remember.\n",
      "I like to call this state Read Only Mode\n",
      "[Anterograde amnesia](https://en.wikipedia.org/wiki/Anterograde_amnesia).\n",
      "Some drugs which have the same effect are sometimes used for potentially mentally traumatic medical or dental procedures.\n"
     ]
    }
   ],
   "source": [
    "url = 'https://www.reddit.com/r/todayilearned/comments/ysm4ys/til_blacking_out_from_alcohol_doesnt_cause_you_to/'\n",
    "\n",
    "submission = r.submission(url = url)\n",
    "\n",
    "for top_level_comment in submission.comments[:5]:\n",
    "    print(top_level_comment.body)"
   ]
  },
  {
   "cell_type": "markdown",
   "metadata": {},
   "source": [
    "With these comments, we can use things like `nltk` to extract information that we are interested in."
   ]
  },
  {
   "cell_type": "code",
   "execution_count": 17,
   "metadata": {},
   "outputs": [
    {
     "name": "stdout",
     "output_type": "stream",
     "text": [
      "[('memories', 61), ('memory', 39), ('time', 33), ('night', 32), ('drunk', 32), ('*', 25), ('brain', 24), ('someone', 22), ('people', 21), ('’', 21), ('day', 21), ('alcohol', 17), ('thing', 16), ('times', 16), ('t', 16)]\n"
     ]
    }
   ],
   "source": [
    "import nltk\n",
    "\n",
    "all_comments = ''\n",
    "submission.comments.replace_more(limit=None)\n",
    "for top_level_comment in submission.comments:\n",
    "    all_comments += top_level_comment.body\n",
    "\n",
    "all_comments_tokens = nltk.word_tokenize(all_comments)\n",
    "all_comments_pos = nltk.pos_tag(all_comments_tokens)\n",
    "all_comments_nouns = [word[0].lower() for word in all_comments_pos if word[1][:2] == 'NN']\n",
    "\n",
    "print(nltk.FreqDist(all_comments_nouns).most_common(15))"
   ]
  },
  {
   "cell_type": "markdown",
   "metadata": {},
   "source": [
    "Let's find out how many upvotes it received:"
   ]
  },
  {
   "cell_type": "code",
   "execution_count": 9,
   "metadata": {},
   "outputs": [
    {
     "name": "stdout",
     "output_type": "stream",
     "text": [
      "This submission has: 53529 upvotes!\n",
      "This submission has: 3747 downvotes!\n"
     ]
    }
   ],
   "source": [
    "print('This submission has: ' + str(submission.score) + ' upvotes!')"
   ]
  },
  {
   "cell_type": "markdown",
   "metadata": {},
   "source": [
    "What about downvotes? PRAW does not have a downvote attribute you can look up. It only has a downvote method that lets you actually downvote the submission. So don't do that unless you want to downvote it! To find the number of downvotes, we need to calculate it based on the score (number of upvotes) and the upvote ratio:"
   ]
  },
  {
   "cell_type": "code",
   "execution_count": null,
   "metadata": {},
   "outputs": [],
   "source": [
    "print(f'This submission has: {str(round(submission.score * (1-submission.upvote_ratio)))} downvotes!')"
   ]
  },
  {
   "cell_type": "markdown",
   "metadata": {},
   "source": [
    "Let's try something else. Let's take a look at what people in Wisconsin are discussing these days."
   ]
  },
  {
   "cell_type": "code",
   "execution_count": 15,
   "metadata": {},
   "outputs": [
    {
     "name": "stdout",
     "output_type": "stream",
     "text": [
      "[('wisconsin', 26), ('county', 8), ('election', 7), ('johnson', 6), ('milwaukee', 5), ('’', 4), ('voters', 4), ('ballot', 4), ('state', 4), ('wi', 4), ('michels', 4), ('%', 4), ('ron', 4), ('department', 3), ('food', 3)]\n"
     ]
    }
   ],
   "source": [
    "all_hot_submissions = ''\n",
    "for cur_submission in r.subreddit(\"wisconsin\").hot():\n",
    "    submission = r.submission(cur_submission)\n",
    "    all_hot_submissions += submission.title\n",
    "\n",
    "all_hot_submissions_tokens = nltk.word_tokenize(all_hot_submissions)\n",
    "all_hot_submissions_pos = nltk.pos_tag(all_hot_submissions_tokens)\n",
    "all_hot_submissions_nouns = [word[0].lower() for word in all_hot_submissions_pos if word[1][:2] == 'NN']\n",
    "\n",
    "print(nltk.FreqDist(all_hot_submissions_nouns).most_common(15))"
   ]
  },
  {
   "cell_type": "markdown",
   "metadata": {},
   "source": [
    "Not a big surprise, since election is coming up, people are mostly talking about voting and Ron Johnson.\n",
    "\n",
    "Now let's find out who actually has the hottest post in `wisconsin`."
   ]
  },
  {
   "cell_type": "code",
   "execution_count": 23,
   "metadata": {},
   "outputs": [
    {
     "name": "stdout",
     "output_type": "stream",
     "text": [
      "The hottest submission in r/wisconsin is: Yay…more lanes authored by Nimzay98\n"
     ]
    }
   ],
   "source": [
    "for cur_submission in r.subreddit(\"wisconsin\").hot(limit = 1):\n",
    "    hottest_submission_in_wisconsin = r.submission(cur_submission)\n",
    "\n",
    "print(f'The hottest submission in r/wisconsin is: {hottest_submission_in_wisconsin.title} by {hottest_submission_in_wisconsin.author}')\n"
   ]
  },
  {
   "cell_type": "markdown",
   "metadata": {},
   "source": [
    "Can we find out more about this user? What's this person's karma? Where else has this user posted within the last month?"
   ]
  },
  {
   "cell_type": "code",
   "execution_count": 43,
   "metadata": {},
   "outputs": [
    {
     "name": "stdout",
     "output_type": "stream",
     "text": [
      "this user has 73472 karmas!\n",
      "This user has posted in MkeBucks in the past month.\n",
      "This user has posted in milwaukee in the past month.\n",
      "This user has posted in RealTwitterAccounts in the past month.\n",
      "This user has posted in wisconsin in the past month.\n"
     ]
    }
   ],
   "source": [
    "import time\n",
    "\n",
    "user_instance = hottest_submission_in_wisconsin.author\n",
    "print('this user has ' + str(user_instance.comment_karma) + ' karmas!')\n",
    "\n",
    "all_subreddits_user_posted = []\n",
    "for cur_submission in user_instance.submissions.new():\n",
    "    submission = r.submission(cur_submission)\n",
    "    all_subreddits_user_posted.append(submission.subreddit)\n",
    "    if time.time() - submission.created_utc > 60*60*24*30:\n",
    "        break\n",
    "\n",
    "unique_subreddits = set(all_subreddits_user_posted)\n",
    "for cur_subreddit in unique_subreddits:\n",
    "    print('This user has posted in ' + str(cur_subreddit.display_name) + ' in the past month.')"
   ]
  },
  {
   "cell_type": "markdown",
   "metadata": {},
   "source": [
    "We can tell from the data that this user is probably a very active reddit user. They live in Milwaukee, is a Bucks fan, and probably is also very active on Twitter.\n",
    "\n",
    "And a joke to end the activity:"
   ]
  },
  {
   "cell_type": "code",
   "execution_count": 21,
   "metadata": {},
   "outputs": [
    {
     "name": "stdout",
     "output_type": "stream",
     "text": [
      "What's the difference between grey and gray?\n",
      "One is a color, and the other is a colour.\n"
     ]
    }
   ],
   "source": [
    "submission = r.submission('yshook') # You can also use the submission's ID which comes after comments/ in the URL\n",
    "print(submission.title)\n",
    "print(submission.selftext)"
   ]
  }
 ],
 "metadata": {
  "kernelspec": {
   "display_name": "Python 3 (ipykernel)",
   "language": "python",
   "name": "python3"
  },
  "language_info": {
   "codemirror_mode": {
    "name": "ipython",
    "version": 3
   },
   "file_extension": ".py",
   "mimetype": "text/x-python",
   "name": "python",
   "nbconvert_exporter": "python",
   "pygments_lexer": "ipython3",
   "version": "3.8.13"
  },
  "vscode": {
   "interpreter": {
    "hash": "9d91dc52a2e956fc45a257e58b5dd59b41177d8dfb12ca1b8fcc83ff636ea095"
   }
  }
 },
 "nbformat": 4,
 "nbformat_minor": 2
}
