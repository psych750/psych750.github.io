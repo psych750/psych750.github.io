{
 "cells": [
  {
   "cell_type": "markdown",
   "metadata": {},
   "source": [
    "# Exercise 10 - Natural Language Processing with NLTK\n",
    "\n",
    "[Accept the exercise](https://classroom.github.com/a/H4nxvd84)\n"
   ]
  },
  {
   "cell_type": "markdown",
   "metadata": {},
   "source": [
    "\n",
    "## Part 1: Who likes which adjectives?\n",
    "\n",
    "Begin by looking over [this example](https://realpython.com/nltk-nlp-python/#tagging-parts-of-speech) of part of speech tagging.\n",
    "\n",
    "Let's compare the adjectives used in Jane Austen's Emma to those used in Shakespeare's Hamlet.\n",
    "\n",
    "Retrieve the two texts from `nltk.corpus.gutenberg` ('austen-emma.txt', 'shakespeare-hamlet'), tokenize the text. Do not lowercase or remove punctuations until **after** you get the part of speech tags. \n",
    "\n",
    "You'll want to keep the two books in separate variables -- `emma` and `hamlet`.\n",
    "\n",
    "Now use [`nltk.pos_tag`](https://www.nltk.org/_modules/nltk/tag.html) to infer the part of speech of each word.  This will allow you to pull out all the adjectives. Print the list of the 15 most common adjectives for Emma and the 15 most common for Hamlet. \n",
    "\n",
    "```{note}\n",
    "nltk's pos_tag tagger is trained on Penn's treebank corpus. There are more sophisticated neural-net based taggers available such as [FLAIR](https://github.com/flairNLP/flair). And modern LLMs can do a [whole lot better than that!](https://betterprogramming.pub/how-to-incorporate-llms-into-your-machine-learning-pipelines-part-i-7caa9541fdbd). \n",
    "```\n"
   ]
  },
  {
   "cell_type": "markdown",
   "metadata": {},
   "source": [
    "## Part 2: Increasing robustness\n",
    "\n",
    "Let's see if the analysis for part 1 holds up when we add some additional books for these authors. Repeat what you did for part 1, but now add 2 more books to the `austen` corpus and 2 additional plays to the `shakespeare` corpus:\n",
    "\n",
    "The first corpus -- `austen`-- should contain three Jane Austen books:\n",
    "```csv\n",
    "['austen-emma.txt', 'austen-persuasion.txt', 'austen-sense.txt']\n",
    "```\n",
    "\n",
    "The second corpus -- `shakespeare` -- should contain three Shakespeare plays:\n",
    "```csv\n",
    "['shakespeare-caesar.txt', 'shakespeare-hamlet.txt', 'shakespeare-macbeth.txt']\n",
    "```\n",
    "\n",
    "How do the 15 most popular adjecives look now? "
   ]
  },
  {
   "cell_type": "markdown",
   "metadata": {},
   "source": [
    "## Part 3 - Comparing verb lemmas\n",
    "\n",
    "Let's now compare verbs in `austen` and `shakespeare`. \n",
    "\n",
    "a. Print out the 15 most frequent verbs in each corpus (after removing stopwords).\n",
    "\n",
    "b. **Lemmatize** the corpus and print out the 15 most frequent verb lemmas after removing stopwords. You will need to tag parts of speech first, and then feed them into the lemmatizer to lemmatize correctly.\n",
    "\n",
    "```{note}\n",
    "The stopwords are used by the part-of-speech to guess the parts of speech so make sure the text you feed into it has them! Remove stopwords as the very last part of your workflow\n",
    "```\n",
    "\n",
    ":::{tip}\n",
    "There are many lemmatizers. The basic one in NLTK is `WordNetLemmatizer`. Notice that its parts of speech tags are not the same as what's outputted by the part of speech tagger, so you'll need to map between them. There are some examples of other lemmatizers in action [here](https://www.machinelearningplus.com/nlp/lemmatization-examples-python/).\n",
    ":::"
   ]
  },
  {
   "cell_type": "markdown",
   "metadata": {},
   "source": [
    "## Bonus problem - US vs. UK English\n",
    "\n",
    "### Part a. (3 pts)\n",
    "Inside the [starter code repo](https://github.com/psych750/exercise_9) is a directory `data_for_bonus` which contains two english corpora, one is US English, the other is British English.\n",
    "\n",
    "Add in the following to your import statements:\n",
    "```python\n",
    "from nltk import collocations, FreqDist, bigrams, trigrams\n",
    "trigram_measures = nltk.collocations.TrigramAssocMeasures()\n",
    "```\n",
    "\n",
    "Read in the us and uk corpus data into separate variables, tokenize it (its already lowercased), and get rid of the stopwords.\n",
    "\n",
    "\n",
    "Print out the top 20 trigram-based collocations in US and UK English. Get the collocations using `TrigramCollocationFinder` and rank them using the likelihood_ratio measure, one of the trigram measures (look at `trigram_measures` defined above). You can use the `nbest` method from `nltk.TrigramCollocationFinder()` to print the top n collocations\n",
    "\n",
    "```{note}\n",
    "The question asks about likely collocations, not just frequent trigrams\n",
    "```\n",
    "\n",
    "```{note}\n",
    "It will take quite a while (a few minutes!) to get rid of the stop words in these ~1M token corpora. This is ages in computer time. The reason it takes so long is that the typical solution -- check each word against the list of stop words is wildly inefficient. Part b of the bonus asks you to implement a more efficient solution\n",
    "```\n",
    "\n",
    "### Part b. (3 pts)\n",
    "\n",
    "Change how you remove stopwords from the corpus so that it takes a few seconds rather than a few minutes (2 pts)\n",
    "\n",
    "Explain why the new solution is so much faster (1 pt)\n",
    "\n",
    "```{note}\n",
    "You can get credit for a correct explanation if you can't figure out a way to implement it\n",
    "```"
   ]
  }
 ],
 "metadata": {
  "kernelspec": {
   "display_name": "Python 3.8.13 ('psych750')",
   "language": "python",
   "name": "python3"
  },
  "language_info": {
   "codemirror_mode": {
    "name": "ipython",
    "version": 3
   },
   "file_extension": ".py",
   "mimetype": "text/x-python",
   "name": "python",
   "nbconvert_exporter": "python",
   "pygments_lexer": "ipython3",
   "version": "3.8.13"
  },
  "toc": {
   "nav_menu": {},
   "number_sections": true,
   "sideBar": true,
   "skip_h1_title": false,
   "toc_cell": true,
   "toc_position": {
    "height": "765px",
    "left": "0px",
    "right": "1560.45px",
    "top": "110px",
    "width": "185px"
   },
   "toc_section_display": "block",
   "toc_window_display": true
  },
  "vscode": {
   "interpreter": {
    "hash": "57beecaf6908bae4f97de5e2dc8e8d0311fae5bc989593c172c307d13e31f6e4"
   }
  }
 },
 "nbformat": 4,
 "nbformat_minor": 2
}
