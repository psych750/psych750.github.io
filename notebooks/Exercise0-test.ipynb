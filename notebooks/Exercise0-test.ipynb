{
 "cells": [
  {
   "cell_type": "markdown",
   "metadata": {},
   "source": [
    "# Exercise 0 - Test assignment"
   ]
  },
  {
   "cell_type": "markdown",
   "metadata": {},
   "source": [
    "Please [accept the test assignment](https://classroom.github.com/a/kptjb8LU)\n",
    "\n",
    "Once you clone the repository, you'll see a file with the starter code. This is the file you will edit and add to to complete the test exercise.\n",
    "\n",
    "Remember to [follow the instructions for submitting asignments](https://psych750.github.io/notebooks/submitting_assignments.html). Push the changes for each part, tagging them as e0_1 for part 1 and e0_2 for part2. "
   ]
  },
  {
   "cell_type": "markdown",
   "metadata": {},
   "source": [
    "## Part 1\n",
    "\n",
    "Change test_assignment.py so that it instead of printing \"Hello world\", it prints \"My name is__\" where ___ is your first name."
   ]
  },
  {
   "cell_type": "markdown",
   "metadata": {},
   "source": [
    "## Part 2\n",
    "\n",
    "Change test_assignment.py so that it instead of printing \"My name is [your first name]\" it prints your full name."
   ]
  }
 ],
 "metadata": {
  "celltoolbar": "Edit Metadata",
  "kernelspec": {
   "display_name": "Python 3.8.13 ('psych750')",
   "language": "python",
   "name": "python3"
  },
  "language_info": {
   "codemirror_mode": {
    "name": "ipython",
    "version": 3
   },
   "file_extension": ".py",
   "mimetype": "text/x-python",
   "name": "python",
   "nbconvert_exporter": "python",
   "pygments_lexer": "ipython3",
   "version": "3.8.13"
  },
  "vscode": {
   "interpreter": {
    "hash": "57beecaf6908bae4f97de5e2dc8e8d0311fae5bc989593c172c307d13e31f6e4"
   }
  }
 },
 "nbformat": 4,
 "nbformat_minor": 4
}
