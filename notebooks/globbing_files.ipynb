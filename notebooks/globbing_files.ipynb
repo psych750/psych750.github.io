{
 "cells": [
  {
   "cell_type": "markdown",
   "metadata": {},
   "source": [
    "# Preloading files\n",
    "\n",
    "It is generally a good idea to load your external stimuli (images, movies, sounds) into memory prior to presenting them. This helps ensure greater precision in display times. (One exception is if you are loading many 1000s of images in which case you may want to preload them in batches -- this won't be an issue for us).   \n",
    "\n",
    "One effective approach is to have all your stimuli in one directory (e.g., `stimuli`) and then just load all the files in that directory into memory at the start of the experiment. The trick is to load them in a way that allows you easy access.\n"
   ]
  },
  {
   "cell_type": "code",
   "execution_count": 2,
   "metadata": {},
   "outputs": [],
   "source": [
    "import os\n",
    "import glob"
   ]
  },
  {
   "cell_type": "markdown",
   "metadata": {},
   "source": [
    "First, a few useful functions for managing directories and file paths. For more info, see `help(os.path)`"
   ]
  },
  {
   "cell_type": "code",
   "execution_count": 2,
   "metadata": {},
   "outputs": [
    {
     "name": "stdout",
     "output_type": "stream",
     "text": [
      "/Users/glupyan/gitRepos/psych750_resources/starter_code/activity_debugging_experiments\n",
      "already exists\n",
      "/Users/glupyan/gitRepos/psych750_resources/starter_code/activity_debugging_experiments/stimuli/visual/\n"
     ]
    },
    {
     "data": {
      "text/plain": [
       "'lamp.jpg'"
      ]
     },
     "execution_count": 2,
     "metadata": {},
     "output_type": "execute_result"
    }
   ],
   "source": [
    "import os\n",
    "\n",
    "print(os.getcwd()) #what's my current directory?\n",
    "try:\n",
    "    os.mkdir('data') #make a new subdirectory called data. If it already exists, raise a `FileExistsError`` \n",
    "except FileExistsError:\n",
    "    print('already exists')\n",
    "os.path.exists('data') #check if a path (a directory or filename) exists\n",
    "print(os.path.join(os.getcwd(), 'stimuli/visual/')) #creating a longer path\n",
    "os.path.basename('/stimuli/visual/lamp.jpg') # get just the filename part of a path\n"
   ]
  },
  {
   "cell_type": "markdown",
   "metadata": {},
   "source": [
    "## Grabbing (globbing) all the files in a directory\n",
    "\n",
    "With these preliminaries out of the way, we can now combine them with `os.glob()`\n",
    "First, please [clone this repository](https://github.com/psych750/activity_debugging_experiments).\n",
    "\n",
    "Now `cd` into it. Inside will be a copy of this notebook. Open it inside VSCode. This will ensure that the current working directory is the new repository."
   ]
  },
  {
   "cell_type": "markdown",
   "metadata": {},
   "source": [
    "The code below grabs all the files that meet your criteria Confused by the '*' syntax? Those are wildcards -- a key part of navigating around a file system -- [see more here](https://linuxhint.com/bash_wildcard_tutorial/) if you need a refresher."
   ]
  },
  {
   "cell_type": "code",
   "execution_count": 53,
   "metadata": {},
   "outputs": [
    {
     "name": "stdout",
     "output_type": "stream",
     "text": [
      "['images/duck.png', 'images/dog.png', 'images/spoon.png', 'images/horse.png', 'images/mushroom.png', 'images/doorknob.png', 'images/watch.png', 'images/nut.png', 'images/sled.png', 'images/rabbit.png']\n"
     ]
    }
   ],
   "source": [
    "import os\n",
    "import glob\n",
    "\n",
    "all_pics = glob.glob('images/*png')\n",
    "print(all_pics[0:10]) # printing just the first 10 for brevity\n"
   ]
  },
  {
   "cell_type": "code",
   "execution_count": 52,
   "metadata": {},
   "outputs": [
    {
     "name": "stdout",
     "output_type": "stream",
     "text": [
      "['images/ashtray.png', 'images/arm.png', 'images/accordion.png', 'images/artichoke.png', 'images/arrow.png', 'images/ant.png', 'images/asparagus.png', 'images/apple.png', 'images/airplane.png', 'images/axe.png', 'images/anchor.png', 'images/alligator.png']\n"
     ]
    }
   ],
   "source": [
    "pics_beginning_with_a = glob.glob('images/a*png')\n",
    "print(pics_beginning_with_a)"
   ]
  },
  {
   "cell_type": "markdown",
   "metadata": {},
   "source": [
    "Now let's get just the filename part of the path"
   ]
  },
  {
   "cell_type": "code",
   "execution_count": 10,
   "metadata": {},
   "outputs": [
    {
     "name": "stdout",
     "output_type": "stream",
     "text": [
      "['003mT_90_60.jpg', '004wF_90_60.jpg', '003mA_90_60.jpg', '001mW_90_60.jpg', '005mU_90_60.jpg', '003wN_90_60.jpg', '002mE_90_60.jpg', '005wW_90_60.jpg', '001wU_90_60.jpg', '002wT_90_60.jpg', '004wU_90_60.jpg', '002mN_90_60.jpg', '002wA_90_60.jpg', '005mF_90_60.jpg', '003wE_90_60.jpg', '004mW_90_60.jpg', '001wF_90_60.jpg', '005mA_90_60.jpg', '002wF_90_60.jpg', '003mU_90_60.jpg', '005wN_90_60.jpg', '005mT_90_60.jpg', '003wW_90_60.jpg', '001wA_90_60.jpg', '001mN_90_60.jpg', '004mE_90_60.jpg', '001wT_90_60.jpg', '002wU_90_60.jpg', '004mN_90_60.jpg', '003mF_90_60.jpg', '004wA_90_60.jpg', '004wT_90_60.jpg', '001mE_90_60.jpg', '002mW_90_60.jpg', '005wE_90_60.jpg', '001mU_90_60.jpg', '005mW_90_60.jpg', '002wE_90_60.jpg', '003mN_90_60.jpg', '005wU_90_60.jpg', '004mF_90_60.jpg', '001wW_90_60.jpg', '003wA_90_60.jpg', '003wT_90_60.jpg', '004wW_90_60.jpg', '001mF_90_60.jpg', '003mE_90_60.jpg', '002mA_90_60.jpg', '005wF_90_60.jpg', '002wN_90_60.jpg', '004mU_90_60.jpg', '002mT_90_60.jpg', '004wE_90_60.jpg', '001mT_90_60.jpg', '001wN_90_60.jpg', '001mA_90_60.jpg', '003mW_90_60.jpg', '005wT_90_60.jpg', '005mN_90_60.jpg', '003wU_90_60.jpg', '005wA_90_60.jpg', '002mF_90_60.jpg', '005mE_90_60.jpg', '002wW_90_60.jpg', '004mT_90_60.jpg', '001wE_90_60.jpg', '003wF_90_60.jpg', '004mA_90_60.jpg', '004wN_90_60.jpg', '002mU_90_60.jpg']\n"
     ]
    }
   ],
   "source": [
    "just_names = [os.path.basename(file) for file in all_pics]\n",
    "print(just_names)"
   ]
  },
  {
   "cell_type": "markdown",
   "metadata": {},
   "source": [
    "## Preloading images into memory\n",
    "\n",
    "Now that we've seen how to grab a list of files, let's use this to preload them into memory and then access the psychopy objects we've created. Below is a basic version of a useful helper function `load_files()` that does just that. A more flexible version with some bells and whistles (e.g., it works for both images and audio files) is available [here](https://psych750.github.io/notebooks/Psychopy_reference.html#preloading-image-and-audio-files)."
   ]
  },
  {
   "cell_type": "code",
   "execution_count": 48,
   "metadata": {},
   "outputs": [
    {
     "name": "stderr",
     "output_type": "stream",
     "text": [
      "2022-10-04 22:48:45.112 python[22343:1846768] Warning: Expected min height of view: (<NSPopoverTouchBarItemButton: 0x7f98320b2990>) to be less than or equal to 30 but got a height of 32.000000. This error will be logged once per view in violation.\n",
      "2022-10-04 22:48:45.113 python[22343:1846768] Warning: Expected min height of view: (<NSButton: 0x7f98320e8ed0>) to be less than or equal to 30 but got a height of 32.000000. This error will be logged once per view in violation.\n",
      "2022-10-04 22:48:45.116 python[22343:1846768] Warning: Expected min height of view: (<NSPopoverTouchBarItemButton: 0x7f98326681b0>) to be less than or equal to 30 but got a height of 32.000000. This error will be logged once per view in violation.\n",
      "2022-10-04 22:48:45.118 python[22343:1846768] Warning: Expected min height of view: (<NSPopoverTouchBarItemButton: 0x7f9832681600>) to be less than or equal to 30 but got a height of 32.000000. This error will be logged once per view in violation.\n"
     ]
    }
   ],
   "source": [
    "import os\n",
    "import glob\n",
    "from psychopy import visual\n",
    "\n",
    "def basic_load_files(directory,extension,win='',restriction='*'):\n",
    "    \"\"\" Loads all the pictures (or narrowed by the restriction argumnt) in the provided directory.\n",
    "    Need to pass in the Psychopy window (win) object so that it can be used for loading them in.\n",
    "    Returns a dictionary with references to the loaded images\n",
    "    \"\"\"\n",
    "    file_list = glob.glob(os.path.join(directory,restriction+extension))\n",
    "    images = {} #initialize fileMatrix  as a dict because it'll be accessed by file names (picture names, sound names)\n",
    "    for cur_file in file_list:\n",
    "        stim_filename = os.path.splitext(os.path.basename(cur_file))[0] #just the filename without the extension\n",
    "        stim = visual.ImageStim(win, image=cur_file,mask=None,interpolate=True)\n",
    "        images[stim_filename] = stim\n",
    " \n",
    "    return images\n",
    "\n",
    "win = visual.Window([200,200],color=\"black\", units='pix')\n",
    "images = basic_load_files('images/','png',win=win)"
   ]
  },
  {
   "cell_type": "markdown",
   "metadata": {},
   "source": [
    "Now to show an image, we can simply use the returned dictionary!"
   ]
  },
  {
   "cell_type": "code",
   "execution_count": 50,
   "metadata": {},
   "outputs": [
    {
     "name": "stdout",
     "output_type": "stream",
     "text": [
      "<class 'psychopy.visual.image.ImageStim'>\n"
     ]
    }
   ],
   "source": [
    "print(type(images['duck'])) # notice the type\n",
    "images['duck'].draw()"
   ]
  }
 ],
 "metadata": {
  "kernelspec": {
   "display_name": "Python 3.8.13 ('psych750')",
   "language": "python",
   "name": "python3"
  },
  "language_info": {
   "codemirror_mode": {
    "name": "ipython",
    "version": 3
   },
   "file_extension": ".py",
   "mimetype": "text/x-python",
   "name": "python",
   "nbconvert_exporter": "python",
   "pygments_lexer": "ipython3",
   "version": "3.8.13"
  },
  "toc": {
   "nav_menu": {},
   "number_sections": true,
   "sideBar": false,
   "skip_h1_title": false,
   "toc_cell": false,
   "toc_position": {},
   "toc_section_display": "block",
   "toc_window_display": false
  },
  "vscode": {
   "interpreter": {
    "hash": "57beecaf6908bae4f97de5e2dc8e8d0311fae5bc989593c172c307d13e31f6e4"
   }
  }
 },
 "nbformat": 4,
 "nbformat_minor": 2
}
