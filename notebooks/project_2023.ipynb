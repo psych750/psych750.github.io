{
 "cells": [
  {
   "cell_type": "markdown",
   "id": "77e03f6a",
   "metadata": {},
   "source": [
    "# Project instructions\n",
    "\n",
    "## Option 1: Experiment\n",
    "\n",
    "Implement a full experiment in PsychoPy. You can do any type of study you like, but make sure to get feedback on your plan from me before proceeding. A good way to go is to reproduce an existing design while adding some tweaks to it to answer a new question. \n",
    "\n",
    "Your experiment should have a trial generation part and a trial display part as in the exercises and the code should be maximally modular. Your experiment should be in a final data-collection state, outputting a ready-to-analyze CSV data-file when you run it. \n",
    "\n",
    "As part of your project presentation, you'll be asked to explain the rationale of the study, its design, and run a quick demo. Your submission should include the full experiment code, stimuli, and anything else needed to run it, and a sample output data file from a full run of the experiment. \n",
    "\n",
    "```{note}\n",
    "If your experiment ends up being something in my wheelhouse, and you're interested in collecting actual data for it, talk to me about this possibility for the Spring term.  \n",
    "```\n",
    "\n",
    "\n",
    "## Option 2: Data analysis\n",
    "\n",
    "Find (or scrape!) some interesting data and perform a novel analysis on it. If you are using existing data, you should include at least two datasets that you have merged together to answer a question that you could not answer with a single dataset. \n",
    "\n",
    "Your submission should contain a short writeup explaining the questions you were trying to answer with your analysis, code for obtaining and/or merging the datasets, graphing code, and some beautiful informative graphs. Your final project presentation should include a discussion of your rationale, research questions and results. \n",
    "\n",
    "Make sure to get feedback from me before proceeding lest you end up working with data that can't realistically answer the questions you want to answer.\n"
   ]
  }
 ],
 "metadata": {
  "kernelspec": {
   "display_name": "Python 3.8.13 ('psych750')",
   "language": "python",
   "name": "python3"
  },
  "language_info": {
   "codemirror_mode": {
    "name": "ipython",
    "version": 3
   },
   "file_extension": ".py",
   "mimetype": "text/x-python",
   "name": "python",
   "nbconvert_exporter": "python",
   "pygments_lexer": "ipython3",
   "version": "3.8.13"
  },
  "metadata": {
   "execution": {
    "allow_errors": false
   }
  },
  "vscode": {
   "interpreter": {
    "hash": "57beecaf6908bae4f97de5e2dc8e8d0311fae5bc989593c172c307d13e31f6e4"
   }
  }
 },
 "nbformat": 4,
 "nbformat_minor": 5
}
