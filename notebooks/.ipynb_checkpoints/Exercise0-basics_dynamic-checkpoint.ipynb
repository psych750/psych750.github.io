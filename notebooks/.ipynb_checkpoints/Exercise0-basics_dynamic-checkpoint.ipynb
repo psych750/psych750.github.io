{
 "cells": [
  {
   "cell_type": "markdown",
   "metadata": {},
   "source": [
    "# Python essentials to get you started"
   ]
  },
  {
   "cell_type": "markdown",
   "metadata": {},
   "source": [
    "## Assigning a variable and printing its value"
   ]
  },
  {
   "cell_type": "code",
   "execution_count": 3,
   "metadata": {
    "scrolled": false,
    "tags": [
     "hide-output"
    ]
   },
   "outputs": [
    {
     "name": "stdout",
     "output_type": "stream",
     "text": [
      "<class 'str'>\n",
      "<class 'int'>\n",
      "Hello world\n",
      "I am a string and I'm a 5\n"
     ]
    }
   ],
   "source": [
    "my_string = \"I am a string\"\n",
    "my_num = 5\n",
    "\n",
    "print(type(my_string))\n",
    "print(type(my_num))\n",
    "print(\"Hello world\")\n",
    "print(my_string, \"and I'm a\", my_num)"
   ]
  },
  {
   "cell_type": "markdown",
   "metadata": {},
   "source": [
    "Or for a more compact printing when you need to intermix fixed strings and variables:"
   ]
  },
  {
   "cell_type": "code",
   "execution_count": 3,
   "metadata": {},
   "outputs": [
    {
     "name": "stdout",
     "output_type": "stream",
     "text": [
      "I am a string and I'm a 5\n"
     ]
    }
   ],
   "source": [
    "print(f\"{my_string} and I'm a {my_num}\")"
   ]
  },
  {
   "cell_type": "code",
   "execution_count": null,
   "metadata": {},
   "outputs": [],
   "source": [
    "print()"
   ]
  },
  {
   "cell_type": "markdown",
   "metadata": {
    "hide_input": false
   },
   "source": [
    "## Iterating through a list using a `for` loop"
   ]
  },
  {
   "cell_type": "code",
   "execution_count": 3,
   "metadata": {},
   "outputs": [
    {
     "name": "stdout",
     "output_type": "stream",
     "text": [
      "[0, 1, 2, 3, 4, 5, 6, 7, 8, 9]\n",
      "0\n",
      "1\n",
      "2\n",
      "3\n",
      "4\n",
      "5\n",
      "6\n",
      "7\n",
      "8\n",
      "9\n"
     ]
    }
   ],
   "source": [
    "print range(10)\n",
    "for num in range(10):\n",
    "    print num"
   ]
  },
  {
   "cell_type": "markdown",
   "metadata": {},
   "source": [
    "```{dropdown} What happened here?\n",
    "As the first line shows, `range()` generated a list of numbers in the specified range. Then `for` iterated through those numbers.```\n"
   ]
  },
  {
   "cell_type": "markdown",
   "metadata": {},
   "source": [
    "### Another `for` loop"
   ]
  },
  {
   "cell_type": "code",
   "execution_count": 5,
   "metadata": {},
   "outputs": [
    {
     "name": "stdout",
     "output_type": "stream",
     "text": [
      "dog\n",
      "cat\n",
      "pig\n"
     ]
    }
   ],
   "source": [
    "animals = ['dog', 'cat', 'pig']\n",
    "for animal in animals:\n",
    "    print(animal)"
   ]
  },
  {
   "cell_type": "markdown",
   "metadata": {},
   "source": [
    "## A few simple conditionals (`if` statements)"
   ]
  },
  {
   "cell_type": "code",
   "execution_count": 7,
   "metadata": {},
   "outputs": [
    {
     "name": "stdout",
     "output_type": "stream",
     "text": [
      "it's a 5!\n"
     ]
    }
   ],
   "source": [
    "if my_num == 5:\n",
    "    print(\"it's a 5!\")\n",
    "else:\n",
    "    print(\"it's not a 5!\")"
   ]
  },
  {
   "cell_type": "code",
   "execution_count": 6,
   "metadata": {},
   "outputs": [],
   "source": [
    "if 5<2:\n",
    "    print('yes indeed')\n",
    "elif 10<2:\n",
    "    print('this is true too!')"
   ]
  },
  {
   "cell_type": "markdown",
   "metadata": {},
   "source": [
    "Predict what each of these statements will return. Then check."
   ]
  },
  {
   "cell_type": "code",
   "execution_count": 13,
   "metadata": {},
   "outputs": [
    {
     "name": "stdout",
     "output_type": "stream",
     "text": [
      "False\n"
     ]
    }
   ],
   "source": [
    "print('s'==True)"
   ]
  },
  {
   "cell_type": "code",
   "execution_count": 12,
   "metadata": {},
   "outputs": [
    {
     "name": "stdout",
     "output_type": "stream",
     "text": [
      "True\n"
     ]
    }
   ],
   "source": [
    "print(1==True)"
   ]
  },
  {
   "cell_type": "code",
   "execution_count": 11,
   "metadata": {},
   "outputs": [
    {
     "name": "stdout",
     "output_type": "stream",
     "text": [
      "False\n"
     ]
    }
   ],
   "source": [
    "print (0==True)"
   ]
  },
  {
   "cell_type": "code",
   "execution_count": 10,
   "metadata": {},
   "outputs": [
    {
     "name": "stdout",
     "output_type": "stream",
     "text": [
      "False\n"
     ]
    }
   ],
   "source": [
    "print (True==False)"
   ]
  },
  {
   "cell_type": "code",
   "execution_count": 9,
   "metadata": {},
   "outputs": [
    {
     "name": "stdout",
     "output_type": "stream",
     "text": [
      "True\n"
     ]
    }
   ],
   "source": [
    "print ((True or False)==True)"
   ]
  },
  {
   "cell_type": "code",
   "execution_count": 8,
   "metadata": {},
   "outputs": [
    {
     "name": "stdout",
     "output_type": "stream",
     "text": [
      "False\n"
     ]
    }
   ],
   "source": [
    "print (print==True)"
   ]
  },
  {
   "cell_type": "markdown",
   "metadata": {},
   "source": [
    "## A `while` loop"
   ]
  },
  {
   "cell_type": "code",
   "execution_count": 14,
   "metadata": {},
   "outputs": [
    {
     "name": "stdout",
     "output_type": "stream",
     "text": [
      "I'm a 5 and I'm less than or equal to 5!\n",
      "I'm a 4 and I'm less than or equal to 5!\n",
      "I'm a 3 and I'm less than or equal to 5!\n",
      "I'm a 2 and I'm less than or equal to 5!\n",
      "I'm a 1 and I'm less than or equal to 5!\n"
     ]
    }
   ],
   "source": [
    "another_num=5\n",
    "while another_num <= 5 and another_num>0:\n",
    "    print(f\"I'm a {another_num} and I'm less than or equal to 5!\")\n",
    "    another_num -= 1"
   ]
  },
  {
   "cell_type": "markdown",
   "metadata": {},
   "source": [
    "# Now for a couple exercises\n",
    "\n",
    "1. Write a `for` loop to print out the numbers 0 through 5\n",
    "1. Write a `for` loop to print out the numbers 2 through 8. Now do another one to print 9 through 0 (i.e., backwards)\n",
    "    <div class=\"alert alert-block alert-info\">\n",
    "    Use help(range) to see some other things you can do with the range function</div>\n",
    "1. Given the list ['one', 'two','three','four'], write code that will print: 'one and a two and a three and a four'\n",
    "1. Write a bit of code using for loop(s) that print out the following sequence:\n",
    "```\n",
    "0\n",
    "01\n",
    "012\n",
    "0123\n",
    "01234\n",
    "012345\n",
    "```\n",
    "<div class=\"alert alert-block alert-info\">\n",
    "This one's gonna be challenging to people who have not programmed before. Give it a try and then turn to your neighbor and talk about how you might solve it.\n",
    "</div>\n",
    "\n",
    "<div class=\"alert alert-block alert-info\">\n",
    "If you're writing your program in the Python Shell or in a Jupyter Notebook, Python will automatically append a newline to anything you print. To keep it from doing that end the print statement with a comman, e.g., `print i,`. If you're writing the code in a text editor and executing using `python filename.py`, you can keep using `print` in the normal way.\n",
    "</div>\n"
   ]
  },
  {
   "cell_type": "code",
   "execution_count": 30,
   "metadata": {},
   "outputs": [
    {
     "name": "stdout",
     "output_type": "stream",
     "text": [
      "one and a two and a three and a four\n"
     ]
    }
   ],
   "source": [
    "numbers = ['one', 'two','three','four']\n",
    "\n",
    "for number in numbers:\n",
    "    print number,\n",
    "    if number != \"four\":\n",
    "        print \"and a\",\n",
    "\n",
    "\n"
   ]
  },
  {
   "cell_type": "code",
   "execution_count": 31,
   "metadata": {},
   "outputs": [
    {
     "data": {
      "text/plain": [
       "True"
      ]
     },
     "execution_count": 31,
     "metadata": {},
     "output_type": "execute_result"
    }
   ],
   "source": []
  },
  {
   "cell_type": "code",
   "execution_count": 8,
   "metadata": {},
   "outputs": [
    {
     "name": "stdout",
     "output_type": "stream",
     "text": [
      "8\n",
      "7\n",
      "6\n",
      "5\n",
      "4\n",
      "3\n",
      "2\n",
      "1\n",
      "0\n"
     ]
    }
   ],
   "source": []
  },
  {
   "cell_type": "code",
   "execution_count": null,
   "metadata": {},
   "outputs": [],
   "source": []
  }
 ],
 "metadata": {
  "celltoolbar": "Edit Metadata",
  "kernelspec": {
   "display_name": "Python 3",
   "language": "python",
   "name": "python3"
  },
  "language_info": {
   "codemirror_mode": {
    "name": "ipython",
    "version": 3
   },
   "file_extension": ".py",
   "mimetype": "text/x-python",
   "name": "python",
   "nbconvert_exporter": "python",
   "pygments_lexer": "ipython3",
   "version": "3.9.4"
  }
 },
 "nbformat": 4,
 "nbformat_minor": 2
}
