{
 "cells": [
  {
   "cell_type": "markdown",
   "metadata": {},
   "source": [
    "# Exercise 2: The stroop effect\n",
    "\n",
    "[Accept the exercise](https://classroom.github.com/a/WEYm669c)\n",
    "\n",
    "\n",
    "In this exercise we'll put some of what we've learned so far together into an simple experiment demonstrating the [The Stroop Effect](https://en.wikipedia.org/wiki/Stroop_effect). Then we'll gradually build this codebase out into a full experiment and implement some snazzy things like speech recognition."
   ]
  },
  {
   "cell_type": "code",
   "execution_count": 4,
   "metadata": {
    "tags": [
     "remove-output"
    ]
   },
   "outputs": [
    {
     "name": "stderr",
     "output_type": "stream",
     "text": [
      "2022-08-16 15:54:00.936 python[6843:9525888] Warning: Expected min height of view: (<NSPopoverTouchBarItemButton: 0x7fab558ec460>) to be less than or equal to 30 but got a height of 32.000000. This error will be logged once per view in violation.\n",
      "2022-08-16 15:54:00.937 python[6843:9525888] Warning: Expected min height of view: (<NSButton: 0x7fab37c16980>) to be less than or equal to 30 but got a height of 32.000000. This error will be logged once per view in violation.\n",
      "2022-08-16 15:54:00.939 python[6843:9525888] Warning: Expected min height of view: (<NSPopoverTouchBarItemButton: 0x7fab37c18510>) to be less than or equal to 30 but got a height of 32.000000. This error will be logged once per view in violation.\n",
      "2022-08-16 15:54:00.941 python[6843:9525888] Warning: Expected min height of view: (<NSPopoverTouchBarItemButton: 0x7fab37c1dee0>) to be less than or equal to 30 but got a height of 32.000000. This error will be logged once per view in violation.\n"
     ]
    },
    {
     "name": "stdout",
     "output_type": "stream",
     "text": [
      "2064.4675 \tWARNING \tMonitor specification not found. Creating a temporary one...\n"
     ]
    },
    {
     "ename": "SystemExit",
     "evalue": "0",
     "output_type": "error",
     "traceback": [
      "An exception has occurred, use %tb to see the full traceback.\n",
      "\u001b[0;31mSystemExit\u001b[0m\u001b[0;31m:\u001b[0m 0\n"
     ]
    },
    {
     "name": "stderr",
     "output_type": "stream",
     "text": [
      "/Users/glupyan/anaconda3/envs/psych750/lib/python3.8/site-packages/IPython/core/interactiveshell.py:3406: UserWarning: To exit: use 'exit', 'quit', or Ctrl-D.\n",
      "  warn(\"To exit: use 'exit', 'quit', or Ctrl-D.\", stacklevel=1)\n"
     ]
    },
    {
     "ename": "",
     "evalue": "",
     "output_type": "error",
     "traceback": [
      "The Kernel crashed while executing code in the the current cell or a previous cell. Please review the code in the cell(s) to identify a possible cause of the failure. Click <a href='https://aka.ms/vscodeJupyterKernelCrash'>here</a> for more info. View Jupyter <a href='command:jupyter.viewOutput'>log</a> for further details."
     ]
    }
   ],
   "source": [
    "import time\n",
    "import sys\n",
    "import random\n",
    "from psychopy import visual,event,core,gui\n",
    "\n",
    "stimuli = ['red', 'orange', 'yellow', 'green', 'blue']\n",
    "\n",
    "win = visual.Window([800,600],color=\"gray\", units='pix')\n",
    "placeholder = visual.Rect(win,width=180,height=80, fillColor=\"lightgray\",lineColor=\"black\", lineWidth=6,pos=[0,0])\n",
    "word_stim = visual.TextStim(win,text=\"\", height=40, color=\"black\",pos=[0,0])\n",
    "instruction = visual.TextStim(win,text=\"Press the first letter of the ink color\", height=20, color=\"black\",pos=[0,-200])\n",
    "while True:\n",
    "    cur_stim = random.choice(stimuli)\n",
    "    word_stim.setText(cur_stim)\n",
    "    word_stim.setColor(cur_stim)\n",
    "    placeholder.draw()\n",
    "    instruction.draw()\n",
    "    word_stim.draw()\n",
    "    win.flip()\n",
    "    core.wait(1.0)\n",
    "    placeholder.draw()\n",
    "    instruction.draw()    \n",
    "    win.flip()\n",
    "    core.wait(.15)\n",
    "\n",
    "    if event.getKeys(['q']):\n",
    "        win.close()\n",
    "        core.quit()"
   ]
  },
  {
   "cell_type": "markdown",
   "metadata": {},
   "source": [
    "Once you've successfully run this code and understand what all the lines do, proceed to the following exercises."
   ]
  },
  {
   "cell_type": "markdown",
   "metadata": {},
   "source": [
    "## Exercise 2 parts\n",
    "\n",
    "1.  Create a fixation cross using a TextStim object `visual.TextStim` set text to \"+\" and color to \"black\" and height to 15. Make the fixation cross appear for 500 ms before each color word, and disappear right before the color word appears.\n",
    "\n",
    "2. Rather than cycling throught the colors, use `event.waitKeys()` to wait for a response (e.g., \"o\" for \"orange\").  Your script should nly accept 'r', 'o', 'y', 'g', 'b' (the first letter of each color) and -- to make testing easier for you -- 'q' for quit. \n",
    "    ```{tip}\n",
    "    Make sure your code has just the functionality it needs, e.g., for part 2, you don't need `event.getKeys(['q'])`\n",
    "    ```\n",
    "3. Compute the reaction times -- the time it takes to respond from when the color word appears, to when the user presses a key, in milleconds (e.g., .8 secs should show up as 800). Store these in a list called `RTs`. ([Use psychopy timers](http://www.psychopy.org/api/core.html))\n",
    "    ```{tip}\n",
    "    Append each reaction time to the RT list after every response\n",
    "    ```\n",
    "4.  Now let's implement some feedback. If the user responded correctly, do nothing. If the user responded incorrectly, show \"Incorrect\" in black letters and add a 1s time delay before going on to the next trial.\n",
    "    \n",
    "5.  Now, instead of waiting for a response forever, let's implement a timeout. Show accuracy feedback as before, show \"Too slow\" if the user takes more than 1.5 secs to respond.\n",
    "\n",
    "6. Introduce *incongruent* trials by showing words in the \"wrong\" color, e.g., \"yellow\" printed in green. To do this, define a function called `make_incongruent()` which takes in a color as an argument and returns one of the other colors in `stimuli` that's different from the one being passed in. Then set the color word's color to this new value, thereby creating an incongruent trial. \n",
    "\n",
    "7.  Output the trial information and the user's response, one line per response. The file should look like this and should be called results.txt. Your submission should have at least 20 trials of data, i.e., the results.txt file that you push to the repo should have 20 lines.\n",
    "\n",
    "|        |        |             |   |      |\n",
    "|--------|--------|-------------|---|------|\n",
    "| green  | green  | congruent   | 1 | 854  |\n",
    "| green  | yellow | incongruent | 1 | 1023 |\n",
    "| yellow | green  | incongruent | 0 | 912  |\n",
    "| yellow | yellow | congruent   | 1 | 810  |\n",
    "\n",
    "\n",
    "Col 1: The word shown\n",
    "\n",
    "Col 2: The color of the word\n",
    "\n",
    "Col 3: Trial type\n",
    "\n",
    "COl 4: 1 for a correct response, 0 for incorrect\n",
    "\n",
    "Col 5: The reaction time, in milliseconds.\n",
    "\n",
    " The columns should be separated with commas, i.e., the string containing the first line of the file with the data above would look like this:\n",
    " `green,green,congruent,1,854`\n",
    "\n",
    "You should be writing to the file after every trial.\n",
    "\n",
    "\n",
    "\n",
    "```{tip}\n",
    "    See the [python\n",
    "    documentation](http://docs.python.org/tutorial/inputoutput.html#reading-and-writing-files)\n",
    "    for examples of how to write to a file. **Ask for help if you are\n",
    "    stuck.**\n",
    "```\n"
   ]
  }
 ],
 "metadata": {
  "celltoolbar": "Edit Metadata",
  "kernelspec": {
   "display_name": "Python 3 (ipykernel)",
   "language": "python",
   "name": "python3"
  },
  "language_info": {
   "codemirror_mode": {
    "name": "ipython",
    "version": 3
   },
   "file_extension": ".py",
   "mimetype": "text/x-python",
   "name": "python",
   "nbconvert_exporter": "python",
   "pygments_lexer": "ipython3",
   "version": "3.8.13"
  },
  "toc": {
   "nav_menu": {},
   "number_sections": true,
   "sideBar": true,
   "skip_h1_title": false,
   "toc_cell": true,
   "toc_position": {
    "height": "526px",
    "left": "0px",
    "right": "922px",
    "top": "111px",
    "width": "358px"
   },
   "toc_section_display": "block",
   "toc_window_display": true
  },
  "vscode": {
   "interpreter": {
    "hash": "57beecaf6908bae4f97de5e2dc8e8d0311fae5bc989593c172c307d13e31f6e4"
   }
  }
 },
 "nbformat": 4,
 "nbformat_minor": 2
}
