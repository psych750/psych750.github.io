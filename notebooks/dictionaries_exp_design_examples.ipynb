{
 "cells": [
  {
   "cell_type": "markdown",
   "metadata": {},
   "source": [
    "Using dictionaries in experiment design: some examples\n",
    "===\n",
    "\n",
    "What are some real-world examples of using dictionaries in your experiment?\n",
    "\n",
    "Recall part 7-8 of [Exercise 2](http://sapir.psych.wisc.edu/programming_for_psychologists/notebooks/Exercise2-names.html). The information entered into the pop-up boxes is stored in... a dictionary! When you execute the statements \n",
    "\n",
    "```Python\n",
    "userVar = {'Name':'Enter your name'}\n",
    "dlg = gui.DlgFromDict(userVar)\n",
    "```\n",
    "\n",
    "You are creating a dictionary named `userVar` and then setting the Name key in the dictionary with the value the user enters into the box. The userVar can have multiple keys, e.g.\n",
    "\n",
    "```Python\n",
    "userVar = {'Name':'Enter your name', 'Age':'Enter your age'}\n",
    "dlg = gui.DlgFromDict(userVar)\n",
    "```\n",
    "\n",
    "See [here](http://sapir.psych.wisc.edu/programming_for_psychologists/notebooks/Psychopy_reference.html#Easy-way-to-get-runtime-variables) for how to extend this general approach to a more real-world situation.\n"
   ]
  },
  {
   "cell_type": "markdown",
   "metadata": {},
   "source": [
    "Here is another example in which we check whether the received response is equal to the correctResponse. Assume that correct_response is set to 'match' or 'mismatch'"
   ]
  },
  {
   "cell_type": "code",
   "execution_count": null,
   "metadata": {},
   "outputs": [],
   "source": [
    "response_mapping = {'z':'match', 'slash':'mismatch'}\n",
    "\n",
    "if response_mapping[response_received] == correct_response:\n",
    "    isRight=1\n",
    "else:\n",
    "    isRight=0"
   ]
  },
  {
   "cell_type": "markdown",
   "metadata": {},
   "source": [
    "Suppose we want to have a counterbalancing variable such that people assigned to the *matchLeft* condition response with 'z' as match and 'slash' as mismatch while people assigned to the *matchRight* condition have the response keys reversed. We could do if/else statements, but dictionaries provide a more elegant and more extendible solution:"
   ]
  },
  {
   "cell_type": "code",
   "execution_count": null,
   "metadata": {},
   "outputs": [],
   "source": [
    "response_mapping = {\n",
    "                    'matchLeft': {'z':'match', 'slash':'mismatch'},\n",
    "                    'matchRight': {'z':'mismatch', 'slash':'match'}}\n",
    "\n",
    "whichMatch = 'matchLeft' #this would be ordinarily set at experiment runtime\n",
    "response_received = event.waitKeys(keyList = response_mapping[whichMatch].keys())\n",
    "\n",
    "if response_mapping[whichMatch][response_received] == correct_response:\n",
    "    isRight=1\n",
    "else:\n",
    "    isRight=0"
   ]
  }
 ],
 "metadata": {
  "kernelspec": {
   "display_name": "Python 3.8.13 ('psych750')",
   "language": "python",
   "name": "python3"
  },
  "language_info": {
   "codemirror_mode": {
    "name": "ipython",
    "version": 3
   },
   "file_extension": ".py",
   "mimetype": "text/x-python",
   "name": "python",
   "nbconvert_exporter": "python",
   "pygments_lexer": "ipython3",
   "version": "3.8.13"
  },
  "name": "_merged",
  "toc": {
   "nav_menu": {},
   "number_sections": true,
   "sideBar": true,
   "skip_h1_title": false,
   "toc_cell": true,
   "toc_position": {
    "height": "570px",
    "left": "0px",
    "right": "967px",
    "top": "111px",
    "width": "313px"
   },
   "toc_section_display": "block",
   "toc_window_display": true
  },
  "vscode": {
   "interpreter": {
    "hash": "57beecaf6908bae4f97de5e2dc8e8d0311fae5bc989593c172c307d13e31f6e4"
   }
  }
 },
 "nbformat": 4,
 "nbformat_minor": 1
}
