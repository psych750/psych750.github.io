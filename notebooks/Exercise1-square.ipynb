{
 "cells": [
  {
   "cell_type": "markdown",
   "metadata": {},
   "source": [
    "# Exercise 1 - Make a square and play with it"
   ]
  },
  {
   "cell_type": "markdown",
   "metadata": {},
   "source": [
    "Please [accept the first assignment](https://classroom.github.com/a/PFK7xzsr)\n",
    "\n",
    "Once you clone the repository, you'll see a file with the starter code. This is the file you will edit and add to to complete the exercises. For reference, the code is reproduced below.\n",
    "\n",
    "This starter code will show a blue square for half a second (500 ms) and then exit out of the program."
   ]
  },
  {
   "cell_type": "code",
   "execution_count": 5,
   "metadata": {
    "tags": [
     "remove-output"
    ]
   },
   "outputs": [
    {
     "name": "stderr",
     "output_type": "stream",
     "text": [
      "2022-08-10 19:07:32.409 python[22488:7946121] Warning: Expected min height of view: (<NSPopoverTouchBarItemButton: 0x7ff455661b30>) to be less than or equal to 30 but got a height of 32.000000. This error will be logged once per view in violation.\n",
      "2022-08-10 19:07:32.410 python[22488:7946121] Warning: Expected min height of view: (<NSButton: 0x7ff4561257a0>) to be less than or equal to 30 but got a height of 32.000000. This error will be logged once per view in violation.\n",
      "2022-08-10 19:07:32.414 python[22488:7946121] Warning: Expected min height of view: (<NSPopoverTouchBarItemButton: 0x7ff456125f30>) to be less than or equal to 30 but got a height of 32.000000. This error will be logged once per view in violation.\n",
      "2022-08-10 19:07:32.417 python[22488:7946121] Warning: Expected min height of view: (<NSPopoverTouchBarItemButton: 0x7ff45552e970>) to be less than or equal to 30 but got a height of 32.000000. This error will be logged once per view in violation.\n"
     ]
    },
    {
     "name": "stdout",
     "output_type": "stream",
     "text": [
      "201.9288 \tWARNING \tMonitor specification not found. Creating a temporary one...\n",
      "227.6735 \tWARNING \tMonitor specification not found. Creating a temporary one...\n",
      "284.6106 \tWARNING \tMonitor specification not found. Creating a temporary one...\n"
     ]
    },
    {
     "ename": "SystemExit",
     "evalue": "",
     "output_type": "error",
     "traceback": [
      "An exception has occurred, use %tb to see the full traceback.\n",
      "\u001b[0;31mSystemExit\u001b[0m\n"
     ]
    },
    {
     "name": "stderr",
     "output_type": "stream",
     "text": [
      "/Users/glupyan/anaconda3/envs/psych750/lib/python3.8/site-packages/IPython/core/interactiveshell.py:3406: UserWarning: To exit: use 'exit', 'quit', or Ctrl-D.\n",
      "  warn(\"To exit: use 'exit', 'quit', or Ctrl-D.\", stacklevel=1)\n"
     ]
    }
   ],
   "source": [
    "import time\n",
    "import sys\n",
    "from psychopy import visual,event,core # import the bits of PsychoPy we'll need for this exercise\n",
    "\n",
    "win = visual.Window([400,400],color=\"black\", units='pix') #open a window\n",
    "square = visual.Rect(win,lineColor=\"black\",fillColor=\"blue\",size=[100,100]) #create a Rectangle type object with certain parameters\n",
    "square.draw() #draw the square to the screen buffer\n",
    "win.flip() #make the buffer visible, i.e., show what's been drawn to it\n",
    "core.wait(.5) #pause for half a second (i.e., 500 ms)\n",
    "win.close() #close the window -- don't need this if you're running this as a separate file\n",
    "core.quit() #quit out of the program -- don't need this if you're running this as a separate file"
   ]
  },
  {
   "cell_type": "markdown",
   "metadata": {},
   "source": [
    "**Go through each line of the code above and understand what each line does.**\n",
    "\n",
    "Then spend the next 15 mins in class working through these parts. \n",
    "\n",
    "After each step, commit your solution to the Exercise 1 repository and **tag** it with the problem code, e.g., Exercise_1_1, Exercise_1_2, Exercise_1_3, etc. \n",
    "\n",
    "No need to rush. You'll finish the rest at home as your first assignment.\n"
   ]
  },
  {
   "cell_type": "markdown",
   "metadata": {},
   "source": [
    "## Exercise 1 parts\n",
    "\n",
    "1. Make the square red instead of blue\n",
    "\n",
    "1. Make the square appear for 1.5 secs.\n",
    "\n",
    "1. Show a red square for 1 second, then switch it to blue and show it for 1 second\n",
    "\n",
    "1. Show the following sequence: blue, red, blue, red, blue, red. Each color square should appear for 1 s with a 50 ms blank screen in the middle.\n",
    "\n",
    "1. Show a red square for 1 sec and then change its orientation by 45-deg\n",
    "\n",
    "    ```{note}\n",
    "    To change the orientation by a certain degree-value use square.setOri(value) where `value` is the new orientation.\n",
    "    ```\n",
    "    \n",
    "1. Now make a square rotate continuously, one full revolution (360 degrees) per second\n",
    "\n",
    "    ```{note}\n",
    "    To increase orientation use `square.ori += value` where `value` is the value by which to increase the\n",
    "    orientation.\n",
    "    ```\n",
    "1. Make a rotating square stop rotating when you press the 's' key\n",
    "\n",
    "    ```{note}\n",
    "    To accept keyboard input, use event.getKeys() and event.waitKeys(). Look at how these functions are defined at the psychopy API web page or by typing `help(function name)`, e.g., `help(event.getKeys)`. getKeys checks if a certain key has been entered since the last call to getKeys, e.g., if an 's' was pressed, `event.getKeys(['s'])` will become True. event.waitKeys() waits until a certain key (or any key) was pressed. \n",
    "    ```\n",
    "\n",
    "1. Make a square stop rotating when you press 's' and then start rotating again when you press 'r'. Your code should keep running, rotating the square and stopping it whenever you press the `s` and `r` keys. Include a check for a `q` key which, when received, should quit the program.\n",
    "\n",
    "1. Display a blue square and increase its width (making it a rectangle) by 10 pixels whenever the user presses the left-arrow key. Decrease the width by 10 pixels when the user presses the right-arrow key\n",
    "\n",
    "    ```{note}\n",
    "    The key codes for right and left arrows in PsychoPy are simply 'right' and 'left'\n",
    "   ```\n",
    "\n",
    "    ```{note}\n",
    "    To change the width use `square.size += [x,y]` where `x` and `y` are the values by which you want to change\n",
    "    the size. x is the width; y is the height.\n",
    "    ```\n",
    "\n",
    "1. Make the rectangle decrease/increase its width by 10% of its current width with each keypress instead of 10 pixels\n",
    "\n",
    "1. Show *two* rotating squares simultaneously, one left of center rotating clockwise, the other right of center, rotating counterclockwise. This is a little tricky. The squares should be visible at the same time and should not flash.\n",
    "\n",
    "1. As time allows, do something that's not listed here (e.g., make it a pentagon instead of a square, make it pulsate, play a sound as it moves, bounce off walls(!) if you're really ambitious.\n",
    "\n",
    "1. Lastly, quickly fill out this form that asks you how much time you spent on the assignment and what was most difficult (no need to do any commits for this part)."
   ]
  },
  {
   "cell_type": "code",
   "execution_count": 8,
   "metadata": {},
   "outputs": [
    {
     "name": "stdout",
     "output_type": "stream",
     "text": [
      "Help on function getKeys in module psychopy.event:\n",
      "\n",
      "getKeys(keyList=None, modifiers=False, timeStamped=False)\n",
      "    Returns a list of keys that were pressed.\n",
      "    \n",
      "    :Parameters:\n",
      "        keyList : **None** or []\n",
      "            Allows the user to specify a set of keys to check for.\n",
      "            Only keypresses from this set of keys will be removed from\n",
      "            the keyboard buffer. If the keyList is `None`, all keys will be\n",
      "            checked and the key buffer will be cleared completely.\n",
      "            NB, pygame doesn't return timestamps (they are always 0)\n",
      "        modifiers : **False** or True\n",
      "            If True will return a list of tuples instead of a list of\n",
      "            keynames. Each tuple has (keyname, modifiers). The modifiers\n",
      "            are a dict of keyboard modifier flags keyed by the modifier\n",
      "            name (eg. 'shift', 'ctrl').\n",
      "        timeStamped : **False**, True, or `Clock`\n",
      "            If True will return a list of tuples instead of a list of\n",
      "            keynames. Each tuple has (keyname, time). If a `core.Clock`\n",
      "            is given then the time will be relative to the `Clock`'s last\n",
      "            reset.\n",
      "    \n",
      "    :Author:\n",
      "        - 2003 written by Jon Peirce\n",
      "        - 2009 keyList functionality added by Gary Strangman\n",
      "        - 2009 timeStamped code provided by Dave Britton\n",
      "        - 2016 modifiers code provided by 5AM Solutions\n",
      "\n"
     ]
    }
   ],
   "source": [
    "help(event.getKeys)"
   ]
  }
 ],
 "metadata": {
  "celltoolbar": "Edit Metadata",
  "kernelspec": {
   "display_name": "Python 3.8.13 ('psych750')",
   "language": "python",
   "name": "python3"
  },
  "language_info": {
   "codemirror_mode": {
    "name": "ipython",
    "version": 3
   },
   "file_extension": ".py",
   "mimetype": "text/x-python",
   "name": "python",
   "nbconvert_exporter": "python",
   "pygments_lexer": "ipython3",
   "version": "3.8.13"
  },
  "vscode": {
   "interpreter": {
    "hash": "57beecaf6908bae4f97de5e2dc8e8d0311fae5bc989593c172c307d13e31f6e4"
   }
  }
 },
 "nbformat": 4,
 "nbformat_minor": 4
}
