{
 "cells": [
  {
   "cell_type": "code",
   "execution_count": null,
   "metadata": {},
   "outputs": [],
   "source": [
    "You all"
   ]
  },
  {
   "cell_type": "code",
   "execution_count": 23,
   "metadata": {},
   "outputs": [],
   "source": [
    "def non_recursive_fib(x):\n",
    "    fib_so_far = []\n",
    "    for i in range(x+1):\n",
    "        if i<=0:\n",
    "            pass\n",
    "        elif i<=2:\n",
    "            fib_so_far.append(1)\n",
    "        else:\n",
    "            fib_so_far.append(fib_so_far[-1] + fib_so_far[-2])\n",
    "    return fib_so_far\n",
    "\n",
    "fib_seq = non_recursive_fib(1000)"
   ]
  },
  {
   "cell_type": "code",
   "execution_count": 29,
   "metadata": {},
   "outputs": [
    {
     "ename": "KeyboardInterrupt",
     "evalue": "",
     "output_type": "error",
     "traceback": [
      "\u001b[0;31m---------------------------------------------------------------------------\u001b[0m",
      "\u001b[0;31mKeyboardInterrupt\u001b[0m                         Traceback (most recent call last)",
      "\u001b[1;32m/Users/glupyan/gitRepos/psych750.github.io/notebooks/fibonacci.ipynb Cell 3\u001b[0m in \u001b[0;36m<cell line: 9>\u001b[0;34m()\u001b[0m\n\u001b[1;32m      <a href='vscode-notebook-cell:/Users/glupyan/gitRepos/psych750.github.io/notebooks/fibonacci.ipynb#W3sZmlsZQ%3D%3D?line=5'>6</a>\u001b[0m     \u001b[39melse\u001b[39;00m:\n\u001b[1;32m      <a href='vscode-notebook-cell:/Users/glupyan/gitRepos/psych750.github.io/notebooks/fibonacci.ipynb#W3sZmlsZQ%3D%3D?line=6'>7</a>\u001b[0m         \u001b[39mreturn\u001b[39;00m recursive_fib(x\u001b[39m-\u001b[39m\u001b[39m1\u001b[39m)\u001b[39m+\u001b[39mrecursive_fib(x\u001b[39m-\u001b[39m\u001b[39m2\u001b[39m)\n\u001b[0;32m----> <a href='vscode-notebook-cell:/Users/glupyan/gitRepos/psych750.github.io/notebooks/fibonacci.ipynb#W3sZmlsZQ%3D%3D?line=8'>9</a>\u001b[0m fib_seq \u001b[39m=\u001b[39m recursive_fib(\u001b[39m100\u001b[39;49m)\n\u001b[1;32m     <a href='vscode-notebook-cell:/Users/glupyan/gitRepos/psych750.github.io/notebooks/fibonacci.ipynb#W3sZmlsZQ%3D%3D?line=9'>10</a>\u001b[0m \u001b[39mprint\u001b[39m(fib_seq)\n",
      "\u001b[1;32m/Users/glupyan/gitRepos/psych750.github.io/notebooks/fibonacci.ipynb Cell 3\u001b[0m in \u001b[0;36mrecursive_fib\u001b[0;34m(x)\u001b[0m\n\u001b[1;32m      <a href='vscode-notebook-cell:/Users/glupyan/gitRepos/psych750.github.io/notebooks/fibonacci.ipynb#W3sZmlsZQ%3D%3D?line=4'>5</a>\u001b[0m     \u001b[39mreturn\u001b[39;00m \u001b[39m1\u001b[39m\n\u001b[1;32m      <a href='vscode-notebook-cell:/Users/glupyan/gitRepos/psych750.github.io/notebooks/fibonacci.ipynb#W3sZmlsZQ%3D%3D?line=5'>6</a>\u001b[0m \u001b[39melse\u001b[39;00m:\n\u001b[0;32m----> <a href='vscode-notebook-cell:/Users/glupyan/gitRepos/psych750.github.io/notebooks/fibonacci.ipynb#W3sZmlsZQ%3D%3D?line=6'>7</a>\u001b[0m     \u001b[39mreturn\u001b[39;00m recursive_fib(x\u001b[39m-\u001b[39;49m\u001b[39m1\u001b[39;49m)\u001b[39m+\u001b[39mrecursive_fib(x\u001b[39m-\u001b[39m\u001b[39m2\u001b[39m)\n",
      "\u001b[1;32m/Users/glupyan/gitRepos/psych750.github.io/notebooks/fibonacci.ipynb Cell 3\u001b[0m in \u001b[0;36mrecursive_fib\u001b[0;34m(x)\u001b[0m\n\u001b[1;32m      <a href='vscode-notebook-cell:/Users/glupyan/gitRepos/psych750.github.io/notebooks/fibonacci.ipynb#W3sZmlsZQ%3D%3D?line=4'>5</a>\u001b[0m     \u001b[39mreturn\u001b[39;00m \u001b[39m1\u001b[39m\n\u001b[1;32m      <a href='vscode-notebook-cell:/Users/glupyan/gitRepos/psych750.github.io/notebooks/fibonacci.ipynb#W3sZmlsZQ%3D%3D?line=5'>6</a>\u001b[0m \u001b[39melse\u001b[39;00m:\n\u001b[0;32m----> <a href='vscode-notebook-cell:/Users/glupyan/gitRepos/psych750.github.io/notebooks/fibonacci.ipynb#W3sZmlsZQ%3D%3D?line=6'>7</a>\u001b[0m     \u001b[39mreturn\u001b[39;00m recursive_fib(x\u001b[39m-\u001b[39;49m\u001b[39m1\u001b[39;49m)\u001b[39m+\u001b[39mrecursive_fib(x\u001b[39m-\u001b[39m\u001b[39m2\u001b[39m)\n",
      "    \u001b[0;31m[... skipping similar frames: recursive_fib at line 7 (82 times)]\u001b[0m\n",
      "\u001b[1;32m/Users/glupyan/gitRepos/psych750.github.io/notebooks/fibonacci.ipynb Cell 3\u001b[0m in \u001b[0;36mrecursive_fib\u001b[0;34m(x)\u001b[0m\n\u001b[1;32m      <a href='vscode-notebook-cell:/Users/glupyan/gitRepos/psych750.github.io/notebooks/fibonacci.ipynb#W3sZmlsZQ%3D%3D?line=4'>5</a>\u001b[0m     \u001b[39mreturn\u001b[39;00m \u001b[39m1\u001b[39m\n\u001b[1;32m      <a href='vscode-notebook-cell:/Users/glupyan/gitRepos/psych750.github.io/notebooks/fibonacci.ipynb#W3sZmlsZQ%3D%3D?line=5'>6</a>\u001b[0m \u001b[39melse\u001b[39;00m:\n\u001b[0;32m----> <a href='vscode-notebook-cell:/Users/glupyan/gitRepos/psych750.github.io/notebooks/fibonacci.ipynb#W3sZmlsZQ%3D%3D?line=6'>7</a>\u001b[0m     \u001b[39mreturn\u001b[39;00m recursive_fib(x\u001b[39m-\u001b[39;49m\u001b[39m1\u001b[39;49m)\u001b[39m+\u001b[39mrecursive_fib(x\u001b[39m-\u001b[39m\u001b[39m2\u001b[39m)\n",
      "\u001b[0;31mKeyboardInterrupt\u001b[0m: "
     ]
    }
   ],
   "source": [
    "def recursive_fib(x):\n",
    "    if x<=0:\n",
    "        pass\n",
    "    elif x<=2:\n",
    "        return 1\n",
    "    else:\n",
    "        return recursive_fib(x-1)+recursive_fib(x-2)\n",
    "\n",
    "fib_seq = recursive_fib(100)\n",
    "print(fib_seq)"
   ]
  },
  {
   "cell_type": "code",
   "execution_count": 24,
   "metadata": {},
   "outputs": [
    {
     "data": {
      "text/plain": [
       "1.618033988749895"
      ]
     },
     "execution_count": 24,
     "metadata": {},
     "output_type": "execute_result"
    }
   ],
   "source": [
    "fib_seq[-1]/fib_seq[-2]"
   ]
  },
  {
   "cell_type": "code",
   "execution_count": 115,
   "metadata": {},
   "outputs": [
    {
     "data": {
      "text/plain": [
       "True"
      ]
     },
     "execution_count": 115,
     "metadata": {},
     "output_type": "execute_result"
    }
   ],
   "source": [
    "def is_palindrome_rec(str):\n",
    "    if len(str)<=1:\n",
    "        return True\n",
    "    elif str[0]!=str[-1]:\n",
    "        return False\n",
    "    else:\n",
    "        return is_palindrome_rec(str[1:-1])\n",
    "\n",
    "is_palindrome_rec('MalayalaM')"
   ]
  },
  {
   "cell_type": "code",
   "execution_count": 118,
   "metadata": {},
   "outputs": [
    {
     "data": {
      "text/plain": [
       "True"
      ]
     },
     "execution_count": 118,
     "metadata": {},
     "output_type": "execute_result"
    }
   ],
   "source": [
    "def is_palindrome_iterate(str):\n",
    "    if len(str)<=1:\n",
    "        return True\n",
    "    else:\n",
    "        for i,substring in enumerate(str):\n",
    "            if str[i]!=str[-i-1]:\n",
    "                return False\n",
    "        return True\n",
    "\n",
    "is_palindrome_nonrec('MalayalaM')\n"
   ]
  },
  {
   "cell_type": "code",
   "execution_count": 55,
   "metadata": {},
   "outputs": [
    {
     "name": "stdout",
     "output_type": "stream",
     "text": [
      "a a\n"
     ]
    }
   ],
   "source": [
    "def is_palindrome_builtin(str):\n",
    "    return str == str[::-1]\n"
   ]
  },
  {
   "cell_type": "code",
   "execution_count": 119,
   "metadata": {},
   "outputs": [
    {
     "name": "stdout",
     "output_type": "stream",
     "text": [
      "54321\n"
     ]
    }
   ],
   "source": [
    "str = '12345'\n",
    "print(str[::-1])"
   ]
  }
 ],
 "metadata": {
  "kernelspec": {
   "display_name": "Python 3.8.13 ('psych750')",
   "language": "python",
   "name": "python3"
  },
  "language_info": {
   "codemirror_mode": {
    "name": "ipython",
    "version": 3
   },
   "file_extension": ".py",
   "mimetype": "text/x-python",
   "name": "python",
   "nbconvert_exporter": "python",
   "pygments_lexer": "ipython3",
   "version": "3.8.13"
  },
  "orig_nbformat": 4,
  "vscode": {
   "interpreter": {
    "hash": "57beecaf6908bae4f97de5e2dc8e8d0311fae5bc989593c172c307d13e31f6e4"
   }
  }
 },
 "nbformat": 4,
 "nbformat_minor": 2
}
