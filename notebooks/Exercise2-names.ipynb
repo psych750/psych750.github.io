{
 "cells": [
  {
   "cell_type": "markdown",
   "metadata": {},
   "source": [
    "# Exercise 2: Display some text, take in responses, read from a file\n",
    "\n",
    "In this exercise we'll put what you've learned about lists and conditionals to use. Plus we'll read and write files! By the end of today you will start to have almost all the pieces for building a full experiment!\n",
    "\n",
    "Requirements: Make sure you have a names.txt file in your repo. If you're using this as a tutorial, [download this sample file](names.txt) \n"
   ]
  },
  {
   "cell_type": "code",
   "execution_count": null,
   "metadata": {},
   "outputs": [],
   "source": [
    "import time\n",
    "import sys\n",
    "import random\n",
    "from psychopy import visual,event,core,gui\n",
    "\n",
    "\n",
    "names = open('names.txt', 'r').readlines()\n",
    "firstNames = [name.split(' ')[0] for name in names]\n",
    "\n",
    "\"\"\"\n",
    "the two line above are a more compact way of writing: \n",
    "names = open('names.txt', 'r').readlines()\n",
    "firstNames=[]\n",
    "for name in names:\n",
    "    firstNames.append(name.split(' ')[0])\n",
    "\"\"\"\t\n",
    "\n",
    "win = visual.Window([800,600],color=\"black\", units='pix')\n",
    "firstNameStim = visual.TextStim(win,text=\"\", height=40, color=\"white\",pos=[0,0])\n",
    "while True:\n",
    "    nameShown = random.choice(firstNames)\n",
    "    firstNameStim.setText(nameShown)\n",
    "    firstNameStim.draw()\n",
    "    win.flip()\n",
    "    core.wait(.75)\n",
    "    win.flip()\n",
    "    core.wait(.15)\n",
    "\n",
    "    if event.getKeys(['q']):\n",
    "        break"
   ]
  },
  {
   "cell_type": "markdown",
   "metadata": {},
   "source": [
    "Once you've successfully run this code and understand what all the lines do, proceed to the following exercises."
   ]
  },
  {
   "cell_type": "markdown",
   "metadata": {},
   "source": [
    "1.  Create a fixation cross using a TextStim object `visual.TextStim` set text to\"+\" and color to \"white\". Make the fixation cross appear for 500 ms before each name\n",
    "    and disappears right before the name comes up. \n",
    "    \n",
    "2.  Open names.txt to see what the names list looks like. Make the script\n",
    "    show last names instead of first names (don't change the names.txt\n",
    "    file). \n",
    "\n",
    "3.  Make the program randomly alternate between first names and last\n",
    "    names.\n",
    "\n",
    "4.  On each presentation of a name, wait for a response ('f' for first\n",
    "    name, 'l' for last-name) and only proceed to the next name if the\n",
    "    response is correct. Hint: if you've done steps 2-3 properly, this\n",
    "    should be really easy. Refer to the psychopy documentation of\n",
    "    event.waitKeys() if you have trouble.\n",
    "\n",
    "6.  Now let's implement some feedback. Let's allow either a 'f' or\n",
    "    'l' response for each trial. If the response is correct, show a\n",
    "    green 'O' before the start of the next trial. If the response is\n",
    "    wrong, show a red 'X' (you can use textStim objects for feedback).\n",
    "    Show the feedback for 500 ms. Note: we have someone in a class whose\n",
    "    last name is a common first name. If this were an experiment, how\n",
    "    might this affect responses?\n",
    "    \n",
    "7.  Now, instead of waiting for a response forever, let's implement a\n",
    "    timeout. Show accuracy feedback as before, but now also show a red\n",
    "    'X' if no response is received for 1 sec (and go on to the next\n",
    "    trial automatically following the feedback). ([Use psychopy timers](http://www.psychopy.org/api/core.html))\n",
    "8. [Pop up a box](http://sapir.psych.wisc.edu/programming_for_psychologists/notebooks/Psychopy_reference.html#Popping-up-a-box-to-get-user-input-e.g.,-to-specify-a-condition-name) that accepts a first name, and check to make sure\n",
    "    that the name exists. If it doesn't, pop-up a ['Name does not exist'error](http://sapir.psych.wisc.edu/programming_for_psychologists/notebooks/Psychopy_reference.html#A-simple-function-for-popping-up-an-error-using-a-gui-window)\n",
    "    box\n",
    "9.  Extend the task by requiring the subject to respond by pressing a\n",
    "    spacebar (the key is called 'space'), as quickly as possible anytime the name on the screen matches the name you entered into the box (so if I enter 'Gary' I\n",
    "    would have to press 'space' anytime the name 'Gary' shows up. If\n",
    "    the participant presses 'space' to the wrong name (false alarm),\n",
    "    or misses the name (a miss), show a red X.\n",
    "10. See if you can figure out how to compute the response times,\n",
    "    measured from the onset of the name, to the response ([Use psychopy\n",
    "    timers](http://www.psychopy.org/api/core.html))\n",
    "11. Output the response times (in ms, e.g., 453 for 453 ms) and accuracy\n",
    "    (1 for correct, 0 for incorrect) to a file output.txt. Output one\n",
    "    line per trial: each line should contain the accuracy (1 or 0) and\n",
    "    the response time (in milliseconds). See the [python\n",
    "    documentation](http://docs.python.org/tutorial/inputoutput.html#reading-and-writing-files)\n",
    "    for examples of how to write to a file. **Ask for help if you are\n",
    "    stuck.**\n",
    "12. Do something new. Compare response times to first and last names, measure effect of font face, etc.\n",
    "\n",
    "-   Bonus: You've probably noticed that the name you typed in only\n",
    "    appears rarely (in fact, it will appear 1/# of people in the class,\n",
    "    on average). Change the code so that the name you entered appears on\n",
    "    1/4 of the trials."
   ]
  },
  {
   "cell_type": "code",
   "execution_count": null,
   "metadata": {},
   "outputs": [],
   "source": []
  }
 ],
 "metadata": {
  "kernelspec": {
   "display_name": "Python 3",
   "language": "python",
   "name": "python3"
  },
  "language_info": {
   "codemirror_mode": {
    "name": "ipython",
    "version": 3
   },
   "file_extension": ".py",
   "mimetype": "text/x-python",
   "name": "python",
   "nbconvert_exporter": "python",
   "pygments_lexer": "ipython3",
   "version": "3.9.4"
  },
  "toc": {
   "nav_menu": {},
   "number_sections": true,
   "sideBar": true,
   "skip_h1_title": false,
   "toc_cell": true,
   "toc_position": {
    "height": "526px",
    "left": "0px",
    "right": "922px",
    "top": "111px",
    "width": "358px"
   },
   "toc_section_display": "block",
   "toc_window_display": true
  }
 },
 "nbformat": 4,
 "nbformat_minor": 2
}
