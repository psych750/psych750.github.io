{
 "cells": [
  {
   "cell_type": "markdown",
   "metadata": {
    "toc": true
   },
   "source": [
    "<h1>Table of Contents<span class=\"tocSkip\"></span></h1>\n",
    "<div class=\"toc\" style=\"margin-top: 1em;\"><ul class=\"toc-item\"><li><span><a href=\"#Exercise-9---Face-Morph\" data-toc-modified-id=\"Exercise-9---Face-Morph-1\"><span class=\"toc-item-num\">1&nbsp;&nbsp;</span>Exercise 9 - Face Morph</a></span></li></ul></div>"
   ]
  },
  {
   "cell_type": "markdown",
   "metadata": {},
   "source": [
    "# Exercise 9 - Face Morph\n",
    "\n",
    "This example shows you how to implement a task where you want subjects to smoothly adjust stimuli along some dimension. In this case that dimension spans two faces, e.g., a male and a female face, or an angry and a happy face. The same procedure can be used for other types of visual stimuli as well."
   ]
  },
  {
   "cell_type": "markdown",
   "metadata": {},
   "source": [
    "<video controls src=\"images/emotion_adjust.mov\" />\n"
   ]
  },
  {
   "cell_type": "markdown",
   "metadata": {},
   "source": [
    "Like [Exercise 8](http://sapir.psych.wisc.edu/programming_for_psychologists/notebooks/Exercise8-orientation.html), we're going to use the mouse-wheel/trackpad for adjustments. This time though the adjustments will affect which image we are seeing. When done properly, the result is a smooth continuum as shown in the movie above."
   ]
  },
  {
   "cell_type": "markdown",
   "metadata": {},
   "source": [
    "Our trial list (`trials/sampleTrials.csv`) will look like this:"
   ]
  },
  {
   "cell_type": "markdown",
   "metadata": {},
   "source": [
    "```\n",
    "morphType,trialIndex,stimGender,iteration,continuum,continuumCode,direction,filename\n",
    "gender,0,NA,0,NA,NA,right,malefemalemorph_\n",
    "gender,1,NA,1,NA,NA,left,malefemalemorph_\n",
    "emotion,0,man,0,sad-ang,SA,left,manSA_\n",
    "emotion,2,woman,0,ang-hap,HA,left,womanHA_\n",
    "emotion,3,woman,0,ang-hap,HA,right,womanHA_\n",
    "emotion,4,man,1,sad-ang,SA,left,manSA_\n",
    "emotion,5,man,1,sad-ang,SA,right,manSA_\n",
    "emotion,6,woman,1,ang-hap,HA,right,womanHA_\n",
    "emotion,7,woman,1,ang-hap,HA,left,womanHA_\n",
    "```"
   ]
  },
  {
   "cell_type": "markdown",
   "metadata": {},
   "source": [
    "The code below reads in these trials (notice that we're using a pandas dataframe to do it; we will cover pandas in a few weeks, but feel free to [http://pandas.pydata.org/pandas-docs/stable/10min.html](read up on it) in the meantime).\n",
    "\n",
    "We then go through the trials one by one, and draw the picture contains in the filename column + a three-digit number (001 to 120) which is the frame-number, with 60 being the midpoint."
   ]
  },
  {
   "cell_type": "code",
   "execution_count": null,
   "metadata": {},
   "outputs": [],
   "source": [
    "import os\n",
    "import random\n",
    "from psychopy import visual, core, event\n",
    "import pandas as pd\n",
    "from useful_functions import loadFiles\n",
    "\n",
    "\n",
    "win = visual.Window([800,700],color=\"gray\", allowGUI=False, units='pix')\n",
    "myMouse = event.Mouse(win=win,visible=False)\n",
    "\n",
    "visual.TextStim(win,text=\"Loading images...\", color=\"black\",height=40).draw()\n",
    "win.flip()\n",
    "\n",
    "\n",
    "\n",
    "def showText(win,text,color,mouse):\n",
    "```\n",
    "Displays text and waits for a mouse press or keyboard press\n",
    "This would ordinarily go into your useful_functions library```\n",
    "```\n",
    "    visual.TextStim(win,text=text,color=color,height=30).draw()\n",
    "\twin.flip()\n",
    "\tif mouse:\n",
    "\t\twhile True:\n",
    "\t\t\twhile any(mouse.getPressed()):\n",
    "\t\t\t\tif not any(mouse.getPressed()):\n",
    "\t\t\t\t\treturn\n",
    "\telse:\n",
    "\t\tevent.waitKeys()\n",
    "\t\treturn\n",
    "\n",
    "pics = loadFiles('stimuli','jpg','image',win)\n",
    "emotionMorphText=\"Adjust the emotion of the face by moving the mouse wheel up or down until you find the point at which one emotion transitions to another emotion. When you are satisfied, click the left mouse button to go on to the next picture.\"\n",
    "genderMorphText=\"Adjust the gender of the face by moving the mouse wheel up or down until you find the transition from male-to-female or female-to-make. When you are satisfied, click the left mouse button to go on to the next picture.\"\n",
    "\n",
    "delta = 1\n",
    "maxStimNum=120\n",
    "expTimer = core.Clock()\n",
    "\n",
    "trials = pd.read_csv('trials/sampleTrials.csv')\n",
    "trials = trials.to_dict('records')\n",
    "\n",
    "\n",
    "def runTrial(curTrial):\n",
    "\t\tif curTrial['direction']=='left':\n",
    "\t\t\tstimNum='1'.zfill(3)\n",
    "\t\telse:\n",
    "\t\t\tstimNum=str(maxStimNum)\n",
    "\t\twin.flip()\n",
    "\t\tcore.wait(1.0)\n",
    "\t\twin.flip()\n",
    "\t\trespTimer = core.Clock()\n",
    "\t\tnumWheelTurnsUp = numWheelTurnsDown = 0\n",
    "\t\t\n",
    "\t\twhile True:\n",
    "\t\t\twheelRel = myMouse.getWheelRel()[1]\n",
    "\t\t\tif wheelRel<0.0:\n",
    "\t\t\t\tnumWheelTurnsDown+=1\n",
    "\t\t\t\tif int(stimNum)>1:\n",
    "\t\t\t\t\tstimNum = str(int(stimNum)-delta).zfill(3) \n",
    "\t\t\telif wheelRel>0.0:\n",
    "\t\t\t\tnumWheelTurnsUp+=1\n",
    "\t\t\t\tif int(stimNum)<maxStimNum:\n",
    "\t\t\t\t\tstimNum = str(int(stimNum)+delta).zfill(3) \n",
    "\t\t\telif myMouse.getPressed()[0]==1:\n",
    "\t\t\t\trt = respTimer.getTime()\n",
    "\t\t\t\tif rt>.8 and (numWheelTurnsUp>0 or numWheelTurnsDown>0):\n",
    "\t\t\t\t\tbreak\n",
    "\t\t\tpics[curTrial['filename']+str(stimNum)]['stim'].draw()\n",
    "\t\t\twin.flip()\n",
    "\n",
    "for curTrial in trials:\n",
    "\tprint curTrial['trialIndex'], curTrial['morphType']\n",
    "\tif curTrial['trialIndex']==0 and curTrial['morphType']==\"emotion\":\n",
    "\t\tshowText(win,emotionMorphText,color=\"black\",mouse=myMouse)\n",
    "\telif curTrial['trialIndex']==0 and curTrial['morphType']==\"gender\":\n",
    "\t\tshowText(win,genderMorphText,color=\"black\",mouse=myMouse)\n",
    "\n",
    "\trunTrial(curTrial)\n"
   ]
  }
 ],
 "metadata": {
  "kernelspec": {
   "display_name": "Python 2",
   "language": "python",
   "name": "python2"
  },
  "language_info": {
   "codemirror_mode": {
    "name": "ipython",
    "version": 2
   },
   "file_extension": ".py",
   "mimetype": "text/x-python",
   "name": "python",
   "nbconvert_exporter": "python",
   "pygments_lexer": "ipython2",
   "version": "2.7.13"
  },
  "toc": {
   "nav_menu": {},
   "number_sections": true,
   "sideBar": true,
   "skip_h1_title": false,
   "toc_cell": true,
   "toc_position": {
    "height": "765px",
    "left": "0px",
    "right": "1560.45px",
    "top": "110px",
    "width": "185px"
   },
   "toc_section_display": "block",
   "toc_window_display": true
  }
 },
 "nbformat": 4,
 "nbformat_minor": 2
}
