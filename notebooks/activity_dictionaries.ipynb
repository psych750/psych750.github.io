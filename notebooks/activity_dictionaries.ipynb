{
 "cells": [
  {
   "cell_type": "markdown",
   "metadata": {},
   "source": [
    "# Playing around with dictionaries"
   ]
  },
  {
   "cell_type": "markdown",
   "metadata": {},
   "source": [
    "## Practice with operations on dictionary values\n",
    "\n",
    "Here's a [deep thought (by Jack Handey)](https://philip.greenspun.com/humor/deep-thoughts)"
   ]
  },
  {
   "cell_type": "code",
   "execution_count": 13,
   "metadata": {},
   "outputs": [
    {
     "name": "stdout",
     "output_type": "stream",
     "text": [
      "If you saw two guys named Hambone and Flippy, which one would you think liked dolphins the most? \n",
      "I'd say Flippy, wouldn't you? You'd be wrong, though. It's Hambone.\n"
     ]
    }
   ],
   "source": [
    "a_deep_thought = '''If you saw two guys named Hambone and Flippy, which one would you think liked dolphins the most? \n",
    "I'd say Flippy, wouldn't you? You'd be wrong, though. It's Hambone.'''"
   ]
  },
  {
   "cell_type": "markdown",
   "metadata": {},
   "source": [
    "Let's create a dictionary out of it where each word is a key and its number of letters is a value."
   ]
  },
  {
   "cell_type": "code",
   "execution_count": 17,
   "metadata": {},
   "outputs": [
    {
     "name": "stdout",
     "output_type": "stream",
     "text": [
      "{'if': 2, 'you': 3, 'saw': 3, 'two': 3, 'guys': 4, 'named': 5, 'hambone': 7, 'and': 3, 'flippy,': 7, 'which': 5, 'one': 3, 'would': 5, 'think': 5, 'liked': 5, 'dolphins': 8, 'the': 3, 'most?': 5, \"\\ni'd\": 4, 'say': 3, \"wouldn't\": 8, 'you?': 4, \"you'd\": 5, 'be': 2, 'wrong,': 6, 'though.': 7, \"it's\": 4, 'hambone.': 8}\n"
     ]
    }
   ],
   "source": [
    "deep_thought_dict = {}\n",
    "for cur_word in a_deep_thought.split(' '):\n",
    "    deep_thought_dict[cur_word.lower()]=len(cur_word)\n",
    "print(deep_thought_dict)"
   ]
  },
  {
   "cell_type": "markdown",
   "metadata": {},
   "source": [
    ":::{tip}\n",
    "Common operations like this often have one-line solutions. We can accomplish the same behavior without an explicit `for` loop by using [dictionary comprehension](https://www.programiz.com/python-programming/dictionary-comprehension):\n",
    "```python\n",
    "deep_thought_dict = {cur_word.lower(): len(cur_word) for cur_word in a_deep_thought.split(' ')}\n",
    "```  \n",
    ":::"
   ]
  },
  {
   "cell_type": "markdown",
   "metadata": {},
   "source": [
    "Now that we have this information in a dictionary, do the following:\n",
    "\n",
    "* What's the average number of letters in these words?\n",
    "\n",
    ":::{tip} \n",
    "To find an average use `mean()` from the `numpy` library. For example,\n",
    "```python\n",
    "import numpy as np\n",
    "print(np.mean(range(10)))\n",
    "```\n",
    ":::\n",
    "\n",
    "\n",
    "* What's the average number of letters in words beginning with vowels?\n",
    "\n",
    ":::{tip}\n",
    "By taking advantage of statements that already return True/False values, the code below avoids having to have code like: if X return True, else return Y.\n",
    "```python\n",
    "def is_vowel(letter):\n",
    "    return letter in ['a','e','i','o','u']\n",
    "```\n",
    ":::\n"
   ]
  },
  {
   "cell_type": "markdown",
   "metadata": {},
   "source": [
    "* Now return the mean length of words beginning with a consonant\n",
    "```{tip}\n",
    "You don't need to write separate is_consonant() functions!\n",
    "```\n"
   ]
  },
  {
   "cell_type": "markdown",
   "metadata": {},
   "source": [
    "## Using a dictionary as a look-up table\n",
    "\n",
    "Dictionaries are a useful data-type for dynamically choosing actions based on the value of some variable.\n",
    "\n",
    "For example, suppose we want to show different stimuli based on whether participant responded with a particular arrow key (up, down, left, right). Depending on their response, we want to update the position of a stimulus, moving it 10 pixels to the right, left, etc.We might initially write code like this:\n",
    "\n",
    "```python\n",
    "if resp == 'left':\n",
    "    stim.pos += (-10,0)\n",
    "elif resp == 'right':\n",
    "    stim.pos += (10,0)\n",
    "elif resp == 'up':\n",
    "    stim.pos += (0,10)\n",
    "elif resp == 'down':\n",
    "    stim.pos += (0,-10)\n",
    "```\n",
    "\n",
    "This is bearable if we have just 4 alternatives, but what if we have 10? 30? Remember, anytime you're finding yourself repeating a piece of code with minor variation, there's gonna be a better way. In this case, one better way is to use dictionaries.\n",
    "\n",
    "```python\n",
    "resps_to_positions = {'left':(-10,0), 'right':(10,0)}\n",
    "```\n",
    "\n",
    "Finish this activity by specifying the rest of the dictionary. Then rewrite the conditional above to use this dictionary, replacing the multi-pronged conditional with a single line of code.\n"
   ]
  },
  {
   "cell_type": "code",
   "execution_count": null,
   "metadata": {},
   "outputs": [],
   "source": [
    "%load \"solution_dictionary_look_up.py\"\n"
   ]
  }
 ],
 "metadata": {
  "kernelspec": {
   "display_name": "Python 3.8.13 ('psych750')",
   "language": "python",
   "name": "python3"
  },
  "language_info": {
   "codemirror_mode": {
    "name": "ipython",
    "version": 3
   },
   "file_extension": ".py",
   "mimetype": "text/x-python",
   "name": "python",
   "nbconvert_exporter": "python",
   "pygments_lexer": "ipython3",
   "version": "3.8.13"
  },
  "name": "_merged",
  "toc": {
   "nav_menu": {},
   "number_sections": true,
   "sideBar": true,
   "skip_h1_title": false,
   "toc_cell": true,
   "toc_position": {
    "height": "570px",
    "left": "0px",
    "right": "967px",
    "top": "111px",
    "width": "313px"
   },
   "toc_section_display": "block",
   "toc_window_display": true
  },
  "vscode": {
   "interpreter": {
    "hash": "57beecaf6908bae4f97de5e2dc8e8d0311fae5bc989593c172c307d13e31f6e4"
   }
  }
 },
 "nbformat": 4,
 "nbformat_minor": 1
}
