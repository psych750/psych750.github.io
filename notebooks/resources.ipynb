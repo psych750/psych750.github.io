{
 "cells": [
  {
   "cell_type": "markdown",
   "metadata": {
    "toc": true
   },
   "source": [
    "<h1>Table of Contents<span class=\"tocSkip\"></span></h1>\n",
    "<div class=\"toc\" style=\"margin-top: 1em;\"><ul class=\"toc-item\"><li><ul class=\"toc-item\"><li><span><a href=\"#Documentation\" data-toc-modified-id=\"Documentation-0.1\"><span class=\"toc-item-num\">0.1&nbsp;&nbsp;</span>Documentation</a></span></li><li><span><a href=\"#Tutorials\" data-toc-modified-id=\"Tutorials-0.2\"><span class=\"toc-item-num\">0.2&nbsp;&nbsp;</span>Tutorials</a></span></li><li><span><a href=\"#Cheat-Sheets\" data-toc-modified-id=\"Cheat-Sheets-0.3\"><span class=\"toc-item-num\">0.3&nbsp;&nbsp;</span>Cheat Sheets</a></span></li><li><span><a href=\"#Programming-Challenges\" data-toc-modified-id=\"Programming-Challenges-0.4\"><span class=\"toc-item-num\">0.4&nbsp;&nbsp;</span>Programming Challenges</a></span></li></ul></li></ul></div>"
   ]
  },
  {
   "cell_type": "markdown",
   "metadata": {},
   "source": [
    "Documentation\n",
    "---\n",
    "\n",
    "* The official documentation for [Python2](https://docs.python.org/2/) and [Python3](https://docs.python.org/3/). \n",
    "\n",
    "* The official documentation of [PsychoPy](http://www.psychopy.org/api/api.html)"
   ]
  },
  {
   "cell_type": "markdown",
   "metadata": {},
   "source": [
    "Tutorials\n",
    "--\n",
    "\n",
    "- Google Python class - YouTube videos (not great)\n",
    "\n",
    "    [Part 1(1)](https://www.youtube.com/watch?v=tKTZoB2Vjuk) - Introduction to Python and strings\n",
    "    \n",
    "    [Part 1(2)](https://www.youtube.com/watch?v=EPYupizJYQI) - Working with lists, tuples and sorting\n",
    "    \n",
    "    [Part 1(3)](https://www.youtube.com/watch?v=haycL41dAhg) - Working with dictionaries and files\n",
    "    \n",
    "    [Part 2(1)](https://www.youtube.com/watch?v=kWyoYtvJpe4) - Regular expressions\n",
    "    \n",
    "    [Part 2(2)](https://www.youtube.com/watch?v=uKZ8GBKmeDM) - Using modules, system commands\n",
    "    \n",
    "    [Part 2(3)](https://www.youtube.com/watch?v=Nn2KQmVF5Og) - Exceptions, parsing URLs\n",
    "    \n",
    "    [Part 2(4)](https://www.youtube.com/watch?v=IcteAbMC1Ok) - List comprehensions\n",
    "\n",
    "\n",
    "- [Guide for beginners who are non-programmers](https://wiki.python.org/moin/BeginnersGuide/NonProgrammers)\n",
    "\n",
    "    Python's wiki page lists several resources for beginners.\n",
    "\n",
    "\n",
    "- [Python Tutor](http://pythontutor.com/)\n",
    "\n",
    "    Python Tutor visually helps understand how code executes on a computer."
   ]
  },
  {
   "cell_type": "markdown",
   "metadata": {},
   "source": [
    "Cheat Sheets\n",
    "--\n",
    "\n",
    "Here is a small collection of cheat sheets you may find useful:\n",
    "* Linux\n",
    "    * [Shell Commands](../cheat_sheets/linux_cheat-sheet.pdf)\n",
    "    * [More Shell Commands](../cheat_sheets/davechild_linux-command-line.pdf)\n",
    "* Python\n",
    "    * [Functions](../cheat_sheets/beginners_python_cheat_sheet_pcc_functions.pdf)\n",
    "    * [Files and exceptions](../cheat_sheets/beginners_python_cheat_sheet_pcc_files_exceptions.pdf)\n",
    "    * [Lists](../cheat_sheets/beginners_python_cheat_sheet_pcc_lists.pdf.pdf)\n",
    "    * [Regular Expressions](../cheat_sheets/regular-expressions-cheat-sheet-v2.pdf)\n",
    "* Python Packages\n",
    "    * [NLTK](../cheat_sheets/Text-Analysis-with-NLTK-Cheatsheet.pdf)\n",
    "    * [Pandas](../cheat_sheets/Pandas_Cheat_Sheet.pdf)\n",
    "    * [Jupyter Notebooks](../cheat_sheets/jupyter-notebook_cheat_sheet.pdf)\n",
    "\n",
    "* Other\n",
    "    * [Git](../cheat_sheets/git-cheat-sheet-large01.png)\n",
    "    * [Github](../cheat_sheets/git-cheat-sheet-education.pdf)\n"
   ]
  },
  {
   "cell_type": "markdown",
   "metadata": {},
   "source": [
    "Programming Challenges\n",
    "--\n",
    "\n",
    "Programming challenges are a long tradition in computer science.\n",
    "\n",
    "- [Google Python class exercises](https://developers.google.com/edu/python/exercises/basic)\n",
    "\n",
    "    Four exercises are provided as part of the Python class by Google. \n",
    "    \n",
    "    Level - Basic/intermediate\n",
    "    \n",
    "\n",
    "- [Project Euler](https://projecteuler.net/)\n",
    "\n",
    "    Project Euler is a project of mathematical/programming challenges aimed at designing efficient solutions. Project Euler is a good place to challenge your mathematical and programming skills. Most of the problems can be solved within few seconds provided you have an efficient solution.\n",
    "\n",
    "    Level - Advanced | Requires knowledge of mathematics.\n",
    "\n",
    "\n",
    "- [Python Challenge](http://www.pythonchallenge.com/)\n",
    "\n",
    "    Level - Intermediate/Advanced\n",
    "\n",
    "- [Google Code Jam](https://code.google.com/codejam/)\n",
    "\n",
    "    Level - Advanced | Requires a lot of cleverness\n",
    "\n"
   ]
  }
 ],
 "metadata": {
  "kernelspec": {
   "display_name": "Python 2",
   "language": "python",
   "name": "python2"
  },
  "language_info": {
   "codemirror_mode": {
    "name": "ipython",
    "version": 2
   },
   "file_extension": ".py",
   "mimetype": "text/x-python",
   "name": "python",
   "nbconvert_exporter": "python",
   "pygments_lexer": "ipython2",
   "version": "2.7.13"
  },
  "toc": {
   "nav_menu": {},
   "number_sections": true,
   "sideBar": true,
   "skip_h1_title": false,
   "toc_cell": true,
   "toc_position": {
    "height": "526px",
    "left": "0px",
    "right": "1095px",
    "top": "111px",
    "width": "185px"
   },
   "toc_section_display": "block",
   "toc_window_display": true
  }
 },
 "nbformat": 4,
 "nbformat_minor": 1
}
