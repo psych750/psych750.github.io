{
 "cells": [
  {
   "cell_type": "markdown",
   "metadata": {},
   "source": [
    "# A couple trial-generation activities\n",
    "\n",
    "Before you type anything, think about how to go about solving these. Try to think of two ways. Which one is easier? Do the easy one!"
   ]
  },
  {
   "cell_type": "markdown",
   "metadata": {},
   "source": [
    "## Exercise 1\n",
    "Write code to create a **qusi-random** sequence of these animals\n",
    "```python\n",
    "animals = ['dog','cat','cow','pig','mouse']\n",
    "```\n",
    "\n",
    "Your code should accept a variable specifying how long the sequence should be (`min = len(animals)`, `max = 50`)\n",
    "\n",
    "Now comes the tricky part. The sequence you generate should be randomized, but not have any animal repeating back to back.\n",
    "\n",
    "So:\n",
    "```python\n",
    "['cat','dog','pig','cow','mouse','mouse','dog'] \n",
    "```\n",
    "is not ok because mouse repeated twice in a row, but\n",
    "```python\n",
    "['dog','cat','cow','pig','mouse','dog','mouse'] \n",
    "```\n",
    "is ok.\n"
   ]
  },
  {
   "cell_type": "markdown",
   "metadata": {},
   "source": [
    "## Exercise 2\n",
    "\n",
    "Now let's try the opposite. Ensure that in your sequence, 20% of items (give or take a percent or so) is a back to back repeat. "
   ]
  }
 ],
 "metadata": {
  "kernelspec": {
   "display_name": "Python 3.8.13 ('psych750')",
   "language": "python",
   "name": "python3"
  },
  "language_info": {
   "codemirror_mode": {
    "name": "ipython",
    "version": 3
   },
   "file_extension": ".py",
   "mimetype": "text/x-python",
   "name": "python",
   "nbconvert_exporter": "python",
   "pygments_lexer": "ipython3",
   "version": "3.8.13"
  },
  "name": "_merged",
  "toc": {
   "nav_menu": {},
   "number_sections": true,
   "sideBar": true,
   "skip_h1_title": false,
   "toc_cell": true,
   "toc_position": {
    "height": "570px",
    "left": "0px",
    "right": "967px",
    "top": "111px",
    "width": "313px"
   },
   "toc_section_display": "block",
   "toc_window_display": true
  },
  "vscode": {
   "interpreter": {
    "hash": "57beecaf6908bae4f97de5e2dc8e8d0311fae5bc989593c172c307d13e31f6e4"
   }
  }
 },
 "nbformat": 4,
 "nbformat_minor": 1
}
