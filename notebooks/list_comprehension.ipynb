{
 "cells": [
  {
   "cell_type": "markdown",
   "metadata": {},
   "source": [
    "# List comprehension\n",
    "\n",
    "## The idea\n",
    "List comprehension provides a compact way to take a list, do something to the elements (modify, filter, apply a function), and then return the resulting list. See some examples [here](http://www.pythonforbeginners.com/basics/list-comprehensions-in-python)."
   ]
  },
  {
   "cell_type": "markdown",
   "metadata": {},
   "source": [
    "## The syntax\n",
    "\n",
    "List comprehension expressions are embedded in [] as a way to signal that the result is a list. For example:"
   ]
  },
  {
   "cell_type": "code",
   "execution_count": 3,
   "metadata": {},
   "outputs": [
    {
     "data": {
      "text/plain": [
       "[0, 1, 4, 9, 16, 25, 36, 49, 64, 81]"
      ]
     },
     "execution_count": 3,
     "metadata": {},
     "output_type": "execute_result"
    }
   ],
   "source": [
    "[num**2 for num in range(10)]"
   ]
  },
  {
   "cell_type": "markdown",
   "metadata": {},
   "source": [
    "Reading the above statement from right to left, here's what's happening:\n",
    "\n",
    "`range(10)` - generate a list\n",
    "\n",
    "`...for num in...` iterate through it using `num` as the iterator variable\n",
    "\n",
    "`num**2` the thing that you're doing to the list. Here, squaring each element.\n"
   ]
  },
  {
   "cell_type": "markdown",
   "metadata": {},
   "source": [
    "By including `if` statements inside list comprehension, you can effectively filter a list for the elements you want (or don't want)"
   ]
  },
  {
   "cell_type": "code",
   "execution_count": 12,
   "metadata": {},
   "outputs": [
    {
     "data": {
      "text/plain": [
       "[0, 4, 16, 36, 64]"
      ]
     },
     "execution_count": 12,
     "metadata": {},
     "output_type": "execute_result"
    }
   ],
   "source": [
    "[num**2 for num in range(10) if num %2 ==0]"
   ]
  },
  {
   "cell_type": "markdown",
   "metadata": {},
   "source": [
    "You can also embed multiple lists inside a list-comprehension expression. This is equivalent to nested loops, but I personally find these confusing."
   ]
  },
  {
   "cell_type": "code",
   "execution_count": 13,
   "metadata": {},
   "outputs": [
    {
     "data": {
      "text/plain": [
       "['ad', 'ae', 'af', 'bd', 'be', 'bf', 'cd', 'ce', 'cf']"
      ]
     },
     "execution_count": 13,
     "metadata": {},
     "output_type": "execute_result"
    }
   ],
   "source": [
    "[first+second for first in ['a','b','c'] for second in ['d','e','f']]"
   ]
  },
  {
   "cell_type": "markdown",
   "metadata": {},
   "source": [
    "### Dictionary Comprehension"
   ]
  },
  {
   "cell_type": "markdown",
   "metadata": {},
   "source": [
    "In addition to *list* comprehension, Python also implements *dictionary* comprehension. I include an example for completeness, though I find myself using this quite rarely. The example below checks if a phrase is a pangram, "
   ]
  },
  {
   "cell_type": "code",
   "execution_count": 23,
   "metadata": {},
   "outputs": [
    {
     "name": "stdout",
     "output_type": "stream",
     "text": [
      "{'a': 1, 'count': 5, 'little': 6, 'word': 4, 'Just': 4, 'sentence': 8, 'simple': 6, 'of': 2, 'we': 2, 'one': 3, 'lengths': 7, 'can': 3, 'which': 5, 'in': 2, 'the': 3, 'line': 4}\n"
     ]
    }
   ],
   "source": [
    "sentence = \"Just a simple little sentence the word lengths of which we can count in one line\"\n",
    "wordLengths = {key: len(key) for key in sentence.split(' ')}"
   ]
  },
  {
   "cell_type": "markdown",
   "metadata": {},
   "source": [
    "## Exercises"
   ]
  },
  {
   "cell_type": "markdown",
   "metadata": {},
   "source": [
    "### Find all of the numbers from 1-1000 that are divisible by 9"
   ]
  },
  {
   "cell_type": "code",
   "execution_count": 10,
   "metadata": {},
   "outputs": [
    {
     "data": {
      "text/plain": [
       "[9,\n",
       " 18,\n",
       " 27,\n",
       " 36,\n",
       " 45,\n",
       " 54,\n",
       " 63,\n",
       " 72,\n",
       " 81,\n",
       " 90,\n",
       " 99,\n",
       " 108,\n",
       " 117,\n",
       " 126,\n",
       " 135,\n",
       " 144,\n",
       " 153,\n",
       " 162,\n",
       " 171,\n",
       " 180,\n",
       " 189,\n",
       " 198,\n",
       " 207,\n",
       " 216,\n",
       " 225,\n",
       " 234,\n",
       " 243,\n",
       " 252,\n",
       " 261,\n",
       " 270,\n",
       " 279,\n",
       " 288,\n",
       " 297,\n",
       " 306,\n",
       " 315,\n",
       " 324,\n",
       " 333,\n",
       " 342,\n",
       " 351,\n",
       " 360,\n",
       " 369,\n",
       " 378,\n",
       " 387,\n",
       " 396,\n",
       " 405,\n",
       " 414,\n",
       " 423,\n",
       " 432,\n",
       " 441,\n",
       " 450,\n",
       " 459,\n",
       " 468,\n",
       " 477,\n",
       " 486,\n",
       " 495,\n",
       " 504,\n",
       " 513,\n",
       " 522,\n",
       " 531,\n",
       " 540,\n",
       " 549,\n",
       " 558,\n",
       " 567,\n",
       " 576,\n",
       " 585,\n",
       " 594,\n",
       " 603,\n",
       " 612,\n",
       " 621,\n",
       " 630,\n",
       " 639,\n",
       " 648,\n",
       " 657,\n",
       " 666,\n",
       " 675,\n",
       " 684,\n",
       " 693,\n",
       " 702,\n",
       " 711,\n",
       " 720,\n",
       " 729,\n",
       " 738,\n",
       " 747,\n",
       " 756,\n",
       " 765,\n",
       " 774,\n",
       " 783,\n",
       " 792,\n",
       " 801,\n",
       " 810,\n",
       " 819,\n",
       " 828,\n",
       " 837,\n",
       " 846,\n",
       " 855,\n",
       " 864,\n",
       " 873,\n",
       " 882,\n",
       " 891,\n",
       " 900,\n",
       " 909,\n",
       " 918,\n",
       " 927,\n",
       " 936,\n",
       " 945,\n",
       " 954,\n",
       " 963,\n",
       " 972,\n",
       " 981,\n",
       " 990,\n",
       " 999]"
      ]
     },
     "execution_count": 10,
     "metadata": {},
     "output_type": "execute_result"
    }
   ],
   "source": [
    "[num for num in range(1,1001) if num % 9 ==0]"
   ]
  },
  {
   "cell_type": "markdown",
   "metadata": {},
   "source": [
    "### Generate 100 random numbers in the range 0-1 using one line of code"
   ]
  },
  {
   "cell_type": "code",
   "execution_count": 12,
   "metadata": {},
   "outputs": [
    {
     "data": {
      "text/plain": [
       "[0.30038285887800653,\n",
       " 0.8068608676121372,\n",
       " 0.18501623151708046,\n",
       " 0.06400825379612352,\n",
       " 0.48142566108152396,\n",
       " 0.6602528067033887,\n",
       " 0.16818305080458973,\n",
       " 0.29538622585966035,\n",
       " 0.4928298184606388,\n",
       " 0.2494282549500233,\n",
       " 0.7154901703159035,\n",
       " 0.4706569800421482,\n",
       " 0.37551795560730317,\n",
       " 0.2562505737878181,\n",
       " 0.38213270217320083,\n",
       " 0.9355777522907279,\n",
       " 0.8812859168335222,\n",
       " 0.30935395037559643,\n",
       " 0.7440921522929225,\n",
       " 0.3140663367395595,\n",
       " 0.40055368628571353,\n",
       " 0.508511120928683,\n",
       " 0.8577178933096079,\n",
       " 0.9584641317010492,\n",
       " 0.4457223247921731,\n",
       " 0.9284894090060116,\n",
       " 0.19101005848787056,\n",
       " 0.7552020412113069,\n",
       " 0.6305409085670466,\n",
       " 0.5619624214446906,\n",
       " 0.7860818145964547,\n",
       " 0.11943933212685554,\n",
       " 0.05971806742805463,\n",
       " 0.6284547762752576,\n",
       " 0.4499530587930166,\n",
       " 0.4807285946005715,\n",
       " 0.29247664808391993,\n",
       " 0.990918595214355,\n",
       " 0.19382785739789887,\n",
       " 0.921947091892469,\n",
       " 0.5942899905691458,\n",
       " 0.18221730799001423,\n",
       " 0.28642355806137865,\n",
       " 0.9926090090647068,\n",
       " 0.2620811349727985,\n",
       " 0.9866580852216292,\n",
       " 0.18462919695296454,\n",
       " 0.024070833648734302,\n",
       " 0.4183978821491037,\n",
       " 0.5065216772296162,\n",
       " 0.2808559139810669,\n",
       " 0.5689675362205405,\n",
       " 0.3092707780928309,\n",
       " 0.02152156913266834,\n",
       " 0.3470620533997659,\n",
       " 0.7295071929030806,\n",
       " 0.04215517442110839,\n",
       " 0.327106133738682,\n",
       " 0.12902643273947778,\n",
       " 0.8320922310309975,\n",
       " 0.9088649425014437,\n",
       " 0.23051491860196693,\n",
       " 0.6942438596309538,\n",
       " 0.7360639644822417,\n",
       " 0.875373367977733,\n",
       " 0.08272697951195707,\n",
       " 0.6756821234417167,\n",
       " 0.10994432111406482,\n",
       " 0.8467812662036726,\n",
       " 0.9991187183058816,\n",
       " 0.7931705529833472,\n",
       " 0.46941871510638766,\n",
       " 0.8167974146530707,\n",
       " 0.43034575083494186,\n",
       " 0.3787042302780732,\n",
       " 0.6895201817754012,\n",
       " 0.47287553685169526,\n",
       " 0.4860061514293683,\n",
       " 0.4046464903695117,\n",
       " 0.3646504416742017,\n",
       " 0.5460446706976356,\n",
       " 0.590044255895823,\n",
       " 0.020141585198305667,\n",
       " 0.7674232704225379,\n",
       " 0.24911453527274008,\n",
       " 0.28606095549529886,\n",
       " 0.021458484681543433,\n",
       " 0.5584948725350998,\n",
       " 0.5532446112724092,\n",
       " 0.3409970942647851,\n",
       " 0.9757460282563791,\n",
       " 0.21713421888585216,\n",
       " 0.5039434184534949,\n",
       " 0.9218257425065518,\n",
       " 0.9164624229550201,\n",
       " 0.49346465042560794,\n",
       " 0.529150823418107,\n",
       " 0.6949404766488418,\n",
       " 0.7579094907353902,\n",
       " 0.543721900350119]"
      ]
     },
     "execution_count": 12,
     "metadata": {},
     "output_type": "execute_result"
    }
   ],
   "source": [
    "import random\n",
    "[random.random() for num in range(100)]"
   ]
  },
  {
   "cell_type": "markdown",
   "metadata": {},
   "source": [
    "### Generate 100 random integers in the range 1-10 using one line of code"
   ]
  },
  {
   "cell_type": "code",
   "execution_count": 26,
   "metadata": {},
   "outputs": [
    {
     "data": {
      "text/plain": [
       "[4,\n",
       " 3,\n",
       " 2,\n",
       " 4,\n",
       " 4,\n",
       " 6,\n",
       " 4,\n",
       " 3,\n",
       " 5,\n",
       " 5,\n",
       " 10,\n",
       " 7,\n",
       " 5,\n",
       " 6,\n",
       " 4,\n",
       " 3,\n",
       " 8,\n",
       " 10,\n",
       " 9,\n",
       " 10,\n",
       " 1,\n",
       " 4,\n",
       " 1,\n",
       " 5,\n",
       " 4,\n",
       " 9,\n",
       " 4,\n",
       " 3,\n",
       " 9,\n",
       " 3,\n",
       " 6,\n",
       " 3,\n",
       " 6,\n",
       " 8,\n",
       " 8,\n",
       " 8,\n",
       " 9,\n",
       " 8,\n",
       " 4,\n",
       " 7,\n",
       " 6,\n",
       " 4,\n",
       " 8,\n",
       " 4,\n",
       " 9,\n",
       " 2,\n",
       " 8,\n",
       " 4,\n",
       " 6,\n",
       " 2,\n",
       " 4,\n",
       " 7,\n",
       " 5,\n",
       " 3,\n",
       " 9,\n",
       " 6,\n",
       " 1,\n",
       " 3,\n",
       " 7,\n",
       " 9,\n",
       " 4,\n",
       " 5,\n",
       " 7,\n",
       " 3,\n",
       " 10,\n",
       " 7,\n",
       " 3,\n",
       " 2,\n",
       " 5,\n",
       " 3,\n",
       " 5,\n",
       " 5,\n",
       " 10,\n",
       " 6,\n",
       " 7,\n",
       " 9,\n",
       " 10,\n",
       " 5,\n",
       " 10,\n",
       " 1,\n",
       " 9,\n",
       " 8,\n",
       " 10,\n",
       " 10,\n",
       " 10,\n",
       " 3,\n",
       " 1,\n",
       " 3,\n",
       " 9,\n",
       " 9,\n",
       " 2,\n",
       " 8,\n",
       " 3,\n",
       " 5,\n",
       " 2,\n",
       " 6,\n",
       " 4,\n",
       " 2,\n",
       " 2,\n",
       " 8]"
      ]
     },
     "execution_count": 26,
     "metadata": {},
     "output_type": "execute_result"
    }
   ],
   "source": [
    "import random\n",
    "[random.randrange(1,11) for num in range(100)]"
   ]
  },
  {
   "cell_type": "markdown",
   "metadata": {},
   "source": [
    "### Return a list of words longer than 3 letters.\n",
    "Use list comprehension to take `sentence` and output the words containing more than 3 letters"
   ]
  },
  {
   "cell_type": "code",
   "execution_count": 29,
   "metadata": {},
   "outputs": [
    {
     "data": {
      "text/plain": [
       "['Quick', 'Brown', 'Jumped', 'Over', 'Lazy']"
      ]
     },
     "execution_count": 29,
     "metadata": {},
     "output_type": "execute_result"
    }
   ],
   "source": [
    "sentence = 'The Quick Brown Fox Jumped Over The Lazy Dog'\n",
    "[word for word in sentence.split() if len(word)>3]"
   ]
  },
  {
   "cell_type": "markdown",
   "metadata": {},
   "source": [
    "### A list of all consonants\n",
    "Return a list containing all the consonants in `sentence`. The consonants don't have to be unique, but the list should not have both uppercas and lowercase letters. You should do this in one line of code.\n",
    "<div class=\"alert alert-block alert-info\">\n",
    "Use str.isalpha() to check for punctuation. E.g., 'word'.isalpha() returns True while '?'.isalpha() and 'a word'.isalpha() return False \n",
    "</div>"
   ]
  },
  {
   "cell_type": "code",
   "execution_count": 34,
   "metadata": {},
   "outputs": [
    {
     "data": {
      "text/plain": [
       "['c',\n",
       " 'n',\n",
       " 'y',\n",
       " 'f',\n",
       " 'g',\n",
       " 'r',\n",
       " 't',\n",
       " 'h',\n",
       " 'w',\n",
       " 'm',\n",
       " 'n',\n",
       " 'y',\n",
       " 'c',\n",
       " 'n',\n",
       " 's',\n",
       " 'n',\n",
       " 'n',\n",
       " 't',\n",
       " 's',\n",
       " 'r',\n",
       " 'n',\n",
       " 't',\n",
       " 'h',\n",
       " 's',\n",
       " 's',\n",
       " 'n',\n",
       " 't',\n",
       " 'n',\n",
       " 'c']"
      ]
     },
     "execution_count": 34,
     "metadata": {},
     "output_type": "execute_result"
    }
   ],
   "source": [
    "sentence = 'Can you figure out how many CONSONANTS are in this sentence?'\n",
    "vowels = ['a','e','i','o','u'] \n",
    "\n",
    "[letter for letter in sentence.lower() if (letter not in vowels and letter.isalpha())]\n",
    "#insert your code here\n",
    "\n"
   ]
  },
  {
   "cell_type": "code",
   "execution_count": 35,
   "metadata": {},
   "outputs": [
    {
     "name": "stdout",
     "output_type": "stream",
     "text": [
      "{'a': 1, 'count': 5, 'Use': 3, 'word': 4, 'dictionary': 10, 'sentence': 8, 'of': 2, 'in': 2, 'to': 2, 'length': 6, 'comprehension': 13, 'each': 4, 'the': 3}\n"
     ]
    }
   ],
   "source": [
    "#Use a dictionary comprehension to count the length of each word in a sentence. \n",
    "sentence = 'Use a dictionary comprehension to count the length of each word in a sentence' \n",
    "results = {word:len(word) for word in sentence.split()} \n",
    "print(results) "
   ]
  },
  {
   "cell_type": "markdown",
   "metadata": {},
   "source": [
    "### Dictionary refresher\n",
    "Add a line to the code below to get the average word length in `sentence`\n",
    "<div class=\"alert alert-block alert-info\">\n",
    "Hint: `sum(a_list)` returns the sum of the elements in the list\n",
    "</div>"
   ]
  },
  {
   "cell_type": "code",
   "execution_count": 51,
   "metadata": {},
   "outputs": [
    {
     "data": {
      "text/plain": [
       "1.3333333333333333"
      ]
     },
     "execution_count": 51,
     "metadata": {},
     "output_type": "execute_result"
    }
   ],
   "source": [
    "sentence = \"Just a simple little sentence the word lengths of which we can count in one line\"\n",
    "wordLengths = {key: len(key) for key in sentence.split(' ')}\n",
    "sum(wordLengths.values())/float(len(wordLengths.values()))\n"
   ]
  },
  {
   "cell_type": "code",
   "execution_count": null,
   "metadata": {},
   "outputs": [],
   "source": [
    "\n",
    "\n",
    "\n",
    "\n",
    "\n",
    "\n",
    "\n",
    "\n",
    "\n",
    "\n",
    "\n",
    "\n",
    "\n",
    "\n"
   ]
  }
 ],
 "metadata": {
  "kernelspec": {
   "display_name": "Python 2",
   "language": "python",
   "name": "python2"
  },
  "language_info": {
   "codemirror_mode": {
    "name": "ipython",
    "version": 2
   },
   "file_extension": ".py",
   "mimetype": "text/x-python",
   "name": "python",
   "nbconvert_exporter": "python",
   "pygments_lexer": "ipython2",
   "version": "2.7.13"
  },
  "toc": {
   "nav_menu": {},
   "number_sections": true,
   "sideBar": true,
   "skip_h1_title": false,
   "toc_cell": false,
   "toc_position": {
    "height": "526px",
    "left": "0px",
    "right": "1061px",
    "top": "111px",
    "width": "219px"
   },
   "toc_section_display": "block",
   "toc_window_display": false
  }
 },
 "nbformat": 4,
 "nbformat_minor": 2
}
