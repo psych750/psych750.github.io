{
 "cells": [
  {
   "cell_type": "markdown",
   "metadata": {},
   "source": [
    "# Basic Pandas Operations\n",
    "\n",
    "## Storing data frames in a CSV file\n",
    "\n",
    "First we will create a dictionary containing the data. Then we can convert the dictionary to a pandas data frame and store it as a csv file."
   ]
  },
  {
   "cell_type": "code",
   "execution_count": null,
   "metadata": {},
   "outputs": [],
   "source": [
    "import numpy as np\n",
    "import pandas as pd\n",
    "\n",
    "name_dict = {\n",
    "    'Name':['Adam','Becky','Charlie','Daniel','Emily','Frank','Greta','Helen','Ian','Jack','Klaus','Lucy'],\n",
    "    'Class ID':list(range(1,13)),\n",
    "    'Age':[int(i) for i in (np.round(np.random.uniform(18,30,12),0))],\n",
    "    'Score':[int(i) for i in (np.round(np.random.uniform(60,100,12),0))]\n",
    "}\n",
    "\n",
    "df = pd.DataFrame(name_dict)\n",
    "\n",
    "df.to_csv('ClassList.csv',index=False)"
   ]
  },
  {
   "cell_type": "markdown",
   "metadata": {},
   "source": [
    "## Loading in data from a CSV file\n",
    "\n",
    "After loading in the data, we can do some quick checks using `head()` and `tail()`"
   ]
  },
  {
   "cell_type": "code",
   "execution_count": null,
   "metadata": {},
   "outputs": [],
   "source": [
    "df = pd.read_csv('ClassList.csv')\n",
    "df.head() # This will give you the first 5 rows of data"
   ]
  },
  {
   "cell_type": "code",
   "execution_count": null,
   "metadata": {},
   "outputs": [],
   "source": [
    "df.tail() # This will give you the last 5 rows of data"
   ]
  },
  {
   "cell_type": "markdown",
   "metadata": {},
   "source": [
    "## Accessing a particular row, column, or cell\n",
    "\n",
    "In some cases, we want to access a particular row of the data."
   ]
  },
  {
   "cell_type": "code",
   "execution_count": null,
   "metadata": {},
   "outputs": [],
   "source": [
    "df.loc[0,:] # Accessing the first row of data, the first value points to the row(s) and the second value points to the column(s)"
   ]
  },
  {
   "cell_type": "markdown",
   "metadata": {},
   "source": [
    "We can select a particular column by its name"
   ]
  },
  {
   "cell_type": "code",
   "execution_count": null,
   "metadata": {},
   "outputs": [],
   "source": [
    "df.Score # Accessing the Score column"
   ]
  },
  {
   "cell_type": "markdown",
   "metadata": {},
   "source": [
    "Or you can select a column by its index"
   ]
  },
  {
   "cell_type": "code",
   "execution_count": null,
   "metadata": {},
   "outputs": [],
   "source": [
    "df.iloc[:,2] # This will also access the Score column"
   ]
  },
  {
   "cell_type": "markdown",
   "metadata": {},
   "source": [
    "It's also possible to select a particular cell"
   ]
  },
  {
   "cell_type": "code",
   "execution_count": null,
   "metadata": {},
   "outputs": [],
   "source": [
    "df.iloc[0]['Score'] # This will access the first row ([0]) of the Score column"
   ]
  },
  {
   "cell_type": "markdown",
   "metadata": {},
   "source": [
    "## Iterate through rows and accessing a particular column of that row\n",
    "\n",
    "In some cases, we need to iterate through all the rows and do some computation with a particular column of that row"
   ]
  },
  {
   "cell_type": "code",
   "execution_count": null,
   "metadata": {},
   "outputs": [],
   "source": [
    "# Printing everything of each row\n",
    "for row in df.iterrows():\n",
    "    print(row)"
   ]
  },
  {
   "cell_type": "code",
   "execution_count": 60,
   "metadata": {},
   "outputs": [
    {
     "name": "stdout",
     "output_type": "stream",
     "text": [
      "88\n",
      "92\n",
      "61\n",
      "80\n",
      "91\n",
      "94\n",
      "98\n",
      "87\n",
      "65\n",
      "97\n",
      "98\n",
      "69\n"
     ]
    }
   ],
   "source": [
    "# Iterate through all rows and select only the Score column\n",
    "for index,row in df.iterrows():\n",
    "    print(row['Score'])"
   ]
  }
 ],
 "metadata": {
  "kernelspec": {
   "display_name": "Python 3.8.13 ('psych750')",
   "language": "python",
   "name": "python3"
  },
  "language_info": {
   "codemirror_mode": {
    "name": "ipython",
    "version": 3
   },
   "file_extension": ".py",
   "mimetype": "text/x-python",
   "name": "python",
   "nbconvert_exporter": "python",
   "pygments_lexer": "ipython3",
   "version": "3.8.13"
  },
  "orig_nbformat": 4,
  "vscode": {
   "interpreter": {
    "hash": "fd0397b87f454630a8e29a5bd5ad2bb52517df87f687500a14b5dda89d554fa9"
   }
  }
 },
 "nbformat": 4,
 "nbformat_minor": 2
}
