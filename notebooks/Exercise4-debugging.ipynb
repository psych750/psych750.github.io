{
 "cells": [
  {
   "cell_type": "markdown",
   "metadata": {},
   "source": [
    "# Exercise 4: Debugging practice\n",
    "\n",
    "## Practice 1\n",
    "Here's some broken code. When fixed, it should display wide and narrow\n",
    "rectangles, in random order, and play a bleep sound if you respond 'w'\n",
    "for wide or 'n' for narrow, and buzzing sound otherwise. It should\n",
    "also output the correctness of the response and the RT to standard\n",
    "output (i.e., the python screen). The .wav files it can be downloaded\n",
    "[here](http://sapir.psych.wisc.edu/classMaterials/psych711/buzzBleep.zip))"
   ]
  },
  {
   "cell_type": "code",
   "execution_count": null,
   "metadata": {},
   "outputs": [],
   "source": [
    "import time\n",
    "import random\n",
    "from psychopy import visual, core, event,sound\n",
    "win = visual.Window([800,600],color=\"blak\", units='pix')\n",
    "\n",
    "rect = visual.Rect(win,fillColor=\"blue\",size=size)\n",
    "aspect = {'wide':[200,100], 'narrow':[100,200]}\n",
    "validKeys = {'wide':'w', 'narrow':'n'}\n",
    "\n",
    "bleep = sound.Sound('sounds/bleep.wav')\n",
    "buzz = sound.Sound('sounds/buzz.wav')\n",
    "\n",
    "for curIter in range(20)\n",
    "\twin.flip()\n",
    "\tcore.wait(.5)\n",
    "\tcurAspect  = random.choice(aspect.values())\n",
    "\trect.setSize(aspect[curAspect])\n",
    "\trect.draw()\n",
    "\twin.flip()\n",
    "\ttimer = core.Timer()\n",
    "\tresp = event.waitKeys(keyList=validKeys.values())\n",
    "\tif resp==validKeys[aspect]:\n",
    "\t\tprint 1, timer.getTime()\n",
    "\t\tbleep.play()\n",
    "\telse:\n",
    "\t\tprint 0, timer.getTime()\n",
    "\t\tbuzz.play()"
   ]
  },
  {
   "cell_type": "markdown",
   "metadata": {},
   "source": [
    "## Practice 2\n",
    "Here's some more broken code. This program should prompt you with an expression category (Happy, Sad, etc.) and then show a face. If you categorize the face correctly, you should see a green CORRECT. Otherwise a red ERROR. The program should present you with 40 trials. Download the faces [here](http://sapir.psych.wisc.edu/classMaterials/psych711/faces.zip) and place them inside a `faces` folder in the same directory as the script below."
   ]
  },
  {
   "cell_type": "code",
   "execution_count": 1,
   "metadata": {},
   "outputs": [
    {
     "ename": "SyntaxError",
     "evalue": "invalid syntax (<ipython-input-1-b61b6ba6a6b7>, line 9)",
     "output_type": "error",
     "traceback": [
      "\u001b[0;36m  File \u001b[0;32m\"<ipython-input-1-b61b6ba6a6b7>\"\u001b[0;36m, line \u001b[0;32m9\u001b[0m\n\u001b[0;31m    categories = {'Happy'='F', 'Angry'='W', 'Sad'='T'}\u001b[0m\n\u001b[0m                         ^\u001b[0m\n\u001b[0;31mSyntaxError\u001b[0m\u001b[0;31m:\u001b[0m invalid syntax\n"
     ]
    }
   ],
   "source": [
    "import sys\n",
    "from psychopy import visual, core, event\n",
    "\n",
    "categories = {'Happy'='F', 'Angry'='W', 'Sad'='T'}\n",
    "actors = ['001m', '001w', '002m', '002w', '003m', '003w', '004m', '004w', '005m', '005w']\n",
    "suffix = '_90_60.jpg'\n",
    "responseMapping = {'up':1,'down':0}\n",
    "numTrials = 40\n",
    "\n",
    "\n",
    "def randomButNot(l,toExclude):\n",
    "\tchosen = random.choice(l)\n",
    "\twhile toExclude in chosen:\n",
    "\t\tchosen = random.choice(l)\n",
    "\treturn chosen\n",
    "\n",
    "def generateTrials(numTrials):\n",
    "\ttrials=[]\n",
    "\tpropMatch  = .6\n",
    "\tfor i in range(numTrials):\n",
    "\t\temotionPrompt = random.choice(categories.keys())\n",
    "\t\tshownActor = random.choice(actors)\n",
    "\t\tisMatch = int(random.random()<propMatch)\n",
    "\n",
    "\t\tif isMatch:\n",
    "\t\t\tshownCategory = emotionPrompt\n",
    "\t\t\ttargetFaceImage = shownActor+categories[emotionPrompt]+suffix\n",
    "\t\telse:\n",
    "\t\t\tshownCategory = randomButNot(categories.keys(), emotionPrompt)\n",
    "\t\t\ttargetFaceImage = shownActor+categories[shownCategory]+suffix\n",
    "\n",
    "\t\ttrials.append({\t'isMatch':isMatch,\n",
    "\t\t\t\t\t\t'emotionPrompt':emotionPrompt,\n",
    "\t\t\t\t\t\t'shownActor':shownActor,\n",
    "\t\t\t\t\t\t'shownCategory':shownCategory,\n",
    "\t\t\t\t\t\t'targetFaceImage':targetFaceImage\n",
    "\t\t\t\t\t\t})\n",
    "\n",
    "\t\treturn trials\n",
    "\n",
    "trials = generateTrials(numTrials)\n",
    "\n",
    "win = visual.Window([800,600],color=\"black\", units='pix')\n",
    "prompt = visual.TextStim(win=win,text='',color=\"white\",height=60)\n",
    "correctFeedback = visual.TextStim(win=win,text='CORRECT',color=\"green\",height=60)\n",
    "incorrectFeedback = visual.TextStim(win=win,text='ERROR',color=\"red\",height=60)\n",
    "pic = visual.ImageStim(win=win, mask=None,interpolate=True)\n",
    "\n",
    "for curTrial in trials:\n",
    "\twin.flip()\n",
    "\tcore.wait(25)\n",
    "\tprompt.setText(curTrial['emotionPrompt']+'?')\n",
    "\tprompt.draw()\n",
    "\twin.flip()\n",
    "\tcore.wait(.5)\n",
    "\n",
    "\twin.flip()\n",
    "\tcore.wait(.1)\n",
    "\tpic.setImage('faces/'+curTrial['targetFaceImage'])\n",
    "\tpic.draw()\n",
    "\twin.flip()\n",
    "\tresponse = event.waitKeys(keyList=responseMapping.values())[0]\n",
    "\tif response==responseMapping[curTrial['isMatch']]:\n",
    "\t\tcorrectFeedback.draw()\n",
    "\telse:\n",
    "\t\tcorrectFeedback.draw()\n",
    "\twin.flip()\n",
    "\tcore.wait(.5)"
   ]
  }
 ],
 "metadata": {
  "kernelspec": {
   "display_name": "Python 2",
   "language": "python",
   "name": "python2"
  },
  "language_info": {
   "codemirror_mode": {
    "name": "ipython",
    "version": 2
   },
   "file_extension": ".py",
   "mimetype": "text/x-python",
   "name": "python",
   "nbconvert_exporter": "python",
   "pygments_lexer": "ipython2",
   "version": "2.7.13"
  },
  "toc": {
   "nav_menu": {},
   "number_sections": true,
   "sideBar": true,
   "skip_h1_title": false,
   "toc_cell": false,
   "toc_position": {
    "height": "526px",
    "left": "0px",
    "right": "1095px",
    "top": "111px",
    "width": "185px"
   },
   "toc_section_display": "block",
   "toc_window_display": true
  }
 },
 "nbformat": 4,
 "nbformat_minor": 2
}
