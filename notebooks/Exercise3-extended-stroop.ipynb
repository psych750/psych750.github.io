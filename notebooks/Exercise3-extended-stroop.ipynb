{
 "cells": [
  {
   "cell_type": "markdown",
   "metadata": {},
   "source": [
    "# Exercise 3: Extending the stroop effect - NOT DONE YET\n",
    "\n",
    "[Accept the exercise](XXXX)\n",
    "\n",
    "In this exercise we'll be extending the Stroop effect you coded for Exercise 2 into a more complete experiment that (1) generates stimulus lists that are then read in by the main script, (2) accept runtime variables to assign participants to conditions and record participant codes , and (3) use some out-of-the-box speech recognition (1) to allow participants to respond with their voices (as the original Stroop task did)."
   ]
  },
  {
   "cell_type": "markdown",
   "metadata": {},
   "source": [
    "## Exercise 3 parts"
   ]
  },
  {
   "cell_type": "markdown",
   "metadata": {},
   "source": [
    "1. Define "
   ]
  },
  {
   "cell_type": "code",
   "execution_count": 9,
   "metadata": {},
   "outputs": [],
   "source": [
    "def generateTrials(subj_code, prop_incongruent, num_trials):\n",
    "    '''\n",
    "    Writes a file named {subj_code_}trials.csv, one line per trial. Creates a trials subdirectory if one does not exist\n",
    "    subj_code: a string corresponding to a participant's unique subject code\n",
    "    prop_incongruent: float [0-1] corresponding to the proportion of trials that are incongruent\n",
    "    num_trials: integer specifying total number of trials\n",
    "    '''\n",
    "    import os\n",
    "    import random\n",
    "    \n",
    "    try:\n",
    "        os.mkdir('trials')\n",
    "    except FileExistsError:\n",
    "        print('Trials directory exists; proceeding to open file')\n",
    "    f= open(f\"trials/{subj_code}_trials.csv\",\"w\")\n",
    "    \n",
    "    for cur_trial in range(num_trials):\n",
    "        pass\n"
   ]
  },
  {
   "cell_type": "markdown",
   "metadata": {},
   "source": [
    "```{tip}\n",
    "The text at the start of the function explaining what it does and its arguments is called a \"docstring\". This is the proper way to document what a function does instead of writing regular comments. After you define the function, you can access the docstring like so: `print(generateTrials.__doc__)`. \n",
    "```"
   ]
  },
  {
   "cell_type": "markdown",
   "metadata": {},
   "source": [
    "\n",
    "\n",
    "1.  Output the trial information and the user's response, one line per response. The file should look like this and should be called results.txt. Your submission should have at least 20 trials of data, i.e., the results.txt file that you push to the repo should have 20 lines.\n",
    "\n",
    "|        |        |             |   |      |\n",
    "|--------|--------|-------------|---|------|\n",
    "| green  | green  | congruent   | 1 | 854  |\n",
    "| green  | yellow | incongruent | 1 | 1023 |\n",
    "| yellow | green  | incongruent | 0 | 912  |\n",
    "| yellow | yellow | congruent   | 1 | 810  |\n",
    "\n",
    "\n",
    "Col 1: The word shown\n",
    "\n",
    "Col 2: The color of the word\n",
    "\n",
    "Col 3: Trial type\n",
    "\n",
    "COl 4: 1 for a correct response, 0 for incorrect\n",
    "\n",
    "Col 5: The reaction time, in milliseconds.\n",
    "\n",
    " The columns should be separated with commas, i.e., the string containing the first line of the file with the data above would look like this:\n",
    " `green,green,congruent,1,854`\n",
    "\n",
    "As in Exercise 2, you should be writing to the file after every trial. Make sure your fine is named `subject-code_data.csv` where `subject-code` is the subject code entered at runtime.\n",
    "\n",
    "```{admonition} Challenge!\n",
    "1. Ensure that you can't run the same participant code twice. If you enter a participant code that's already been entered, PsychoPy should pop-up a warning box saying \"Participant code already exists\". This should prevent you from overwriting an existing data-file. \n",
    "```"
   ]
  }
 ],
 "metadata": {
  "celltoolbar": "Edit Metadata",
  "kernelspec": {
   "display_name": "Python 3 (ipykernel)",
   "language": "python",
   "name": "python3"
  },
  "language_info": {
   "codemirror_mode": {
    "name": "ipython",
    "version": 3
   },
   "file_extension": ".py",
   "mimetype": "text/x-python",
   "name": "python",
   "nbconvert_exporter": "python",
   "pygments_lexer": "ipython3",
   "version": "3.8.13"
  },
  "toc": {
   "nav_menu": {},
   "number_sections": true,
   "sideBar": true,
   "skip_h1_title": false,
   "toc_cell": true,
   "toc_position": {
    "height": "526px",
    "left": "0px",
    "right": "922px",
    "top": "111px",
    "width": "358px"
   },
   "toc_section_display": "block",
   "toc_window_display": true
  },
  "vscode": {
   "interpreter": {
    "hash": "57beecaf6908bae4f97de5e2dc8e8d0311fae5bc989593c172c307d13e31f6e4"
   }
  }
 },
 "nbformat": 4,
 "nbformat_minor": 2
}
